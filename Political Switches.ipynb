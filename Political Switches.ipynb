{
 "cells": [
  {
   "cell_type": "code",
   "execution_count": 194,
   "metadata": {
    "collapsed": false
   },
   "outputs": [],
   "source": [
    "%matplotlib inline\n",
    "import numpy as np\n",
    "import scipy as sp\n",
    "import matplotlib as mpl\n",
    "import matplotlib.cm as cm\n",
    "import matplotlib.pyplot as plt\n",
    "import re\n",
    "import pandas as pd\n",
    "import math \n",
    "import csv\n",
    "import time\n",
    "import dateutil\n",
    "from datetime import datetime\n",
    "import seaborn as sns\n",
    "\n",
    "          \n",
    "pd.set_option('display.width', 900)\n",
    "pd.set_option('display.max_columns', 100)\n",
    "pd.set_option('display.notebook_repr_html', True)\n",
    "sns.set_style(\"whitegrid\")\n",
    "sns.set_context(\"poster\")"
   ]
  },
  {
   "cell_type": "markdown",
   "metadata": {},
   "source": [
    "# Load Original Dataset"
   ]
  },
  {
   "cell_type": "code",
   "execution_count": 195,
   "metadata": {
    "collapsed": false
   },
   "outputs": [],
   "source": [
    "switchesdf = pd.read_csv(\"./Political Party Switches/nova_tabela.csv\", header=2, dtype={\"mb\": np.int32},parse_dates=True )\n",
    "classificationsdf = pd.read_csv(\"./Political Party Switches/party_classifications.csv\", dtype={\"party_id\": np.int32}, parse_dates=True)"
   ]
  },
  {
   "cell_type": "code",
   "execution_count": 196,
   "metadata": {
    "collapsed": false
   },
   "outputs": [],
   "source": [
    "switchesdf.drop([\"prior_party_id\",\"prior_party_name\",\n",
    "                 \"appointment\",\"same_person\",\"party_change\"], axis=1, inplace=1, errors=\"ignore\")\n",
    "\n",
    "switchesdf.drop(switchesdf[switchesdf.pres_name.isnull() & switchesdf.party_id.isnull()].index, axis=0, inplace=1)"
   ]
  },
  {
   "cell_type": "code",
   "execution_count": 197,
   "metadata": {
    "collapsed": false
   },
   "outputs": [],
   "source": [
    "switchesdf.date = pd.to_datetime(switchesdf.date, format=\"%d-%b-%Y\")"
   ]
  },
  {
   "cell_type": "code",
   "execution_count": 198,
   "metadata": {
    "collapsed": false
   },
   "outputs": [
    {
     "data": {
      "text/html": [
       "<div>\n",
       "<table border=\"1\" class=\"dataframe\">\n",
       "  <thead>\n",
       "    <tr style=\"text-align: right;\">\n",
       "      <th></th>\n",
       "      <th>mun_id</th>\n",
       "      <th>mun</th>\n",
       "      <th>pres_name</th>\n",
       "      <th>party_id</th>\n",
       "      <th>party_abr</th>\n",
       "      <th>date</th>\n",
       "    </tr>\n",
       "  </thead>\n",
       "  <tbody>\n",
       "    <tr>\n",
       "      <th>0</th>\n",
       "      <td>70017.0</td>\n",
       "      <td>Aleksandrovac</td>\n",
       "      <td>Jugoslav Stajkovac</td>\n",
       "      <td>46.0</td>\n",
       "      <td>GGZBZ</td>\n",
       "      <td>2014-06-02</td>\n",
       "    </tr>\n",
       "    <tr>\n",
       "      <th>1</th>\n",
       "      <td>70017.0</td>\n",
       "      <td>Aleksandrovac</td>\n",
       "      <td>Jugoslav Stajkovac</td>\n",
       "      <td>4.0</td>\n",
       "      <td>URS</td>\n",
       "      <td>2013-08-24</td>\n",
       "    </tr>\n",
       "    <tr>\n",
       "      <th>2</th>\n",
       "      <td>70017.0</td>\n",
       "      <td>Aleksandrovac</td>\n",
       "      <td>Dragan Blagojevic</td>\n",
       "      <td>1.0</td>\n",
       "      <td>SNS</td>\n",
       "      <td>2013-03-20</td>\n",
       "    </tr>\n",
       "    <tr>\n",
       "      <th>3</th>\n",
       "      <td>70017.0</td>\n",
       "      <td>Aleksandrovac</td>\n",
       "      <td>Dragan Blagojevic</td>\n",
       "      <td>1.0</td>\n",
       "      <td>SNS</td>\n",
       "      <td>2012-09-17</td>\n",
       "    </tr>\n",
       "    <tr>\n",
       "      <th>4</th>\n",
       "      <td>70017.0</td>\n",
       "      <td>Aleksandrovac</td>\n",
       "      <td>Jugoslav Stajkovac</td>\n",
       "      <td>47.0</td>\n",
       "      <td>GGPZZ</td>\n",
       "      <td>2012-09-05</td>\n",
       "    </tr>\n",
       "    <tr>\n",
       "      <th>5</th>\n",
       "      <td>70017.0</td>\n",
       "      <td>Aleksandrovac</td>\n",
       "      <td>Zoran Bojovic</td>\n",
       "      <td>1.0</td>\n",
       "      <td>SNS</td>\n",
       "      <td>2012-06-01</td>\n",
       "    </tr>\n",
       "    <tr>\n",
       "      <th>6</th>\n",
       "      <td>70017.0</td>\n",
       "      <td>Aleksandrovac</td>\n",
       "      <td>Jugoslav Stajkovac</td>\n",
       "      <td>47.0</td>\n",
       "      <td>GGPZZ</td>\n",
       "      <td>2012-05-20</td>\n",
       "    </tr>\n",
       "    <tr>\n",
       "      <th>7</th>\n",
       "      <td>70017.0</td>\n",
       "      <td>Aleksandrovac</td>\n",
       "      <td>Jugoslav Stajkovac</td>\n",
       "      <td>47.0</td>\n",
       "      <td>GGPZZ</td>\n",
       "      <td>2008-07-01</td>\n",
       "    </tr>\n",
       "    <tr>\n",
       "      <th>8</th>\n",
       "      <td>70025.0</td>\n",
       "      <td>Aleksinac</td>\n",
       "      <td>Nenad Stankovic</td>\n",
       "      <td>1.0</td>\n",
       "      <td>SNS</td>\n",
       "      <td>2012-07-24</td>\n",
       "    </tr>\n",
       "    <tr>\n",
       "      <th>9</th>\n",
       "      <td>70025.0</td>\n",
       "      <td>Aleksinac</td>\n",
       "      <td>Ivan Dimic</td>\n",
       "      <td>7.0</td>\n",
       "      <td>DSS</td>\n",
       "      <td>2008-12-15</td>\n",
       "    </tr>\n",
       "  </tbody>\n",
       "</table>\n",
       "</div>"
      ],
      "text/plain": [
       "    mun_id            mun           pres_name  party_id party_abr       date\n",
       "0  70017.0  Aleksandrovac  Jugoslav Stajkovac      46.0     GGZBZ 2014-06-02\n",
       "1  70017.0  Aleksandrovac  Jugoslav Stajkovac       4.0       URS 2013-08-24\n",
       "2  70017.0  Aleksandrovac   Dragan Blagojevic       1.0       SNS 2013-03-20\n",
       "3  70017.0  Aleksandrovac   Dragan Blagojevic       1.0       SNS 2012-09-17\n",
       "4  70017.0  Aleksandrovac  Jugoslav Stajkovac      47.0     GGPZZ 2012-09-05\n",
       "5  70017.0  Aleksandrovac       Zoran Bojovic       1.0       SNS 2012-06-01\n",
       "6  70017.0  Aleksandrovac  Jugoslav Stajkovac      47.0     GGPZZ 2012-05-20\n",
       "7  70017.0  Aleksandrovac  Jugoslav Stajkovac      47.0     GGPZZ 2008-07-01\n",
       "8  70025.0      Aleksinac     Nenad Stankovic       1.0       SNS 2012-07-24\n",
       "9  70025.0      Aleksinac          Ivan Dimic       7.0       DSS 2008-12-15"
      ]
     },
     "execution_count": 198,
     "metadata": {},
     "output_type": "execute_result"
    }
   ],
   "source": [
    "switchesdf.head(10)"
   ]
  },
  {
   "cell_type": "code",
   "execution_count": 199,
   "metadata": {
    "collapsed": false
   },
   "outputs": [],
   "source": [
    "switchesdf.mun_id = switchesdf.mun_id.astype(int)\n",
    "switchesdf.party_id = switchesdf.party_id.astype(int) \n",
    "#switchesdf.info()"
   ]
  },
  {
   "cell_type": "code",
   "execution_count": 200,
   "metadata": {
    "collapsed": false
   },
   "outputs": [],
   "source": [
    "#classificationsdf.info()"
   ]
  },
  {
   "cell_type": "markdown",
   "metadata": {},
   "source": [
    "# Expand to panel dataframes"
   ]
  },
  {
   "cell_type": "markdown",
   "metadata": {},
   "source": [
    "### Daily Panel Data"
   ]
  },
  {
   "cell_type": "code",
   "execution_count": 201,
   "metadata": {
    "code_folding": [
     0
    ],
    "collapsed": false
   },
   "outputs": [],
   "source": [
    "# daily panel\n",
    "# initialize panel dataframe \n",
    "dpaneldf = pd.DataFrame()\n",
    "\n",
    "# get all municipalities\n",
    "mbs = switchesdf.mun_id.unique()\n",
    "\n",
    "# add panel data from each municipality to main paneldf \n",
    "for mb in mbs:\n",
    "    \n",
    "    #append a 2016 date\n",
    "    df = switchesdf[switchesdf.mun_id == mb].append({\"mun_id\":mb,\"mun\": \"\",\"party_id\":-2,\n",
    "                                           \"date\":pd.to_datetime(\"2016-04-03\")}, ignore_index=True)\n",
    "    \n",
    "    df = df.sort_values(\"date\").set_index(\"date\")\n",
    "    df = df.asfreq(pd.DateOffset(days=1), method='pad')\n",
    "    df = df.reset_index()\n",
    "    dpaneldf = dpaneldf.append(df, ignore_index=True)"
   ]
  },
  {
   "cell_type": "code",
   "execution_count": 202,
   "metadata": {
    "collapsed": false,
    "scrolled": false
   },
   "outputs": [
    {
     "name": "stdout",
     "output_type": "stream",
     "text": [
      "(423329, 6)\n"
     ]
    }
   ],
   "source": [
    "print dpaneldf.shape\n",
    "#dpaneldf.head()"
   ]
  },
  {
   "cell_type": "code",
   "execution_count": 203,
   "metadata": {
    "collapsed": false
   },
   "outputs": [],
   "source": [
    "dpaneldf = dpaneldf.merge(classificationsdf, on=\"party_id\")"
   ]
  },
  {
   "cell_type": "code",
   "execution_count": 204,
   "metadata": {
    "collapsed": false,
    "scrolled": true
   },
   "outputs": [
    {
     "name": "stdout",
     "output_type": "stream",
     "text": [
      "(423174, 22)\n"
     ]
    },
    {
     "data": {
      "text/html": [
       "<div>\n",
       "<table border=\"1\" class=\"dataframe\">\n",
       "  <thead>\n",
       "    <tr style=\"text-align: right;\">\n",
       "      <th></th>\n",
       "      <th>date</th>\n",
       "      <th>mun_id</th>\n",
       "      <th>mun</th>\n",
       "      <th>pres_name</th>\n",
       "      <th>party_id</th>\n",
       "      <th>party_abr</th>\n",
       "      <th>name_abr</th>\n",
       "      <th>name_full</th>\n",
       "      <th>in_gov11</th>\n",
       "      <th>ingov13</th>\n",
       "      <th>fringe13</th>\n",
       "      <th>ingov14</th>\n",
       "      <th>ag1_name_abr</th>\n",
       "      <th>ag1_party_id</th>\n",
       "      <th>ag1_name_full</th>\n",
       "      <th>ag2_name_abr</th>\n",
       "      <th>ag2_party_id</th>\n",
       "      <th>ag2_name_full</th>\n",
       "      <th>ag3_name_abr</th>\n",
       "      <th>ag3_party_id</th>\n",
       "      <th>ag3_name_full</th>\n",
       "      <th>nat_party</th>\n",
       "    </tr>\n",
       "  </thead>\n",
       "  <tbody>\n",
       "    <tr>\n",
       "      <th>0</th>\n",
       "      <td>2008-07-01</td>\n",
       "      <td>70017</td>\n",
       "      <td>Aleksandrovac</td>\n",
       "      <td>Jugoslav Stajkovac</td>\n",
       "      <td>47</td>\n",
       "      <td>GGPZZ</td>\n",
       "      <td>GGPZZ</td>\n",
       "      <td>Grupa Gradjana \"Pokret Za Zupu\"</td>\n",
       "      <td>0</td>\n",
       "      <td>0</td>\n",
       "      <td>0</td>\n",
       "      <td>0</td>\n",
       "      <td>CG</td>\n",
       "      <td>-2</td>\n",
       "      <td>Citizen Group</td>\n",
       "      <td>LP</td>\n",
       "      <td>-4</td>\n",
       "      <td>Local Party</td>\n",
       "      <td>CG</td>\n",
       "      <td>-2</td>\n",
       "      <td>Citizen Group</td>\n",
       "      <td>0</td>\n",
       "    </tr>\n",
       "    <tr>\n",
       "      <th>1</th>\n",
       "      <td>2008-07-02</td>\n",
       "      <td>70017</td>\n",
       "      <td>Aleksandrovac</td>\n",
       "      <td>Jugoslav Stajkovac</td>\n",
       "      <td>47</td>\n",
       "      <td>GGPZZ</td>\n",
       "      <td>GGPZZ</td>\n",
       "      <td>Grupa Gradjana \"Pokret Za Zupu\"</td>\n",
       "      <td>0</td>\n",
       "      <td>0</td>\n",
       "      <td>0</td>\n",
       "      <td>0</td>\n",
       "      <td>CG</td>\n",
       "      <td>-2</td>\n",
       "      <td>Citizen Group</td>\n",
       "      <td>LP</td>\n",
       "      <td>-4</td>\n",
       "      <td>Local Party</td>\n",
       "      <td>CG</td>\n",
       "      <td>-2</td>\n",
       "      <td>Citizen Group</td>\n",
       "      <td>0</td>\n",
       "    </tr>\n",
       "    <tr>\n",
       "      <th>2</th>\n",
       "      <td>2008-07-03</td>\n",
       "      <td>70017</td>\n",
       "      <td>Aleksandrovac</td>\n",
       "      <td>Jugoslav Stajkovac</td>\n",
       "      <td>47</td>\n",
       "      <td>GGPZZ</td>\n",
       "      <td>GGPZZ</td>\n",
       "      <td>Grupa Gradjana \"Pokret Za Zupu\"</td>\n",
       "      <td>0</td>\n",
       "      <td>0</td>\n",
       "      <td>0</td>\n",
       "      <td>0</td>\n",
       "      <td>CG</td>\n",
       "      <td>-2</td>\n",
       "      <td>Citizen Group</td>\n",
       "      <td>LP</td>\n",
       "      <td>-4</td>\n",
       "      <td>Local Party</td>\n",
       "      <td>CG</td>\n",
       "      <td>-2</td>\n",
       "      <td>Citizen Group</td>\n",
       "      <td>0</td>\n",
       "    </tr>\n",
       "    <tr>\n",
       "      <th>3</th>\n",
       "      <td>2008-07-04</td>\n",
       "      <td>70017</td>\n",
       "      <td>Aleksandrovac</td>\n",
       "      <td>Jugoslav Stajkovac</td>\n",
       "      <td>47</td>\n",
       "      <td>GGPZZ</td>\n",
       "      <td>GGPZZ</td>\n",
       "      <td>Grupa Gradjana \"Pokret Za Zupu\"</td>\n",
       "      <td>0</td>\n",
       "      <td>0</td>\n",
       "      <td>0</td>\n",
       "      <td>0</td>\n",
       "      <td>CG</td>\n",
       "      <td>-2</td>\n",
       "      <td>Citizen Group</td>\n",
       "      <td>LP</td>\n",
       "      <td>-4</td>\n",
       "      <td>Local Party</td>\n",
       "      <td>CG</td>\n",
       "      <td>-2</td>\n",
       "      <td>Citizen Group</td>\n",
       "      <td>0</td>\n",
       "    </tr>\n",
       "    <tr>\n",
       "      <th>4</th>\n",
       "      <td>2008-07-05</td>\n",
       "      <td>70017</td>\n",
       "      <td>Aleksandrovac</td>\n",
       "      <td>Jugoslav Stajkovac</td>\n",
       "      <td>47</td>\n",
       "      <td>GGPZZ</td>\n",
       "      <td>GGPZZ</td>\n",
       "      <td>Grupa Gradjana \"Pokret Za Zupu\"</td>\n",
       "      <td>0</td>\n",
       "      <td>0</td>\n",
       "      <td>0</td>\n",
       "      <td>0</td>\n",
       "      <td>CG</td>\n",
       "      <td>-2</td>\n",
       "      <td>Citizen Group</td>\n",
       "      <td>LP</td>\n",
       "      <td>-4</td>\n",
       "      <td>Local Party</td>\n",
       "      <td>CG</td>\n",
       "      <td>-2</td>\n",
       "      <td>Citizen Group</td>\n",
       "      <td>0</td>\n",
       "    </tr>\n",
       "  </tbody>\n",
       "</table>\n",
       "</div>"
      ],
      "text/plain": [
       "        date  mun_id            mun           pres_name  party_id party_abr name_abr                        name_full  in_gov11  ingov13  fringe13  ingov14 ag1_name_abr  ag1_party_id  ag1_name_full ag2_name_abr  ag2_party_id ag2_name_full ag3_name_abr  ag3_party_id  ag3_name_full  nat_party\n",
       "0 2008-07-01   70017  Aleksandrovac  Jugoslav Stajkovac        47     GGPZZ    GGPZZ  Grupa Gradjana \"Pokret Za Zupu\"         0        0         0        0           CG            -2  Citizen Group           LP            -4   Local Party           CG            -2  Citizen Group          0\n",
       "1 2008-07-02   70017  Aleksandrovac  Jugoslav Stajkovac        47     GGPZZ    GGPZZ  Grupa Gradjana \"Pokret Za Zupu\"         0        0         0        0           CG            -2  Citizen Group           LP            -4   Local Party           CG            -2  Citizen Group          0\n",
       "2 2008-07-03   70017  Aleksandrovac  Jugoslav Stajkovac        47     GGPZZ    GGPZZ  Grupa Gradjana \"Pokret Za Zupu\"         0        0         0        0           CG            -2  Citizen Group           LP            -4   Local Party           CG            -2  Citizen Group          0\n",
       "3 2008-07-04   70017  Aleksandrovac  Jugoslav Stajkovac        47     GGPZZ    GGPZZ  Grupa Gradjana \"Pokret Za Zupu\"         0        0         0        0           CG            -2  Citizen Group           LP            -4   Local Party           CG            -2  Citizen Group          0\n",
       "4 2008-07-05   70017  Aleksandrovac  Jugoslav Stajkovac        47     GGPZZ    GGPZZ  Grupa Gradjana \"Pokret Za Zupu\"         0        0         0        0           CG            -2  Citizen Group           LP            -4   Local Party           CG            -2  Citizen Group          0"
      ]
     },
     "execution_count": 204,
     "metadata": {},
     "output_type": "execute_result"
    }
   ],
   "source": [
    "print dpaneldf.shape\n",
    "dpaneldf.head()"
   ]
  },
  {
   "cell_type": "code",
   "execution_count": 205,
   "metadata": {
    "collapsed": false
   },
   "outputs": [],
   "source": [
    "#dpaneldf.ag2_name_full.unique()"
   ]
  },
  {
   "cell_type": "code",
   "execution_count": 206,
   "metadata": {
    "collapsed": false
   },
   "outputs": [],
   "source": [
    "#dpaneldf.info()"
   ]
  },
  {
   "cell_type": "code",
   "execution_count": 207,
   "metadata": {
    "collapsed": true
   },
   "outputs": [],
   "source": [
    "# drop empty column\n",
    "dpaneldf.drop(\"party_abr\", axis=1,inplace=1, errors='ignore')\n",
    "\n",
    "# save to csv\n",
    "dpaneldf.to_csv(\"./exports/dpaneldf.csv\")"
   ]
  },
  {
   "cell_type": "markdown",
   "metadata": {},
   "source": [
    "### Make Monthly Panel Data"
   ]
  },
  {
   "cell_type": "code",
   "execution_count": 208,
   "metadata": {
    "code_folding": [
     0
    ],
    "collapsed": false
   },
   "outputs": [
    {
     "name": "stdout",
     "output_type": "stream",
     "text": [
      "Wall time: 0 ns\n"
     ]
    },
    {
     "name": "stderr",
     "output_type": "stream",
     "text": [
      "C:\\Users\\nolefp\\Anaconda\\lib\\site-packages\\ipykernel\\__main__.py:33: FutureWarning: how in .resample() is deprecated\n",
      "the new syntax is .resample(...)..apply(<func>)\n"
     ]
    }
   ],
   "source": [
    "#monthly panel\n",
    "%time\n",
    "# define mode function for below\n",
    "def mode_(s):\n",
    "    try:\n",
    "        return s.mode()[0]\n",
    "    except IndexError:\n",
    "        return np.nan\n",
    "\n",
    "# initialize panel dataframe \n",
    "mpaneldf = pd.DataFrame()\n",
    "\n",
    "# get all municipalities\n",
    "mbs = switchesdf.mun_id.unique()\n",
    "\n",
    "# add panel data from each municipality to main paneldf \n",
    "for mat in mbs:\n",
    "    \n",
    "    #append a 2016 date\n",
    "    df = switchesdf[switchesdf.mun_id == mat].append({\"mun_id\":mat,\"mun\": \"\",\"party_id\":-2,\"party_abr\":\"\",\n",
    "                                           \"prior_party_id\":-2,\"prior_party_name\":\"\",\n",
    "                                           \"date\":pd.to_datetime(\"2016-04-03\")}, ignore_index=True)\n",
    "\n",
    "    # expand to daily values\n",
    "    df = df.sort_values(\"date\").set_index(\"date\")\n",
    "    df = df.asfreq(pd.DateOffset(days=1), method='pad')\n",
    "    \n",
    "    # collaps to monthly values\n",
    "    df = df.resample(\"M\", how={\"party_id\": mode_, \n",
    "                               \"party_abr\": mode_,\n",
    "                               \"mun\": mode_, \n",
    "                               \"mun_id\": mode_,\n",
    "                               \"pres_name\": mode_})\n",
    "    df = df.reset_index()\n",
    "    mpaneldf = mpaneldf.append(df, ignore_index=True)"
   ]
  },
  {
   "cell_type": "code",
   "execution_count": 209,
   "metadata": {
    "collapsed": false,
    "scrolled": true
   },
   "outputs": [
    {
     "name": "stdout",
     "output_type": "stream",
     "text": [
      "(14103, 6)\n"
     ]
    }
   ],
   "source": [
    "print mpaneldf.shape\n",
    "#mpaneldf.head()"
   ]
  },
  {
   "cell_type": "code",
   "execution_count": 210,
   "metadata": {
    "collapsed": true
   },
   "outputs": [],
   "source": [
    "mpaneldf = mpaneldf.merge(classificationsdf, on=\"party_id\")"
   ]
  },
  {
   "cell_type": "code",
   "execution_count": 211,
   "metadata": {
    "collapsed": false,
    "scrolled": true
   },
   "outputs": [
    {
     "data": {
      "text/html": [
       "<div>\n",
       "<table border=\"1\" class=\"dataframe\">\n",
       "  <thead>\n",
       "    <tr style=\"text-align: right;\">\n",
       "      <th></th>\n",
       "      <th>date</th>\n",
       "      <th>pres_name</th>\n",
       "      <th>mun</th>\n",
       "      <th>party_id</th>\n",
       "      <th>party_abr</th>\n",
       "      <th>mun_id</th>\n",
       "      <th>name_abr</th>\n",
       "      <th>name_full</th>\n",
       "      <th>in_gov11</th>\n",
       "      <th>ingov13</th>\n",
       "      <th>fringe13</th>\n",
       "      <th>ingov14</th>\n",
       "      <th>ag1_name_abr</th>\n",
       "      <th>ag1_party_id</th>\n",
       "      <th>ag1_name_full</th>\n",
       "      <th>ag2_name_abr</th>\n",
       "      <th>ag2_party_id</th>\n",
       "      <th>ag2_name_full</th>\n",
       "      <th>ag3_name_abr</th>\n",
       "      <th>ag3_party_id</th>\n",
       "      <th>ag3_name_full</th>\n",
       "      <th>nat_party</th>\n",
       "    </tr>\n",
       "  </thead>\n",
       "  <tbody>\n",
       "    <tr>\n",
       "      <th>0</th>\n",
       "      <td>2008-07-31</td>\n",
       "      <td>Jugoslav Stajkovac</td>\n",
       "      <td>Aleksandrovac</td>\n",
       "      <td>47.0</td>\n",
       "      <td>GGPZZ</td>\n",
       "      <td>70017.0</td>\n",
       "      <td>GGPZZ</td>\n",
       "      <td>Grupa Gradjana \"Pokret Za Zupu\"</td>\n",
       "      <td>0</td>\n",
       "      <td>0</td>\n",
       "      <td>0</td>\n",
       "      <td>0</td>\n",
       "      <td>CG</td>\n",
       "      <td>-2</td>\n",
       "      <td>Citizen Group</td>\n",
       "      <td>LP</td>\n",
       "      <td>-4</td>\n",
       "      <td>Local Party</td>\n",
       "      <td>CG</td>\n",
       "      <td>-2</td>\n",
       "      <td>Citizen Group</td>\n",
       "      <td>0</td>\n",
       "    </tr>\n",
       "    <tr>\n",
       "      <th>1</th>\n",
       "      <td>2008-08-31</td>\n",
       "      <td>Jugoslav Stajkovac</td>\n",
       "      <td>Aleksandrovac</td>\n",
       "      <td>47.0</td>\n",
       "      <td>GGPZZ</td>\n",
       "      <td>70017.0</td>\n",
       "      <td>GGPZZ</td>\n",
       "      <td>Grupa Gradjana \"Pokret Za Zupu\"</td>\n",
       "      <td>0</td>\n",
       "      <td>0</td>\n",
       "      <td>0</td>\n",
       "      <td>0</td>\n",
       "      <td>CG</td>\n",
       "      <td>-2</td>\n",
       "      <td>Citizen Group</td>\n",
       "      <td>LP</td>\n",
       "      <td>-4</td>\n",
       "      <td>Local Party</td>\n",
       "      <td>CG</td>\n",
       "      <td>-2</td>\n",
       "      <td>Citizen Group</td>\n",
       "      <td>0</td>\n",
       "    </tr>\n",
       "    <tr>\n",
       "      <th>2</th>\n",
       "      <td>2008-09-30</td>\n",
       "      <td>Jugoslav Stajkovac</td>\n",
       "      <td>Aleksandrovac</td>\n",
       "      <td>47.0</td>\n",
       "      <td>GGPZZ</td>\n",
       "      <td>70017.0</td>\n",
       "      <td>GGPZZ</td>\n",
       "      <td>Grupa Gradjana \"Pokret Za Zupu\"</td>\n",
       "      <td>0</td>\n",
       "      <td>0</td>\n",
       "      <td>0</td>\n",
       "      <td>0</td>\n",
       "      <td>CG</td>\n",
       "      <td>-2</td>\n",
       "      <td>Citizen Group</td>\n",
       "      <td>LP</td>\n",
       "      <td>-4</td>\n",
       "      <td>Local Party</td>\n",
       "      <td>CG</td>\n",
       "      <td>-2</td>\n",
       "      <td>Citizen Group</td>\n",
       "      <td>0</td>\n",
       "    </tr>\n",
       "    <tr>\n",
       "      <th>3</th>\n",
       "      <td>2008-10-31</td>\n",
       "      <td>Jugoslav Stajkovac</td>\n",
       "      <td>Aleksandrovac</td>\n",
       "      <td>47.0</td>\n",
       "      <td>GGPZZ</td>\n",
       "      <td>70017.0</td>\n",
       "      <td>GGPZZ</td>\n",
       "      <td>Grupa Gradjana \"Pokret Za Zupu\"</td>\n",
       "      <td>0</td>\n",
       "      <td>0</td>\n",
       "      <td>0</td>\n",
       "      <td>0</td>\n",
       "      <td>CG</td>\n",
       "      <td>-2</td>\n",
       "      <td>Citizen Group</td>\n",
       "      <td>LP</td>\n",
       "      <td>-4</td>\n",
       "      <td>Local Party</td>\n",
       "      <td>CG</td>\n",
       "      <td>-2</td>\n",
       "      <td>Citizen Group</td>\n",
       "      <td>0</td>\n",
       "    </tr>\n",
       "    <tr>\n",
       "      <th>4</th>\n",
       "      <td>2008-11-30</td>\n",
       "      <td>Jugoslav Stajkovac</td>\n",
       "      <td>Aleksandrovac</td>\n",
       "      <td>47.0</td>\n",
       "      <td>GGPZZ</td>\n",
       "      <td>70017.0</td>\n",
       "      <td>GGPZZ</td>\n",
       "      <td>Grupa Gradjana \"Pokret Za Zupu\"</td>\n",
       "      <td>0</td>\n",
       "      <td>0</td>\n",
       "      <td>0</td>\n",
       "      <td>0</td>\n",
       "      <td>CG</td>\n",
       "      <td>-2</td>\n",
       "      <td>Citizen Group</td>\n",
       "      <td>LP</td>\n",
       "      <td>-4</td>\n",
       "      <td>Local Party</td>\n",
       "      <td>CG</td>\n",
       "      <td>-2</td>\n",
       "      <td>Citizen Group</td>\n",
       "      <td>0</td>\n",
       "    </tr>\n",
       "  </tbody>\n",
       "</table>\n",
       "</div>"
      ],
      "text/plain": [
       "        date           pres_name            mun  party_id party_abr   mun_id name_abr                        name_full  in_gov11  ingov13  fringe13  ingov14 ag1_name_abr  ag1_party_id  ag1_name_full ag2_name_abr  ag2_party_id ag2_name_full ag3_name_abr  ag3_party_id  ag3_name_full  nat_party\n",
       "0 2008-07-31  Jugoslav Stajkovac  Aleksandrovac      47.0     GGPZZ  70017.0    GGPZZ  Grupa Gradjana \"Pokret Za Zupu\"         0        0         0        0           CG            -2  Citizen Group           LP            -4   Local Party           CG            -2  Citizen Group          0\n",
       "1 2008-08-31  Jugoslav Stajkovac  Aleksandrovac      47.0     GGPZZ  70017.0    GGPZZ  Grupa Gradjana \"Pokret Za Zupu\"         0        0         0        0           CG            -2  Citizen Group           LP            -4   Local Party           CG            -2  Citizen Group          0\n",
       "2 2008-09-30  Jugoslav Stajkovac  Aleksandrovac      47.0     GGPZZ  70017.0    GGPZZ  Grupa Gradjana \"Pokret Za Zupu\"         0        0         0        0           CG            -2  Citizen Group           LP            -4   Local Party           CG            -2  Citizen Group          0\n",
       "3 2008-10-31  Jugoslav Stajkovac  Aleksandrovac      47.0     GGPZZ  70017.0    GGPZZ  Grupa Gradjana \"Pokret Za Zupu\"         0        0         0        0           CG            -2  Citizen Group           LP            -4   Local Party           CG            -2  Citizen Group          0\n",
       "4 2008-11-30  Jugoslav Stajkovac  Aleksandrovac      47.0     GGPZZ  70017.0    GGPZZ  Grupa Gradjana \"Pokret Za Zupu\"         0        0         0        0           CG            -2  Citizen Group           LP            -4   Local Party           CG            -2  Citizen Group          0"
      ]
     },
     "execution_count": 211,
     "metadata": {},
     "output_type": "execute_result"
    }
   ],
   "source": [
    "mpaneldf.head()"
   ]
  },
  {
   "cell_type": "code",
   "execution_count": 212,
   "metadata": {
    "collapsed": false
   },
   "outputs": [],
   "source": [
    "for col in mpaneldf.columns:\n",
    "    if re.search(\"_id\", col):\n",
    "        mpaneldf[col] = mpaneldf[col].astype(int)\n",
    "#mpaneldf.info()"
   ]
  },
  {
   "cell_type": "code",
   "execution_count": 213,
   "metadata": {
    "collapsed": false
   },
   "outputs": [],
   "source": [
    "# drop empty column\n",
    "mpaneldf.drop(\"party_abr\", axis=1,inplace=1, errors='ignore')\n",
    "\n",
    "# save to csv\n",
    "mpaneldf.to_csv(\"./exports/mpaneldf.csv\")"
   ]
  },
  {
   "cell_type": "markdown",
   "metadata": {},
   "source": [
    "### Annual Panel Data"
   ]
  },
  {
   "cell_type": "code",
   "execution_count": 214,
   "metadata": {
    "code_folding": [
     0
    ],
    "collapsed": false
   },
   "outputs": [
    {
     "name": "stderr",
     "output_type": "stream",
     "text": [
      "C:\\Users\\nolefp\\Anaconda\\lib\\site-packages\\ipykernel\\__main__.py:33: FutureWarning: how in .resample() is deprecated\n",
      "the new syntax is .resample(...)..apply(<func>)\n"
     ]
    }
   ],
   "source": [
    "# annual panel\n",
    "# define mode function for below\n",
    "\n",
    "def mode_(s):\n",
    "    try:\n",
    "        return s.mode()[0]\n",
    "    except IndexError:\n",
    "        return np.nan\n",
    "\n",
    "# initialize panel dataframe \n",
    "apaneldf = pd.DataFrame()\n",
    "\n",
    "# get all municipalities\n",
    "mbs = switchesdf.mun_id.unique()\n",
    "\n",
    "# add panel data from each municipality to main paneldf \n",
    "for mat in mbs:\n",
    "    \n",
    "    #append a 2016 date\n",
    "    df = switchesdf[switchesdf.mun_id == mat].append({\"mun_id\":mat,\"mun\": \"\",\"party_id\":-2,\"party_abr\":\"\",\n",
    "                                           \"prior_party_id\":-2,\"prior_party_name\":\"\",\n",
    "                                           \"date\":pd.to_datetime(\"2016-04-03\")}, ignore_index=True)\n",
    "\n",
    "    # expand to daily values\n",
    "    df = df.sort_values(\"date\").set_index(\"date\")\n",
    "    df = df.asfreq(pd.DateOffset(days=1), method='pad')\n",
    "    \n",
    "    # collaps to monthly values\n",
    "    df = df.resample(\"AS\", how={\"party_id\": mode_, \n",
    "                               \"party_abr\": mode_,\n",
    "                               \"mun\": mode_, \n",
    "                               \"mun_id\": mode_,\n",
    "                               \"pres_name\": mode_})\n",
    "    df = df.reset_index()\n",
    "    apaneldf = apaneldf.append(df, ignore_index=True)\n"
   ]
  },
  {
   "cell_type": "code",
   "execution_count": 215,
   "metadata": {
    "collapsed": false
   },
   "outputs": [],
   "source": [
    "apaneldf = apaneldf.merge(classificationsdf, on=\"party_id\")"
   ]
  },
  {
   "cell_type": "code",
   "execution_count": 216,
   "metadata": {
    "collapsed": false,
    "scrolled": true
   },
   "outputs": [],
   "source": [
    "#print apaneldf.info()\n",
    "#apaneldf.head()"
   ]
  },
  {
   "cell_type": "code",
   "execution_count": 217,
   "metadata": {
    "collapsed": false
   },
   "outputs": [],
   "source": [
    "# drop empty column\n",
    "apaneldf.drop(\"party_abr\", axis=1,inplace=1, errors='ignore')\n",
    "\n",
    "# save to csv\n",
    "apaneldf.to_csv(\"./exports/apaneldf.csv\")"
   ]
  },
  {
   "cell_type": "code",
   "execution_count": 218,
   "metadata": {
    "collapsed": false
   },
   "outputs": [],
   "source": [
    "#make a connectable apaneldf\n",
    "apaneldf_connectable = pd.read_csv(\"./exports/apaneldf.csv\")\n",
    "apaneldf_connectable.date = apaneldf_connectable.date.str.replace(\"-01-01\",\"\").astype(int)\n",
    "apaneldf_connectable.to_csv(\"./exports/apaneldf_connectable.csv\")"
   ]
  },
  {
   "cell_type": "markdown",
   "metadata": {},
   "source": [
    "# Visualizations"
   ]
  },
  {
   "cell_type": "markdown",
   "metadata": {},
   "source": [
    "## Party Totals over Time"
   ]
  },
  {
   "cell_type": "markdown",
   "metadata": {},
   "source": [
    "### Party Changes"
   ]
  },
  {
   "cell_type": "code",
   "execution_count": 219,
   "metadata": {
    "code_folding": [],
    "collapsed": false,
    "scrolled": false
   },
   "outputs": [
    {
     "data": {
      "image/png": "[encoded data removed]",
      "text/plain": [
       "<matplotlib.figure.Figure at 0xa093c88>"
      ]
     },
     "metadata": {},
     "output_type": "display_data"
    }
   ],
   "source": [
    "#graph code\n",
    "totals_by_party = mpaneldf.groupby([\"ag2_name_abr\",\"date\"]).mun_id.count().reset_index()\n",
    "\n",
    "fig, ax = plt.subplots(figsize=(18,11))\n",
    "#colormap = plt.cm.gist_ncar\n",
    "#plt.gca().set_color_cycle([colormap(i) for i in np.linspace(0, 0.9, 15)])\n",
    "\n",
    "parties_main = [\"SNS\",\"DS\",\"SPS\",\"URS\",\"LP\"]\n",
    "\n",
    "# start date from which to plot\n",
    "start_date = pd.to_datetime(\"2011-06-01\")\n",
    "\n",
    "for party in parties_main:\n",
    "    x= totals_by_party[(totals_by_party.date > start_date) & (totals_by_party.ag2_name_abr == party)].date\n",
    "    y= totals_by_party[(totals_by_party.date > start_date) & (totals_by_party.ag2_name_abr == party)].mun_id\n",
    "   \n",
    "    plt.plot_date(x,y, 'o-', markersize=5, label=party)\n",
    "\n",
    "add = 25\n",
    "    \n",
    "# election 2012\n",
    "plt.axvline(pd.to_datetime(\"2012-05-06\"),ymax=53./60, ls='dashed', lw=1, color='black', alpha=.5)\n",
    "plt.text(pd.to_datetime(\"2012-05-10\"),55+add,'Local & National Elections 2012'.upper(), alpha=.8, fontsize=14, color='black')\n",
    "plt.text(pd.to_datetime(\"2012-05-10\"),53.5+add,'SNS-SPS-URS form national coalition', alpha=.8, fontsize=13, color='black')\n",
    "plt.text(pd.to_datetime(\"2012-05-10\"),52+add,'DS losses national coalition membership', alpha=.8, fontsize=13, color='black')\n",
    "\n",
    "# election 2014\n",
    "plt.axvline(pd.to_datetime(\"2014-03-16\"),ymax=51.5/60, ls='dashed', lw=.7, color='black', alpha=.5)\n",
    "plt.text(pd.to_datetime(\"2014-03-17\"),55+add,'National Elections 2014'.upper(), fontsize=14, alpha=.8, color='black')\n",
    "plt.text(pd.to_datetime(\"2014-03-17\"),53.5+add,'SNS increases national majority', fontsize=13, alpha=.8, color='black')\n",
    "plt.text(pd.to_datetime(\"2014-03-17\"),52+add,'URS leaves national coalition', fontsize=13, alpha=.8, color='black')\n",
    "\n",
    "# plot options\n",
    "title = \"Political Affiliation of Municipality Presidents in Serbia 2012-2016\"\n",
    "plt.title(title)\n",
    "plt.ylabel(\"Municipal presidents affiliated with party\", fontsize=15)\n",
    "plt.grid()\n",
    "plt.legend(labels=[\"SNS\",\"DS\",\"SPS\",\"URS\",\"Local Parties\"],loc=7)\n",
    "\n",
    "\n",
    "# axes options\n",
    "ax.spines['right'].set_visible(False)\n",
    "ax.spines['top'].set_visible(False)\n",
    "ax.tick_params(axis='x',which='major', direction='out', width=1,length=5,bottom='on',top=\"off\",color='grey')\n",
    "ax.tick_params(axis='y',which='major', direction='out', width=1,length=5,left='on',right=\"off\",color='grey')\n",
    "ax.tick_params(axis='y',which='minor', direction='out', width=1,length=3,left='on',right=\"off\",color='grey')\n",
    "\n",
    "# save\n",
    "plt.savefig(\"./exports/\" + title)"
   ]
  },
  {
   "cell_type": "markdown",
   "metadata": {},
   "source": [
    "### Total Municipalities Ever Held"
   ]
  },
  {
   "cell_type": "code",
   "execution_count": 220,
   "metadata": {
    "collapsed": false
   },
   "outputs": [
    {
     "data": {
      "text/plain": [
       "name_full\n",
       "Srpska Napredna Stranka                           91\n",
       "Demokratska Stranka                               88\n",
       "Socijalisticka Partija Srbije                     44\n",
       "Ujedinjeni Regioni Srbije                         17\n",
       "Nova Srbija                                       10\n",
       "Demokratska stranke Srbije                         9\n",
       "Savez vojvodjanskih madjara                        8\n",
       "Socijaldemokratska stranka                         6\n",
       "Srpska Radikalna stranka                           5\n",
       "Jedinstvena Srbija                                 3\n",
       "Stranka demokratske akcije Sandzaka                2\n",
       "Srpski pokret obnove                               2\n",
       "Srpska narodna partija                             2\n",
       "Sandzacka demokratska partija                      2\n",
       "Pokret Socijalista                                 2\n",
       "Grupa Gradjana Milorad Soldatovic                  1\n",
       "Grupa Gradjana \"Za Bogatu Zupu\"                    1\n",
       "Grupa Gradjana Milomir Zoric                       1\n",
       "Grupa Gradjana Cedomir Bozic                       1\n",
       "Grupa Gradjana \"Za zivot Lapova\"                   1\n",
       "Grupa Gradjana \"Za razvoj opstine Secanj\"          1\n",
       "Zajedno za Srbiju,Dusan Petrovic                   1\n",
       "Grupa Gradjana \"Pokret Za Zupu\"                    1\n",
       "Grupa Gradjana \"Gornja Jablanica\"                  1\n",
       "G sedamnaest plus                                  1\n",
       "Demokratski Savez Vojvodjanskih Madjara            1\n",
       "Grupa Gradjana Veroljub Matic                      1\n",
       "Demokratska partija albanaca                       1\n",
       "Demokratska partija                                1\n",
       "Grupa Gradjana Ravanica                            1\n",
       "Liberalno-demokratska partija                      1\n",
       "Grupa Gradjana Vredna Mitrovica                    1\n",
       "Partija Nejasna                                    1\n",
       "Vrsacka regija                                     1\n",
       "Ujedinjena seljacka stranka                        1\n",
       "Socijaldemokratska partija Srbije Rasim Ljajic     1\n",
       "Pokret za demokratsko delovanje                    1\n",
       "Pokret za Loznicu i Podrinje                       1\n",
       "Pokret za Jug                                      1\n",
       "Nezavistan                                         1\n",
       "Grupa Gradjana Zajedno za Ivanjicu                 1\n",
       "Narodni Pokret Srbije                              1\n",
       "Madjarski pokret                                   1\n",
       "Zajedno za Kragujevac                              1\n",
       "Koalicija za Pirot                                 1\n",
       "Grupa gradjana Zoran Vorkapic                      1\n",
       "Grupa gradjana Dragan Milic                        1\n",
       "Demokratska Partija Bugara                         1\n",
       "Name: mun, dtype: int64"
      ]
     },
     "execution_count": 220,
     "metadata": {},
     "output_type": "execute_result"
    }
   ],
   "source": [
    "mpaneldf.groupby(\"name_full\").mun.nunique().sort_values(ascending=0)"
   ]
  },
  {
   "cell_type": "code",
   "execution_count": null,
   "metadata": {
    "collapsed": true
   },
   "outputs": [],
   "source": []
  },
  {
   "cell_type": "markdown",
   "metadata": {},
   "source": [
    "### Other Vis"
   ]
  },
  {
   "cell_type": "code",
   "execution_count": 221,
   "metadata": {
    "collapsed": false,
    "scrolled": true
   },
   "outputs": [
    {
     "name": "stdout",
     "output_type": "stream",
     "text": [
      "<class 'pandas.core.frame.DataFrame'>\n",
      "Int64Index: 14100 entries, 0 to 14099\n",
      "Data columns (total 21 columns):\n",
      "date             14100 non-null datetime64[ns]\n",
      "pres_name        14100 non-null object\n",
      "mun              14100 non-null object\n",
      "party_id         14100 non-null int32\n",
      "mun_id           14100 non-null int32\n",
      "name_abr         14100 non-null object\n",
      "name_full        14100 non-null object\n",
      "in_gov11         14100 non-null int64\n",
      "ingov13          14100 non-null int64\n",
      "fringe13         14100 non-null int64\n",
      "ingov14          14100 non-null int64\n",
      "ag1_name_abr     14100 non-null object\n",
      "ag1_party_id     14100 non-null int32\n",
      "ag1_name_full    14100 non-null object\n",
      "ag2_name_abr     14100 non-null object\n",
      "ag2_party_id     14100 non-null int32\n",
      "ag2_name_full    14100 non-null object\n",
      "ag3_name_abr     14100 non-null object\n",
      "ag3_party_id     14100 non-null int32\n",
      "ag3_name_full    14100 non-null object\n",
      "nat_party        14100 non-null int64\n",
      "dtypes: datetime64[ns](1), int32(5), int64(5), object(10)\n",
      "memory usage: 2.1+ MB\n"
     ]
    }
   ],
   "source": [
    "mpaneldf.info()"
   ]
  },
  {
   "cell_type": "code",
   "execution_count": 222,
   "metadata": {
    "collapsed": false
   },
   "outputs": [
    {
     "ename": "AttributeError",
     "evalue": "'DataFrame' object has no attribute 'ingov12'",
     "output_type": "error",
     "traceback": [
      "\u001b[1;31m---------------------------------------------------------------------------\u001b[0m",
      "\u001b[1;31mAttributeError\u001b[0m                            Traceback (most recent call last)",
      "\u001b[1;32m<ipython-input-222-c73a481a9e10>\u001b[0m in \u001b[0;36m<module>\u001b[1;34m()\u001b[0m\n\u001b[1;32m----> 1\u001b[1;33m \u001b[0mmpaneldf\u001b[0m\u001b[1;33m.\u001b[0m\u001b[0mingov12\u001b[0m\u001b[1;33m.\u001b[0m\u001b[0munique\u001b[0m\u001b[1;33m(\u001b[0m\u001b[1;33m)\u001b[0m\u001b[1;33m\u001b[0m\u001b[0m\n\u001b[0m",
      "\u001b[1;32mC:\\Users\\nolefp\\Anaconda\\lib\\site-packages\\pandas\\core\\generic.pyc\u001b[0m in \u001b[0;36m__getattr__\u001b[1;34m(self, name)\u001b[0m\n\u001b[0;32m   2667\u001b[0m             \u001b[1;32mif\u001b[0m \u001b[0mname\u001b[0m \u001b[1;32min\u001b[0m \u001b[0mself\u001b[0m\u001b[1;33m.\u001b[0m\u001b[0m_info_axis\u001b[0m\u001b[1;33m:\u001b[0m\u001b[1;33m\u001b[0m\u001b[0m\n\u001b[0;32m   2668\u001b[0m                 \u001b[1;32mreturn\u001b[0m \u001b[0mself\u001b[0m\u001b[1;33m[\u001b[0m\u001b[0mname\u001b[0m\u001b[1;33m]\u001b[0m\u001b[1;33m\u001b[0m\u001b[0m\n\u001b[1;32m-> 2669\u001b[1;33m             \u001b[1;32mreturn\u001b[0m \u001b[0mobject\u001b[0m\u001b[1;33m.\u001b[0m\u001b[0m__getattribute__\u001b[0m\u001b[1;33m(\u001b[0m\u001b[0mself\u001b[0m\u001b[1;33m,\u001b[0m \u001b[0mname\u001b[0m\u001b[1;33m)\u001b[0m\u001b[1;33m\u001b[0m\u001b[0m\n\u001b[0m\u001b[0;32m   2670\u001b[0m \u001b[1;33m\u001b[0m\u001b[0m\n\u001b[0;32m   2671\u001b[0m     \u001b[1;32mdef\u001b[0m \u001b[0m__setattr__\u001b[0m\u001b[1;33m(\u001b[0m\u001b[0mself\u001b[0m\u001b[1;33m,\u001b[0m \u001b[0mname\u001b[0m\u001b[1;33m,\u001b[0m \u001b[0mvalue\u001b[0m\u001b[1;33m)\u001b[0m\u001b[1;33m:\u001b[0m\u001b[1;33m\u001b[0m\u001b[0m\n",
      "\u001b[1;31mAttributeError\u001b[0m: 'DataFrame' object has no attribute 'ingov12'"
     ]
    }
   ],
   "source": [
    "mpaneldf.ingov12.unique()"
   ]
  },
  {
   "cell_type": "code",
   "execution_count": null,
   "metadata": {
    "code_folding": [
     0
    ],
    "collapsed": false
   },
   "outputs": [],
   "source": [
    "# graph code\n",
    "totals_by_party = mpaneldf.groupby([\"ingov12\",\"date\"]).mun_id.count().reset_index()\n",
    "\n",
    "fig, ax = plt.subplots(figsize=(18,11))\n",
    "#colormap = plt.cm.gist_ncar\n",
    "#plt.gca().set_color_cycle([colormap(i) for i in np.linspace(0, 0.9, 15)])\n",
    "\n",
    "# start date from which to plot\n",
    "start_date = pd.to_datetime(\"2011-06-01\")\n",
    "\n",
    "party = mpaneldf.ingov12.unique()[1]\n",
    "x= totals_by_party[(totals_by_party.date > start_date) & (totals_by_party.ingov12 == party)].date\n",
    "y= totals_by_party[(totals_by_party.date > start_date) & (totals_by_party.ingov12 == party)].mun_id\n",
    "\n",
    "plt.plot_date(x,y, 'o-', markersize=5, label=party)\n",
    "\n",
    "# election 2012\n",
    "height = 65.\n",
    "plt.axvline(pd.to_datetime(\"2012-05-06\"),ymax=height/80, ls='dashed', lw=1, color='black', alpha=.5)\n",
    "plt.text(pd.to_datetime(\"2012-06-15\"),height+2,'Local & National Elections 2012'.upper(), alpha=.8, fontsize=14, color='black')\n",
    "\n",
    "\n",
    "# election 2014\n",
    "plt.axvline(pd.to_datetime(\"2014-03-16\"),ymax=height/80, ls='dashed', lw=.7, color='black', alpha=.5)\n",
    "plt.text(pd.to_datetime(\"2014-04-17\"),height+2,'National Elections 2014'.upper(), fontsize=14, alpha=.8, color='black')\n",
    "\n",
    "\n",
    "# plot options\n",
    "title = \"2012 National Coalition Affiliation of Municipal Presidents in Serbia 2012-2014\"\n",
    "plt.title(title)\n",
    "plt.ylabel(\"# of Municipal presidents affiliated with Coalition\", fontsize=15)\n",
    "plt.grid()\n",
    "plt.legend([\"2012 National Coalition Parties\"], loc=7)\n",
    "plt.ylim(ymin=0)\n",
    "\n",
    "# axes options\n",
    "ax.spines['right'].set_visible(False)\n",
    "ax.spines['top'].set_visible(False)\n",
    "ax.tick_params(axis='x',which='major', direction='out', width=1,length=5,bottom='on',top=\"off\",color='grey')\n",
    "ax.tick_params(axis='y',which='major', direction='out', width=1,length=5,left='on',right=\"off\",color='grey')\n",
    "ax.tick_params(axis='y',which='minor', direction='out', width=1,length=3,left='on',right=\"off\",color='grey')\n",
    "\n",
    "# save\n",
    "plt.savefig(\"./exports/\" + title)"
   ]
  },
  {
   "cell_type": "code",
   "execution_count": null,
   "metadata": {
    "code_folding": [
     0
    ],
    "collapsed": false
   },
   "outputs": [],
   "source": [
    "# graph code\n",
    "totals_by_party = mpaneldf.groupby([\"in_gov11\",\"date\"]).mun_id.count().reset_index()\n",
    "\n",
    "fig, ax = plt.subplots(figsize=(18,11))\n",
    "#colormap = plt.cm.gist_ncar\n",
    "#plt.gca().set_color_cycle([colormap(i) for i in np.linspace(0, 0.9, 15)])\n",
    "\n",
    "# start date from which to plot\n",
    "start_date = pd.to_datetime(\"2011-06-01\")\n",
    "\n",
    "party = mpaneldf.in_gov11.unique()[0]\n",
    "x= totals_by_party[(totals_by_party.date > start_date) & (totals_by_party.in_gov11 == party)].date\n",
    "y= totals_by_party[(totals_by_party.date > start_date) & (totals_by_party.in_gov11 == party)].mun_id\n",
    "\n",
    "plt.plot_date(x,y, 'o-', markersize=5, label=party)\n",
    "\n",
    "\n",
    "lineh = 40.\n",
    "height = 70\n",
    "# election 2012\n",
    "plt.axvline(pd.to_datetime(\"2012-05-06\"),ymax=(lineh+10)/height, ls='dashed', lw=1, color='black', alpha=.5)\n",
    "plt.text(pd.to_datetime(\"2012-05-30\"),lineh+5,'Local & National Elections 2012'.upper(), alpha=.8, fontsize=14, color='black')\n",
    "\n",
    "# election 2014\n",
    "plt.axvline(pd.to_datetime(\"2014-03-16\"),ymax=(lineh+10)/height, ls='dashed', lw=.7, color='black', alpha=.5)\n",
    "plt.text(pd.to_datetime(\"2014-04-17\"),lineh+10,'National Elections 2014'.upper(), fontsize=14, alpha=.8, color='black')\n",
    "\n",
    "\n",
    "# plot options\n",
    "title = \"2011 National Coalition Affiliation of Municipal Presidents in Serbia 2012-2014\"\n",
    "plt.title(title)\n",
    "plt.ylabel(\"# of Municipal presidents affiliated with Coalition\", fontsize=15)\n",
    "plt.grid()\n",
    "plt.legend([\"2011 National Coalition Parties\"], loc=1)\n",
    "plt.ylim(ymin=0)\n",
    "\n",
    "\n",
    "# axes options\n",
    "ax.spines['right'].set_visible(False)\n",
    "ax.spines['top'].set_visible(False)\n",
    "ax.tick_params(axis='x',which='major', direction='out', width=1,length=5,bottom='on',top=\"off\",color='grey')\n",
    "ax.tick_params(axis='y',which='major', direction='out', width=1,length=5,left='on',right=\"off\",color='grey')\n",
    "ax.tick_params(axis='y',which='minor', direction='out', width=1,length=3,left='on',right=\"off\",color='grey')\n",
    "\n",
    "# save\n",
    "plt.savefig(\"./exports/\" + title)"
   ]
  },
  {
   "cell_type": "markdown",
   "metadata": {},
   "source": [
    "# Special Measures"
   ]
  },
  {
   "cell_type": "markdown",
   "metadata": {},
   "source": [
    "## Pre-Election 2012"
   ]
  },
  {
   "cell_type": "code",
   "execution_count": null,
   "metadata": {
    "collapsed": false
   },
   "outputs": [],
   "source": [
    "# get who was in power 6 months prior to election in 2012\n",
    "paneldf_pre2012 = paneldf[(pd.to_datetime(\"2012-01-01\") < paneldf.date ) & (paneldf.date < pd.to_datetime(\"2012-05-01\"))]\n",
    "\n",
    "# get parties who were longest in power during this period\n",
    "inpower_2012_df = paneldf_pre2012.groupby('mb').party_id.agg(lambda x:x.value_counts().index[0])\n",
    "inpower_2012_df = pd.DataFrame(inpower_2012_df).reset_index()\n",
    "inpower_2012_df.head()"
   ]
  },
  {
   "cell_type": "code",
   "execution_count": null,
   "metadata": {
    "collapsed": true
   },
   "outputs": [],
   "source": [
    "# re-apply names \n",
    "inpower_2012_df = inpower_2012_df.merge(classificationsdf, on=\"party_id\")"
   ]
  },
  {
   "cell_type": "markdown",
   "metadata": {},
   "source": [
    "### sanity check"
   ]
  },
  {
   "cell_type": "code",
   "execution_count": null,
   "metadata": {
    "collapsed": false
   },
   "outputs": [],
   "source": [
    "inpower_2012_df.head()"
   ]
  },
  {
   "cell_type": "code",
   "execution_count": null,
   "metadata": {
    "collapsed": false
   },
   "outputs": [],
   "source": [
    "inpower_2012_df.name_abr.value_counts()"
   ]
  },
  {
   "cell_type": "code",
   "execution_count": null,
   "metadata": {
    "collapsed": true
   },
   "outputs": [],
   "source": [
    "# export the dataframe\n",
    "inpower_2012_df.to_csv(\"./Political Party Switches/inpower_preelec_2012.csv\")"
   ]
  }
 ],
 "metadata": {
  "kernelspec": {
   "display_name": "Python 2",
   "language": "python",
   "name": "python2"
  },
  "language_info": {
   "codemirror_mode": {
    "name": "ipython",
    "version": 2
   },
   "file_extension": ".py",
   "mimetype": "text/x-python",
   "name": "python",
   "nbconvert_exporter": "python",
   "pygments_lexer": "ipython2",
   "version": "2.7.11"
  }
 },
 "nbformat": 4,
 "nbformat_minor": 0
}
