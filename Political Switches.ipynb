{
 "cells": [
  {
   "cell_type": "code",
   "execution_count": 38,
   "metadata": {
    "collapsed": false
   },
   "outputs": [
    {
     "data": {
      "text/html": [
       "<style>.container {width:80% !important; }</style>"
      ],
      "text/plain": [
       "<IPython.core.display.HTML object>"
      ]
     },
     "execution_count": 38,
     "metadata": {},
     "output_type": "execute_result"
    }
   ],
   "source": [
    "%matplotlib inline\n",
    "import numpy as np\n",
    "import scipy as sp\n",
    "import matplotlib as mpl\n",
    "import matplotlib.cm as cm\n",
    "import matplotlib.pyplot as plt\n",
    "import re\n",
    "import pandas as pd\n",
    "import math \n",
    "import csv\n",
    "import time\n",
    "import dateutil\n",
    "from datetime import datetime\n",
    "import seaborn as sns\n",
    "\n",
    "          \n",
    "pd.set_option('display.width', 900)\n",
    "pd.set_option('display.max_columns', 100)\n",
    "pd.set_option('display.notebook_repr_html', True)\n",
    "sns.set_style(\"whitegrid\")\n",
    "sns.set_context(\"poster\")\n",
    "from IPython.core.display import HTML\n",
    "HTML(\"<style>.container {width:80% !important; }</style>\")"
   ]
  },
  {
   "cell_type": "markdown",
   "metadata": {},
   "source": [
    "# Load Original Dataset"
   ]
  },
  {
   "cell_type": "code",
   "execution_count": 3,
   "metadata": {
    "collapsed": false
   },
   "outputs": [],
   "source": [
    "originalswitchesdf = pd.read_csv(\"./Political Party Switches/nova_tabela.csv\", header=2, dtype={\"mb\": np.int32},parse_dates=True )\n",
    "\n",
    "# clean up original and export\n",
    "originalswitchesdf.drop(originalswitchesdf[originalswitchesdf.pres_name.isnull() \n",
    "                                           & originalswitchesdf.party_id.isnull()].index, axis=0, inplace=1)\n",
    "originalswitchesdf.mun_id = originalswitchesdf.mun_id.astype(int)\n",
    "originalswitchesdf.party_id = originalswitchesdf.party_id.astype(int) \n",
    "originalswitchesdf.to_csv(\"./Political Party Switches/changesdf.csv\")\n",
    "\n",
    "switchesdf = originalswitchesdf.copy()\n",
    "\n",
    "# load party classifications\n",
    "classificationsdf = pd.read_csv(\"./Political Party Switches/party_classifications.csv\", dtype={\"party_id\": np.int32}, parse_dates=True)"
   ]
  },
  {
   "cell_type": "code",
   "execution_count": 4,
   "metadata": {
    "collapsed": false
   },
   "outputs": [],
   "source": [
    "switchesdf.drop([\"prior_party_id\",\"prior_party_name\",\n",
    "                 \"appointment\"], axis=1, inplace=1, errors=\"ignore\")\n",
    "\n",
    "switchesdf.drop(switchesdf[switchesdf.pres_name.isnull() & switchesdf.party_id.isnull()].index, axis=0, inplace=1)"
   ]
  },
  {
   "cell_type": "code",
   "execution_count": 5,
   "metadata": {
    "collapsed": false
   },
   "outputs": [],
   "source": [
    "switchesdf.date = pd.to_datetime(switchesdf.date, format=\"%d-%b-%Y\")"
   ]
  },
  {
   "cell_type": "code",
   "execution_count": 6,
   "metadata": {
    "collapsed": false
   },
   "outputs": [
    {
     "data": {
      "text/html": [
       "<div>\n",
       "<table border=\"1\" class=\"dataframe\">\n",
       "  <thead>\n",
       "    <tr style=\"text-align: right;\">\n",
       "      <th></th>\n",
       "      <th>mun_id</th>\n",
       "      <th>mun</th>\n",
       "      <th>same_person</th>\n",
       "      <th>party_change</th>\n",
       "      <th>pres_name</th>\n",
       "      <th>party_id</th>\n",
       "      <th>party_abr</th>\n",
       "      <th>date</th>\n",
       "    </tr>\n",
       "  </thead>\n",
       "  <tbody>\n",
       "    <tr>\n",
       "      <th>0</th>\n",
       "      <td>70017</td>\n",
       "      <td>Aleksandrovac</td>\n",
       "      <td>1.0</td>\n",
       "      <td>1.0</td>\n",
       "      <td>Jugoslav Stajkovac</td>\n",
       "      <td>46</td>\n",
       "      <td>GGZBZ</td>\n",
       "      <td>2014-06-02</td>\n",
       "    </tr>\n",
       "    <tr>\n",
       "      <th>1</th>\n",
       "      <td>70017</td>\n",
       "      <td>Aleksandrovac</td>\n",
       "      <td>1.0</td>\n",
       "      <td>1.0</td>\n",
       "      <td>Jugoslav Stajkovac</td>\n",
       "      <td>4</td>\n",
       "      <td>URS</td>\n",
       "      <td>2013-08-24</td>\n",
       "    </tr>\n",
       "    <tr>\n",
       "      <th>2</th>\n",
       "      <td>70017</td>\n",
       "      <td>Aleksandrovac</td>\n",
       "      <td>1.0</td>\n",
       "      <td>0.0</td>\n",
       "      <td>Dragan Blagojevic</td>\n",
       "      <td>1</td>\n",
       "      <td>SNS</td>\n",
       "      <td>2013-03-20</td>\n",
       "    </tr>\n",
       "    <tr>\n",
       "      <th>3</th>\n",
       "      <td>70017</td>\n",
       "      <td>Aleksandrovac</td>\n",
       "      <td>0.0</td>\n",
       "      <td>1.0</td>\n",
       "      <td>Dragan Blagojevic</td>\n",
       "      <td>1</td>\n",
       "      <td>SNS</td>\n",
       "      <td>2012-09-17</td>\n",
       "    </tr>\n",
       "    <tr>\n",
       "      <th>4</th>\n",
       "      <td>70017</td>\n",
       "      <td>Aleksandrovac</td>\n",
       "      <td>0.0</td>\n",
       "      <td>1.0</td>\n",
       "      <td>Jugoslav Stajkovac</td>\n",
       "      <td>47</td>\n",
       "      <td>GGPZZ</td>\n",
       "      <td>2012-09-05</td>\n",
       "    </tr>\n",
       "    <tr>\n",
       "      <th>5</th>\n",
       "      <td>70017</td>\n",
       "      <td>Aleksandrovac</td>\n",
       "      <td>0.0</td>\n",
       "      <td>1.0</td>\n",
       "      <td>Zoran Bojovic</td>\n",
       "      <td>1</td>\n",
       "      <td>SNS</td>\n",
       "      <td>2012-06-01</td>\n",
       "    </tr>\n",
       "    <tr>\n",
       "      <th>6</th>\n",
       "      <td>70017</td>\n",
       "      <td>Aleksandrovac</td>\n",
       "      <td>1.0</td>\n",
       "      <td>0.0</td>\n",
       "      <td>Jugoslav Stajkovac</td>\n",
       "      <td>47</td>\n",
       "      <td>GGPZZ</td>\n",
       "      <td>2012-05-20</td>\n",
       "    </tr>\n",
       "    <tr>\n",
       "      <th>7</th>\n",
       "      <td>70017</td>\n",
       "      <td>Aleksandrovac</td>\n",
       "      <td>1.0</td>\n",
       "      <td>0.0</td>\n",
       "      <td>Jugoslav Stajkovac</td>\n",
       "      <td>47</td>\n",
       "      <td>GGPZZ</td>\n",
       "      <td>2008-07-01</td>\n",
       "    </tr>\n",
       "    <tr>\n",
       "      <th>8</th>\n",
       "      <td>70025</td>\n",
       "      <td>Aleksinac</td>\n",
       "      <td>0.0</td>\n",
       "      <td>1.0</td>\n",
       "      <td>Nenad Stankovic</td>\n",
       "      <td>1</td>\n",
       "      <td>SNS</td>\n",
       "      <td>2012-07-24</td>\n",
       "    </tr>\n",
       "    <tr>\n",
       "      <th>9</th>\n",
       "      <td>70025</td>\n",
       "      <td>Aleksinac</td>\n",
       "      <td>0.0</td>\n",
       "      <td>NaN</td>\n",
       "      <td>Ivan Dimic</td>\n",
       "      <td>7</td>\n",
       "      <td>DSS</td>\n",
       "      <td>2008-12-15</td>\n",
       "    </tr>\n",
       "  </tbody>\n",
       "</table>\n",
       "</div>"
      ],
      "text/plain": [
       "   mun_id            mun  same_person  party_change           pres_name  party_id party_abr       date\n",
       "0   70017  Aleksandrovac          1.0           1.0  Jugoslav Stajkovac        46     GGZBZ 2014-06-02\n",
       "1   70017  Aleksandrovac          1.0           1.0  Jugoslav Stajkovac         4       URS 2013-08-24\n",
       "2   70017  Aleksandrovac          1.0           0.0   Dragan Blagojevic         1       SNS 2013-03-20\n",
       "3   70017  Aleksandrovac          0.0           1.0   Dragan Blagojevic         1       SNS 2012-09-17\n",
       "4   70017  Aleksandrovac          0.0           1.0  Jugoslav Stajkovac        47     GGPZZ 2012-09-05\n",
       "5   70017  Aleksandrovac          0.0           1.0       Zoran Bojovic         1       SNS 2012-06-01\n",
       "6   70017  Aleksandrovac          1.0           0.0  Jugoslav Stajkovac        47     GGPZZ 2012-05-20\n",
       "7   70017  Aleksandrovac          1.0           0.0  Jugoslav Stajkovac        47     GGPZZ 2008-07-01\n",
       "8   70025      Aleksinac          0.0           1.0     Nenad Stankovic         1       SNS 2012-07-24\n",
       "9   70025      Aleksinac          0.0           NaN          Ivan Dimic         7       DSS 2008-12-15"
      ]
     },
     "execution_count": 6,
     "metadata": {},
     "output_type": "execute_result"
    }
   ],
   "source": [
    "switchesdf.head(10)"
   ]
  },
  {
   "cell_type": "markdown",
   "metadata": {},
   "source": [
    "# Expand to panel dataframes"
   ]
  },
  {
   "cell_type": "markdown",
   "metadata": {},
   "source": [
    "### Daily Panel Data"
   ]
  },
  {
   "cell_type": "code",
   "execution_count": 7,
   "metadata": {
    "code_folding": [],
    "collapsed": false
   },
   "outputs": [],
   "source": [
    "# daily panel\n",
    "# initialize panel dataframe \n",
    "dpaneldf = pd.DataFrame()\n",
    "\n",
    "# get all municipalities\n",
    "mbs = switchesdf.mun_id.unique()\n",
    "\n",
    "# add panel data from each municipality to main paneldf \n",
    "for mb in mbs:\n",
    "    \n",
    "    #append a 2016 date\n",
    "    df = switchesdf[switchesdf.mun_id == mb].append({\"mun_id\":mb,\"mun\": \"\",\"party_id\":-2,\n",
    "                                           \"date\":pd.to_datetime(\"2016-04-03\")}, ignore_index=True)\n",
    "    \n",
    "    df = df.sort_values(\"date\").set_index(\"date\")\n",
    "    df = df.asfreq(pd.DateOffset(days=1), method='pad')\n",
    "    df = df.reset_index()\n",
    "    dpaneldf = dpaneldf.append(df, ignore_index=True)"
   ]
  },
  {
   "cell_type": "code",
   "execution_count": 8,
   "metadata": {
    "collapsed": false,
    "scrolled": false
   },
   "outputs": [
    {
     "name": "stdout",
     "output_type": "stream",
     "text": [
      "(423329, 8)\n"
     ]
    }
   ],
   "source": [
    "print dpaneldf.shape\n",
    "#dpaneldf.head()"
   ]
  },
  {
   "cell_type": "code",
   "execution_count": 9,
   "metadata": {
    "collapsed": false
   },
   "outputs": [],
   "source": [
    "dpaneldf = dpaneldf.merge(classificationsdf, on=\"party_id\")"
   ]
  },
  {
   "cell_type": "code",
   "execution_count": 10,
   "metadata": {
    "collapsed": false,
    "scrolled": true
   },
   "outputs": [
    {
     "name": "stdout",
     "output_type": "stream",
     "text": [
      "(423174, 27)\n"
     ]
    },
    {
     "data": {
      "text/html": [
       "<div>\n",
       "<table border=\"1\" class=\"dataframe\">\n",
       "  <thead>\n",
       "    <tr style=\"text-align: right;\">\n",
       "      <th></th>\n",
       "      <th>date</th>\n",
       "      <th>mun_id</th>\n",
       "      <th>mun</th>\n",
       "      <th>same_person</th>\n",
       "      <th>party_change</th>\n",
       "      <th>pres_name</th>\n",
       "      <th>party_id</th>\n",
       "      <th>party_abr</th>\n",
       "      <th>name_abr</th>\n",
       "      <th>name_full</th>\n",
       "      <th>opo11</th>\n",
       "      <th>in_gov11</th>\n",
       "      <th>in_gov12</th>\n",
       "      <th>opo13</th>\n",
       "      <th>ingov13</th>\n",
       "      <th>fringe13</th>\n",
       "      <th>ingov14</th>\n",
       "      <th>ag1_name_abr</th>\n",
       "      <th>ag1_party_id</th>\n",
       "      <th>ag1_name_full</th>\n",
       "      <th>ag2_name_abr</th>\n",
       "      <th>ag2_party_id</th>\n",
       "      <th>ag2_name_full</th>\n",
       "      <th>ag3_name_abr</th>\n",
       "      <th>ag3_party_id</th>\n",
       "      <th>ag3_name_full</th>\n",
       "      <th>nat_party</th>\n",
       "    </tr>\n",
       "  </thead>\n",
       "  <tbody>\n",
       "    <tr>\n",
       "      <th>0</th>\n",
       "      <td>2008-07-01</td>\n",
       "      <td>70017</td>\n",
       "      <td>Aleksandrovac</td>\n",
       "      <td>1.0</td>\n",
       "      <td>0.0</td>\n",
       "      <td>Jugoslav Stajkovac</td>\n",
       "      <td>47</td>\n",
       "      <td>GGPZZ</td>\n",
       "      <td>GGPZZ</td>\n",
       "      <td>Grupa Gradjana \"Pokret Za Zupu\"</td>\n",
       "      <td>0</td>\n",
       "      <td>0</td>\n",
       "      <td>0</td>\n",
       "      <td>0</td>\n",
       "      <td>0</td>\n",
       "      <td>0</td>\n",
       "      <td>0</td>\n",
       "      <td>CG</td>\n",
       "      <td>-2</td>\n",
       "      <td>Citizen Group</td>\n",
       "      <td>LP</td>\n",
       "      <td>-4</td>\n",
       "      <td>Local Party</td>\n",
       "      <td>CG</td>\n",
       "      <td>-2</td>\n",
       "      <td>Citizen Group</td>\n",
       "      <td>0</td>\n",
       "    </tr>\n",
       "    <tr>\n",
       "      <th>1</th>\n",
       "      <td>2008-07-02</td>\n",
       "      <td>70017</td>\n",
       "      <td>Aleksandrovac</td>\n",
       "      <td>1.0</td>\n",
       "      <td>0.0</td>\n",
       "      <td>Jugoslav Stajkovac</td>\n",
       "      <td>47</td>\n",
       "      <td>GGPZZ</td>\n",
       "      <td>GGPZZ</td>\n",
       "      <td>Grupa Gradjana \"Pokret Za Zupu\"</td>\n",
       "      <td>0</td>\n",
       "      <td>0</td>\n",
       "      <td>0</td>\n",
       "      <td>0</td>\n",
       "      <td>0</td>\n",
       "      <td>0</td>\n",
       "      <td>0</td>\n",
       "      <td>CG</td>\n",
       "      <td>-2</td>\n",
       "      <td>Citizen Group</td>\n",
       "      <td>LP</td>\n",
       "      <td>-4</td>\n",
       "      <td>Local Party</td>\n",
       "      <td>CG</td>\n",
       "      <td>-2</td>\n",
       "      <td>Citizen Group</td>\n",
       "      <td>0</td>\n",
       "    </tr>\n",
       "    <tr>\n",
       "      <th>2</th>\n",
       "      <td>2008-07-03</td>\n",
       "      <td>70017</td>\n",
       "      <td>Aleksandrovac</td>\n",
       "      <td>1.0</td>\n",
       "      <td>0.0</td>\n",
       "      <td>Jugoslav Stajkovac</td>\n",
       "      <td>47</td>\n",
       "      <td>GGPZZ</td>\n",
       "      <td>GGPZZ</td>\n",
       "      <td>Grupa Gradjana \"Pokret Za Zupu\"</td>\n",
       "      <td>0</td>\n",
       "      <td>0</td>\n",
       "      <td>0</td>\n",
       "      <td>0</td>\n",
       "      <td>0</td>\n",
       "      <td>0</td>\n",
       "      <td>0</td>\n",
       "      <td>CG</td>\n",
       "      <td>-2</td>\n",
       "      <td>Citizen Group</td>\n",
       "      <td>LP</td>\n",
       "      <td>-4</td>\n",
       "      <td>Local Party</td>\n",
       "      <td>CG</td>\n",
       "      <td>-2</td>\n",
       "      <td>Citizen Group</td>\n",
       "      <td>0</td>\n",
       "    </tr>\n",
       "    <tr>\n",
       "      <th>3</th>\n",
       "      <td>2008-07-04</td>\n",
       "      <td>70017</td>\n",
       "      <td>Aleksandrovac</td>\n",
       "      <td>1.0</td>\n",
       "      <td>0.0</td>\n",
       "      <td>Jugoslav Stajkovac</td>\n",
       "      <td>47</td>\n",
       "      <td>GGPZZ</td>\n",
       "      <td>GGPZZ</td>\n",
       "      <td>Grupa Gradjana \"Pokret Za Zupu\"</td>\n",
       "      <td>0</td>\n",
       "      <td>0</td>\n",
       "      <td>0</td>\n",
       "      <td>0</td>\n",
       "      <td>0</td>\n",
       "      <td>0</td>\n",
       "      <td>0</td>\n",
       "      <td>CG</td>\n",
       "      <td>-2</td>\n",
       "      <td>Citizen Group</td>\n",
       "      <td>LP</td>\n",
       "      <td>-4</td>\n",
       "      <td>Local Party</td>\n",
       "      <td>CG</td>\n",
       "      <td>-2</td>\n",
       "      <td>Citizen Group</td>\n",
       "      <td>0</td>\n",
       "    </tr>\n",
       "    <tr>\n",
       "      <th>4</th>\n",
       "      <td>2008-07-05</td>\n",
       "      <td>70017</td>\n",
       "      <td>Aleksandrovac</td>\n",
       "      <td>1.0</td>\n",
       "      <td>0.0</td>\n",
       "      <td>Jugoslav Stajkovac</td>\n",
       "      <td>47</td>\n",
       "      <td>GGPZZ</td>\n",
       "      <td>GGPZZ</td>\n",
       "      <td>Grupa Gradjana \"Pokret Za Zupu\"</td>\n",
       "      <td>0</td>\n",
       "      <td>0</td>\n",
       "      <td>0</td>\n",
       "      <td>0</td>\n",
       "      <td>0</td>\n",
       "      <td>0</td>\n",
       "      <td>0</td>\n",
       "      <td>CG</td>\n",
       "      <td>-2</td>\n",
       "      <td>Citizen Group</td>\n",
       "      <td>LP</td>\n",
       "      <td>-4</td>\n",
       "      <td>Local Party</td>\n",
       "      <td>CG</td>\n",
       "      <td>-2</td>\n",
       "      <td>Citizen Group</td>\n",
       "      <td>0</td>\n",
       "    </tr>\n",
       "  </tbody>\n",
       "</table>\n",
       "</div>"
      ],
      "text/plain": [
       "        date  mun_id            mun  same_person  party_change           pres_name  party_id party_abr name_abr                        name_full  opo11  in_gov11  in_gov12  opo13  ingov13  fringe13  ingov14 ag1_name_abr  ag1_party_id  ag1_name_full ag2_name_abr  ag2_party_id ag2_name_full ag3_name_abr  ag3_party_id  ag3_name_full  nat_party\n",
       "0 2008-07-01   70017  Aleksandrovac          1.0           0.0  Jugoslav Stajkovac        47     GGPZZ    GGPZZ  Grupa Gradjana \"Pokret Za Zupu\"      0         0         0      0        0         0        0           CG            -2  Citizen Group           LP            -4   Local Party           CG            -2  Citizen Group          0\n",
       "1 2008-07-02   70017  Aleksandrovac          1.0           0.0  Jugoslav Stajkovac        47     GGPZZ    GGPZZ  Grupa Gradjana \"Pokret Za Zupu\"      0         0         0      0        0         0        0           CG            -2  Citizen Group           LP            -4   Local Party           CG            -2  Citizen Group          0\n",
       "2 2008-07-03   70017  Aleksandrovac          1.0           0.0  Jugoslav Stajkovac        47     GGPZZ    GGPZZ  Grupa Gradjana \"Pokret Za Zupu\"      0         0         0      0        0         0        0           CG            -2  Citizen Group           LP            -4   Local Party           CG            -2  Citizen Group          0\n",
       "3 2008-07-04   70017  Aleksandrovac          1.0           0.0  Jugoslav Stajkovac        47     GGPZZ    GGPZZ  Grupa Gradjana \"Pokret Za Zupu\"      0         0         0      0        0         0        0           CG            -2  Citizen Group           LP            -4   Local Party           CG            -2  Citizen Group          0\n",
       "4 2008-07-05   70017  Aleksandrovac          1.0           0.0  Jugoslav Stajkovac        47     GGPZZ    GGPZZ  Grupa Gradjana \"Pokret Za Zupu\"      0         0         0      0        0         0        0           CG            -2  Citizen Group           LP            -4   Local Party           CG            -2  Citizen Group          0"
      ]
     },
     "execution_count": 10,
     "metadata": {},
     "output_type": "execute_result"
    }
   ],
   "source": [
    "print dpaneldf.shape\n",
    "dpaneldf.head()"
   ]
  },
  {
   "cell_type": "code",
   "execution_count": 11,
   "metadata": {
    "collapsed": false
   },
   "outputs": [],
   "source": [
    "#dpaneldf.ag2_name_full.unique()"
   ]
  },
  {
   "cell_type": "code",
   "execution_count": 12,
   "metadata": {
    "collapsed": false
   },
   "outputs": [],
   "source": [
    "#dpaneldf.info()"
   ]
  },
  {
   "cell_type": "code",
   "execution_count": 13,
   "metadata": {
    "collapsed": true
   },
   "outputs": [],
   "source": [
    "# drop empty column\n",
    "dpaneldf.drop(\"party_abr\", axis=1,inplace=1, errors='ignore')\n",
    "\n",
    "# save to csv\n",
    "dpaneldf.to_csv(\"./exports/dpaneldf.csv\")"
   ]
  },
  {
   "cell_type": "markdown",
   "metadata": {},
   "source": [
    "### Make Monthly Panel Data"
   ]
  },
  {
   "cell_type": "code",
   "execution_count": 14,
   "metadata": {
    "code_folding": [],
    "collapsed": false
   },
   "outputs": [
    {
     "name": "stdout",
     "output_type": "stream",
     "text": [
      "Wall time: 0 ns\n"
     ]
    },
    {
     "name": "stderr",
     "output_type": "stream",
     "text": [
      "C:\\Users\\nolefp\\Anaconda\\lib\\site-packages\\ipykernel\\__main__.py:33: FutureWarning: how in .resample() is deprecated\n",
      "the new syntax is .resample(...)..apply(<func>)\n"
     ]
    }
   ],
   "source": [
    "#monthly panel\n",
    "%time\n",
    "# define mode function for below\n",
    "def mode_(s):\n",
    "    try:\n",
    "        return s.mode()[0]\n",
    "    except IndexError:\n",
    "        return np.nan\n",
    "\n",
    "# initialize panel dataframe \n",
    "mpaneldf = pd.DataFrame()\n",
    "\n",
    "# get all municipalities\n",
    "mbs = switchesdf.mun_id.unique()\n",
    "\n",
    "# add panel data from each municipality to main paneldf \n",
    "for mat in mbs:\n",
    "    \n",
    "    #append a 2016 date\n",
    "    df = switchesdf[switchesdf.mun_id == mat].append({\"mun_id\":mat,\"mun\": \"\",\"party_id\":-2,\"party_abr\":\"\",\n",
    "                                           \"prior_party_id\":-2,\"prior_party_name\":\"\",\n",
    "                                           \"date\":pd.to_datetime(\"2016-04-03\")}, ignore_index=True)\n",
    "\n",
    "    # expand to daily values\n",
    "    df = df.sort_values(\"date\").set_index(\"date\")\n",
    "    df = df.asfreq(pd.DateOffset(days=1), method='pad')\n",
    "    \n",
    "    # collaps to monthly values\n",
    "    df = df.resample(\"M\", how={\"party_id\": mode_, \n",
    "                               \"party_abr\": mode_,\n",
    "                               \"mun\": mode_, \n",
    "                               \"mun_id\": mode_,\n",
    "                               \"pres_name\": mode_})\n",
    "    df = df.reset_index()\n",
    "    mpaneldf = mpaneldf.append(df, ignore_index=True)"
   ]
  },
  {
   "cell_type": "code",
   "execution_count": 15,
   "metadata": {
    "collapsed": false,
    "scrolled": true
   },
   "outputs": [
    {
     "name": "stdout",
     "output_type": "stream",
     "text": [
      "(14103, 6)\n"
     ]
    }
   ],
   "source": [
    "print mpaneldf.shape\n",
    "#mpaneldf.head()"
   ]
  },
  {
   "cell_type": "code",
   "execution_count": 16,
   "metadata": {
    "collapsed": true
   },
   "outputs": [],
   "source": [
    "mpaneldf = mpaneldf.merge(classificationsdf, on=\"party_id\")"
   ]
  },
  {
   "cell_type": "code",
   "execution_count": 17,
   "metadata": {
    "collapsed": false,
    "scrolled": true
   },
   "outputs": [
    {
     "data": {
      "text/html": [
       "<div>\n",
       "<table border=\"1\" class=\"dataframe\">\n",
       "  <thead>\n",
       "    <tr style=\"text-align: right;\">\n",
       "      <th></th>\n",
       "      <th>date</th>\n",
       "      <th>pres_name</th>\n",
       "      <th>mun</th>\n",
       "      <th>party_id</th>\n",
       "      <th>party_abr</th>\n",
       "      <th>mun_id</th>\n",
       "      <th>name_abr</th>\n",
       "      <th>name_full</th>\n",
       "      <th>opo11</th>\n",
       "      <th>in_gov11</th>\n",
       "      <th>in_gov12</th>\n",
       "      <th>opo13</th>\n",
       "      <th>ingov13</th>\n",
       "      <th>fringe13</th>\n",
       "      <th>ingov14</th>\n",
       "      <th>ag1_name_abr</th>\n",
       "      <th>ag1_party_id</th>\n",
       "      <th>ag1_name_full</th>\n",
       "      <th>ag2_name_abr</th>\n",
       "      <th>ag2_party_id</th>\n",
       "      <th>ag2_name_full</th>\n",
       "      <th>ag3_name_abr</th>\n",
       "      <th>ag3_party_id</th>\n",
       "      <th>ag3_name_full</th>\n",
       "      <th>nat_party</th>\n",
       "    </tr>\n",
       "  </thead>\n",
       "  <tbody>\n",
       "    <tr>\n",
       "      <th>0</th>\n",
       "      <td>2008-07-31</td>\n",
       "      <td>Jugoslav Stajkovac</td>\n",
       "      <td>Aleksandrovac</td>\n",
       "      <td>47.0</td>\n",
       "      <td>GGPZZ</td>\n",
       "      <td>70017.0</td>\n",
       "      <td>GGPZZ</td>\n",
       "      <td>Grupa Gradjana \"Pokret Za Zupu\"</td>\n",
       "      <td>0</td>\n",
       "      <td>0</td>\n",
       "      <td>0</td>\n",
       "      <td>0</td>\n",
       "      <td>0</td>\n",
       "      <td>0</td>\n",
       "      <td>0</td>\n",
       "      <td>CG</td>\n",
       "      <td>-2</td>\n",
       "      <td>Citizen Group</td>\n",
       "      <td>LP</td>\n",
       "      <td>-4</td>\n",
       "      <td>Local Party</td>\n",
       "      <td>CG</td>\n",
       "      <td>-2</td>\n",
       "      <td>Citizen Group</td>\n",
       "      <td>0</td>\n",
       "    </tr>\n",
       "    <tr>\n",
       "      <th>1</th>\n",
       "      <td>2008-08-31</td>\n",
       "      <td>Jugoslav Stajkovac</td>\n",
       "      <td>Aleksandrovac</td>\n",
       "      <td>47.0</td>\n",
       "      <td>GGPZZ</td>\n",
       "      <td>70017.0</td>\n",
       "      <td>GGPZZ</td>\n",
       "      <td>Grupa Gradjana \"Pokret Za Zupu\"</td>\n",
       "      <td>0</td>\n",
       "      <td>0</td>\n",
       "      <td>0</td>\n",
       "      <td>0</td>\n",
       "      <td>0</td>\n",
       "      <td>0</td>\n",
       "      <td>0</td>\n",
       "      <td>CG</td>\n",
       "      <td>-2</td>\n",
       "      <td>Citizen Group</td>\n",
       "      <td>LP</td>\n",
       "      <td>-4</td>\n",
       "      <td>Local Party</td>\n",
       "      <td>CG</td>\n",
       "      <td>-2</td>\n",
       "      <td>Citizen Group</td>\n",
       "      <td>0</td>\n",
       "    </tr>\n",
       "    <tr>\n",
       "      <th>2</th>\n",
       "      <td>2008-09-30</td>\n",
       "      <td>Jugoslav Stajkovac</td>\n",
       "      <td>Aleksandrovac</td>\n",
       "      <td>47.0</td>\n",
       "      <td>GGPZZ</td>\n",
       "      <td>70017.0</td>\n",
       "      <td>GGPZZ</td>\n",
       "      <td>Grupa Gradjana \"Pokret Za Zupu\"</td>\n",
       "      <td>0</td>\n",
       "      <td>0</td>\n",
       "      <td>0</td>\n",
       "      <td>0</td>\n",
       "      <td>0</td>\n",
       "      <td>0</td>\n",
       "      <td>0</td>\n",
       "      <td>CG</td>\n",
       "      <td>-2</td>\n",
       "      <td>Citizen Group</td>\n",
       "      <td>LP</td>\n",
       "      <td>-4</td>\n",
       "      <td>Local Party</td>\n",
       "      <td>CG</td>\n",
       "      <td>-2</td>\n",
       "      <td>Citizen Group</td>\n",
       "      <td>0</td>\n",
       "    </tr>\n",
       "    <tr>\n",
       "      <th>3</th>\n",
       "      <td>2008-10-31</td>\n",
       "      <td>Jugoslav Stajkovac</td>\n",
       "      <td>Aleksandrovac</td>\n",
       "      <td>47.0</td>\n",
       "      <td>GGPZZ</td>\n",
       "      <td>70017.0</td>\n",
       "      <td>GGPZZ</td>\n",
       "      <td>Grupa Gradjana \"Pokret Za Zupu\"</td>\n",
       "      <td>0</td>\n",
       "      <td>0</td>\n",
       "      <td>0</td>\n",
       "      <td>0</td>\n",
       "      <td>0</td>\n",
       "      <td>0</td>\n",
       "      <td>0</td>\n",
       "      <td>CG</td>\n",
       "      <td>-2</td>\n",
       "      <td>Citizen Group</td>\n",
       "      <td>LP</td>\n",
       "      <td>-4</td>\n",
       "      <td>Local Party</td>\n",
       "      <td>CG</td>\n",
       "      <td>-2</td>\n",
       "      <td>Citizen Group</td>\n",
       "      <td>0</td>\n",
       "    </tr>\n",
       "    <tr>\n",
       "      <th>4</th>\n",
       "      <td>2008-11-30</td>\n",
       "      <td>Jugoslav Stajkovac</td>\n",
       "      <td>Aleksandrovac</td>\n",
       "      <td>47.0</td>\n",
       "      <td>GGPZZ</td>\n",
       "      <td>70017.0</td>\n",
       "      <td>GGPZZ</td>\n",
       "      <td>Grupa Gradjana \"Pokret Za Zupu\"</td>\n",
       "      <td>0</td>\n",
       "      <td>0</td>\n",
       "      <td>0</td>\n",
       "      <td>0</td>\n",
       "      <td>0</td>\n",
       "      <td>0</td>\n",
       "      <td>0</td>\n",
       "      <td>CG</td>\n",
       "      <td>-2</td>\n",
       "      <td>Citizen Group</td>\n",
       "      <td>LP</td>\n",
       "      <td>-4</td>\n",
       "      <td>Local Party</td>\n",
       "      <td>CG</td>\n",
       "      <td>-2</td>\n",
       "      <td>Citizen Group</td>\n",
       "      <td>0</td>\n",
       "    </tr>\n",
       "  </tbody>\n",
       "</table>\n",
       "</div>"
      ],
      "text/plain": [
       "        date           pres_name            mun  party_id party_abr   mun_id name_abr                        name_full  opo11  in_gov11  in_gov12  opo13  ingov13  fringe13  ingov14 ag1_name_abr  ag1_party_id  ag1_name_full ag2_name_abr  ag2_party_id ag2_name_full ag3_name_abr  ag3_party_id  ag3_name_full  nat_party\n",
       "0 2008-07-31  Jugoslav Stajkovac  Aleksandrovac      47.0     GGPZZ  70017.0    GGPZZ  Grupa Gradjana \"Pokret Za Zupu\"      0         0         0      0        0         0        0           CG            -2  Citizen Group           LP            -4   Local Party           CG            -2  Citizen Group          0\n",
       "1 2008-08-31  Jugoslav Stajkovac  Aleksandrovac      47.0     GGPZZ  70017.0    GGPZZ  Grupa Gradjana \"Pokret Za Zupu\"      0         0         0      0        0         0        0           CG            -2  Citizen Group           LP            -4   Local Party           CG            -2  Citizen Group          0\n",
       "2 2008-09-30  Jugoslav Stajkovac  Aleksandrovac      47.0     GGPZZ  70017.0    GGPZZ  Grupa Gradjana \"Pokret Za Zupu\"      0         0         0      0        0         0        0           CG            -2  Citizen Group           LP            -4   Local Party           CG            -2  Citizen Group          0\n",
       "3 2008-10-31  Jugoslav Stajkovac  Aleksandrovac      47.0     GGPZZ  70017.0    GGPZZ  Grupa Gradjana \"Pokret Za Zupu\"      0         0         0      0        0         0        0           CG            -2  Citizen Group           LP            -4   Local Party           CG            -2  Citizen Group          0\n",
       "4 2008-11-30  Jugoslav Stajkovac  Aleksandrovac      47.0     GGPZZ  70017.0    GGPZZ  Grupa Gradjana \"Pokret Za Zupu\"      0         0         0      0        0         0        0           CG            -2  Citizen Group           LP            -4   Local Party           CG            -2  Citizen Group          0"
      ]
     },
     "execution_count": 17,
     "metadata": {},
     "output_type": "execute_result"
    }
   ],
   "source": [
    "mpaneldf.head()"
   ]
  },
  {
   "cell_type": "code",
   "execution_count": 18,
   "metadata": {
    "collapsed": false
   },
   "outputs": [],
   "source": [
    "for col in mpaneldf.columns:\n",
    "    if re.search(\"_id\", col):\n",
    "        mpaneldf[col] = mpaneldf[col].astype(int)\n",
    "#mpaneldf.info()"
   ]
  },
  {
   "cell_type": "code",
   "execution_count": 19,
   "metadata": {
    "collapsed": false
   },
   "outputs": [],
   "source": [
    "# drop empty column\n",
    "mpaneldf.drop(\"party_abr\", axis=1,inplace=1, errors='ignore')\n",
    "\n",
    "# save to csv\n",
    "mpaneldf.to_csv(\"./exports/mpaneldf.csv\")"
   ]
  },
  {
   "cell_type": "markdown",
   "metadata": {},
   "source": [
    "### Annual Panel Data"
   ]
  },
  {
   "cell_type": "code",
   "execution_count": 20,
   "metadata": {
    "code_folding": [
     0
    ],
    "collapsed": false
   },
   "outputs": [
    {
     "name": "stderr",
     "output_type": "stream",
     "text": [
      "C:\\Users\\nolefp\\Anaconda\\lib\\site-packages\\ipykernel\\__main__.py:33: FutureWarning: how in .resample() is deprecated\n",
      "the new syntax is .resample(...)..apply(<func>)\n"
     ]
    }
   ],
   "source": [
    "# annual panel\n",
    "# define mode function for below\n",
    "\n",
    "def mode_(s):\n",
    "    try:\n",
    "        return s.mode()[0]\n",
    "    except IndexError:\n",
    "        return np.nan\n",
    "\n",
    "# initialize panel dataframe \n",
    "apaneldf = pd.DataFrame()\n",
    "\n",
    "# get all municipalities\n",
    "mbs = switchesdf.mun_id.unique()\n",
    "\n",
    "# add panel data from each municipality to main paneldf \n",
    "for mat in mbs:\n",
    "    \n",
    "    #append a 2016 date\n",
    "    df = switchesdf[switchesdf.mun_id == mat].append({\"mun_id\":mat,\"mun\": \"\",\"party_id\":-2,\"party_abr\":\"\",\n",
    "                                           \"prior_party_id\":-2,\"prior_party_name\":\"\",\n",
    "                                           \"date\":pd.to_datetime(\"2016-04-03\")}, ignore_index=True)\n",
    "\n",
    "    # expand to daily values\n",
    "    df = df.sort_values(\"date\").set_index(\"date\")\n",
    "    df = df.asfreq(pd.DateOffset(days=1), method='pad')\n",
    "    \n",
    "    # collaps to monthly values\n",
    "    df = df.resample(\"AS\", how={\"party_id\": mode_, \n",
    "                               \"party_abr\": mode_,\n",
    "                               \"mun\": mode_, \n",
    "                               \"mun_id\": mode_,\n",
    "                               \"pres_name\": mode_})\n",
    "    df = df.reset_index()\n",
    "    apaneldf = apaneldf.append(df, ignore_index=True)\n"
   ]
  },
  {
   "cell_type": "code",
   "execution_count": 21,
   "metadata": {
    "collapsed": false
   },
   "outputs": [],
   "source": [
    "apaneldf = apaneldf.merge(classificationsdf, on=\"party_id\")"
   ]
  },
  {
   "cell_type": "code",
   "execution_count": 22,
   "metadata": {
    "collapsed": false,
    "scrolled": true
   },
   "outputs": [],
   "source": [
    "#print apaneldf.info()\n",
    "#apaneldf.head()"
   ]
  },
  {
   "cell_type": "code",
   "execution_count": 23,
   "metadata": {
    "collapsed": false
   },
   "outputs": [],
   "source": [
    "# drop empty column\n",
    "apaneldf.drop(\"party_abr\", axis=1,inplace=1, errors='ignore')\n",
    "\n",
    "# save to csv\n",
    "apaneldf.to_csv(\"./exports/apaneldf.csv\")"
   ]
  },
  {
   "cell_type": "code",
   "execution_count": 24,
   "metadata": {
    "collapsed": false
   },
   "outputs": [],
   "source": [
    "#make a connectable apaneldf\n",
    "apaneldf_connectable = pd.read_csv(\"./exports/apaneldf.csv\")\n",
    "apaneldf_connectable.date = apaneldf_connectable.date.str.replace(\"-01-01\",\"\").astype(int)\n",
    "apaneldf_connectable.to_csv(\"./exports/apaneldf_connectable.csv\")"
   ]
  },
  {
   "cell_type": "markdown",
   "metadata": {},
   "source": [
    "# Visualizations"
   ]
  },
  {
   "cell_type": "code",
   "execution_count": 2,
   "metadata": {
    "collapsed": true
   },
   "outputs": [],
   "source": [
    "#Load Data\n",
    "mpaneldf = pd.read_csv('../Data/exports/mpaneldf.csv')\n",
    "mpaneldf.date = pd.to_datetime(mpaneldf.date) "
   ]
  },
  {
   "cell_type": "markdown",
   "metadata": {},
   "source": [
    "## Party Totals over Time"
   ]
  },
  {
   "cell_type": "markdown",
   "metadata": {},
   "source": [
    "### Party Changes"
   ]
  },
  {
   "cell_type": "code",
   "execution_count": 86,
   "metadata": {
    "code_folding": [
     19
    ],
    "collapsed": false
   },
   "outputs": [
    {
     "data": {
      "text/plain": [
       "'Political_Affiliation_of_Municipality_Presidents_in_Serbia_2012-2016'"
      ]
     },
     "execution_count": 86,
     "metadata": {},
     "output_type": "execute_result"
    },
    {
     "data": {
      "image/png": "[encoded data removed]",
      "text/plain": [
       "<matplotlib.figure.Figure at 0xa39e048>"
      ]
     },
     "metadata": {},
     "output_type": "display_data"
    }
   ],
   "source": [
    "# Special Measures\n",
    "#graph code\n",
    "totals_by_party = mpaneldf.groupby([\"ag2_name_abr\",\"date\"]).mun_id.count().reset_index()\n",
    "\n",
    "fig, ax = plt.subplots(figsize=(10,5),dpi=300)\n",
    "#colormap = plt.cm.gist_ncar\n",
    "#plt.gca().set_color_cycle([colormap(i) for i in np.linspace(0, 0.9, 15)])\n",
    "\n",
    "parties_main = [\"SNS\",\"DS\",\"SPS\",\"URS\",\"LP\"]\n",
    "colors = [sns.xkcd_rgb[\"blue\"],sns.xkcd_rgb[\"gold\"],\"red\",\"purple\",\"green\" ] \n",
    "\n",
    "# start date from which to plot\n",
    "start_date = pd.to_datetime(\"2011-06-01\")\n",
    "\n",
    "for (party, color) in zip(parties_main,colors):\n",
    "    x= totals_by_party[(totals_by_party.date > start_date) & (totals_by_party.ag2_name_abr == party)].date\n",
    "    y= totals_by_party[(totals_by_party.date > start_date) & (totals_by_party.ag2_name_abr == party)].mun_id\n",
    "   \n",
    "    plt.plot_date(x,y, 'o-', markersize=4, label=party, color=color,alpha=.8, lw=1.2)\n",
    "\n",
    "add = 27\n",
    "sep = 3.5\n",
    "head = 16\n",
    "sub = 14\n",
    "\n",
    "fontscale = .5\n",
    "\n",
    "#### annotations \n",
    "# election 2012\n",
    "plt.axvline(pd.to_datetime(\"2012-05-06\"),ymax=53./60, ls='dashed', lw=1, color='black', alpha=.5)\n",
    "plt.text(pd.to_datetime(\"2012-05-10\"),58+add,'Local & National Elections 2012'.upper(), alpha=.8, fontsize=head*fontscale, color='black')\n",
    "plt.text(pd.to_datetime(\"2012-05-11\"),58-sep+add,'*SNS-SPS-URS form national coalition', alpha=.8, fontsize=sub*fontscale, color='black')\n",
    "plt.text(pd.to_datetime(\"2012-05-11\"),58-2*sep+add,'*DS losses national coalition membership', alpha=.8, fontsize=sub*fontscale, color='black')\n",
    "\n",
    "# party matching 2012\n",
    "plt.axvline(pd.to_datetime(\"2012-10-23\"),ymax=42./60, ls='dashed', lw=.7, color='black', alpha=.5)\n",
    "plt.text(pd.to_datetime(\"2012-10-25\"),39+add,'SNS and SPS Decide to Match', fontsize=head*fontscale-1, alpha=.8, color='black')\n",
    "plt.text(pd.to_datetime(\"2012-10-25\"),39-sep/2+add,'Coalitions On Local Level', fontsize=head*fontscale-1, alpha=.8, color='black')\n",
    "\n",
    "\n",
    "# election 2014\n",
    "plt.axvline(pd.to_datetime(\"2014-03-16\"),ymax=51.5/60, ls='dashed', lw=.7, color='black', alpha=.5)\n",
    "plt.text(pd.to_datetime(\"2014-03-17\"),55+add,'National Elections 2014'.upper(), fontsize=head*fontscale, alpha=.8, color='black')\n",
    "plt.text(pd.to_datetime(\"2014-03-18\"),55-sep+add,'*SNS increases national majority', fontsize=sub*fontscale, alpha=.8, color='black')\n",
    "plt.text(pd.to_datetime(\"2014-03-18\"),55-2*sep+add,'*URS leaves national coalition', fontsize=sub*fontscale, alpha=.8, color='black')\n",
    "\n",
    "##### more options\n",
    "# plot options\n",
    "title = \"Political Affiliation of Municipality Presidents in Serbia 2012-2016\"\n",
    "#plt.title(title)\n",
    "plt.ylabel(\"# Municipalities\", fontsize=18*fontscale)\n",
    "plt.grid()\n",
    "plt.legend(labels=[\"SNS\",\"DS\",\"SPS\",\"URS\",\"Local Parties\"],loc=7, fontsize=16*fontscale)\n",
    "\n",
    "\n",
    "\n",
    "# axes options\n",
    "ax.spines['right'].set_visible(False)\n",
    "ax.spines['top'].set_visible(False)\n",
    "ax.tick_params(axis='x',which='major', direction='out', width=1,length=5,bottom='on',top=\"off\",color='grey')\n",
    "ax.tick_params(axis='y',which='major', direction='out', width=1,length=5,left='on',right=\"off\",color='grey')\n",
    "ax.tick_params(axis='y',which='minor', direction='out', width=1,length=3,left='on',right=\"off\",color='grey')\n",
    "plt.tick_params(axis='both', which='major', labelsize=16*fontscale)\n",
    "plt.tick_params(axis='both', which='minor', labelsize=14*fontscale)\n",
    "\n",
    "\n",
    "# rotate x labels\n",
    "locs, labels = plt.xticks()\n",
    "plt.setp(labels, rotation=20);  \n",
    "\n",
    "# save\n",
    "plt.savefig(\"./exports/figures/\" + title.replace(\" \",\"_\"), dpi='figure', bbox_inches='tight', pad_inches=0.0)\n",
    "plt.savefig(\"../final paper/\" + title.replace(\" \",\"_\"), dpi='figure', bbox_inches='tight', pad_inches=0.0)\n",
    "title.replace(\" \",\"_\")"
   ]
  },
  {
   "cell_type": "markdown",
   "metadata": {},
   "source": [
    "# Additional Analyses"
   ]
  },
  {
   "cell_type": "markdown",
   "metadata": {},
   "source": [
    "## Party Switching"
   ]
  },
  {
   "cell_type": "code",
   "execution_count": 3,
   "metadata": {
    "code_folding": [],
    "collapsed": false
   },
   "outputs": [
    {
     "data": {
      "text/plain": [
       "Independent to SNS                6\n",
       "DS-SDS Split                      6\n",
       "URS Independent to Independent    5\n",
       "Opposition to SNS                 3\n",
       "DS to Independent                 3\n",
       "Independent to Independent        2\n",
       "URS Independent to SNS            2\n",
       "Independent to Incumbent          1\n",
       "Opposition to Incumbent           1\n",
       "G17+ to URS                       1\n",
       "Incumbent to Incumbent            1\n",
       "Incumbent to SNS                  1\n",
       "Name: switches_categorized, dtype: int64"
      ]
     },
     "execution_count": 3,
     "metadata": {},
     "output_type": "execute_result"
    }
   ],
   "source": [
    "# table\n",
    "switches = pd.read_csv(\"./Political Party Switches/changesdf.csv\")\n",
    "switches.date = pd.to_datetime(switches.date, format=\"%d-%b-%Y\")\n",
    "\n",
    "# get relevant switches\n",
    "df = switches[(switches.same_person == 1) & \n",
    "         (switches.party_change == 1) & \n",
    "         (switches.date > pd.to_datetime(\"06-may-2012\"))].copy()\n",
    "\n",
    "# make dictionary of switching combinations\n",
    "party_combos = list(zip(df[[\"prior_party_name\", \"party_abr\"]].drop_duplicates().prior_party_name, \n",
    "                        df[[\"prior_party_name\", \"party_abr\"]].drop_duplicates().party_abr))\n",
    "\n",
    "# classify parties as SNS, other incumbent, DS, other opposition, and neutral\n",
    "\n",
    "def from_party(df):\n",
    "    temp = (df[\"prior_party_name\"],df[\"party_abr\"]) \n",
    "    if temp  in [('VR', 'SNS'), ('PzLP', 'SNS'), \n",
    "                                                     ('GGDM', 'SNS'), ('PZJ', 'SNS'), \n",
    "                                                     ('GGVM', 'SNS')]:\n",
    "        return \"Independent to SNS\"\n",
    "    \n",
    "    # deal from URS\n",
    "    if (df[\"prior_party_name\"] == 'URS'):\n",
    "        if (df[\"date\"] < pd.to_datetime(\"2014-03-16\")):\n",
    "            if df[\"party_abr\"] in ['NPS','GGZBZ','PzLP','Nejasna','SNP']:\n",
    "                return \"Other Incumbent to Independent\"\n",
    "            if df[\"party_abr\"] == 'SNS':\n",
    "                return \"Other Incumbent to SNS\"\n",
    "        if (df[\"date\"] > pd.to_datetime(\"2014-03-16\")):\n",
    "            if df[\"party_abr\"] in ['NPS','GGZBZ','PzLP','Nejasna','SNP']:\n",
    "                return \"URS Independent to Independent\"\n",
    "            if df[\"party_abr\"] == 'SNS':\n",
    "                return \"URS Independent to SNS\"  \n",
    "            \n",
    "    # deal with to URS\n",
    "    if (df[\"party_abr\"] == 'URS'):\n",
    "        if (df[\"date\"] < pd.to_datetime(\"2014-03-16\")):\n",
    "            if df[\"prior_party_name\"] in ['GGPZZ']:\n",
    "                return \"Independent to Incumbent\"\n",
    "            if df[\"prior_party_name\"] == 'G17+':\n",
    "                return \"G17+ to URS\"\n",
    "            if df[\"prior_party_name\"] == 'DSS':\n",
    "                return \"Opposition to Incumbent\"\n",
    "            \n",
    "        if (df[\"date\"] > pd.to_datetime(\"2014-03-16\")):\n",
    "            if df[\"party_abr\"] in ['G17+']:\n",
    "                return \"G17+ to URS\"\n",
    "            if df[\"prior_party_name\"] in ['GGPZZ']:\n",
    "                return \"Independent to URS Independent\"\n",
    "            if df[\"prior_party_name\"] == 'DSS':\n",
    "                return \"Opposition to URS Independent\"    \n",
    "\n",
    "    if temp in [('DSS', 'SNS'), ('DS', 'SNS')]:\n",
    "        return \"Opposition to SNS\"\n",
    "    if temp in [('DS', 'ZzS'), ('DS', 'VS'),('DS', 'GGCB')]:\n",
    "        return \"DS to Independent\"\n",
    "    \n",
    "    if temp in [('DSS', 'SNP'),('SVM', 'MP')]:\n",
    "        return \"Independent to Independent\"\n",
    "\n",
    "    if temp in [('DS', 'SDS'),('SDS', 'DS')]:\n",
    "        return \"DS-SDS Split\"\n",
    "    if temp == ('NS', 'SNS'):\n",
    "        return \"Incumbent to SNS\"\n",
    "    if temp == ('SPS', 'PS'):\n",
    "        return \"Incumbent to Incumbent\"\n",
    "\n",
    "df[\"switches_categorized\"] = df.apply(from_party, axis=1)\n",
    "\n",
    "df.switches_categorized.value_counts()"
   ]
  },
  {
   "cell_type": "code",
   "execution_count": 72,
   "metadata": {
    "collapsed": true
   },
   "outputs": [],
   "source": [
    "df.to_csv('../Data/exports/switches_categorized.csv')"
   ]
  },
  {
   "cell_type": "markdown",
   "metadata": {},
   "source": [
    "## Switches sorted by Category"
   ]
  },
  {
   "cell_type": "code",
   "execution_count": 23,
   "metadata": {
    "collapsed": false
   },
   "outputs": [
    {
     "name": "stdout",
     "output_type": "stream",
     "text": [
      "\\begin{tabular}{llllll}\n",
      "\\toprule\n",
      "{} &            pres\\_name & party\\_abr & prior\\_party\\_name &       date &            switches\\_categorized \\\\\n",
      "mun               &                      &           &                  &            &                                 \\\\\n",
      "\\midrule\n",
      "zabalj            &        Cedomir Bozic &      GGCB &               DS & 2016-02-04 &               DS to Independent \\\\\n",
      "Vrsac             &     Cedomir Zivkovic &        VS &               DS & 2012-12-10 &               DS to Independent \\\\\n",
      "Sabac             &      Milos Milosevic &       ZzS &               DS & 2014-04-01 &               DS to Independent \\\\\n",
      "Bela Palanka      &      Goran Miljkovic &       SDS &               DS & 2014-02-09 &                    DS-SDS Split \\\\\n",
      "Novi Knezevac     &         Dragan Babic &       SDS &               DS & 2014-04-15 &                    DS-SDS Split \\\\\n",
      "zabalj            &        Cedomir Bozic &       SDS &               DS & 2014-03-15 &                    DS-SDS Split \\\\\n",
      "zabalj            &        Cedomir Bozic &        DS &              SDS & 2015-02-07 &                    DS-SDS Split \\\\\n",
      "Svilajnac         &    Predrag Milanovic &       SDS &               DS & 2014-07-18 &                    DS-SDS Split \\\\\n",
      "Cicevac           &         Zlatan Krkic &       SDS &               DS & 2014-10-26 &                    DS-SDS Split \\\\\n",
      "Osecina           &     Nenad Stevanovic &       URS &             G17+ & 2012-05-29 &                     G17+ to URS \\\\\n",
      "Lajkovac          &      Zivorad Bojicic &        PS &              SPS & 2015-10-05 &          Incumbent to Incumbent \\\\\n",
      "Kraljevo          &        Tomislav Ilic &       SNS &               NS & 2016-01-05 &                Incumbent to SNS \\\\\n",
      "Aleksandrovac     &   Jugoslav Stajkovac &       URS &            GGPZZ & 2013-08-24 &        Independent to Incumbent \\\\\n",
      "Cajetina          &     Milan Stamatovic &       SNP &              DSS & 2014-09-22 &      Independent to Independent \\\\\n",
      "Subotica          &          Jene Maglai &        MP &              SVM & 2015-08-24 &      Independent to Independent \\\\\n",
      "Sremska Mitrovica &  Branislav Nedimovic &       SNS &             GGVM & 2015-01-16 &              Independent to SNS \\\\\n",
      "Loznica           &      Vidoje Petrovic &       SNS &             PzLP & 2015-06-08 &              Independent to SNS \\\\\n",
      "Koceljeva         &       Veroljub Matic &       SNS &             GGVM & 2013-06-24 &              Independent to SNS \\\\\n",
      "Veliko Gradiste   &         Dragan Milic &       SNS &             GGDM & 2016-03-07 &              Independent to SNS \\\\\n",
      "Vrsac             &     Cedomir Zivkovic &       SNS &               VR & 2015-11-19 &              Independent to SNS \\\\\n",
      "Doljevac          &         Goran Ljubic &       SNS &              PZJ & 2016-02-13 &              Independent to SNS \\\\\n",
      "Nis-Niska Banja   &      Zoran VIdanovic &       URS &              DSS & 2012-11-16 &         Opposition to Incumbent \\\\\n",
      "Secanj            &    Predrag Milosevic &       SNS &               DS & 2014-01-22 &               Opposition to SNS \\\\\n",
      "Plandiste         &      Milan Selakovic &       SNS &               DS & 2014-02-27 &               Opposition to SNS \\\\\n",
      "Kursumlija        &       Radoljub Vidic &       SNS &              DSS & 2012-07-17 &               Opposition to SNS \\\\\n",
      "Knjazevac         &         Milan Djokic &   Nejasna &              URS & 2014-06-02 &  URS Independent to Independent \\\\\n",
      "Nis-Niska Banja   &      Zoran VIdanovic &       SNP &              URS & 2015-12-01 &  URS Independent to Independent \\\\\n",
      "Loznica           &      Vidoje Petrovic &      PzLP &              URS & 2014-05-29 &  URS Independent to Independent \\\\\n",
      "Trstenik          &     Miroslav Aleksic &       NPS &              URS & 2014-09-21 &  URS Independent to Independent \\\\\n",
      "Aleksandrovac     &   Jugoslav Stajkovac &     GGZBZ &              URS & 2014-06-02 &  URS Independent to Independent \\\\\n",
      "Boljevac          &   Nebojsa Marjanovic &       SNS &              URS & 2014-07-01 &          URS Independent to SNS \\\\\n",
      "Osecina           &     Nenad Stevanovic &       SNS &              URS & 2015-08-18 &          URS Independent to SNS \\\\\n",
      "\\bottomrule\n",
      "\\end{tabular}\n",
      "\n"
     ]
    }
   ],
   "source": [
    "switches_appendix = df.sort_values(\"switches_categorized\")[['mun', 'pres_name','party_abr',\"prior_party_name\", \"date\", 'switches_categorized']]\n",
    "print switches_appendix.set_index(\"mun\").to_latex()"
   ]
  },
  {
   "cell_type": "markdown",
   "metadata": {},
   "source": [
    "## Presidents with Multiple Switches"
   ]
  },
  {
   "cell_type": "code",
   "execution_count": 41,
   "metadata": {
    "collapsed": false,
    "scrolled": true
   },
   "outputs": [
    {
     "name": "stdout",
     "output_type": "stream",
     "text": [
      "\\begin{tabular}{llllll}\n",
      "\\toprule\n",
      "{} &           pres\\_name & party\\_abr & prior\\_party\\_name &       date &            switches\\_categorized \\\\\n",
      "mun             &                     &           &                  &            &                                 \\\\\n",
      "\\midrule\n",
      "zabalj          &       Cedomir Bozic &       SDS &               DS & 2014-03-15 &                    DS-SDS Split \\\\\n",
      "zabalj          &       Cedomir Bozic &        DS &              SDS & 2015-02-07 &                    DS-SDS Split \\\\\n",
      "zabalj          &       Cedomir Bozic &      GGCB &               DS & 2016-02-04 &               DS to Independent \\\\\n",
      "Vrsac           &    Cedomir Zivkovic &        VS &               DS & 2012-12-10 &               DS to Independent \\\\\n",
      "Vrsac           &    Cedomir Zivkovic &       SNS &               VR & 2015-11-19 &              Independent to SNS \\\\\n",
      "Aleksandrovac   &  Jugoslav Stajkovac &       URS &            GGPZZ & 2013-08-24 &        Independent to Incumbent \\\\\n",
      "Aleksandrovac   &  Jugoslav Stajkovac &     GGZBZ &              URS & 2014-06-02 &  URS Independent to Independent \\\\\n",
      "Osecina         &    Nenad Stevanovic &       URS &             G17+ & 2012-05-29 &                     G17+ to URS \\\\\n",
      "Osecina         &    Nenad Stevanovic &       SNS &              URS & 2015-08-18 &          URS Independent to SNS \\\\\n",
      "Loznica         &     Vidoje Petrovic &      PzLP &              URS & 2014-05-29 &  URS Independent to Independent \\\\\n",
      "Loznica         &     Vidoje Petrovic &       SNS &             PzLP & 2015-06-08 &              Independent to SNS \\\\\n",
      "Nis-Niska Banja &     Zoran VIdanovic &       URS &              DSS & 2012-11-16 &         Opposition to Incumbent \\\\\n",
      "Nis-Niska Banja &     Zoran VIdanovic &       SNP &              URS & 2015-12-01 &  URS Independent to Independent \\\\\n",
      "\\bottomrule\n",
      "\\end{tabular}\n",
      "\n"
     ]
    },
    {
     "name": "stderr",
     "output_type": "stream",
     "text": [
      "C:\\Users\\nolefp\\Anaconda\\lib\\site-packages\\ipykernel\\__main__.py:1: UserWarning: Boolean Series key will be reindexed to match DataFrame index.\n",
      "  if __name__ == '__main__':\n"
     ]
    }
   ],
   "source": [
    "multiple = switches_appendix.sort_values([\"pres_name\", \"date\"])[switches_appendix.sort_values(\"pres_name\").duplicated(\"pres_name\", keep=False)]\n",
    "print multiple.set_index(\"mun\").to_latex()"
   ]
  },
  {
   "cell_type": "markdown",
   "metadata": {},
   "source": []
  },
  {
   "cell_type": "markdown",
   "metadata": {},
   "source": [
    "# Pre-Election 2012"
   ]
  },
  {
   "cell_type": "code",
   "execution_count": null,
   "metadata": {
    "collapsed": true
   },
   "outputs": [],
   "source": [
    "# re-apply names \n",
    "inpower_2012_df = inpower_2012_df.merge(classificationsdf, on=\"party_id\")"
   ]
  },
  {
   "cell_type": "markdown",
   "metadata": {},
   "source": [
    "### sanity check"
   ]
  },
  {
   "cell_type": "code",
   "execution_count": null,
   "metadata": {
    "collapsed": false
   },
   "outputs": [],
   "source": [
    "inpower_2012_df.head()"
   ]
  },
  {
   "cell_type": "code",
   "execution_count": null,
   "metadata": {
    "collapsed": false
   },
   "outputs": [],
   "source": [
    "inpower_2012_df.name_abr.value_counts()"
   ]
  },
  {
   "cell_type": "code",
   "execution_count": null,
   "metadata": {
    "collapsed": true
   },
   "outputs": [],
   "source": [
    "# export the dataframe\n",
    "inpower_2012_df.to_csv(\"./Political Party Switches/inpower_preelec_2012.csv\")"
   ]
  },
  {
   "cell_type": "code",
   "execution_count": null,
   "metadata": {
    "collapsed": true
   },
   "outputs": [],
   "source": [
    "\"\"\"\n",
    "# trash code\n",
    "\n",
    "# make dictionary of switching combinations\n",
    "dict(zip(zip(df[[\"prior_party_name\", \"party_abr\"]].drop_duplicates().prior_party_name, \n",
    "    df[[\"prior_party_name\", \"party_abr\"]].drop_duplicates().party_abr), np.zeros(len(df[[\"prior_party_name\", \"party_abr\"]].drop_duplicates()))))\n",
    "\"\"\""
   ]
  },
  {
   "cell_type": "code",
   "execution_count": null,
   "metadata": {
    "collapsed": true
   },
   "outputs": [],
   "source": []
  },
  {
   "cell_type": "code",
   "execution_count": null,
   "metadata": {
    "collapsed": true
   },
   "outputs": [],
   "source": []
  }
 ],
 "metadata": {
  "kernelspec": {
   "display_name": "Python 2",
   "language": "python",
   "name": "python2"
  },
  "language_info": {
   "codemirror_mode": {
    "name": "ipython",
    "version": 2
   },
   "file_extension": ".py",
   "mimetype": "text/x-python",
   "name": "python",
   "nbconvert_exporter": "python",
   "pygments_lexer": "ipython2",
   "version": "2.7.11"
  }
 },
 "nbformat": 4,
 "nbformat_minor": 0
}
