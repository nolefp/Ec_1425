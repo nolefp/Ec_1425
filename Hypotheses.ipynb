{
 "cells": [
  {
   "cell_type": "markdown",
   "metadata": {},
   "source": [
    "## Header Code"
   ]
  },
  {
   "cell_type": "code",
   "execution_count": 1,
   "metadata": {
    "collapsed": false,
    "scrolled": false
   },
   "outputs": [
    {
     "name": "stderr",
     "output_type": "stream",
     "text": [
      "C:\\Users\\nolefp\\Anaconda\\lib\\site-packages\\matplotlib\\__init__.py:872: UserWarning: axes.color_cycle is deprecated and replaced with axes.prop_cycle; please use the latter.\n",
      "  warnings.warn(self.msg_depr % (key, alt_key))\n"
     ]
    }
   ],
   "source": [
    "%matplotlib inline\n",
    "import numpy as np\n",
    "import scipy as sp\n",
    "import statsmodels.api as sm\n",
    "import statsmodels.formula.api as smf\n",
    "from statsmodels import discrete\n",
    "\n",
    "import re\n",
    "import pandas as pd\n",
    "import math \n",
    "import csv\n",
    "import time\n",
    "import dateutil\n",
    "from datetime import datetime\n",
    "import seaborn as sns\n",
    "\n",
    "from IPython.core.display import HTML\n",
    "HTML(\"<style>.container {width:50% !important; }</style>\");"
   ]
  },
  {
   "cell_type": "code",
   "execution_count": 2,
   "metadata": {
    "code_folding": [],
    "collapsed": false,
    "scrolled": true
   },
   "outputs": [],
   "source": [
    "# pandas options plus some more\n",
    "pd.set_option('display.width', 1000)\n",
    "pd.set_option('display.max_columns', 100)\n",
    "pd.set_option('display.notebook_repr_html', True)\n",
    "pd.options.display.float_format = '{:,.2f}'.format\n",
    "sns.set_style(\"whitegrid\")\n",
    "sns.set_context(\"poster\")"
   ]
  },
  {
   "cell_type": "code",
   "execution_count": 3,
   "metadata": {
    "code_folding": [
     9
    ],
    "collapsed": false
   },
   "outputs": [],
   "source": [
    "# Matplotlib Formatting\n",
    "import matplotlib as mpl\n",
    "import matplotlib.cm as cm\n",
    "import matplotlib.pyplot as plt\n",
    "from matplotlib import gridspec\n",
    "from matplotlib import ticker\n",
    "\n",
    "\n",
    "millnames = ['',' Thousand',' Million',' Billion',' Trillion']\n",
    "def millify(n, pos):\n",
    "    n = float(n)\n",
    "    millidx = max(0,min(len(millnames)-1,\n",
    "                        int(math.floor(0 if n == 0 else math.log10(abs(n))/3))))\n",
    "    thingtoreturn = n / 10**(3 * millidx)\n",
    "    if thingtoreturn % 1 == 0:\n",
    "        return '{:.0f}{}'.format(thingtoreturn, millnames[millidx])\n",
    "    elif thingtoreturn % 0.1 == 0:\n",
    "        return '{:.1f}{}'.format(thingtoreturn, millnames[millidx])\n",
    "    else:\n",
    "        return '{:.2f}{}'.format(thingtoreturn, millnames[millidx])"
   ]
  },
  {
   "cell_type": "markdown",
   "metadata": {},
   "source": [
    "## Pre-load"
   ]
  },
  {
   "cell_type": "markdown",
   "metadata": {},
   "source": [
    "**Municipal Codes**"
   ]
  },
  {
   "cell_type": "code",
   "execution_count": 4,
   "metadata": {
    "collapsed": false
   },
   "outputs": [],
   "source": [
    "municipal_codes_df = pd.read_excel(\"./exports/Municipal Code Matching.xlsx\")"
   ]
  },
  {
   "cell_type": "code",
   "execution_count": 5,
   "metadata": {
    "collapsed": false
   },
   "outputs": [
    {
     "name": "stdout",
     "output_type": "stream",
     "text": [
      "<class 'pandas.core.frame.DataFrame'>\n",
      "RangeIndex: 174 entries, 0 to 173\n",
      "Data columns (total 3 columns):\n",
      "mun_id      174 non-null int64\n",
      "mun         174 non-null object\n",
      "mun_type    174 non-null object\n",
      "dtypes: int64(1), object(2)\n",
      "memory usage: 4.1+ KB\n"
     ]
    }
   ],
   "source": [
    "municipal_codes_df.info()"
   ]
  },
  {
   "cell_type": "markdown",
   "metadata": {},
   "source": [
    "**Spending Economic Classes** "
   ]
  },
  {
   "cell_type": "code",
   "execution_count": 6,
   "metadata": {
    "collapsed": false
   },
   "outputs": [],
   "source": [
    "econ_breakdown = pd.read_csv(\"./Budgets/econ_breakdown.csv\")"
   ]
  },
  {
   "cell_type": "code",
   "execution_count": 7,
   "metadata": {
    "collapsed": false
   },
   "outputs": [
    {
     "data": {
      "text/plain": [
       "Index([u'ec_div_id', u'ec_div_name_english', u'ec_group_id', u'ec_group_name_english', u'ec_class_id', u'ec_class_name_english'], dtype='object')"
      ]
     },
     "execution_count": 7,
     "metadata": {},
     "output_type": "execute_result"
    }
   ],
   "source": [
    "econ_breakdown.columns"
   ]
  },
  {
   "cell_type": "code",
   "execution_count": 8,
   "metadata": {
    "collapsed": false
   },
   "outputs": [],
   "source": [
    "for col in [u'ec_div_id', u'ec_group_id', u'ec_class_id']:\n",
    "    econ_breakdown[col] = econ_breakdown[col].fillna(-1).astype(int)"
   ]
  },
  {
   "cell_type": "markdown",
   "metadata": {},
   "source": [
    "**Spending Functional Classes**"
   ]
  },
  {
   "cell_type": "code",
   "execution_count": 9,
   "metadata": {
    "collapsed": false
   },
   "outputs": [
    {
     "name": "stderr",
     "output_type": "stream",
     "text": [
      "C:\\Users\\nolefp\\AppData\\Roaming\\Python\\Python27\\site-packages\\IPython\\core\\interactiveshell.py:2723: DtypeWarning: Columns (1,3,5) have mixed types. Specify dtype option on import or set low_memory=False.\n",
      "  interactivity=interactivity, compiler=compiler, result=result)\n"
     ]
    }
   ],
   "source": [
    "func_breakdown = pd.read_csv(\"./Budgets/func_breakdown.csv\")"
   ]
  },
  {
   "cell_type": "code",
   "execution_count": 10,
   "metadata": {
    "collapsed": false
   },
   "outputs": [
    {
     "data": {
      "text/plain": [
       "Index([u'func_div_id', u'func_div_name_english', u'func_group_id', u'func_group_name_english', u'func_class_id', u'func_class_name_english'], dtype='object')"
      ]
     },
     "execution_count": 10,
     "metadata": {},
     "output_type": "execute_result"
    }
   ],
   "source": [
    "func_breakdown.columns"
   ]
  },
  {
   "cell_type": "code",
   "execution_count": 11,
   "metadata": {
    "collapsed": false
   },
   "outputs": [],
   "source": [
    "for col in [u'func_div_id', u'func_group_id', u'func_class_id']:\n",
    "    func_breakdown[col] = func_breakdown[col].fillna(-1).astype(int)"
   ]
  },
  {
   "cell_type": "markdown",
   "metadata": {},
   "source": [
    "**Income Classification**"
   ]
  },
  {
   "cell_type": "code",
   "execution_count": 12,
   "metadata": {
    "collapsed": true
   },
   "outputs": [],
   "source": [
    "income_breakdown = pd.read_csv(\"./Budgets/income_breakdown.csv\")"
   ]
  },
  {
   "cell_type": "code",
   "execution_count": 13,
   "metadata": {
    "collapsed": false
   },
   "outputs": [
    {
     "data": {
      "text/plain": [
       "Index([u'l2', u'l2_name', u'l2_name_english', u'l3', u'l3_name', u'l3_name_english', u'l4', u'l4_name', u'l4_name_english', u'l6', u'l6_name', u'l6_name_english'], dtype='object')"
      ]
     },
     "execution_count": 13,
     "metadata": {},
     "output_type": "execute_result"
    }
   ],
   "source": [
    "income_breakdown.columns"
   ]
  },
  {
   "cell_type": "code",
   "execution_count": 14,
   "metadata": {
    "code_folding": [],
    "collapsed": false
   },
   "outputs": [],
   "source": [
    "codes_income =          [u'l2', u'l3', u'l4', u'l6']\n",
    "names_income =          [u'l2_name', u'l3_name', u'l4_name', u'l6_name']\n",
    "names_english_income =  [u'l2_name_english', u'l3_name_english', u'l4_name_english', u'l6_name_english']\n",
    "\n",
    "for col in codes_income:\n",
    "    income_breakdown[col] = income_breakdown[col].fillna(-1).astype(int)"
   ]
  },
  {
   "cell_type": "markdown",
   "metadata": {},
   "source": [
    "** load necessary datasets **"
   ]
  },
  {
   "cell_type": "code",
   "execution_count": 15,
   "metadata": {
    "collapsed": false
   },
   "outputs": [],
   "source": [
    "# incomes\n",
    "incomesdf = pd.read_csv(\"./exports/incomesdf.csv\")\n",
    "\n",
    "# apanel data\n",
    "apaneldf = pd.read_csv(\"./exports/apaneldf.csv\")\n",
    "\n",
    "# convert date to years in int\n",
    "apaneldf.date = apaneldf.date.str.replace(\"-\\d\\d-\\d\\d\",\"\").astype(int)"
   ]
  },
  {
   "cell_type": "markdown",
   "metadata": {},
   "source": [
    "# HYPOTHESES"
   ]
  },
  {
   "cell_type": "markdown",
   "metadata": {},
   "source": [
    "## Transfers"
   ]
  },
  {
   "cell_type": "markdown",
   "metadata": {},
   "source": [
    "### Change Over Time"
   ]
  },
  {
   "cell_type": "markdown",
   "metadata": {},
   "source": [
    "** Calculate Share Changes **"
   ]
  },
  {
   "cell_type": "code",
   "execution_count": 16,
   "metadata": {
    "collapsed": false
   },
   "outputs": [],
   "source": [
    "# get total transfers by year\n",
    "transfers = incomesdf[incomesdf.l6_name_english == 'Transfers from other level of government'].copy()\n",
    "transfers_munyeardf = transfers.groupby([\"mun_id\",\"year\"]).sum().drop([\"l2\",\"l4\",\"l3\",\"l6\"], axis=1).unstack(level=1)\n",
    "\n",
    "\n",
    "#normalize\n",
    "norm_transfers_munyeardf = pd.DataFrame()\n",
    "\n",
    "for col in transfers_munyeardf.columns:\n",
    "    norm_transfers_munyeardf[col] = (transfers_munyeardf[col] / transfers_munyeardf[col].sum()).copy()\n",
    "\n",
    "def change(df):\n",
    "    x11 = df[('income_value',2011)] == 0\n",
    "    x13 = df[('income_value',2013)] == 0\n",
    "    if x11 & x13:\n",
    "        return 0    \n",
    "    if  ~x11 & x13:\n",
    "        return -1\n",
    "    if x11 &  ~x13:\n",
    "        return 2\n",
    "    else:\n",
    "        return ((df[('income_value',2013)] - df[('income_value',2011)])/df[('income_value',2011)]).copy()\n",
    "\n",
    "#find 2011, 2013 difference\n",
    "share_change = pd.DataFrame()\n",
    "share_change[\"norm_percent_change\"] = norm_transfers_munyeardf.apply(change, axis=1) * 100"
   ]
  },
  {
   "cell_type": "markdown",
   "metadata": {},
   "source": [
    "** Alignment Changes **"
   ]
  },
  {
   "cell_type": "code",
   "execution_count": 18,
   "metadata": {
    "code_folding": [],
    "collapsed": false
   },
   "outputs": [],
   "source": [
    "def gov_change(df):\n",
    "    if np.isnan(df[\"ingov11\"])  | np.isnan(df[\"ingov13\"]):\n",
    "        return np.nan\n",
    "    \n",
    "    if (df[\"ingov11\"] != 1) & (df[\"ingov13\"] != 1):\n",
    "        return \"3unaligned both years\"\n",
    "    \n",
    "    if (df[\"ingov11\"] == 1) & (df[\"ingov13\"] == 1):\n",
    "        return \"2aligned both years\"\n",
    "    \n",
    "    if (df[\"ingov11\"] != 1) & (df[\"ingov13\"] == 1):\n",
    "        return \"1became aligned\"\n",
    "    \n",
    "    if (df[\"ingov11\"] == 1) & (df[\"ingov13\"] != 1):\n",
    "        return \"4stopped being aligned\"\n",
    "    \n",
    "share_change[\"ingov11\"] = apaneldf[apaneldf.date == 2011].set_index(\"mun_id\").in_gov11.copy()\n",
    "share_change[\"ingov13\"] = apaneldf[apaneldf.date == 2013].set_index(\"mun_id\").ingov12.copy()\n",
    "\n",
    "share_change[\"gov_change\"] = share_change.apply(gov_change, axis=1)\n",
    "\n",
    "share_change[\"mun\"] = municipal_codes_df.set_index(\"mun_id\").mun\n",
    "share_change.sort_values(\"norm_percent_change\", ascending=0, inplace=1)\n"
   ]
  },
  {
   "cell_type": "code",
   "execution_count": 23,
   "metadata": {
    "collapsed": false
   },
   "outputs": [],
   "source": [
    "share_change.gov_change = share_change.gov_change.astype(\"category\")\n",
    "share_change.gov_change.unique().reorder_categories([\"1became aligned\",\"2aligned both years\",\n",
    "                                                     \"3unaligned both years\",\"4stopped being aligned\"], ordered=True)\n",
    "\n",
    "\n",
    "share_change.to_csv(\"./exports/2011_to_2013.csv\")"
   ]
  },
  {
   "cell_type": "code",
   "execution_count": 24,
   "metadata": {
    "collapsed": false
   },
   "outputs": [
    {
     "data": {
      "image/png": "[encoded data removed]",
      "text/plain": [
       "<matplotlib.figure.Figure at 0xc251080>"
      ]
     },
     "metadata": {},
     "output_type": "display_data"
    }
   ],
   "source": [
    "fig, ax = plt.subplots(figsize=(15,10))\n",
    "ax.xaxis.set_major_formatter(ticker.FuncFormatter(millify))\n",
    "\n",
    "# rotate x labels\n",
    "locs, labels = plt.yticks()\n",
    "plt.setp(labels, rotation=45);\n",
    "plt.grid()\n",
    "\n",
    "plt.axvline(0,color='black',alpha=.6,ls='dashed',lw=2)\n",
    "sns.swarmplot(\"norm_percent_change\", \"gov_change\" ,data=share_change.dropna(), color='black', size=7)\n",
    "sns.boxplot(\"norm_percent_change\", \"gov_change\" ,data=share_change.dropna(),\n",
    "            meanprops={'linewidth':2, 'color':'red'}, meanline=1, showmeans=1)\n",
    "\n",
    "title = \"Changes in Transfers from 2011 to 2013 by Municipality Alignment\"\n",
    "subtitle = \"Depending on alignment with national coalition pre and after 2012 election\"\n",
    "plt.title(title)\n",
    "\n",
    "# axes options\n",
    "ax.spines['left'].set_visible(False)\n",
    "ax.spines['right'].set_visible(False)\n",
    "ax.spines['top'].set_visible(False)\n",
    "ax.tick_params(axis='x',which='major', direction='out', width=1,length=5,bottom='on',top=\"off\",color='grey')\n",
    "\n",
    "ax.set_ylabel(\"\")\n",
    "\n",
    "ax.set_xlabel(\"Normalized Percent Change\")\n",
    "\n",
    "plt.savefig(\"./exports/figures\" + title, bbox_inches='tight')"
   ]
  },
  {
   "cell_type": "markdown",
   "metadata": {},
   "source": [
    "#  Regression"
   ]
  },
  {
   "cell_type": "code",
   "execution_count": null,
   "metadata": {
    "collapsed": false,
    "scrolled": true
   },
   "outputs": [],
   "source": [
    "alignmentdf = pd.get_dummies(share_change.dropna(), prefix=\"dummy\", columns=[\"gov_change\"])\n",
    "alignmentdf[\"constant\"] = 1"
   ]
  },
  {
   "cell_type": "code",
   "execution_count": null,
   "metadata": {
    "collapsed": false
   },
   "outputs": [],
   "source": [
    "mod = sm.OLS(alignmentdf.ix[:,0],alignmentdf.ix[:,-5:])\n",
    "res = mod.fit()\n",
    "print res.summary()"
   ]
  },
  {
   "cell_type": "code",
   "execution_count": null,
   "metadata": {
    "collapsed": false
   },
   "outputs": [],
   "source": [
    "share_change.to_csv(\"./exports/changesdf.csv\")"
   ]
  },
  {
   "cell_type": "markdown",
   "metadata": {},
   "source": [
    "## Time slice Comparisons"
   ]
  }
 ],
 "metadata": {
  "kernelspec": {
   "display_name": "Python 2",
   "language": "python",
   "name": "python2"
  },
  "language_info": {
   "codemirror_mode": {
    "name": "ipython",
    "version": 2
   },
   "file_extension": ".py",
   "mimetype": "text/x-python",
   "name": "python",
   "nbconvert_exporter": "python",
   "pygments_lexer": "ipython2",
   "version": "2.7.11"
  }
 },
 "nbformat": 4,
 "nbformat_minor": 0
}
