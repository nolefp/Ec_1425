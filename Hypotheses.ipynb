{
 "cells": [
  {
   "cell_type": "markdown",
   "metadata": {},
   "source": [
    "## Header Code"
   ]
  },
  {
   "cell_type": "code",
   "execution_count": 44,
   "metadata": {
    "collapsed": false,
    "scrolled": false
   },
   "outputs": [
    {
     "data": {
      "text/html": [
       "<style>.container {width:80% !important; }</style>"
      ],
      "text/plain": [
       "<IPython.core.display.HTML object>"
      ]
     },
     "execution_count": 44,
     "metadata": {},
     "output_type": "execute_result"
    }
   ],
   "source": [
    "%matplotlib inline\n",
    "import numpy as np\n",
    "import scipy as sp\n",
    "import statsmodels.api as sm\n",
    "import statsmodels.formula.api as smf\n",
    "from statsmodels import discrete\n",
    "import re\n",
    "import pandas as pd\n",
    "import math \n",
    "import csv\n",
    "import time\n",
    "import dateutil\n",
    "from datetime import datetime\n",
    "import seaborn as sns\n",
    "\n",
    "from IPython.core.display import HTML\n",
    "HTML(\"<style>.container {width:80% !important; }</style>\")"
   ]
  },
  {
   "cell_type": "code",
   "execution_count": 2,
   "metadata": {
    "code_folding": [],
    "collapsed": false,
    "scrolled": true
   },
   "outputs": [],
   "source": [
    "# pandas options plus some more\n",
    "pd.set_option('display.width', 1000)\n",
    "pd.set_option('display.max_columns', 100)\n",
    "pd.set_option('display.notebook_repr_html', True)\n",
    "pd.options.display.float_format = '{:,.3f}'.format\n",
    "sns.set_style(\"whitegrid\")\n",
    "sns.set_context(\"poster\")"
   ]
  },
  {
   "cell_type": "code",
   "execution_count": 3,
   "metadata": {
    "code_folding": [
     9
    ],
    "collapsed": false
   },
   "outputs": [],
   "source": [
    "# Matplotlib Formatting\n",
    "import matplotlib as mpl\n",
    "import matplotlib.cm as cm\n",
    "import matplotlib.pyplot as plt\n",
    "from matplotlib import gridspec\n",
    "from matplotlib import ticker\n",
    "\n",
    "\n",
    "millnames = ['',' Thousand',' Million',' Billion',' Trillion']\n",
    "def millify(n, pos):\n",
    "    n = float(n)\n",
    "    millidx = max(0,min(len(millnames)-1,\n",
    "                        int(math.floor(0 if n == 0 else math.log10(abs(n))/3))))\n",
    "    thingtoreturn = n / 10**(3 * millidx)\n",
    "    if thingtoreturn % 1 == 0:\n",
    "        return '{:.0f}{}'.format(thingtoreturn, millnames[millidx])\n",
    "    elif thingtoreturn % 0.1 == 0:\n",
    "        return '{:.1f}{}'.format(thingtoreturn, millnames[millidx])\n",
    "    else:\n",
    "        return '{:.2f}{}'.format(thingtoreturn, millnames[millidx])"
   ]
  },
  {
   "cell_type": "markdown",
   "metadata": {},
   "source": [
    "## Pre-load"
   ]
  },
  {
   "cell_type": "markdown",
   "metadata": {},
   "source": [
    "**Municipal Codes**"
   ]
  },
  {
   "cell_type": "code",
   "execution_count": null,
   "metadata": {
    "collapsed": false
   },
   "outputs": [],
   "source": []
  },
  {
   "cell_type": "markdown",
   "metadata": {},
   "source": [
    "** load necessary datasets **"
   ]
  },
  {
   "cell_type": "code",
   "execution_count": 4,
   "metadata": {
    "collapsed": false
   },
   "outputs": [],
   "source": [
    "# municipal codes\n",
    "municipal_codes_df = pd.read_excel(\"./exports/Municipal Code Matching.xlsx\")\n",
    "\n",
    "# political party classification\n",
    "partydf = pd.read_csv(\"./Political Party Switches/party_classifications.csv\")\n",
    "\n",
    "# incomes\n",
    "incomesdf = pd.read_csv(\"./exports/incomesdf.csv\")\n",
    "\n",
    "# budgets\n",
    "budgetsdf = pd.read_csv(\"./exports/budgetsdf.csv\")\n",
    "\n",
    "# panels data\n",
    "apaneldf = pd.read_csv(\"./exports/apaneldf.csv\")\n",
    "mpaneldf = pd.read_csv(\"./exports/mpaneldf.csv\")\n",
    "\n",
    "# development categories\n",
    "developmentdf = pd.read_csv(\"./General Info/development_categories.csv\")\n",
    "\n",
    "# convert date to years in int\n",
    "apaneldf.date = apaneldf.date.str.replace(\"-\\d\\d-\\d\\d\",\"\").astype(int)\n",
    "mpaneldf.date = pd.to_datetime(mpaneldf.date)"
   ]
  },
  {
   "cell_type": "code",
   "execution_count": 5,
   "metadata": {
    "collapsed": false
   },
   "outputs": [
    {
     "data": {
      "text/plain": [
       "array([0, 1], dtype=int64)"
      ]
     },
     "execution_count": 5,
     "metadata": {},
     "output_type": "execute_result"
    }
   ],
   "source": [
    "budgetsdf.mun.nunique()\n",
    "incomesdf.mun.nunique()\n",
    "apaneldf.in_gov11.unique()"
   ]
  },
  {
   "cell_type": "markdown",
   "metadata": {},
   "source": [
    "# Reshaping Data"
   ]
  },
  {
   "cell_type": "markdown",
   "metadata": {},
   "source": [
    "## Cross Period"
   ]
  },
  {
   "cell_type": "markdown",
   "metadata": {},
   "source": [
    "### Transfers "
   ]
  },
  {
   "cell_type": "markdown",
   "metadata": {},
   "source": [
    "#### Shares"
   ]
  },
  {
   "cell_type": "code",
   "execution_count": 6,
   "metadata": {
    "collapsed": false
   },
   "outputs": [],
   "source": [
    "# get total transfers by year\n",
    "transfers = incomesdf[incomesdf.l6_name_english == 'Transfers from other level of government'].copy()\n",
    "transfers_munyeardf = transfers.groupby([\"mun_id\",\"year\"]).sum().drop([\"l2\",\"l4\",\"l3\",\"l6\"], axis=1).unstack(level=1)\n",
    "transfers_munyeardf.drop(\"Unnamed: 0\", axis=1, inplace=1)\n",
    "\n",
    "#normalize\n",
    "norm_transfers_munyeardf = pd.DataFrame()\n",
    "\n",
    "for col in transfers_munyeardf.columns:\n",
    "    transfers_munyeardf[\"share_\" + col[0] + str(col[1])] = (transfers_munyeardf[col] / transfers_munyeardf[col].sum()).copy()\n",
    "\n",
    "def change(df):\n",
    "    x11 = df[('income_value',2011)] == 0\n",
    "    x13 = df[('income_value',2013)] == 0\n",
    "    if x11 & x13:\n",
    "        return 0    \n",
    "    if  ~x11 & x13:\n",
    "        return -1\n",
    "    if x11 &  ~x13:\n",
    "        return 2\n",
    "    else:\n",
    "        return ((df[('income_value',2013)] - df[('income_value',2011)])/df[('income_value',2011)]).copy()\n",
    "\n",
    "#find 2011, 2013 difference\n",
    "share_change = pd.DataFrame()\n",
    "share_change[\"norm_percent_change\"] = transfers_munyeardf.apply(change, axis=1) * 100\n",
    "transfers_munyeardf[\"norm_percent_change\"] = share_change[\"norm_percent_change\"]"
   ]
  },
  {
   "cell_type": "markdown",
   "metadata": {},
   "source": [
    "### Politics"
   ]
  },
  {
   "cell_type": "markdown",
   "metadata": {},
   "source": [
    "#### 2011-2013'"
   ]
  },
  {
   "cell_type": "code",
   "execution_count": 7,
   "metadata": {
    "code_folding": [],
    "collapsed": false
   },
   "outputs": [],
   "source": [
    "def gov_change(df):\n",
    "    if np.isnan(df[\"ingov11\"])  | np.isnan(df[\"ingov13\"]):\n",
    "        return np.nan\n",
    "    \n",
    "    if (df[\"ingov11\"] != 1) & (df[\"ingov13\"] != 1):\n",
    "        return \"3unaligned both years\"\n",
    "    \n",
    "    if (df[\"ingov11\"] == 1) & (df[\"ingov13\"] == 1):\n",
    "        return \"2aligned both years\"\n",
    "    \n",
    "    if (df[\"ingov11\"] != 1) & (df[\"ingov13\"] == 1):\n",
    "        return \"1became aligned\"\n",
    "    \n",
    "    if (df[\"ingov11\"] == 1) & (df[\"ingov13\"] != 1):\n",
    "        return \"4stopped being aligned\"\n",
    "    \n",
    "share_change[\"ingov11\"] = apaneldf[apaneldf.date == 2011].set_index(\"mun_id\").in_gov11.copy()\n",
    "share_change[\"ingov13\"] = apaneldf[apaneldf.date == 2013].set_index(\"mun_id\").ingov13.copy()\n",
    "share_change[\"opo11\"] = apaneldf[apaneldf.date == 2011].set_index(\"mun_id\").opo11.copy()\n",
    "share_change[\"opo13\"] = apaneldf[apaneldf.date == 2013].set_index(\"mun_id\").opo13.copy()\n",
    "\n",
    "share_change[\"gov_change\"] = share_change.apply(gov_change, axis=1)\n",
    "\n",
    "share_change[\"mun\"] = municipal_codes_df.set_index(\"mun_id\").mun\n",
    "share_change.sort_values(\"norm_percent_change\", ascending=0, inplace=1)\n"
   ]
  },
  {
   "cell_type": "code",
   "execution_count": 8,
   "metadata": {
    "collapsed": false
   },
   "outputs": [],
   "source": [
    "share_change.gov_change = share_change.gov_change.astype(\"category\")\n",
    "share_change.gov_change.unique().reorder_categories([\"1became aligned\",\"2aligned both years\",\n",
    "                                                     \"3unaligned both years\",\"4stopped being aligned\"], ordered=True)\n",
    "\n",
    "\n",
    "share_change.to_csv(\"./exports/2011_to_2013.csv\")"
   ]
  },
  {
   "cell_type": "code",
   "execution_count": 9,
   "metadata": {
    "collapsed": false,
    "scrolled": false
   },
   "outputs": [
    {
     "data": {
      "image/png": "[encoded data removed]",
      "text/plain": [
       "<matplotlib.figure.Figure at 0x3bedd68>"
      ]
     },
     "metadata": {},
     "output_type": "display_data"
    }
   ],
   "source": [
    "fig, ax = plt.subplots(figsize=(15,10))\n",
    "ax.xaxis.set_major_formatter(ticker.FuncFormatter(millify))\n",
    "\n",
    "# rotate x labels\n",
    "locs, labels = plt.yticks()\n",
    "plt.setp(labels, rotation=45);\n",
    "plt.grid()\n",
    "\n",
    "plt.axvline(0,color='black',alpha=.6,ls='dashed',lw=2)\n",
    "sns.swarmplot(\"norm_percent_change\", \"gov_change\" ,data=share_change.dropna(), color='black', size=7)\n",
    "sns.boxplot(\"norm_percent_change\", \"gov_change\" ,data=share_change.dropna(),\n",
    "            meanprops={'linewidth':2, 'color':'red'}, meanline=1, showmeans=1)\n",
    "\n",
    "title = \"Changes in Transfers from 2011 to 2013 by Municipality Alignment\"\n",
    "subtitle = \"Depending on alignment with national coalition pre and after 2012 election\"\n",
    "plt.title(title)\n",
    "\n",
    "# axes options\n",
    "ax.spines['left'].set_visible(False)\n",
    "ax.spines['right'].set_visible(False)\n",
    "ax.spines['top'].set_visible(False)\n",
    "ax.tick_params(axis='x',which='major', direction='out', width=1,length=5,bottom='on',top=\"off\",color='grey')\n",
    "\n",
    "ax.set_ylabel(\"\")\n",
    "\n",
    "ax.set_xlabel(\"Normalized Percent Change\")\n",
    "\n",
    "plt.savefig(\"./exports/figures/\" + title, bbox_inches='tight')"
   ]
  },
  {
   "cell_type": "markdown",
   "metadata": {},
   "source": [
    "#### 2012-2013'"
   ]
  },
  {
   "cell_type": "code",
   "execution_count": 10,
   "metadata": {
    "collapsed": false
   },
   "outputs": [],
   "source": [
    "# pre 2012 election\n",
    "\n",
    "# get who was in power 6 months prior to election in 2012\n",
    "paneldf_pre2012 = mpaneldf[(pd.to_datetime(\"2011-12-30\") < mpaneldf.date ) & (mpaneldf.date < pd.to_datetime(\"2012-05-01\"))]\n",
    "\n",
    "# get parties who were longest in power during this period\n",
    "inpower_2012_df = paneldf_pre2012.groupby('mun_id').party_id.agg(lambda x:x.value_counts().index[0])\n",
    "inpower_2012_df = pd.DataFrame(inpower_2012_df).reset_index()\n",
    "\n",
    "inpower_2012_df = inpower_2012_df.merge(partydf[[\"name_full\",\"in_gov12\", \"party_id\"]], on='party_id', how='left')\n",
    "inpower_2012_df.columns = [\"mun_id\", \"party_id_12\", \"name_full_12\",\"in_gov12\"]"
   ]
  },
  {
   "cell_type": "code",
   "execution_count": 11,
   "metadata": {
    "collapsed": false
   },
   "outputs": [],
   "source": [
    "# get total transfers by year\n",
    "transfers = incomesdf[incomesdf.l6_name_english == 'Transfers from other level of government'].copy()\n",
    "transfers_munyeardf = transfers.groupby([\"mun_id\",\"year\"]).sum().drop([\"l2\",\"l4\",\"l3\",\"l6\"], axis=1).unstack(level=1)\n",
    "transfers_munyeardf.drop(\"Unnamed: 0\", axis=1, inplace=1)\n",
    "\n",
    "#normalize\n",
    "norm_transfers_munyeardf = pd.DataFrame()\n",
    "\n",
    "for col in transfers_munyeardf.columns:\n",
    "    transfers_munyeardf[\"share_\" + col[0] + str(col[1])] = (transfers_munyeardf[col] / transfers_munyeardf[col].sum()).copy()\n",
    "\n",
    "def change(df):\n",
    "    x12 = df[('income_value',2012)] == 0\n",
    "    x13 = df[('income_value',2013)] == 0\n",
    "    if x12 & x13:\n",
    "        return 0    \n",
    "    if  ~x12 & x13:\n",
    "        return -1\n",
    "    if x12 &  ~x13:\n",
    "        return 2\n",
    "    else:\n",
    "        return ((df[('income_value',2013)] - df[('income_value',2012)])/df[('income_value',2012)]).copy()\n",
    "\n",
    "#find 2011, 2013 difference\n",
    "share_change12_13 = pd.DataFrame()\n",
    "share_change12_13[\"norm_percent_change12_13\"] = transfers_munyeardf.apply(change, axis=1) * 100\n",
    "transfers_munyeardf[\"norm_percent_change12_13\"] = share_change12_13[\"norm_percent_change12_13\"]"
   ]
  },
  {
   "cell_type": "code",
   "execution_count": 12,
   "metadata": {
    "code_folding": [],
    "collapsed": false
   },
   "outputs": [],
   "source": [
    "def gov_change(df):\n",
    "    if np.isnan(df[\"ingov12\"])  | np.isnan(df[\"ingov13\"]):\n",
    "        return np.nan\n",
    "    \n",
    "    if (df[\"ingov12\"] != 1) & (df[\"ingov13\"] != 1):\n",
    "        return \"3unaligned both years12_13\"\n",
    "    \n",
    "    if (df[\"ingov12\"] == 1) & (df[\"ingov13\"] == 1):\n",
    "        return \"2aligned both years12_13\"\n",
    "    \n",
    "    if (df[\"ingov12\"] != 1) & (df[\"ingov13\"] == 1):\n",
    "        return \"1became aligned12_13\"\n",
    "    \n",
    "    if (df[\"ingov12\"] == 1) & (df[\"ingov13\"] != 1):\n",
    "        return \"4stopped being aligned12_13\"\n",
    "    \n",
    "    \n",
    "share_change12_13[\"ingov12\"] = inpower_2012_df.set_index(\"mun_id\").in_gov12\n",
    "share_change12_13[\"ingov13\"] = apaneldf[apaneldf.date == 2013].set_index(\"mun_id\").ingov13.copy()\n",
    "\n",
    "\n",
    "share_change12_13[\"gov_change12_13\"] = share_change12_13.apply(gov_change, axis=1)\n",
    "\n",
    "share_change12_13[\"mun\"] = municipal_codes_df.set_index(\"mun_id\").mun\n",
    "share_change12_13.sort_values(\"norm_percent_change12_13\", ascending=0, inplace=1)\n"
   ]
  },
  {
   "cell_type": "code",
   "execution_count": 13,
   "metadata": {
    "collapsed": false
   },
   "outputs": [],
   "source": [
    "share_change12_13.gov_change12_13 = share_change12_13.gov_change12_13.astype(\"category\")\n",
    "share_change12_13.gov_change12_13.unique().reorder_categories([\"1became aligned12_13\",\"2aligned both years12_13\",\n",
    "                                                     \"3unaligned both years12_13\",\"4stopped being aligned12_13\"], ordered=True)\n",
    "\n",
    "\n",
    "share_change12_13.to_csv(\"./exports/2012_to_2013.csv\")"
   ]
  },
  {
   "cell_type": "markdown",
   "metadata": {},
   "source": [
    "## Within period"
   ]
  },
  {
   "cell_type": "code",
   "execution_count": 14,
   "metadata": {
    "collapsed": false
   },
   "outputs": [],
   "source": [
    "l6income = pd.read_csv(\"./exports/l6income_by_yeardf.csv\")\n",
    "l6income11 = l6income[l6income.year == 2011][[\"mun_id\",\"Transfers from other level of government\",\n",
    "                                              u'Taxes on income, profits and capital gains ']]\n",
    "\n",
    "l6income12 = l6income[l6income.year == 2012][[\"mun_id\",\"Transfers from other level of government\",\n",
    "                                             u'Taxes on income, profits and capital gains ']]\n",
    "\n",
    "l6income13 = l6income[l6income.year == 2013][[\"mun_id\",\"Transfers from other level of government\",\n",
    "                                             u'Taxes on income, profits and capital gains ']]\n"
   ]
  },
  {
   "cell_type": "markdown",
   "metadata": {},
   "source": [
    "##  Alignmentdf and Controls"
   ]
  },
  {
   "cell_type": "code",
   "execution_count": 15,
   "metadata": {
    "collapsed": false
   },
   "outputs": [],
   "source": [
    "# add controls\n",
    "demdf = pd.read_csv(\"./exports/demdf.csv\")\n",
    "controls = demdf[[ 'mun_id', 'mun_type','area_km2','pop_total','labor_pariticpation_rate',\n",
    "                  'wage_2012', 'wage_2011','wage_2013','employment_rate']]\n",
    "\n",
    "# add two prior datasets with changes in gov and share\n",
    "test = share_change.dropna().merge(controls, left_index=1, right_on=\"mun_id\")\n",
    "test = test.merge(share_change12_13.reset_index(), on=\"mun_id\")\n",
    "\n",
    "# add development categories\n",
    "test = test.merge(developmentdf, on=\"mun_id\")\n",
    "\n",
    "# get dummies and for different alignments & constant\n",
    "alignmentdf = pd.get_dummies(test, prefix=\"dummy\", columns=[\"gov_change\",\"gov_change12_13\",'mun_type', 'cat_dev_10']).dropna()\n",
    "alignmentdf[\"constant\"] = 1\n",
    "\n",
    "# add income taxes per capita\n",
    "alignmentdf = alignmentdf.merge(l6income12[[\"mun_id\",'Taxes on income, profits and capital gains ']], on=\"mun_id\")\n",
    "alignmentdf.set_index(\"mun_id\",inplace=1)\n",
    "alignmentdf[\"Tax_Income_per_Capita\"] = alignmentdf['Taxes on income, profits and capital gains '] / alignmentdf.pop_total\n",
    "\n",
    "# add absolute change in transfers\n",
    "alignmentdf['absolute_change_transfers'] = transfers_munyeardf[('income_value',2013)] - transfers_munyeardf[('income_value',2011)]\n",
    "\n",
    "# add log population control option\n",
    "alignmentdf['log_pop_total'] = np.log(alignmentdf['pop_total'])\n",
    "alignmentdf.reset_index(inplace=1)\n",
    "\n",
    "#remove outliers with faulty data (reported 0 transfers when in fact it wasn't 0)\n",
    "alignmentdf.drop(alignmentdf[alignmentdf.mun_x.apply(lambda x: x in [\"Vladimirci\", \"Bojnik\", \"Lebane\", \"Vladicin Han\", \"Grad Beograd\"])].index, inplace=1)\n",
    "share_change.to_csv(\"./exports/changesdf.csv\")\n",
    "\n",
    "# add who was in power in 2012\n",
    "alignmentdf = alignmentdf.merge(inpower_2012_df, how='left', on='mun_id')\n",
    "\n",
    "alignmentdf = alignmentdf[['norm_percent_change',\"norm_percent_change12_13\", 'ingov11', 'ingov12', 'ingov13_x', 'mun', 'opo11', 'opo13',\n",
    "                           'mun_id','wage_2011','wage_2013', \"party_id_12\", \"name_full_12\", \n",
    "                           'pop_total', 'log_pop_total', \n",
    "                           'dummy_1became aligned','dummy_3unaligned both years', 'dummy_4stopped being aligned', 'dummy_2aligned both years',\n",
    "                           'dummy_1became aligned12_13','dummy_3unaligned both years12_13', 'dummy_4stopped being aligned12_13', 'dummy_2aligned both years12_13',\n",
    "                           \"dummy_one\", \"dummy_two\", \"dummy_four\", \"dummy_devastated\",\n",
    "                           \"Tax_Income_per_Capita\",'area_km2','wage_2012',\"constant\",\n",
    "                           'employment_rate','labor_pariticpation_rate','dummy_city','dummy_normal','absolute_change_transfers']]\n",
    "\n",
    "alignmentdf.set_index(\"mun_id\").to_csv(\"./exports/regressions/alignmentchangevsnormpercentchange.csv\")"
   ]
  },
  {
   "cell_type": "code",
   "execution_count": 16,
   "metadata": {
    "collapsed": false
   },
   "outputs": [],
   "source": [
    "share_change.to_csv(\"./exports/changesdf.csv\")"
   ]
  },
  {
   "cell_type": "markdown",
   "metadata": {},
   "source": [
    "# Regressions"
   ]
  },
  {
   "cell_type": "markdown",
   "metadata": {},
   "source": [
    "## Controls: Log Population\n",
    "\n",
    "We control for log population because of the below relationships:\n",
    "\n",
    "<script type='text/javascript' src='https://public.tableau.com/javascripts/api/viz_v1.js'></script><div class='tableauPlaceholder' style='width: 1004px; height: 869px;'><noscript><a href='#'><img alt='Log Population Relationship ' src='https:&#47;&#47;public.tableau.com&#47;static&#47;images&#47;Co&#47;Controls&#47;LogPopulationRelationship&#47;1_rss.png' style='border: none' /></a></noscript><object class='tableauViz' width='1004' height='869' style='display:none;'><param name='host_url' value='https%3A%2F%2Fpublic.tableau.com%2F' /> <param name='site_root' value='' /><param name='name' value='Controls&#47;LogPopulationRelationship' /><param name='tabs' value='no' /><param name='toolbar' value='yes' /><param name='static_image' value='https:&#47;&#47;public.tableau.com&#47;static&#47;images&#47;Co&#47;Controls&#47;LogPopulationRelationship&#47;1.png' /> <param name='animate_transition' value='yes' /><param name='display_static_image' value='yes' /><param name='display_spinner' value='yes' /><param name='display_overlay' value='yes' /><param name='display_count' value='yes' /><param name='showTabs' value='y' /></object></div>"
   ]
  },
  {
   "cell_type": "code",
   "execution_count": 17,
   "metadata": {
    "collapsed": true
   },
   "outputs": [],
   "source": [
    "#load dataset\n",
    "alignmentdf = pd.read_csv(\"./exports/regressions/alignmentchangevsnormpercentchange.csv\")\n",
    "\n",
    "# include option for normal municipalities only\n",
    "normalonly = alignmentdf[alignmentdf.dummy_normal == 1]\n",
    "\n",
    "# import library for collinearity examination\n",
    "from statsmodels.stats import outliers_influence as oi"
   ]
  },
  {
   "cell_type": "markdown",
   "metadata": {},
   "source": [
    "### Cross Periods"
   ]
  },
  {
   "cell_type": "markdown",
   "metadata": {},
   "source": [
    "#### 2011-2013"
   ]
  },
  {
   "cell_type": "code",
   "execution_count": 48,
   "metadata": {
    "collapsed": false,
    "scrolled": false
   },
   "outputs": [
    {
     "name": "stdout",
     "output_type": "stream",
     "text": [
      "                             OLS Regression Results                            \n",
      "===============================================================================\n",
      "Dep. Variable:     norm_percent_change   R-squared:                       0.569\n",
      "Model:                             OLS   Adj. R-squared:                  0.556\n",
      "Method:                  Least Squares   F-statistic:                     42.65\n",
      "Date:                 Thu, 05 May 2016   Prob (F-statistic):           9.43e-23\n",
      "Time:                         15:35:50   Log-Likelihood:                -689.56\n",
      "No. Observations:                  133   AIC:                             1387.\n",
      "Df Residuals:                      129   BIC:                             1399.\n",
      "Df Model:                            4                                         \n",
      "Covariance Type:             nonrobust                                         \n",
      "================================================================================================\n",
      "                                   coef    std err          t      P>|t|      [95.0% Conf. Int.]\n",
      "------------------------------------------------------------------------------------------------\n",
      "log_pop_total                    4.7862      0.584      8.195      0.000         3.631     5.942\n",
      "dummy_1became aligned            9.5017     11.197      0.849      0.398       -12.652    31.655\n",
      "dummy_3unaligned both years     10.2106     11.357      0.899      0.370       -12.260    32.681\n",
      "dummy_4stopped being aligned    -6.9779      9.132     -0.764      0.446       -25.045    11.089\n",
      "==============================================================================\n",
      "Omnibus:                       15.417   Durbin-Watson:                   0.073\n",
      "Prob(Omnibus):                  0.000   Jarque-Bera (JB):               25.572\n",
      "Skew:                           0.551   Prob(JB):                     2.80e-06\n",
      "Kurtosis:                       4.844   Cond. No.                         35.9\n",
      "==============================================================================\n",
      "\n",
      "Warnings:\n",
      "[1] Standard Errors assume that the covariance matrix of the errors is correctly specified.\n"
     ]
    }
   ],
   "source": [
    "# regression 2011-2013\n",
    "endogenous = \"norm_percent_change\"\n",
    "exogenous = [\"log_pop_total\", \"dummy_1became aligned\", \"dummy_3unaligned both years\", \"dummy_4stopped being aligned\"]\n",
    "\n",
    "\n",
    "\n",
    "align_cross_mod = sm.OLS(normalonly[endogenous],normalonly[exogenous])\n",
    "align_cross_11_13_ols = align_cross_mod.fit()\n",
    "print align_cross_11_13_ols.summary()"
   ]
  },
  {
   "cell_type": "code",
   "execution_count": 49,
   "metadata": {
    "collapsed": false
   },
   "outputs": [
    {
     "name": "stdout",
     "output_type": "stream",
     "text": [
      "log_pop_total: 2.356267195\n",
      "dummy_1became aligned: 1.37471578984\n",
      "dummy_3unaligned both years: 1.32447389187\n",
      "dummy_4stopped being aligned: 1.65707751329\n"
     ]
    }
   ],
   "source": [
    "# we look for the source of colinearity\n",
    "exogenous = [\"log_pop_total\", \"dummy_1became aligned\", \"dummy_3unaligned both years\", \"dummy_4stopped being aligned\"]\n",
    "exog = alignmentdf[exogenous].as_matrix()\n",
    "\n",
    "for i in range(len(exogenous)):\n",
    "    print exogenous[i] + \":\", oi.variance_inflation_factor(exog,i)\n",
    "    i += 1"
   ]
  },
  {
   "cell_type": "code",
   "execution_count": 50,
   "metadata": {
    "collapsed": false,
    "scrolled": true
   },
   "outputs": [
    {
     "name": "stdout",
     "output_type": "stream",
     "text": [
      "                     Robust linear Model Regression Results                    \n",
      "===============================================================================\n",
      "Dep. Variable:     norm_percent_change   No. Observations:                  133\n",
      "Model:                             RLM   Df Residuals:                      129\n",
      "Method:                           IRLS   Df Model:                            3\n",
      "Norm:                           HuberT                                         \n",
      "Scale Est.:                        mad                                         \n",
      "Cov Type:                           H1                                         \n",
      "Date:                 Thu, 05 May 2016                                         \n",
      "Time:                         15:35:50                                         \n",
      "No. Iterations:                      9                                         \n",
      "================================================================================================\n",
      "                                   coef    std err          z      P>|z|      [95.0% Conf. Int.]\n",
      "------------------------------------------------------------------------------------------------\n",
      "log_pop_total                    4.6723      0.511      9.145      0.000         3.671     5.674\n",
      "dummy_1became aligned           11.6818      9.795      1.193      0.233        -7.517    30.881\n",
      "dummy_3unaligned both years      6.5263      9.935      0.657      0.511       -12.947    25.999\n",
      "dummy_4stopped being aligned    -6.2893      7.989     -0.787      0.431       -21.947     9.368\n",
      "================================================================================================\n",
      "\n",
      "If the model instance has been used for another fit with different fit\n",
      "parameters, then the fit options might not be the correct ones anymore .\n"
     ]
    }
   ],
   "source": [
    "# robust regression 2011-2013\n",
    "endogenous = \"norm_percent_change\"\n",
    "exogenous = [\"log_pop_total\", \"dummy_1became aligned\", \"dummy_3unaligned both years\", \"dummy_4stopped being aligned\"]\n",
    "\n",
    "rlm_model = sm.RLM(normalonly[endogenous],normalonly[exogenous], M=sm.robust.norms.HuberT())\n",
    "align_cross_11_13_rlm = rlm_model.fit()\n",
    "print align_cross_11_13_rlm.summary()"
   ]
  },
  {
   "cell_type": "markdown",
   "metadata": {},
   "source": [
    "#### 2012-2013"
   ]
  },
  {
   "cell_type": "code",
   "execution_count": 51,
   "metadata": {
    "collapsed": false,
    "scrolled": false
   },
   "outputs": [
    {
     "name": "stdout",
     "output_type": "stream",
     "text": [
      "                       Robust linear Model Regression Results                       \n",
      "====================================================================================\n",
      "Dep. Variable:     norm_percent_change12_13   No. Observations:                  133\n",
      "Model:                                  RLM   Df Residuals:                      129\n",
      "Method:                                IRLS   Df Model:                            3\n",
      "Norm:                                HuberT                                         \n",
      "Scale Est.:                             mad                                         \n",
      "Cov Type:                                H1                                         \n",
      "Date:                      Thu, 05 May 2016                                         \n",
      "Time:                              15:35:51                                         \n",
      "No. Iterations:                          21                                         \n",
      "=====================================================================================================\n",
      "                                        coef    std err          z      P>|z|      [95.0% Conf. Int.]\n",
      "-----------------------------------------------------------------------------------------------------\n",
      "log_pop_total                         0.0873      0.138      0.630      0.528        -0.184     0.359\n",
      "dummy_1became aligned12_13            3.4485      2.655      1.299      0.194        -1.756     8.653\n",
      "dummy_3unaligned both years12_13      3.9217      2.693      1.456      0.145        -1.357     9.200\n",
      "dummy_4stopped being aligned12_13    -0.0565      2.166     -0.026      0.979        -4.301     4.188\n",
      "=====================================================================================================\n",
      "\n",
      "If the model instance has been used for another fit with different fit\n",
      "parameters, then the fit options might not be the correct ones anymore .\n"
     ]
    }
   ],
   "source": [
    "# regression 2012-2013\n",
    "endogenous = \"norm_percent_change12_13\"\n",
    "exogenous = [\"log_pop_total\", \"dummy_1became aligned12_13\", \"dummy_3unaligned both years12_13\", \"dummy_4stopped being aligned12_13\"]\n",
    "\n",
    "\n",
    "\n",
    "rlm_model = sm.RLM(normalonly[endogenous],normalonly[exogenous], M=sm.robust.norms.HuberT())\n",
    "align_cross_12_13_rlm = rlm_model.fit()\n",
    "print align_cross_12_13_rlm.summary()"
   ]
  },
  {
   "cell_type": "markdown",
   "metadata": {},
   "source": [
    "### Time slice Comparisons"
   ]
  },
  {
   "cell_type": "markdown",
   "metadata": {},
   "source": [
    "#### 2011"
   ]
  },
  {
   "cell_type": "code",
   "execution_count": 52,
   "metadata": {
    "code_folding": [],
    "collapsed": false,
    "scrolled": false
   },
   "outputs": [
    {
     "name": "stdout",
     "output_type": "stream",
     "text": [
      "                       Robust linear Model Regression Results                      \n",
      "===================================================================================\n",
      "Dep. Variable:     Transfers_per_Capita_11   No. Observations:                  136\n",
      "Model:                                 RLM   Df Residuals:                      133\n",
      "Method:                               IRLS   Df Model:                            2\n",
      "Norm:                               HuberT                                         \n",
      "Scale Est.:                            mad                                         \n",
      "Cov Type:                               H1                                         \n",
      "Date:                     Thu, 05 May 2016                                         \n",
      "Time:                             15:35:51                                         \n",
      "No. Iterations:                          9                                         \n",
      "=================================================================================\n",
      "                    coef    std err          z      P>|z|      [95.0% Conf. Int.]\n",
      "---------------------------------------------------------------------------------\n",
      "log_pop_total     6.8228      0.778      8.765      0.000         5.297     8.348\n",
      "dummy_1.0         1.2906      8.811      0.146      0.884       -15.979    18.560\n",
      "dummy_-1.0        9.0125     11.196      0.805      0.421       -12.931    30.956\n",
      "=================================================================================\n",
      "\n",
      "If the model instance has been used for another fit with different fit\n",
      "parameters, then the fit options might not be the correct ones anymore .\n"
     ]
    }
   ],
   "source": [
    "# 2011 regression\n",
    "\n",
    "# create needed dataframe\n",
    "align_in11 = alignmentdf.merge(l6income11, on=\"mun_id\")\n",
    "\n",
    "# get per capita variables\n",
    "align_in11['Transfers_per_Capita_11'] = align_in11['Transfers from other level of government'] / align_in11[u'pop_total']\n",
    "align_in11['income_tax_per_capita'] = align_in11['Taxes on income, profits and capital gains '] / align_in11[u'pop_total']\n",
    "\n",
    "# select necessary subset of dataframe\n",
    "align_in11 = align_in11[[u'Transfers_per_Capita_11', u'opo11', u'area_km2', u'log_pop_total', \n",
    "                     u'labor_pariticpation_rate', 'income_tax_per_capita',\n",
    "                     u'wage_2011', u'employment_rate', u'dummy_city', u'dummy_normal']]\n",
    "\n",
    "# create dummies\n",
    "align_in11 = pd.get_dummies(align_in11, prefix=\"dummy\", columns=[\"opo11\"]).dropna()\n",
    "\n",
    "# run regression\n",
    "endog = \"Transfers_per_Capita_11\"\n",
    "exog =  [\"log_pop_total\",\"dummy_1.0\", \"dummy_-1.0\"]\n",
    "\n",
    "rlm_model = sm.RLM(align_in11[endog],align_in11[exog], M=sm.robust.norms.HuberT())\n",
    "align_11_rlm = rlm_model.fit()\n",
    "print align_11_rlm.summary()"
   ]
  },
  {
   "cell_type": "markdown",
   "metadata": {},
   "source": [
    "This is an odd result. It would be one thing for the opposition to be *not discriminated* against, but there doesn't seem to be any possible theory explaining why the opposition would *favored*. This suggests there is a confounding effect which we are not controlling for. "
   ]
  },
  {
   "cell_type": "markdown",
   "metadata": {},
   "source": [
    "#### 2012"
   ]
  },
  {
   "cell_type": "code",
   "execution_count": 53,
   "metadata": {
    "code_folding": [],
    "collapsed": false,
    "scrolled": false
   },
   "outputs": [
    {
     "name": "stdout",
     "output_type": "stream",
     "text": [
      "                       Robust linear Model Regression Results                      \n",
      "===================================================================================\n",
      "Dep. Variable:     Transfers_per_Capita_12   No. Observations:                  136\n",
      "Model:                                 RLM   Df Residuals:                      134\n",
      "Method:                               IRLS   Df Model:                            1\n",
      "Norm:                               HuberT                                         \n",
      "Scale Est.:                            mad                                         \n",
      "Cov Type:                               H1                                         \n",
      "Date:                     Thu, 05 May 2016                                         \n",
      "Time:                             15:35:51                                         \n",
      "No. Iterations:                         12                                         \n",
      "=================================================================================\n",
      "                    coef    std err          z      P>|z|      [95.0% Conf. Int.]\n",
      "---------------------------------------------------------------------------------\n",
      "log_pop_total    10.4450      1.008     10.359      0.000         8.469    12.421\n",
      "dummy_1.0        -1.3121     12.291     -0.107      0.915       -25.402    22.778\n",
      "=================================================================================\n",
      "\n",
      "If the model instance has been used for another fit with different fit\n",
      "parameters, then the fit options might not be the correct ones anymore .\n"
     ]
    }
   ],
   "source": [
    "# 2012 regression\n",
    "\n",
    "# create needed dataframe\n",
    "align_in12 = alignmentdf.merge(l6income12, on=\"mun_id\")\n",
    "\n",
    "# get per capita variables\n",
    "align_in12['Transfers_per_Capita_12'] = align_in12['Transfers from other level of government'] / align_in12[u'pop_total']\n",
    "align_in12['income_tax_per_capita'] = align_in12['Taxes on income, profits and capital gains '] / align_in12[u'pop_total']\n",
    "\n",
    "# select necessary subset of dataframe\n",
    "align_in12 = align_in12[[u'Transfers_per_Capita_12', u'ingov12', u'area_km2', u'log_pop_total', \n",
    "                     u'labor_pariticpation_rate', 'income_tax_per_capita',\n",
    "                     u'wage_2012', u'employment_rate', u'dummy_city', u'dummy_normal']]\n",
    "\n",
    "# create dummies\n",
    "align_in12 = pd.get_dummies(align_in12, prefix=\"dummy\", columns=[\"ingov12\"]).dropna()\n",
    "\n",
    "# run regression\n",
    "endog = \"Transfers_per_Capita_12\"\n",
    "exog =  [\"log_pop_total\",\"dummy_1.0\"]\n",
    "\n",
    "rlm_model = sm.RLM(align_in12[endog],align_in12[exog], M=sm.robust.norms.HuberT())\n",
    "align_12_rlm = rlm_model.fit()\n",
    "print align_12_rlm.summary()"
   ]
  },
  {
   "cell_type": "markdown",
   "metadata": {},
   "source": [
    "#### 2013"
   ]
  },
  {
   "cell_type": "code",
   "execution_count": 54,
   "metadata": {
    "code_folding": [],
    "collapsed": false,
    "scrolled": true
   },
   "outputs": [
    {
     "name": "stdout",
     "output_type": "stream",
     "text": [
      "                       Robust linear Model Regression Results                      \n",
      "===================================================================================\n",
      "Dep. Variable:     Transfers_per_Capita_13   No. Observations:                  136\n",
      "Model:                                 RLM   Df Residuals:                      133\n",
      "Method:                               IRLS   Df Model:                            2\n",
      "Norm:                               HuberT                                         \n",
      "Scale Est.:                            mad                                         \n",
      "Cov Type:                               H1                                         \n",
      "Date:                     Thu, 05 May 2016                                         \n",
      "Time:                             15:35:51                                         \n",
      "No. Iterations:                         10                                         \n",
      "=================================================================================\n",
      "                    coef    std err          z      P>|z|      [95.0% Conf. Int.]\n",
      "---------------------------------------------------------------------------------\n",
      "log_pop_total     9.5785      1.365      7.018      0.000         6.903    12.254\n",
      "dummy_1.0        11.7794     15.834      0.744      0.457       -19.255    42.814\n",
      "dummy_-1.0        2.5138     17.488      0.144      0.886       -31.762    36.789\n",
      "=================================================================================\n",
      "\n",
      "If the model instance has been used for another fit with different fit\n",
      "parameters, then the fit options might not be the correct ones anymore .\n"
     ]
    }
   ],
   "source": [
    "#2013 regression\n",
    "\n",
    "# create needed dataframe\n",
    "align_in13 = alignmentdf.merge(l6income13, on=\"mun_id\")\n",
    "\n",
    "# get per capita variables\n",
    "align_in13['Transfers_per_Capita_13'] = align_in13['Transfers from other level of government'] / align_in13[u'pop_total']\n",
    "align_in13['income_tax_per_capita'] = align_in13['Taxes on income, profits and capital gains '] / align_in13[u'pop_total']\n",
    "\n",
    "# select necessary subset of dataframe\n",
    "align_in13 = align_in13[[u'Transfers_per_Capita_13', u'opo13', u'area_km2', u'log_pop_total', \n",
    "                     u'labor_pariticpation_rate', 'income_tax_per_capita',\n",
    "                     u'wage_2013', u'employment_rate', u'dummy_city', u'dummy_normal']]\n",
    "\n",
    "# create dummies\n",
    "align_in13 = pd.get_dummies(align_in13, prefix=\"dummy\", columns=[\"opo13\"]).dropna()\n",
    "\n",
    "# run regression\n",
    "endog = \"Transfers_per_Capita_13\"\n",
    "exog =  [\"log_pop_total\",\"dummy_1.0\", \"dummy_-1.0\"]\n",
    "\n",
    "rlm_model = sm.RLM(align_in13[endog],align_in13[exog], M=sm.robust.norms.HuberT())\n",
    "align_13_rlm = rlm_model.fit()\n",
    "print align_13_rlm.summary()"
   ]
  },
  {
   "cell_type": "markdown",
   "metadata": {},
   "source": [
    "## Controls: Log Population + Development Category\n",
    "\n",
    "We include controls now for development category of the municipality. Development categories are one of the crucial determinants of levels of transfers to a municipality. As such, we try to improve our controls using them. \n",
    "\n",
    "<script type='text/javascript' src='https://public.tableau.com/javascripts/api/viz_v1.js'></script><div class='tableauPlaceholder' style='width: 1004px; height: 869px;'><noscript><a href='#'><img alt='Development Categories Relationship ' src='https:&#47;&#47;public.tableau.com&#47;static&#47;images&#47;Co&#47;Controls&#47;DevelopmentCategoriesRelationship&#47;1_rss.png' style='border: none' /></a></noscript><object class='tableauViz' width='1004' height='869' style='display:none;'><param name='host_url' value='https%3A%2F%2Fpublic.tableau.com%2F' /> <param name='site_root' value='' /><param name='name' value='Controls&#47;DevelopmentCategoriesRelationship' /><param name='tabs' value='no' /><param name='toolbar' value='yes' /><param name='static_image' value='https:&#47;&#47;public.tableau.com&#47;static&#47;images&#47;Co&#47;Controls&#47;DevelopmentCategoriesRelationship&#47;1.png' /> <param name='animate_transition' value='yes' /><param name='display_static_image' value='yes' /><param name='display_spinner' value='yes' /><param name='display_overlay' value='yes' /><param name='display_count' value='yes' /><param name='showTabs' value='y' /></object></div>"
   ]
  },
  {
   "cell_type": "markdown",
   "metadata": {},
   "source": [
    "### Cross Periods"
   ]
  },
  {
   "cell_type": "markdown",
   "metadata": {},
   "source": [
    "#### 2011-2013''"
   ]
  },
  {
   "cell_type": "code",
   "execution_count": 55,
   "metadata": {
    "collapsed": false,
    "scrolled": false
   },
   "outputs": [
    {
     "name": "stdout",
     "output_type": "stream",
     "text": [
      "                     Robust linear Model Regression Results                    \n",
      "===============================================================================\n",
      "Dep. Variable:     norm_percent_change   No. Observations:                  133\n",
      "Model:                             RLM   Df Residuals:                      125\n",
      "Method:                           IRLS   Df Model:                            7\n",
      "Norm:                           HuberT                                         \n",
      "Scale Est.:                        mad                                         \n",
      "Cov Type:                           H1                                         \n",
      "Date:                 Thu, 05 May 2016                                         \n",
      "Time:                         15:35:52                                         \n",
      "No. Iterations:                     15                                         \n",
      "================================================================================================\n",
      "                                   coef    std err          z      P>|z|      [95.0% Conf. Int.]\n",
      "------------------------------------------------------------------------------------------------\n",
      "log_pop_total                    4.8546      0.582      8.345      0.000         3.714     5.995\n",
      "dummy_one                      -35.0562      7.373     -4.755      0.000       -49.507   -20.605\n",
      "dummy_two                       -2.0150      8.270     -0.244      0.808       -18.224    14.194\n",
      "dummy_four                      16.7764     12.243      1.370      0.171        -7.220    40.773\n",
      "dummy_devastated                27.2646      6.890      3.957      0.000        13.761    40.769\n",
      "dummy_1became aligned            6.8482      7.594      0.902      0.367        -8.035    21.731\n",
      "dummy_3unaligned both years      2.4095      7.773      0.310      0.757       -12.826    17.645\n",
      "dummy_4stopped being aligned    -3.6614      6.219     -0.589      0.556       -15.851     8.528\n",
      "================================================================================================\n",
      "\n",
      "If the model instance has been used for another fit with different fit\n",
      "parameters, then the fit options might not be the correct ones anymore .\n"
     ]
    }
   ],
   "source": [
    "# regression 2011-2013\n",
    "endogenous = \"norm_percent_change\"\n",
    "exogenous = [\"log_pop_total\",\"dummy_one\", \"dummy_two\", \"dummy_four\", \"dummy_devastated\", \n",
    "             \"dummy_1became aligned\", \"dummy_3unaligned both years\", \"dummy_4stopped being aligned\"]\n",
    "\n",
    "\n",
    "\n",
    "rlm_model = sm.RLM(normalonly[endogenous],normalonly[exogenous], M=sm.robust.norms.HuberT())\n",
    "align_cross_11_13_rlm_cntrls = rlm_model.fit()\n",
    "print align_cross_11_13_rlm_cntrls.summary()"
   ]
  },
  {
   "cell_type": "markdown",
   "metadata": {},
   "source": [
    "#### 2012-2013''"
   ]
  },
  {
   "cell_type": "code",
   "execution_count": 56,
   "metadata": {
    "collapsed": false,
    "scrolled": false
   },
   "outputs": [
    {
     "name": "stdout",
     "output_type": "stream",
     "text": [
      "                       Robust linear Model Regression Results                       \n",
      "====================================================================================\n",
      "Dep. Variable:     norm_percent_change12_13   No. Observations:                  133\n",
      "Model:                                  RLM   Df Residuals:                      125\n",
      "Method:                                IRLS   Df Model:                            7\n",
      "Norm:                                HuberT                                         \n",
      "Scale Est.:                             mad                                         \n",
      "Cov Type:                                H1                                         \n",
      "Date:                      Thu, 05 May 2016                                         \n",
      "Time:                              15:35:52                                         \n",
      "No. Iterations:                          19                                         \n",
      "=====================================================================================================\n",
      "                                        coef    std err          z      P>|z|      [95.0% Conf. Int.]\n",
      "-----------------------------------------------------------------------------------------------------\n",
      "log_pop_total                         0.2339      0.212      1.104      0.270        -0.182     0.649\n",
      "dummy_one                            -3.5330      2.687     -1.315      0.189        -8.799     1.733\n",
      "dummy_two                             1.4141      3.014      0.469      0.639        -4.492     7.320\n",
      "dummy_four                            1.8326      4.461      0.411      0.681        -6.911    10.576\n",
      "dummy_devastated                     -2.1982      2.511     -0.876      0.381        -7.119     2.722\n",
      "dummy_1became aligned12_13            3.4460      2.767      1.245      0.213        -1.977     8.869\n",
      "dummy_3unaligned both years12_13      4.1813      2.833      1.476      0.140        -1.370     9.733\n",
      "dummy_4stopped being aligned12_13    -1.1035      2.266     -0.487      0.626        -5.545     3.338\n",
      "=====================================================================================================\n",
      "\n",
      "If the model instance has been used for another fit with different fit\n",
      "parameters, then the fit options might not be the correct ones anymore .\n"
     ]
    }
   ],
   "source": [
    "# regression 2012-2013\n",
    "endogenous = \"norm_percent_change12_13\"\n",
    "exogenous = [\"log_pop_total\", \"dummy_one\", \"dummy_two\", \"dummy_four\", \"dummy_devastated\", \n",
    "             \"dummy_1became aligned12_13\", \"dummy_3unaligned both years12_13\", \"dummy_4stopped being aligned12_13\"]\n",
    "\n",
    "\n",
    "\n",
    "rlm_model = sm.RLM(normalonly[endogenous],normalonly[exogenous], M=sm.robust.norms.HuberT())\n",
    "align_cross_12_13_rlm_cntrls = rlm_model.fit()\n",
    "print align_cross_12_13_rlm_cntrls.summary()"
   ]
  },
  {
   "cell_type": "markdown",
   "metadata": {},
   "source": [
    "### Time slice Comparisons"
   ]
  },
  {
   "cell_type": "markdown",
   "metadata": {},
   "source": [
    "#### 2011''"
   ]
  },
  {
   "cell_type": "code",
   "execution_count": 57,
   "metadata": {
    "code_folding": [],
    "collapsed": false,
    "scrolled": false
   },
   "outputs": [
    {
     "name": "stdout",
     "output_type": "stream",
     "text": [
      "                       Robust linear Model Regression Results                      \n",
      "===================================================================================\n",
      "Dep. Variable:     Transfers_per_Capita_11   No. Observations:                  136\n",
      "Model:                                 RLM   Df Residuals:                      129\n",
      "Method:                               IRLS   Df Model:                            6\n",
      "Norm:                               HuberT                                         \n",
      "Scale Est.:                            mad                                         \n",
      "Cov Type:                               H1                                         \n",
      "Date:                     Thu, 05 May 2016                                         \n",
      "Time:                             15:35:52                                         \n",
      "No. Iterations:                         16                                         \n",
      "====================================================================================\n",
      "                       coef    std err          z      P>|z|      [95.0% Conf. Int.]\n",
      "------------------------------------------------------------------------------------\n",
      "log_pop_total        6.8635      0.578     11.870      0.000         5.730     7.997\n",
      "dummy_one          -26.5544      5.631     -4.716      0.000       -37.591   -15.518\n",
      "dummy_two           -8.9678      6.254     -1.434      0.152       -21.225     3.289\n",
      "dummy_four          15.1752      9.439      1.608      0.108        -3.324    33.675\n",
      "dummy_devastated    46.2021      5.299      8.719      0.000        35.816    56.588\n",
      "dummy_1.0           -0.7340      5.465     -0.134      0.893       -11.446     9.978\n",
      "dummy_-1.0          -3.9340      6.888     -0.571      0.568       -17.435     9.567\n",
      "====================================================================================\n",
      "\n",
      "If the model instance has been used for another fit with different fit\n",
      "parameters, then the fit options might not be the correct ones anymore .\n"
     ]
    }
   ],
   "source": [
    "# 2011 regression\n",
    "\n",
    "# create needed dataframe\n",
    "align_in11 = alignmentdf.merge(l6income11, on=\"mun_id\")\n",
    "\n",
    "# get per capita variables\n",
    "align_in11['Transfers_per_Capita_11'] = align_in11['Transfers from other level of government'] / align_in11[u'pop_total']\n",
    "align_in11['income_tax_per_capita'] = align_in11['Taxes on income, profits and capital gains '] / align_in11[u'pop_total']\n",
    "\n",
    "# select necessary subset of dataframe\n",
    "align_in11 = align_in11[[u'Transfers_per_Capita_11', u'opo11', u'area_km2', u'log_pop_total', \n",
    "                     u'labor_pariticpation_rate', 'income_tax_per_capita',\n",
    "                         \"dummy_one\", \"dummy_two\", \"dummy_four\", \"dummy_devastated\", \n",
    "                     u'wage_2011', u'employment_rate', u'dummy_city', u'dummy_normal']]\n",
    "\n",
    "# create dummies\n",
    "align_in11 = pd.get_dummies(align_in11, prefix=\"dummy\", columns=[\"opo11\"]).dropna()\n",
    "\n",
    "# run regression\n",
    "endog = \"Transfers_per_Capita_11\"\n",
    "exog =  [\"log_pop_total\",\n",
    "         \"dummy_one\", \"dummy_two\", \"dummy_four\", \"dummy_devastated\", \n",
    "         \"dummy_1.0\", \"dummy_-1.0\"]\n",
    "\n",
    "rlm_model = sm.RLM(align_in11[endog],align_in11[exog], M=sm.robust.norms.HuberT())\n",
    "align_11_rlm_cntrls = rlm_model.fit()\n",
    "print align_11_rlm_cntrls.summary()"
   ]
  },
  {
   "cell_type": "markdown",
   "metadata": {},
   "source": [
    "We see that including controls makes it such that the incumbent parties are no longer at a disadvantage... Excellent. "
   ]
  },
  {
   "cell_type": "markdown",
   "metadata": {},
   "source": [
    "#### 2012''"
   ]
  },
  {
   "cell_type": "code",
   "execution_count": 106,
   "metadata": {
    "code_folding": [],
    "collapsed": false,
    "scrolled": false
   },
   "outputs": [
    {
     "name": "stdout",
     "output_type": "stream",
     "text": [
      "                       Robust linear Model Regression Results                      \n",
      "===================================================================================\n",
      "Dep. Variable:     Transfers_per_Capita_12   No. Observations:                  136\n",
      "Model:                                 RLM   Df Residuals:                      130\n",
      "Method:                               IRLS   Df Model:                            5\n",
      "Norm:                               HuberT                                         \n",
      "Scale Est.:                            mad                                         \n",
      "Cov Type:                               H1                                         \n",
      "Date:                     Thu, 05 May 2016                                         \n",
      "Time:                             16:27:25                                         \n",
      "No. Iterations:                         15                                         \n",
      "====================================================================================\n",
      "                       coef    std err          z      P>|z|      [95.0% Conf. Int.]\n",
      "------------------------------------------------------------------------------------\n",
      "log_pop_total        9.7218      0.767     12.683      0.000         8.219    11.224\n",
      "dummy_one          -52.0567      8.897     -5.851      0.000       -69.494   -34.619\n",
      "dummy_two          -23.0334      9.882     -2.331      0.020       -42.401    -3.666\n",
      "dummy_four          29.9803     14.916      2.010      0.044         0.745    59.215\n",
      "dummy_devastated    86.7240      8.329     10.412      0.000        70.399   103.049\n",
      "dummy_1.0            4.9398      6.909      0.715      0.475        -8.602    18.482\n",
      "====================================================================================\n",
      "\n",
      "If the model instance has been used for another fit with different fit\n",
      "parameters, then the fit options might not be the correct ones anymore .\n"
     ]
    }
   ],
   "source": [
    "# 2012 regression\n",
    "\n",
    "# create needed dataframe\n",
    "align_in12 = alignmentdf.merge(l6income12, on=\"mun_id\")\n",
    "\n",
    "# get per capita variables\n",
    "align_in12['Transfers_per_Capita_12'] = align_in12['Transfers from other level of government'] / align_in12[u'pop_total']\n",
    "align_in12['income_tax_per_capita'] = align_in12['Taxes on income, profits and capital gains '] / align_in12[u'pop_total']\n",
    "\n",
    "# select necessary subset of dataframe\n",
    "align_in12 = align_in12[[u'Transfers_per_Capita_12', u'ingov12', u'area_km2', u'log_pop_total', \n",
    "                     u'labor_pariticpation_rate', 'income_tax_per_capita',\n",
    "                          \"dummy_one\", \"dummy_two\", \"dummy_four\", \"dummy_devastated\",                         \n",
    "                     u'wage_2012', u'employment_rate', u'dummy_city', u'dummy_normal']]\n",
    "\n",
    "# create dummies\n",
    "align_in12 = pd.get_dummies(align_in12, prefix=\"dummy\", columns=[\"ingov12\"]).dropna()\n",
    "\n",
    "# run regression\n",
    "endog = \"Transfers_per_Capita_12\"\n",
    "exog =  [\"log_pop_total\",\n",
    "        \"dummy_one\", \"dummy_two\", \"dummy_four\", \"dummy_devastated\", \n",
    "         \"dummy_1.0\"]\n",
    "\n",
    "rlm_model = sm.RLM(align_in12[endog],align_in12[exog], M=sm.robust.norms.HuberT())\n",
    "align_12_rlm_cntrls = rlm_model.fit()\n",
    "print align_12_rlm_cntrls.summary()"
   ]
  },
  {
   "cell_type": "markdown",
   "metadata": {},
   "source": [
    "#### 2013'''"
   ]
  },
  {
   "cell_type": "code",
   "execution_count": 110,
   "metadata": {
    "code_folding": [],
    "collapsed": false,
    "scrolled": false
   },
   "outputs": [
    {
     "name": "stdout",
     "output_type": "stream",
     "text": [
      "                       Robust linear Model Regression Results                      \n",
      "===================================================================================\n",
      "Dep. Variable:     Transfers_per_Capita_13   No. Observations:                  136\n",
      "Model:                                 RLM   Df Residuals:                      129\n",
      "Method:                               IRLS   Df Model:                            6\n",
      "Norm:                               HuberT                                         \n",
      "Scale Est.:                            mad                                         \n",
      "Cov Type:                               H1                                         \n",
      "Date:                     Thu, 05 May 2016                                         \n",
      "Time:                             16:28:47                                         \n",
      "No. Iterations:                         13                                         \n",
      "====================================================================================\n",
      "                       coef    std err          z      P>|z|      [95.0% Conf. Int.]\n",
      "------------------------------------------------------------------------------------\n",
      "log_pop_total        9.8520      0.916     10.756      0.000         8.057    11.647\n",
      "dummy_one          -54.5517      8.803     -6.197      0.000       -71.805   -37.298\n",
      "dummy_two          -21.5172      9.791     -2.198      0.028       -40.707    -2.328\n",
      "dummy_four          34.2087     14.721      2.324      0.020         5.357    63.060\n",
      "dummy_devastated    88.0363      8.264     10.653      0.000        71.840   104.233\n",
      "dummy_1.0            1.4303      8.698      0.164      0.869       -15.618    18.478\n",
      "dummy_-1.0          10.4475      9.843      1.061      0.289        -8.844    29.739\n",
      "====================================================================================\n",
      "\n",
      "If the model instance has been used for another fit with different fit\n",
      "parameters, then the fit options might not be the correct ones anymore .\n"
     ]
    }
   ],
   "source": [
    "#2013 regression\n",
    "\n",
    "# create needed dataframe\n",
    "align_in13 = alignmentdf.merge(l6income13, on=\"mun_id\")\n",
    "\n",
    "# get per capita variables\n",
    "align_in13['Transfers_per_Capita_13'] = align_in13['Transfers from other level of government'] / align_in13[u'pop_total']\n",
    "align_in13['income_tax_per_capita'] = align_in13['Taxes on income, profits and capital gains '] / align_in13[u'pop_total']\n",
    "\n",
    "# select necessary subset of dataframe\n",
    "align_in13 = align_in13[[u'Transfers_per_Capita_13', u'opo13', u'area_km2', u'log_pop_total', \n",
    "                     u'labor_pariticpation_rate', 'income_tax_per_capita',\n",
    "                        \"dummy_one\", \"dummy_two\", \"dummy_four\", \"dummy_devastated\",\n",
    "                     u'wage_2013', u'employment_rate', u'dummy_city', u'dummy_normal']]\n",
    "\n",
    "# create dummies\n",
    "align_in13 = pd.get_dummies(align_in13, prefix=\"dummy\", columns=[\"opo13\"]).dropna()\n",
    "\n",
    "# run regression\n",
    "endog = \"Transfers_per_Capita_13\"\n",
    "exog =  [\"log_pop_total\",\n",
    "         \"dummy_one\", \"dummy_two\", \"dummy_four\", \"dummy_devastated\", \n",
    "         \"dummy_1.0\",\"dummy_-1.0\" ]\n",
    "\n",
    "rlm_model = sm.RLM(align_in13[endog],align_in13[exog], M=sm.robust.norms.HuberT())\n",
    "align_13_rlm_cntrls = rlm_model.fit()\n",
    "print align_13_rlm_cntrls.summary()"
   ]
  },
  {
   "cell_type": "markdown",
   "metadata": {},
   "source": [
    "## Summary"
   ]
  },
  {
   "cell_type": "code",
   "execution_count": 139,
   "metadata": {
    "collapsed": false,
    "scrolled": false
   },
   "outputs": [
    {
     "name": "stdout",
     "output_type": "stream",
     "text": [
      "\\begin{tabular}{lllll}\n",
      "\\toprule\n",
      "{} & norm\\_percent\\_change I & norm\\_percent\\_change II & norm\\_percent\\_change12\\_13 I & norm\\_percent\\_change12\\_13 II \\\\\n",
      "\\midrule\n",
      "dummy\\_1became aligned             &               11.6818 &                 6.8482 &                            &                             \\\\\n",
      "                                  &              (9.7955) &               (7.5936) &                            &                             \\\\\n",
      "dummy\\_1became aligned12\\_13        &                       &                        &                     3.4485 &                      3.4460 \\\\\n",
      "                                  &                       &                        &                   (2.6553) &                    (2.7670) \\\\\n",
      "dummy\\_3unaligned both years       &                6.5263 &                 2.4095 &                            &                             \\\\\n",
      "                                  &              (9.9355) &               (7.7735) &                            &                             \\\\\n",
      "dummy\\_3unaligned both years12\\_13  &                       &                        &                     3.9217 &                      4.1813 \\\\\n",
      "                                  &                       &                        &                   (2.6932) &                    (2.8325) \\\\\n",
      "dummy\\_4stopped being aligned      &               -6.2893 &                -3.6614 &                            &                             \\\\\n",
      "                                  &              (7.9886) &               (6.2192) &                            &                             \\\\\n",
      "dummy\\_4stopped being aligned12\\_13 &                       &                        &                    -0.0565 &                     -1.1035 \\\\\n",
      "                                  &                       &                        &                   (2.1655) &                    (2.2662) \\\\\n",
      "dummy\\_devastated                  &                       &             27.2646*** &                            &                     -2.1982 \\\\\n",
      "                                  &                       &               (6.8900) &                            &                    (2.5106) \\\\\n",
      "dummy\\_four                        &                       &                16.7764 &                            &                      1.8326 \\\\\n",
      "                                  &                       &              (12.2433) &                            &                    (4.4612) \\\\\n",
      "dummy\\_one                         &                       &            -35.0562*** &                            &                     -3.5330 \\\\\n",
      "                                  &                       &               (7.3732) &                            &                    (2.6867) \\\\\n",
      "dummy\\_two                         &                       &                -2.0150 &                            &                      1.4141 \\\\\n",
      "                                  &                       &               (8.2702) &                            &                    (3.0135) \\\\\n",
      "log\\_pop\\_total                     &             4.6723*** &              4.8546*** &                     0.0873 &                      0.2339 \\\\\n",
      "                                  &              (0.5109) &               (0.5817) &                   (0.1385) &                    (0.2120) \\\\\n",
      "N                                 &               133.000 &                133.000 &                    133.000 &                     133.000 \\\\\n",
      "\\bottomrule\n",
      "\\end{tabular}\n",
      "\n"
     ]
    }
   ],
   "source": [
    "from statsmodels.iolib.summary2 import summary_col\n",
    "cross = [align_cross_11_13_rlm, align_cross_11_13_rlm_cntrls,\n",
    "         align_cross_12_13_rlm, align_cross_12_13_rlm_cntrls]\n",
    "\n",
    "summary_cross = summary_col(cross, stars=True, info_dict = {\"N\": lambda x: x.nobs})  \n",
    "print summary_cross.tables[0].to_latex()"
   ]
  },
  {
   "cell_type": "code",
   "execution_count": 138,
   "metadata": {
    "collapsed": false
   },
   "outputs": [
    {
     "name": "stdout",
     "output_type": "stream",
     "text": [
      "\\begin{table}\n",
      "\\caption{}\n",
      "\\begin{center}\n",
      "\\begin{tabular}{lcccccc}\n",
      "\\hline\n",
      "                 & transpc 2011 & transpc 2011 + controls & transpc 2012 & transpc 2012 + controls & transpc 2013 & transpc 2013 + controls  \\\\\n",
      "\\hline\n",
      "\\hline\n",
      "\\end{tabular}\n",
      "\\begin{tabular}{lllllll}\n",
      "dummy_-1.0       & 9.0125       & -3.9340                 &              &                         & 2.5138       & 10.4475                  \\\\\n",
      "                 & (11.1961)    & (6.8882)                &              &                         & (17.4878)    & (9.8430)                 \\\\\n",
      "dummy_1.0        & 1.2906       & -0.7340                 & -1.3121      & 4.9398                  & 11.7794      & 1.4303                   \\\\\n",
      "                 & (8.8113)     & (5.4652)                & (12.2912)    & (6.9093)                & (15.8344)    & (8.6981)                 \\\\\n",
      "log_pop_total    & 6.8228***    & 6.8635***               & 10.4450***   & 9.7218***               & 9.5785***    & 9.8520***                \\\\\n",
      "                 & (0.7784)     & (0.5782)                & (1.0083)     & (0.7665)                & (1.3649)     & (0.9160)                 \\\\\n",
      "dummy_one        &              & -26.5544***             &              & -52.0567***             &              & -54.5517***              \\\\\n",
      "                 &              & (5.6309)                &              & (8.8968)                &              & (8.8031)                 \\\\\n",
      "dummy_two        &              & -8.9678                 &              & -23.0334**              &              & -21.5172**               \\\\\n",
      "                 &              & (6.2535)                &              & (9.8816)                &              & (9.7907)                 \\\\\n",
      "dummy_four       &              & 15.1752                 &              & 29.9803**               &              & 34.2087**                \\\\\n",
      "                 &              & (9.4386)                &              & (14.9162)               &              & (14.7206)                \\\\\n",
      "dummy_devastated &              & 46.2021***              &              & 86.7240***              &              & 88.0363***               \\\\\n",
      "                 &              & (5.2990)                &              & (8.3290)                &              & (8.2636)                 \\\\\n",
      "N                & 136.0000     & 136.0000                & 136.0000     & 136.0000                & 136.0000     & 136.0000                 \\\\\n",
      "\\hline\n",
      "\\end{tabular}\n",
      "\\end{center}\n",
      "\\end{table} \n",
      "\n",
      "\n",
      "\\begin{tabular}{lllllll}\n",
      "\\toprule\n",
      "{} & transpc 2011 & transpc 2011 + controls & transpc 2012 & transpc 2012 + controls & transpc 2013 & transpc 2013 + controls \\\\\n",
      "\\midrule\n",
      "dummy\\_-1.0       &       9.0125 &                 -3.9340 &              &                         &       2.5138 &                 10.4475 \\\\\n",
      "                 &    (11.1961) &                (6.8882) &              &                         &    (17.4878) &                (9.8430) \\\\\n",
      "dummy\\_1.0        &       1.2906 &                 -0.7340 &      -1.3121 &                  4.9398 &      11.7794 &                  1.4303 \\\\\n",
      "                 &     (8.8113) &                (5.4652) &    (12.2912) &                (6.9093) &    (15.8344) &                (8.6981) \\\\\n",
      "log\\_pop\\_total    &    6.8228*** &               6.8635*** &   10.4450*** &               9.7218*** &    9.5785*** &               9.8520*** \\\\\n",
      "                 &     (0.7784) &                (0.5782) &     (1.0083) &                (0.7665) &     (1.3649) &                (0.9160) \\\\\n",
      "dummy\\_one        &              &             -26.5544*** &              &             -52.0567*** &              &             -54.5517*** \\\\\n",
      "                 &              &                (5.6309) &              &                (8.8968) &              &                (8.8031) \\\\\n",
      "dummy\\_two        &              &                 -8.9678 &              &              -23.0334** &              &              -21.5172** \\\\\n",
      "                 &              &                (6.2535) &              &                (9.8816) &              &                (9.7907) \\\\\n",
      "dummy\\_four       &              &                 15.1752 &              &               29.9803** &              &               34.2087** \\\\\n",
      "                 &              &                (9.4386) &              &               (14.9162) &              &               (14.7206) \\\\\n",
      "dummy\\_devastated &              &              46.2021*** &              &              86.7240*** &              &              88.0363*** \\\\\n",
      "                 &              &                (5.2990) &              &                (8.3290) &              &                (8.2636) \\\\\n",
      "N                &      136.000 &                 136.000 &      136.000 &                 136.000 &      136.000 &                 136.000 \\\\\n",
      "\\bottomrule\n",
      "\\end{tabular}\n",
      "\n"
     ]
    }
   ],
   "source": [
    "slice_ = [align_11_rlm,  align_11_rlm_cntrls, align_12_rlm, align_12_rlm_cntrls, align_13_rlm,  align_13_rlm_cntrls]\n",
    "\n",
    "summary_slice = summary_col(slice_, stars=True, info_dict = {\"N\": lambda x: x.nobs}, \n",
    "                            model_names = ['transpc 2011','transpc 2011 + controls','transpc 2012',\n",
    "                                           'transpc 2012 + controls', 'transpc 2013','transpc 2013 + controls'],\n",
    "                           regressor_order=[\"dummy_-1.0\", \"dummy_1.0\", \"log_pop_total\", \"dummy_one\", \"dummy_two\",\"dummy_four\", \"dummy_devastated\"])  \n",
    "summary_slice.add_text(\"NOTE: As you can see, bla bla bla bla bla\")\n",
    "print summary_slice.as_latex(), '\\n\\n'\n",
    "print summary_slice.tables[0].to_latex()"
   ]
  },
  {
   "cell_type": "code",
   "execution_count": 130,
   "metadata": {
    "collapsed": true
   },
   "outputs": [],
   "source": []
  },
  {
   "cell_type": "code",
   "execution_count": null,
   "metadata": {
    "collapsed": true
   },
   "outputs": [],
   "source": []
  }
 ],
 "metadata": {
  "kernelspec": {
   "display_name": "Python 2",
   "language": "python",
   "name": "python2"
  },
  "language_info": {
   "codemirror_mode": {
    "name": "ipython",
    "version": 2
   },
   "file_extension": ".py",
   "mimetype": "text/x-python",
   "name": "python",
   "nbconvert_exporter": "python",
   "pygments_lexer": "ipython2",
   "version": "2.7.11"
  }
 },
 "nbformat": 4,
 "nbformat_minor": 0
}
