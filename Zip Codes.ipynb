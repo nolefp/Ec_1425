{
 "cells": [
  {
   "cell_type": "code",
   "execution_count": 1,
   "metadata": {
    "collapsed": false,
    "scrolled": false
   },
   "outputs": [
    {
     "name": "stderr",
     "output_type": "stream",
     "text": [
      "C:\\Users\\nolefp\\Anaconda\\lib\\site-packages\\matplotlib\\__init__.py:872: UserWarning: axes.color_cycle is deprecated and replaced with axes.prop_cycle; please use the latter.\n",
      "  warnings.warn(self.msg_depr % (key, alt_key))\n"
     ]
    }
   ],
   "source": [
    "%matplotlib inline\n",
    "import numpy as np\n",
    "import scipy as sp\n",
    "import statsmodels.api as sm\n",
    "import statsmodels.formula.api as smf\n",
    "from statsmodels import discrete\n",
    "\n",
    "import re\n",
    "import pandas as pd\n",
    "import math \n",
    "import csv\n",
    "import time\n",
    "import dateutil\n",
    "from datetime import datetime\n",
    "import seaborn as sns"
   ]
  },
  {
   "cell_type": "code",
   "execution_count": 2,
   "metadata": {
    "collapsed": false,
    "scrolled": true
   },
   "outputs": [],
   "source": [
    "pd.set_option('display.width', 1000)\n",
    "pd.set_option('display.max_columns', 100)\n",
    "pd.set_option('display.notebook_repr_html', True)\n",
    "pd.options.display.float_format = '{:,.2f}'.format\n",
    "sns.set_style(\"whitegrid\")\n",
    "sns.set_context(\"poster\")"
   ]
  },
  {
   "cell_type": "code",
   "execution_count": 3,
   "metadata": {
    "collapsed": false
   },
   "outputs": [],
   "source": [
    "# Matplotlib Formatting\n",
    "import matplotlib as mpl\n",
    "import matplotlib.cm as cm\n",
    "import matplotlib.pyplot as plt\n",
    "from matplotlib import gridspec\n",
    "from matplotlib import ticker\n",
    "\"\"\"\n",
    "mpl.rcParams[\"axes.grid\"]=False\n",
    "mpl.rcParams[\"xtick.major.size\"] = 4\n",
    "mpl.rcParams[\"xtick.minor.size\"] = 2\n",
    "mpl.rcParams[\"xtick.major.width\"] = 0.5 \n",
    "mpl.rcParams[\"xtick.minor.width\"] = 0.5 \n",
    "\n",
    "mpl.rcParams[\"ytick.major.size\"] = 4\n",
    "mpl.rcParams[\"ytick.minor.size\"] = 2\n",
    "mpl.rcParams[\"ytick.major.width\"] = 0.5 \n",
    "mpl.rcParams[\"ytick.minor.width\"] = 0.5 \n",
    "\"\"\"\n",
    "\n",
    "millnames = ['',' Thousand',' Million',' Billion',' Trillion']\n",
    "def millify(n, pos):\n",
    "    n = float(n)\n",
    "    millidx = max(0,min(len(millnames)-1,\n",
    "                        int(math.floor(0 if n == 0 else math.log10(abs(n))/3))))\n",
    "    thingtoreturn = n / 10**(3 * millidx)\n",
    "    if thingtoreturn % 1 == 0:\n",
    "        return '{:.0f}{}'.format(thingtoreturn, millnames[millidx])\n",
    "    elif thingtoreturn % 0.1 == 0:\n",
    "        return '{:.1f}{}'.format(thingtoreturn, millnames[millidx])\n",
    "    else:\n",
    "        return '{:.2f}{}'.format(thingtoreturn, millnames[millidx])"
   ]
  },
  {
   "cell_type": "code",
   "execution_count": 4,
   "metadata": {
    "collapsed": false,
    "scrolled": true
   },
   "outputs": [
    {
     "data": {
      "text/html": [
       "<style>.container {width:50% !important; }</style>"
      ],
      "text/plain": [
       "<IPython.core.display.HTML object>"
      ]
     },
     "execution_count": 4,
     "metadata": {},
     "output_type": "execute_result"
    }
   ],
   "source": [
    "from IPython.core.display import HTML\n",
    "HTML(\"<style>.container {width:50% !important; }</style>\")"
   ]
  },
  {
   "cell_type": "code",
   "execution_count": 33,
   "metadata": {
    "collapsed": false
   },
   "outputs": [],
   "source": [
    "zipcodesdf = pd.read_excel(\"./General Info/zip_codes.xls\", 0)"
   ]
  },
  {
   "cell_type": "code",
   "execution_count": 34,
   "metadata": {
    "collapsed": false,
    "scrolled": true
   },
   "outputs": [],
   "source": [
    "# change column names\n",
    "zipcodesdf.columns = [\"mun_id\",\"mun\",\"place\",\"place_id\",\"zip_name\",\"zip_id\"]\n",
    "\n",
    "# drop unecessary columns\n",
    "zipcodesdf.drop([\"place\",\"zip_name\"], axis=1, inplace=1)\n",
    "\n",
    "# get ride of null zip code entries\n",
    "zipcodesdf = zipcodesdf[zipcodesdf.zip_id.notnull()].copy()\n",
    "\n",
    "# get rid of random zip doe without anything else\n",
    "random = zipcodesdf[zipcodesdf.mun_id.isnull() & zipcodesdf.zip_id.notnull()].index\n",
    "zipcodesdf.drop(random, inplace=1)\n",
    "\n",
    "zipcodesdf = zipcodesdf.dropna()"
   ]
  },
  {
   "cell_type": "code",
   "execution_count": 35,
   "metadata": {
    "collapsed": false,
    "scrolled": true
   },
   "outputs": [
    {
     "name": "stdout",
     "output_type": "stream",
     "text": [
      "<class 'pandas.core.frame.DataFrame'>\n",
      "Int64Index: 1137 entries, 2 to 6351\n",
      "Data columns (total 4 columns):\n",
      "mun_id      1137 non-null int32\n",
      "mun         1137 non-null object\n",
      "place_id    1137 non-null int32\n",
      "zip_id      1137 non-null int32\n",
      "dtypes: int32(3), object(1)\n",
      "memory usage: 31.1+ KB\n"
     ]
    },
    {
     "data": {
      "text/html": [
       "<div>\n",
       "<table border=\"1\" class=\"dataframe\">\n",
       "  <thead>\n",
       "    <tr style=\"text-align: right;\">\n",
       "      <th></th>\n",
       "      <th>mun_id</th>\n",
       "      <th>mun</th>\n",
       "      <th>place_id</th>\n",
       "      <th>zip_id</th>\n",
       "    </tr>\n",
       "  </thead>\n",
       "  <tbody>\n",
       "    <tr>\n",
       "      <th>2</th>\n",
       "      <td>70092</td>\n",
       "      <td>Барајево</td>\n",
       "      <td>703494</td>\n",
       "      <td>11460</td>\n",
       "    </tr>\n",
       "    <tr>\n",
       "      <th>4</th>\n",
       "      <td>70092</td>\n",
       "      <td>Барајево</td>\n",
       "      <td>703516</td>\n",
       "      <td>11461</td>\n",
       "    </tr>\n",
       "    <tr>\n",
       "      <th>5</th>\n",
       "      <td>70092</td>\n",
       "      <td>Барајево</td>\n",
       "      <td>703524</td>\n",
       "      <td>11462</td>\n",
       "    </tr>\n",
       "    <tr>\n",
       "      <th>7</th>\n",
       "      <td>70092</td>\n",
       "      <td>Барајево</td>\n",
       "      <td>703559</td>\n",
       "      <td>11427</td>\n",
       "    </tr>\n",
       "    <tr>\n",
       "      <th>11</th>\n",
       "      <td>70092</td>\n",
       "      <td>Барајево</td>\n",
       "      <td>703591</td>\n",
       "      <td>11426</td>\n",
       "    </tr>\n",
       "  </tbody>\n",
       "</table>\n",
       "</div>"
      ],
      "text/plain": [
       "    mun_id       mun  place_id  zip_id\n",
       "2    70092  Барајево    703494   11460\n",
       "4    70092  Барајево    703516   11461\n",
       "5    70092  Барајево    703524   11462\n",
       "7    70092  Барајево    703559   11427\n",
       "11   70092  Барајево    703591   11426"
      ]
     },
     "execution_count": 35,
     "metadata": {},
     "output_type": "execute_result"
    }
   ],
   "source": [
    "for col in zipcodesdf:\n",
    "    if re.search(\"id\", col):\n",
    "        zipcodesdf[col] = zipcodesdf[col].astype(int)\n",
    "zipcodesdf.info()\n",
    "zipcodesdf.head()"
   ]
  },
  {
   "cell_type": "code",
   "execution_count": 36,
   "metadata": {
    "collapsed": false
   },
   "outputs": [],
   "source": [
    "# save file in exports\n",
    "zipcodesdf.to_excel(\"./exports/zip_codes.xlsx\")"
   ]
  },
  {
   "cell_type": "code",
   "execution_count": 37,
   "metadata": {
    "collapsed": false
   },
   "outputs": [],
   "source": [
    "# get zip code monthly municipal panel\n",
    "mpaneldf = pd.read_csv(\"./exports/mpaneldf.csv\").drop(\"Unnamed: 0\", axis=1)"
   ]
  },
  {
   "cell_type": "code",
   "execution_count": 38,
   "metadata": {
    "collapsed": false
   },
   "outputs": [],
   "source": [
    "# make kostolac align\n",
    "zipcodesdf.loc[zipcodesdf[zipcodesdf[\"zip_id\"] == 12208].index, \n",
    "               \"mun_id\"] = mpaneldf[mpaneldf.mun == \"Kostolac\"].mun_id.values[0]"
   ]
  },
  {
   "cell_type": "markdown",
   "metadata": {},
   "source": [
    "### Possible outer merge results"
   ]
  },
  {
   "cell_type": "code",
   "execution_count": 54,
   "metadata": {
    "collapsed": false
   },
   "outputs": [],
   "source": [
    "# merge datasets\n",
    "mpaneldf_zip = zipcodesdf.merge(mpaneldf, how=\"outer\", on=\"mun_id\")"
   ]
  },
  {
   "cell_type": "code",
   "execution_count": 56,
   "metadata": {
    "collapsed": false
   },
   "outputs": [
    {
     "data": {
      "text/html": [
       "<div>\n",
       "<table border=\"1\" class=\"dataframe\">\n",
       "  <thead>\n",
       "    <tr style=\"text-align: right;\">\n",
       "      <th></th>\n",
       "      <th>mun_id</th>\n",
       "      <th>mun_y</th>\n",
       "      <th>mun_x</th>\n",
       "    </tr>\n",
       "  </thead>\n",
       "  <tbody>\n",
       "    <tr>\n",
       "      <th>0</th>\n",
       "      <td>70,092.00</td>\n",
       "      <td>NaN</td>\n",
       "      <td>Барајево</td>\n",
       "    </tr>\n",
       "    <tr>\n",
       "      <th>5</th>\n",
       "      <td>70,106.00</td>\n",
       "      <td>NaN</td>\n",
       "      <td>Вождовац</td>\n",
       "    </tr>\n",
       "    <tr>\n",
       "      <th>6</th>\n",
       "      <td>70,114.00</td>\n",
       "      <td>NaN</td>\n",
       "      <td>Врачар</td>\n",
       "    </tr>\n",
       "    <tr>\n",
       "      <th>7</th>\n",
       "      <td>70,122.00</td>\n",
       "      <td>NaN</td>\n",
       "      <td>Гроцка</td>\n",
       "    </tr>\n",
       "    <tr>\n",
       "      <th>273</th>\n",
       "      <td>70,165.00</td>\n",
       "      <td>NaN</td>\n",
       "      <td>Лазаревац</td>\n",
       "    </tr>\n",
       "    <tr>\n",
       "      <th>280</th>\n",
       "      <td>70,173.00</td>\n",
       "      <td>NaN</td>\n",
       "      <td>Младеновац</td>\n",
       "    </tr>\n",
       "    <tr>\n",
       "      <th>290</th>\n",
       "      <td>70,181.00</td>\n",
       "      <td>NaN</td>\n",
       "      <td>Нови Београд</td>\n",
       "    </tr>\n",
       "    <tr>\n",
       "      <th>291</th>\n",
       "      <td>70,190.00</td>\n",
       "      <td>NaN</td>\n",
       "      <td>Обреновац</td>\n",
       "    </tr>\n",
       "    <tr>\n",
       "      <th>863</th>\n",
       "      <td>70,220.00</td>\n",
       "      <td>NaN</td>\n",
       "      <td>Савски Венац</td>\n",
       "    </tr>\n",
       "    <tr>\n",
       "      <th>864</th>\n",
       "      <td>70,238.00</td>\n",
       "      <td>NaN</td>\n",
       "      <td>Сопот</td>\n",
       "    </tr>\n",
       "    <tr>\n",
       "      <th>868</th>\n",
       "      <td>70,246.00</td>\n",
       "      <td>NaN</td>\n",
       "      <td>Стари Град</td>\n",
       "    </tr>\n",
       "    <tr>\n",
       "      <th>869</th>\n",
       "      <td>71,293.00</td>\n",
       "      <td>NaN</td>\n",
       "      <td>Сурчин</td>\n",
       "    </tr>\n",
       "    <tr>\n",
       "      <th>876</th>\n",
       "      <td>70,254.00</td>\n",
       "      <td>NaN</td>\n",
       "      <td>Чукарица</td>\n",
       "    </tr>\n",
       "    <tr>\n",
       "      <th>86062</th>\n",
       "      <td>71,323.00</td>\n",
       "      <td>NaN</td>\n",
       "      <td>Палилула</td>\n",
       "    </tr>\n",
       "    <tr>\n",
       "      <th>86066</th>\n",
       "      <td>71,307.00</td>\n",
       "      <td>NaN</td>\n",
       "      <td>Пантелеј</td>\n",
       "    </tr>\n",
       "    <tr>\n",
       "      <th>95434</th>\n",
       "      <td>90,131.00</td>\n",
       "      <td>NaN</td>\n",
       "      <td>Косово Поље</td>\n",
       "    </tr>\n",
       "    <tr>\n",
       "      <th>95435</th>\n",
       "      <td>90,166.00</td>\n",
       "      <td>NaN</td>\n",
       "      <td>Липљан</td>\n",
       "    </tr>\n",
       "    <tr>\n",
       "      <th>95437</th>\n",
       "      <td>90,263.00</td>\n",
       "      <td>NaN</td>\n",
       "      <td>Приштина - град</td>\n",
       "    </tr>\n",
       "    <tr>\n",
       "      <th>95439</th>\n",
       "      <td>90,328.00</td>\n",
       "      <td>NaN</td>\n",
       "      <td>Штрпце</td>\n",
       "    </tr>\n",
       "    <tr>\n",
       "      <th>95442</th>\n",
       "      <td>90,352.00</td>\n",
       "      <td>NaN</td>\n",
       "      <td>Звечан</td>\n",
       "    </tr>\n",
       "    <tr>\n",
       "      <th>95444</th>\n",
       "      <td>90,093.00</td>\n",
       "      <td>NaN</td>\n",
       "      <td>Зубин Поток</td>\n",
       "    </tr>\n",
       "    <tr>\n",
       "      <th>95445</th>\n",
       "      <td>90,298.00</td>\n",
       "      <td>NaN</td>\n",
       "      <td>Косовска Митровица</td>\n",
       "    </tr>\n",
       "    <tr>\n",
       "      <th>95446</th>\n",
       "      <td>90,158.00</td>\n",
       "      <td>NaN</td>\n",
       "      <td>Лепосавић</td>\n",
       "    </tr>\n",
       "    <tr>\n",
       "      <th>95449</th>\n",
       "      <td>90,018.00</td>\n",
       "      <td>NaN</td>\n",
       "      <td>Витина</td>\n",
       "    </tr>\n",
       "    <tr>\n",
       "      <th>95450</th>\n",
       "      <td>90,042.00</td>\n",
       "      <td>NaN</td>\n",
       "      <td>Гњилане</td>\n",
       "    </tr>\n",
       "    <tr>\n",
       "      <th>95452</th>\n",
       "      <td>90,140.00</td>\n",
       "      <td>NaN</td>\n",
       "      <td>Косовска Каменица</td>\n",
       "    </tr>\n",
       "    <tr>\n",
       "      <th>95454</th>\n",
       "      <td>79,014.00</td>\n",
       "      <td>Grad Beograd</td>\n",
       "      <td>NaN</td>\n",
       "    </tr>\n",
       "    <tr>\n",
       "      <th>95551</th>\n",
       "      <td>79,022.00</td>\n",
       "      <td>Grad Nis</td>\n",
       "      <td>NaN</td>\n",
       "    </tr>\n",
       "    <tr>\n",
       "      <th>95646</th>\n",
       "      <td>70,988.00</td>\n",
       "      <td>Prokuplje</td>\n",
       "      <td>NaN</td>\n",
       "    </tr>\n",
       "    <tr>\n",
       "      <th>95742</th>\n",
       "      <td>79,057.00</td>\n",
       "      <td>Grad Vranje</td>\n",
       "      <td>NaN</td>\n",
       "    </tr>\n",
       "  </tbody>\n",
       "</table>\n",
       "</div>"
      ],
      "text/plain": [
       "         mun_id         mun_y               mun_x\n",
       "0     70,092.00           NaN            Барајево\n",
       "5     70,106.00           NaN            Вождовац\n",
       "6     70,114.00           NaN              Врачар\n",
       "7     70,122.00           NaN              Гроцка\n",
       "273   70,165.00           NaN           Лазаревац\n",
       "280   70,173.00           NaN          Младеновац\n",
       "290   70,181.00           NaN        Нови Београд\n",
       "291   70,190.00           NaN           Обреновац\n",
       "863   70,220.00           NaN        Савски Венац\n",
       "864   70,238.00           NaN               Сопот\n",
       "868   70,246.00           NaN          Стари Град\n",
       "869   71,293.00           NaN              Сурчин\n",
       "876   70,254.00           NaN            Чукарица\n",
       "86062 71,323.00           NaN            Палилула\n",
       "86066 71,307.00           NaN            Пантелеј\n",
       "95434 90,131.00           NaN         Косово Поље\n",
       "95435 90,166.00           NaN              Липљан\n",
       "95437 90,263.00           NaN     Приштина - град\n",
       "95439 90,328.00           NaN              Штрпце\n",
       "95442 90,352.00           NaN              Звечан\n",
       "95444 90,093.00           NaN         Зубин Поток\n",
       "95445 90,298.00           NaN  Косовска Митровица\n",
       "95446 90,158.00           NaN           Лепосавић\n",
       "95449 90,018.00           NaN              Витина\n",
       "95450 90,042.00           NaN             Гњилане\n",
       "95452 90,140.00           NaN   Косовска Каменица\n",
       "95454 79,014.00  Grad Beograd                 NaN\n",
       "95551 79,022.00      Grad Nis                 NaN\n",
       "95646 70,988.00     Prokuplje                 NaN\n",
       "95742 79,057.00   Grad Vranje                 NaN"
      ]
     },
     "execution_count": 56,
     "metadata": {},
     "output_type": "execute_result"
    }
   ],
   "source": [
    "mpaneldf_zip[mpaneldf_zip.mun_x.isnull() | mpaneldf_zip.mun_y.isnull()].drop_duplicates([\"mun_y\",\"mun_x\"])[[\"mun_id\",\"mun_y\",\"mun_x\"]]"
   ]
  },
  {
   "cell_type": "markdown",
   "metadata": {},
   "source": [
    "### Inner Merge"
   ]
  },
  {
   "cell_type": "code",
   "execution_count": 48,
   "metadata": {
    "collapsed": true
   },
   "outputs": [],
   "source": [
    "# merge datasets\n",
    "\n",
    "mpaneldf_zip = zipcodesdf.drop(\"mun\",axis=1).merge(mpaneldf, how=\"inner\", on=\"mun_id\")"
   ]
  },
  {
   "cell_type": "code",
   "execution_count": 49,
   "metadata": {
    "collapsed": false
   },
   "outputs": [],
   "source": [
    "\n",
    "mpaneldf_zip.to_csv(\"./exports/mpaneldf_zip.csv\")"
   ]
  },
  {
   "cell_type": "code",
   "execution_count": null,
   "metadata": {
    "collapsed": true
   },
   "outputs": [],
   "source": []
  }
 ],
 "metadata": {
  "kernelspec": {
   "display_name": "Python 2",
   "language": "python",
   "name": "python2"
  },
  "language_info": {
   "codemirror_mode": {
    "name": "ipython",
    "version": 2
   },
   "file_extension": ".py",
   "mimetype": "text/x-python",
   "name": "python",
   "nbconvert_exporter": "python",
   "pygments_lexer": "ipython2",
   "version": "2.7.11"
  }
 },
 "nbformat": 4,
 "nbformat_minor": 0
}
