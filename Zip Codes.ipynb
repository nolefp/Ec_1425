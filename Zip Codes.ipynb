{
 "cells": [
  {
   "cell_type": "code",
   "execution_count": 3,
   "metadata": {
    "collapsed": false,
    "scrolled": false
   },
   "outputs": [
    {
     "name": "stderr",
     "output_type": "stream",
     "text": [
      "C:\\Users\\nolefp\\Anaconda\\lib\\site-packages\\matplotlib\\__init__.py:872: UserWarning: axes.color_cycle is deprecated and replaced with axes.prop_cycle; please use the latter.\n",
      "  warnings.warn(self.msg_depr % (key, alt_key))\n"
     ]
    }
   ],
   "source": [
    "%matplotlib inline\n",
    "import numpy as np\n",
    "import scipy as sp\n",
    "import statsmodels.api as sm\n",
    "import statsmodels.formula.api as smf\n",
    "from statsmodels import discrete\n",
    "\n",
    "import re\n",
    "import pandas as pd\n",
    "import math \n",
    "import csv\n",
    "import time\n",
    "import dateutil\n",
    "from datetime import datetime\n",
    "import seaborn as sns"
   ]
  },
  {
   "cell_type": "code",
   "execution_count": 4,
   "metadata": {
    "collapsed": false,
    "scrolled": true
   },
   "outputs": [],
   "source": [
    "pd.set_option('display.width', 1000)\n",
    "pd.set_option('display.max_columns', 100)\n",
    "pd.set_option('display.notebook_repr_html', True)\n",
    "pd.options.display.float_format = '{:,.2f}'.format\n",
    "sns.set_style(\"whitegrid\")\n",
    "sns.set_context(\"poster\")"
   ]
  },
  {
   "cell_type": "code",
   "execution_count": 5,
   "metadata": {
    "collapsed": false
   },
   "outputs": [],
   "source": [
    "# Matplotlib Formatting\n",
    "import matplotlib as mpl\n",
    "import matplotlib.cm as cm\n",
    "import matplotlib.pyplot as plt\n",
    "from matplotlib import gridspec\n",
    "from matplotlib import ticker\n",
    "\"\"\"\n",
    "mpl.rcParams[\"axes.grid\"]=False\n",
    "mpl.rcParams[\"xtick.major.size\"] = 4\n",
    "mpl.rcParams[\"xtick.minor.size\"] = 2\n",
    "mpl.rcParams[\"xtick.major.width\"] = 0.5 \n",
    "mpl.rcParams[\"xtick.minor.width\"] = 0.5 \n",
    "\n",
    "mpl.rcParams[\"ytick.major.size\"] = 4\n",
    "mpl.rcParams[\"ytick.minor.size\"] = 2\n",
    "mpl.rcParams[\"ytick.major.width\"] = 0.5 \n",
    "mpl.rcParams[\"ytick.minor.width\"] = 0.5 \n",
    "\"\"\"\n",
    "\n",
    "millnames = ['',' Thousand',' Million',' Billion',' Trillion']\n",
    "def millify(n, pos):\n",
    "    n = float(n)\n",
    "    millidx = max(0,min(len(millnames)-1,\n",
    "                        int(math.floor(0 if n == 0 else math.log10(abs(n))/3))))\n",
    "    thingtoreturn = n / 10**(3 * millidx)\n",
    "    if thingtoreturn % 1 == 0:\n",
    "        return '{:.0f}{}'.format(thingtoreturn, millnames[millidx])\n",
    "    elif thingtoreturn % 0.1 == 0:\n",
    "        return '{:.1f}{}'.format(thingtoreturn, millnames[millidx])\n",
    "    else:\n",
    "        return '{:.2f}{}'.format(thingtoreturn, millnames[millidx])"
   ]
  },
  {
   "cell_type": "code",
   "execution_count": 6,
   "metadata": {
    "collapsed": false,
    "scrolled": true
   },
   "outputs": [
    {
     "data": {
      "text/html": [
       "<style>.container {width:50% !important; }</style>"
      ],
      "text/plain": [
       "<IPython.core.display.HTML object>"
      ]
     },
     "execution_count": 6,
     "metadata": {},
     "output_type": "execute_result"
    }
   ],
   "source": [
    "from IPython.core.display import HTML\n",
    "HTML(\"<style>.container {width:50% !important; }</style>\")"
   ]
  },
  {
   "cell_type": "code",
   "execution_count": 7,
   "metadata": {
    "collapsed": false
   },
   "outputs": [],
   "source": [
    "zipcodesdf = pd.read_excel(\"./General Info/zip_codes.xls\", 0)"
   ]
  },
  {
   "cell_type": "code",
   "execution_count": 8,
   "metadata": {
    "collapsed": false,
    "scrolled": true
   },
   "outputs": [],
   "source": [
    "# change column names\n",
    "zipcodesdf.columns = [\"mun_id\",\"mun\",\"place\",\"place_id\",\"zip_name\",\"zip_id\"]\n",
    "\n",
    "# drop unecessary columns\n",
    "zipcodesdf.drop([\"mun\",\"place\",\"zip_name\"], axis=1, inplace=1)\n",
    "\n",
    "# get ride of null zip code entries\n",
    "zipcodesdf = zipcodesdf[zipcodesdf.zip_id.notnull()].copy()\n",
    "\n",
    "# get rid of random zip doe without anything else\n",
    "random = zipcodesdf[zipcodesdf.mun_id.isnull() & zipcodesdf.zip_id.notnull()].index\n",
    "zipcodesdf.drop(random, inplace=1)\n",
    "\n",
    "zipcodesdf = zipcodesdf.dropna()"
   ]
  },
  {
   "cell_type": "code",
   "execution_count": 9,
   "metadata": {
    "collapsed": false,
    "scrolled": true
   },
   "outputs": [
    {
     "name": "stdout",
     "output_type": "stream",
     "text": [
      "<class 'pandas.core.frame.DataFrame'>\n",
      "Int64Index: 1137 entries, 2 to 6351\n",
      "Data columns (total 3 columns):\n",
      "mun_id      1137 non-null int32\n",
      "place_id    1137 non-null int32\n",
      "zip_id      1137 non-null int32\n",
      "dtypes: int32(3)\n",
      "memory usage: 22.2 KB\n"
     ]
    },
    {
     "data": {
      "text/html": [
       "<div>\n",
       "<table border=\"1\" class=\"dataframe\">\n",
       "  <thead>\n",
       "    <tr style=\"text-align: right;\">\n",
       "      <th></th>\n",
       "      <th>mun_id</th>\n",
       "      <th>place_id</th>\n",
       "      <th>zip_id</th>\n",
       "    </tr>\n",
       "  </thead>\n",
       "  <tbody>\n",
       "    <tr>\n",
       "      <th>2</th>\n",
       "      <td>70092</td>\n",
       "      <td>703494</td>\n",
       "      <td>11460</td>\n",
       "    </tr>\n",
       "    <tr>\n",
       "      <th>4</th>\n",
       "      <td>70092</td>\n",
       "      <td>703516</td>\n",
       "      <td>11461</td>\n",
       "    </tr>\n",
       "    <tr>\n",
       "      <th>5</th>\n",
       "      <td>70092</td>\n",
       "      <td>703524</td>\n",
       "      <td>11462</td>\n",
       "    </tr>\n",
       "    <tr>\n",
       "      <th>7</th>\n",
       "      <td>70092</td>\n",
       "      <td>703559</td>\n",
       "      <td>11427</td>\n",
       "    </tr>\n",
       "    <tr>\n",
       "      <th>11</th>\n",
       "      <td>70092</td>\n",
       "      <td>703591</td>\n",
       "      <td>11426</td>\n",
       "    </tr>\n",
       "  </tbody>\n",
       "</table>\n",
       "</div>"
      ],
      "text/plain": [
       "    mun_id  place_id  zip_id\n",
       "2    70092    703494   11460\n",
       "4    70092    703516   11461\n",
       "5    70092    703524   11462\n",
       "7    70092    703559   11427\n",
       "11   70092    703591   11426"
      ]
     },
     "execution_count": 9,
     "metadata": {},
     "output_type": "execute_result"
    }
   ],
   "source": [
    "for col in zipcodesdf:\n",
    "    if re.search(\"id\", col):\n",
    "        zipcodesdf[col] = zipcodesdf[col].astype(int)\n",
    "zipcodesdf.info()\n",
    "zipcodesdf.head()"
   ]
  },
  {
   "cell_type": "code",
   "execution_count": 10,
   "metadata": {
    "collapsed": false
   },
   "outputs": [],
   "source": [
    "# save file in exports\n",
    "zipcodesdf.to_excel(\"./exports/zip_codes.xlsx\")"
   ]
  },
  {
   "cell_type": "code",
   "execution_count": 11,
   "metadata": {
    "collapsed": false
   },
   "outputs": [],
   "source": [
    "# get zip code monthly municipal panel\n",
    "mpaneldf = pd.read_csv(\"./exports/mpaneldf.csv\").drop(\"Unnamed: 0\", axis=1)"
   ]
  },
  {
   "cell_type": "code",
   "execution_count": 15,
   "metadata": {
    "collapsed": false
   },
   "outputs": [],
   "source": [
    "# make kostolac align\n",
    "zipcodesdf.loc[zipcodesdf[zipcodesdf[\"zip_id\"] == 12208].index, \n",
    "               \"mun_id\"] = mpaneldf[mpaneldf.mun == \"Kostolac\"].mun_id.values[0]"
   ]
  },
  {
   "cell_type": "code",
   "execution_count": 16,
   "metadata": {
    "collapsed": false
   },
   "outputs": [],
   "source": [
    "# merge datasets\n",
    "mpaneldf_zip = zipcodesdf.merge(mpaneldf, how=\"inner\", on=\"mun_id\")"
   ]
  },
  {
   "cell_type": "code",
   "execution_count": 14,
   "metadata": {
    "collapsed": false
   },
   "outputs": [],
   "source": [
    "mpaneldf_zip.to_csv(\"./exports/mpaneldf_zip.csv\")"
   ]
  }
 ],
 "metadata": {
  "kernelspec": {
   "display_name": "Python 2",
   "language": "python",
   "name": "python2"
  },
  "language_info": {
   "codemirror_mode": {
    "name": "ipython",
    "version": 2
   },
   "file_extension": ".py",
   "mimetype": "text/x-python",
   "name": "python",
   "nbconvert_exporter": "python",
   "pygments_lexer": "ipython2",
   "version": "2.7.11"
  }
 },
 "nbformat": 4,
 "nbformat_minor": 0
}
