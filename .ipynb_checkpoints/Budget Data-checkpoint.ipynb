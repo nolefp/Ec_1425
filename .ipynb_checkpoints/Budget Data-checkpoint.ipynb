{
 "cells": [
  {
   "cell_type": "code",
   "execution_count": null,
   "metadata": {
    "collapsed": false,
    "scrolled": false
   },
   "outputs": [],
   "source": [
    "%matplotlib inline\n",
    "import numpy as np\n",
    "import scipy as sp\n",
    "import statsmodels.api as sm\n",
    "import statsmodels.formula.api as smf\n",
    "from statsmodels import discrete\n",
    "\n",
    "import re\n",
    "import pandas as pd\n",
    "import math \n",
    "import csv\n",
    "import time\n",
    "import dateutil\n",
    "from datetime import datetime\n",
    "import seaborn as sns"
   ]
  },
  {
   "cell_type": "code",
   "execution_count": null,
   "metadata": {
    "collapsed": false,
    "scrolled": true
   },
   "outputs": [],
   "source": [
    "pd.set_option('display.width', 1000)\n",
    "pd.set_option('display.max_columns', 100)\n",
    "pd.set_option('display.notebook_repr_html', True)\n",
    "pd.options.display.float_format = '{:,.2f}'.format\n",
    "sns.set_style(\"whitegrid\")\n",
    "sns.set_context(\"poster\")"
   ]
  },
  {
   "cell_type": "code",
   "execution_count": null,
   "metadata": {
    "collapsed": false
   },
   "outputs": [],
   "source": [
    "# Matplotlib Formatting\n",
    "import matplotlib as mpl\n",
    "import matplotlib.cm as cm\n",
    "import matplotlib.pyplot as plt\n",
    "from matplotlib import gridspec\n",
    "from matplotlib import ticker\n",
    "\"\"\"\n",
    "mpl.rcParams[\"axes.grid\"]=False\n",
    "mpl.rcParams[\"xtick.major.size\"] = 4\n",
    "mpl.rcParams[\"xtick.minor.size\"] = 2\n",
    "mpl.rcParams[\"xtick.major.width\"] = 0.5 \n",
    "mpl.rcParams[\"xtick.minor.width\"] = 0.5 \n",
    "\n",
    "mpl.rcParams[\"ytick.major.size\"] = 4\n",
    "mpl.rcParams[\"ytick.minor.size\"] = 2\n",
    "mpl.rcParams[\"ytick.major.width\"] = 0.5 \n",
    "mpl.rcParams[\"ytick.minor.width\"] = 0.5 \n",
    "\"\"\"\n",
    "\n",
    "millnames = ['',' Thousand',' Million',' Billion',' Trillion']\n",
    "def millify(n, pos):\n",
    "    n = float(n)\n",
    "    millidx = max(0,min(len(millnames)-1,\n",
    "                        int(math.floor(0 if n == 0 else math.log10(abs(n))/3))))\n",
    "    thingtoreturn = n / 10**(3 * millidx)\n",
    "    if thingtoreturn % 1 == 0:\n",
    "        return '{:.0f}{}'.format(thingtoreturn, millnames[millidx])\n",
    "    elif thingtoreturn % 0.1 == 0:\n",
    "        return '{:.1f}{}'.format(thingtoreturn, millnames[millidx])\n",
    "    else:\n",
    "        return '{:.2f}{}'.format(thingtoreturn, millnames[millidx])"
   ]
  },
  {
   "cell_type": "code",
   "execution_count": null,
   "metadata": {
    "collapsed": false
   },
   "outputs": [],
   "source": [
    "#mpl.rcdefaults()\n",
    "#%matplotlib inline"
   ]
  },
  {
   "cell_type": "code",
   "execution_count": null,
   "metadata": {
    "collapsed": false,
    "scrolled": true
   },
   "outputs": [],
   "source": [
    "from IPython.core.display import HTML\n",
    "HTML(\"<style>.container {width:50% !important; }</style>\")"
   ]
  },
  {
   "cell_type": "markdown",
   "metadata": {},
   "source": [
    "# What is Below?\n",
    "\n",
    "\n",
    "| Data | Source |\n",
    "|:----------|:----------|\n",
    "|*budget / expenditure* breadown by economic and functional classifications | Serbian Ministry of State Administration and Local Self Government\\* |\n",
    "|*income* breakdown by economic classifications | Serbian Secretariat for Regulatory Impact Assessment\\* | \n",
    "|*political affiliation* data | collected and compiled by the author |\n",
    "|*demographic* data | Serbian National Statistics Office| \n",
    "\n",
    "\n",
    "><sub>\\*As of 2011, legal obligation to annually submit municipal accounting records to the Serbian Ministry of Finance was abandoned. To the best of the author's knowledge, no central repository of this information currently exists. The data I analyze was individually requested and compiled by different government bodies. As such, some data integrity issues arise which are noted and dealth with below.</sub>\n",
    "\n",
    "\n",
    "* First, we briefly explore and clean the *spending*, *income* and *political affiliation* datasets. We save these as the <code>budgetsdf</code>, <code>incomesdf</code>, and <code>paneldf</code> dataframes.  \n",
    "\n",
    "\n",
    "* Second, we create a new dataframe, <code>maindf</code>, indexed over municipalities: \n",
    "    * We merge *aggregate measures* from the first three information sources.\n",
    "    * We merge demographic data.\n",
    "    \n",
    "* Finally, we have a couple important dataframes:\n",
    "    - budgetsdf (fully broken down budget lines)\n",
    "    - incomesdf (\n",
    "    - maindf (\n",
    "    - \n",
    "    - \n",
    "\n",
    "\n",
    "### To do:\n",
    "- ~~clean use of latin, probably convert everything to english characters~~\n",
    "- ~~clean data types~~\n",
    "- get all the municipality names, see who is missing from the dataset\n",
    "- reporting trends:\n",
    "    - histograms, by year: x - number of book lines reported (i.e. numeric entries), y - number of municipalities (separate colored bars for planned lines and actual lines)   \n",
    "    - ~~histogram: x - number of years anything was reported, y - number of municipalities~~\n",
    "    - ~~bar chart: x - year, y - number of municipalities who reported anything at all in that year~~\n",
    "- find out which economic classifications get reported the most/least (i.e. what actually gets reported, what rarely):\n",
    "    - ~~make a bar chart with all economic classifications as x axis, categorical, and then y axis be the number of districts who reported them at least once~~\n",
    "    - ~~another chart, same as above, except y axis the total number of districts that report them~~\n",
    "- total budget and spending trends:\n",
    "    - ~~get, by year: median, mean expenditure/income reported~~ (not that helpful)\n",
    "    - ~~histograms, by year: y - number of municipalities (separate plots or even graphs altogether for income and expenditure level), x - total expenditure/income by municipality~~\n",
    "    - ~~top and bottom 10% of spending and income across year, as well as within years~~\n",
    "    - look for biggest relative year to year differences in budgeting/spending (last_year/this_year-1) \n",
    "    - \n",
    "- trends related to planned vs actual spending:\n",
    "    - get absolute differences in total planned vs total actuals by year (take a look at distribution)\n",
    "    - get relative differences in total planned vs total actuals (take a look at distribution)\n",
    "    - see which districts are best/worst on average in abs/relative terms\n",
    "    - look at absolute and relative overspending by year, municipality, economic class\n",
    "    - see which economic classes have the most overspending on average\n",
    "    - see which economic classes have the largest incidence of overspending\n",
    " \n",
    "- explore budget/expenditure breakdowns by economic/functional classification:\n",
    "    - share of each economic/functional category and group in munality and year-wide totals\n",
    "    - get average share of economic/functional categories and groups in municipality total spending across years (so one large municipality spending a lot more on something doesnt skew its general representation)\n",
    "    - look for economic/functional groups/categories with largest variance across municipalities, but also largest average variance across years within municipalities\n",
    "    - \n",
    "    - share of economic/functional classes within groups of particular interest\n",
    "- Income Data:\n",
    "    - analyze general breakdown\n",
    "    - \n",
    "- Connect with demographic data from RZS:\n",
    "    - population and age, sex breakdowns\n",
    "    - income distributions? unemployment, etc\n",
    "    - \n",
    "\n",
    "- Connect with political data:\n",
    "\n",
    "\n",
    "- Start Running Regressions:\n",
    "\n",
    "\n",
    "- Random things to check:\n",
    "    - da li broj zena uu odboru ili prosecan uzrast odbornika nekako utice na stabilnost \n",
    "\n",
    "    \n"
   ]
  },
  {
   "cell_type": "markdown",
   "metadata": {},
   "source": [
    "## Coding and Classification Labels"
   ]
  },
  {
   "cell_type": "markdown",
   "metadata": {},
   "source": [
    "**Municipal Codes**"
   ]
  },
  {
   "cell_type": "code",
   "execution_count": null,
   "metadata": {
    "collapsed": true
   },
   "outputs": [],
   "source": [
    "municipal_codes_df = pd.read_csv(\"./General Info/Municipal Code Matching.csv\")"
   ]
  },
  {
   "cell_type": "code",
   "execution_count": null,
   "metadata": {
    "collapsed": false
   },
   "outputs": [],
   "source": [
    "municipal_codes_df.info()"
   ]
  },
  {
   "cell_type": "markdown",
   "metadata": {},
   "source": [
    "**Spending Economic Classes** "
   ]
  },
  {
   "cell_type": "code",
   "execution_count": null,
   "metadata": {
    "collapsed": false
   },
   "outputs": [],
   "source": [
    "econ_breakdown = pd.read_csv(\"./Budgets/econ_breakdown.csv\")"
   ]
  },
  {
   "cell_type": "code",
   "execution_count": null,
   "metadata": {
    "collapsed": false
   },
   "outputs": [],
   "source": [
    "econ_breakdown.columns"
   ]
  },
  {
   "cell_type": "code",
   "execution_count": null,
   "metadata": {
    "collapsed": false
   },
   "outputs": [],
   "source": [
    "for col in [u'ec_div_id', u'ec_group_id', u'ec_class_id']:\n",
    "    econ_breakdown[col] = econ_breakdown[col].fillna(-1).astype(int)"
   ]
  },
  {
   "cell_type": "code",
   "execution_count": null,
   "metadata": {
    "collapsed": false
   },
   "outputs": [],
   "source": [
    "econ_breakdown.dtypes"
   ]
  },
  {
   "cell_type": "code",
   "execution_count": null,
   "metadata": {
    "collapsed": false
   },
   "outputs": [],
   "source": [
    "econ_breakdown.head()"
   ]
  },
  {
   "cell_type": "markdown",
   "metadata": {},
   "source": [
    "**Spending Functional Classes**"
   ]
  },
  {
   "cell_type": "code",
   "execution_count": null,
   "metadata": {
    "collapsed": false
   },
   "outputs": [],
   "source": [
    "func_breakdown = pd.read_csv(\"./Budgets/func_breakdown.csv\")"
   ]
  },
  {
   "cell_type": "code",
   "execution_count": null,
   "metadata": {
    "collapsed": false
   },
   "outputs": [],
   "source": [
    "func_breakdown.columns"
   ]
  },
  {
   "cell_type": "code",
   "execution_count": null,
   "metadata": {
    "collapsed": false
   },
   "outputs": [],
   "source": [
    "for col in [u'func_div_id', u'func_group_id', u'func_class_id']:\n",
    "    func_breakdown[col] = func_breakdown[col].fillna(-1).astype(int)"
   ]
  },
  {
   "cell_type": "code",
   "execution_count": null,
   "metadata": {
    "collapsed": false
   },
   "outputs": [],
   "source": [
    "func_breakdown.dtypes"
   ]
  },
  {
   "cell_type": "code",
   "execution_count": null,
   "metadata": {
    "collapsed": false
   },
   "outputs": [],
   "source": [
    "func_breakdown.head()"
   ]
  },
  {
   "cell_type": "markdown",
   "metadata": {},
   "source": [
    "**Income Classification**"
   ]
  },
  {
   "cell_type": "code",
   "execution_count": null,
   "metadata": {
    "collapsed": true
   },
   "outputs": [],
   "source": [
    "income_breakdown = pd.read_csv(\"./Budgets/income_breakdown.csv\")"
   ]
  },
  {
   "cell_type": "code",
   "execution_count": null,
   "metadata": {
    "collapsed": false
   },
   "outputs": [],
   "source": [
    "income_breakdown.head()"
   ]
  },
  {
   "cell_type": "code",
   "execution_count": null,
   "metadata": {
    "collapsed": false
   },
   "outputs": [],
   "source": [
    "income_breakdown.columns"
   ]
  },
  {
   "cell_type": "code",
   "execution_count": null,
   "metadata": {
    "code_folding": [],
    "collapsed": true
   },
   "outputs": [],
   "source": [
    "codes_income =          [u'l2', u'l3', u'l4', u'l6']\n",
    "names_income =          [u'l2_name', u'l3_name', u'l4_name', u'l6_name']\n",
    "names_english_income =  [u'l2_name_english', u'l3_name_english', u'l4_name_english', u'l6_name_english']\n",
    "\n",
    "for col in codes_income:\n",
    "    income_breakdown[col] = income_breakdown[col].fillna(-1).astype(int)"
   ]
  },
  {
   "cell_type": "markdown",
   "metadata": {},
   "source": [
    "# BUDGETS"
   ]
  },
  {
   "cell_type": "markdown",
   "metadata": {},
   "source": [
    "## Pre-Processing"
   ]
  },
  {
   "cell_type": "markdown",
   "metadata": {},
   "source": [
    "**Cleaning Cyrillic-Latin Characters and Economic and Functional Classifications**\n",
    "\n",
    "- For some reason, the original data set contained a mix of submissions in Serbian Latin and Serbian Cyrillic. It appears that the discrepancy is caused by Local Governments (LG) using one, while National agencies the other. I first grab all unique combinations of econ/func class codes and names. I then compile a set of all codes and their latin names and re-assign the names to the functional and economic classes in the main table. \n",
    "\n",
    "- Because displaying Serbian latin characters is difficult across different platforms I replace these characters with their english alphabet equivalents {c,c,s,dj,z} using excel's search and replace function. \n",
    "\n",
    "- Lots of classifications have names that differ by a comma, or some sort of formatting. I arbitrarily choose one standard format and apply it to all. "
   ]
  },
  {
   "cell_type": "markdown",
   "metadata": {},
   "source": [
    "**Number / Data Type Formatting**\n",
    "\n",
    "* All columns needed to be formatted according to their datatype and then mistakes (like double periods in the same field, or a \"+\") had to be removed in order for the documents to be properly read by pandas. "
   ]
  },
  {
   "cell_type": "markdown",
   "metadata": {},
   "source": [
    "**Missing Values**\n",
    "\n",
    "- There are some entries for which there is no economic/functional classification. The sum of their values does not seem too large. \n",
    "- These are now marked with the id \"0\" and the label \"unclassified\"\n"
   ]
  },
  {
   "cell_type": "markdown",
   "metadata": {},
   "source": [
    "** Translating to English**\n",
    "\n",
    "- I translate all economic and functional classes to english to the best of my abilities. First using google translate, then cross referencing with official categorizations by the IMF (economic classes) and the eu statistics website (functional classes)."
   ]
  },
  {
   "cell_type": "markdown",
   "metadata": {},
   "source": [
    "**Same Categories, Different ID-s**\n",
    "\n",
    "- Some functional classes differ due to 040 and 40 differences. I change all values to remove leading 0-s. \n",
    "\n",
    "- functional classes 113 and 120 both go to \"spoljni poslovi\", I switch all 120 to be 113. Same with 50, 60 and unemployment, I switch all to 50 (though both seem to be used quite widely). "
   ]
  },
  {
   "cell_type": "markdown",
   "metadata": {},
   "source": [
    "**Different Levels of Aggregation, Same Column**\n",
    "\n",
    "- It seems that the functional \"classes\" have overlap in aggregation. Namely, all categories that end with a round ten, like 310, or 450, actually incorporate everything through the next decile. It is unclear at this point if any districts submitted both levels of aggregation, which would lead to double counting, or if there is a clear division between districts submitting at one level vs the other... To check, we could look for cases where the same district (or just iterated across all districts) used both levels in the same year... Hopefully this will not exist...\n",
    "\n",
    "- Another repercussion of this unclarity is that when we are looking at the breakdowns of spending, we should be aggregating at the lowest level that ALL municipalities report. First of all, it's probably good enough. But second, that way we don't wrongly divide between two things that actually are the same... If there is a third level of de-aggregation entry with only two levels of de-aggregation, it might make sense to add it to the third sub-level, \"unclassified\" category"
   ]
  },
  {
   "cell_type": "markdown",
   "metadata": {},
   "source": [
    "##  Load & Set-Up"
   ]
  },
  {
   "cell_type": "code",
   "execution_count": null,
   "metadata": {
    "code_folding": [],
    "collapsed": false,
    "scrolled": true
   },
   "outputs": [],
   "source": [
    "# load the budgets document\n",
    "budgetsdf = pd.read_csv(\"./Budgets/preprocessed_Municipal Budgets.csv\", \n",
    "                        parse_dates=True, dtype={\"Maticni broj\": object, \n",
    "                                                 \"Izvrsenje budzeta\": np.float64, \n",
    "                                                 \"Plan budzeta\": np.float64})"
   ]
  },
  {
   "cell_type": "code",
   "execution_count": null,
   "metadata": {
    "code_folding": [],
    "collapsed": false,
    "scrolled": true
   },
   "outputs": [],
   "source": [
    "budgetsdf.dtypes"
   ]
  },
  {
   "cell_type": "code",
   "execution_count": null,
   "metadata": {
    "code_folding": [
     0
    ],
    "collapsed": true
   },
   "outputs": [],
   "source": [
    "# change column names getting rid of Serbian characters\n",
    "new_columns = ['pozicija','plan', 'izvrsenje', 'mb', 'instit_jed', 'godina',\n",
    " 'nivo_drzave', 'funkc_kat','funkc_kat_ime', 'funkc_grupa','funkc_grupa_ime', \n",
    "               'funkc_klasa','funkc_klasa_ime','ekonomska_kat','ekonomska_kat_ime',\n",
    "               'ekonomska_grupa','ekonomska_grupa_ime', 'ekonomska_klasa', 'ekonomska_klasa_ime',\n",
    "                'unnamed: 19', 'unnamed: 20','unnamed: 21','unnamed: 22']\n",
    "                   \n",
    "budgetsdf.columns = new_columns                   "
   ]
  },
  {
   "cell_type": "code",
   "execution_count": null,
   "metadata": {
    "collapsed": false,
    "scrolled": true
   },
   "outputs": [],
   "source": [
    "del budgetsdf['unnamed: 19']\n",
    "del budgetsdf['unnamed: 20']\n",
    "del budgetsdf['unnamed: 21']\n",
    "del budgetsdf['unnamed: 22']"
   ]
  },
  {
   "cell_type": "code",
   "execution_count": null,
   "metadata": {
    "code_folding": [],
    "collapsed": false,
    "scrolled": true
   },
   "outputs": [],
   "source": [
    "# change categorical data\n",
    "for column in [ 'instit_jed','nivo_drzave','funkc_kat','funkc_kat_ime', 'funkc_grupa', 'funkc_grupa_ime',\n",
    "                'funkc_klasa', 'funkc_klasa_ime','ekonomska_kat','ekonomska_kat_ime', \n",
    "               'ekonomska_grupa', 'ekonomska_grupa_ime', 'ekonomska_klasa', 'ekonomska_klasa_ime']:\n",
    "    budgetsdf[column] = budgetsdf[column].astype('category')"
   ]
  },
  {
   "cell_type": "code",
   "execution_count": null,
   "metadata": {
    "collapsed": false
   },
   "outputs": [],
   "source": [
    "budgetsdf[budgetsdf[\"godina\"].isnull()]"
   ]
  },
  {
   "cell_type": "markdown",
   "metadata": {},
   "source": [
    "As you can see above, for some reason there were cells with missing values for year and budget and expenditures, so we get rid of those..."
   ]
  },
  {
   "cell_type": "code",
   "execution_count": null,
   "metadata": {
    "collapsed": false,
    "scrolled": true
   },
   "outputs": [],
   "source": [
    "# drop entires with null year and no info\n",
    "budgetsdf.drop(budgetsdf[budgetsdf[\"godina\"].isnull()].index,inplace=1)"
   ]
  },
  {
   "cell_type": "code",
   "execution_count": null,
   "metadata": {
    "collapsed": true,
    "scrolled": true
   },
   "outputs": [],
   "source": [
    "# change datatype of years\n",
    "budgetsdf[\"godina\"]= budgetsdf[\"godina\"].astype(np.int32)"
   ]
  },
  {
   "cell_type": "code",
   "execution_count": null,
   "metadata": {
    "collapsed": false,
    "scrolled": true
   },
   "outputs": [],
   "source": [
    "# In order to change to int, we first fillna with -1\n",
    "budgetsdf.mb = budgetsdf['mb'].fillna(-1).astype(np.int32)"
   ]
  },
  {
   "cell_type": "code",
   "execution_count": null,
   "metadata": {
    "collapsed": false
   },
   "outputs": [],
   "source": [
    "# drop unecessary row pozicija\n",
    "budgetsdf.drop(\"pozicija\", axis=1,inplace=1)"
   ]
  },
  {
   "cell_type": "code",
   "execution_count": null,
   "metadata": {
    "collapsed": false
   },
   "outputs": [],
   "source": [
    "budgetsdf.dtypes"
   ]
  },
  {
   "cell_type": "markdown",
   "metadata": {},
   "source": [
    "** Adjust values so they are in 100s of RSD**"
   ]
  },
  {
   "cell_type": "code",
   "execution_count": null,
   "metadata": {
    "collapsed": true
   },
   "outputs": [],
   "source": [
    "# get real dinar values\n",
    "budgetsdf[[\"plan\", \"izvrsenje\"]] = budgetsdf[[\"plan\", \"izvrsenje\"]] * 10"
   ]
  },
  {
   "cell_type": "markdown",
   "metadata": {},
   "source": [
    "**Add English Classifications**"
   ]
  },
  {
   "cell_type": "code",
   "execution_count": null,
   "metadata": {
    "collapsed": false
   },
   "outputs": [],
   "source": [
    "econ_breakdown.columns"
   ]
  },
  {
   "cell_type": "code",
   "execution_count": null,
   "metadata": {
    "collapsed": false
   },
   "outputs": [],
   "source": [
    "func_breakdown.columns"
   ]
  },
  {
   "cell_type": "code",
   "execution_count": null,
   "metadata": {
    "collapsed": false
   },
   "outputs": [],
   "source": [
    "budgetsdf.columns"
   ]
  },
  {
   "cell_type": "code",
   "execution_count": null,
   "metadata": {
    "code_folding": [],
    "collapsed": false
   },
   "outputs": [],
   "source": [
    "# append english econ classification names\n",
    "for key_left, key_right, english_name in zip([u'ekonomska_kat', u'ekonomska_grupa', u'ekonomska_klasa'], \n",
    "                                             [u'ec_div_id', u'ec_group_id', u'ec_class_id'], \n",
    "                                             [u'ec_div_name_english', u'ec_group_name_english', u'ec_class_name_english']):\n",
    "    \n",
    "    budgetsdf = budgetsdf.merge(econ_breakdown[[key_right, english_name]] , how=\"left\", left_on=key_left, right_on=key_right) \n",
    "\n",
    "# append english func classification names:\n",
    "for key_left, key_right, english_name in zip([u'funkc_kat', u'funkc_grupa', u'funkc_klasa'], \n",
    "                                             [u'func_div_id', u'func_group_id',  u'func_class_id'], \n",
    "                                             [ u'func_div_name_english',  u'func_group_name_english', u'func_class_name_english']):\n",
    "    \n",
    "    budgetsdf = budgetsdf.merge(func_breakdown[[key_right, english_name]] , how=\"left\", left_on=key_left, right_on=key_right)"
   ]
  },
  {
   "cell_type": "code",
   "execution_count": null,
   "metadata": {
    "collapsed": false
   },
   "outputs": [],
   "source": [
    "budgetsdf.head()"
   ]
  },
  {
   "cell_type": "code",
   "execution_count": null,
   "metadata": {
    "collapsed": false
   },
   "outputs": [],
   "source": [
    "# change categorical data\n",
    "for column in ([u'ec_div_id', u'ec_group_id', u'ec_class_id'] + \n",
    "               [u'ec_div_name_english', u'ec_group_name_english',  u'ec_class_name_english'] + \n",
    "               [u'func_div_id', u'func_group_id',  u'func_class_id'] + \n",
    "               [ u'func_div_name_english',  u'func_group_name_english', u'func_class_name_english']):\n",
    "    budgetsdf[column] = budgetsdf[column].astype('category')"
   ]
  },
  {
   "cell_type": "markdown",
   "metadata": {},
   "source": [
    "** Rename Columns and Remove Serbian Columns **"
   ]
  },
  {
   "cell_type": "code",
   "execution_count": null,
   "metadata": {
    "collapsed": false,
    "scrolled": true
   },
   "outputs": [],
   "source": [
    "budgetsdf.info()"
   ]
  },
  {
   "cell_type": "code",
   "execution_count": null,
   "metadata": {
    "collapsed": false
   },
   "outputs": [],
   "source": [
    "# get rid of random columns\n",
    "budgetsdf.drop(['funkc_kat','funkc_kat_ime', 'funkc_grupa', 'funkc_grupa_ime', 'funkc_klasa', \n",
    "                                        'funkc_klasa_ime','ekonomska_kat','ekonomska_kat_ime', 'ekonomska_grupa', \n",
    "                                        'ekonomska_grupa_ime', 'ekonomska_klasa', 'ekonomska_klasa_ime'], axis=1, inplace=1)"
   ]
  },
  {
   "cell_type": "code",
   "execution_count": null,
   "metadata": {
    "collapsed": false
   },
   "outputs": [],
   "source": [
    "budgetsdf.columns"
   ]
  },
  {
   "cell_type": "code",
   "execution_count": null,
   "metadata": {
    "collapsed": false
   },
   "outputs": [],
   "source": [
    "budgetsdf.columns =  [u'plan', u'actual', u'mun_id', u'mun', u'year', u'nivo_drzave', u'ec_div_id', u'ec_div_name_english', \n",
    "                                 u'ec_group_id', u'ec_group_name_english', u'ec_class_id', u'ec_class_name_english', u'func_div_id', \n",
    "                                 u'func_div_name_english', u'func_group_id', u'func_group_name_english', u'func_class_id', u'func_class_name_english']"
   ]
  },
  {
   "cell_type": "markdown",
   "metadata": {},
   "source": [
    "** Get rid of 0s in 2015 Actual, make them NaNs**"
   ]
  },
  {
   "cell_type": "code",
   "execution_count": null,
   "metadata": {
    "collapsed": false
   },
   "outputs": [],
   "source": [
    "budgetsdf.loc[budgetsdf.year == 2015, \"actual\"] = np.nan"
   ]
  },
  {
   "cell_type": "markdown",
   "metadata": {},
   "source": [
    "## Basic EDA"
   ]
  },
  {
   "cell_type": "markdown",
   "metadata": {},
   "source": [
    "### Summarization"
   ]
  },
  {
   "cell_type": "code",
   "execution_count": null,
   "metadata": {
    "collapsed": false,
    "scrolled": true
   },
   "outputs": [],
   "source": [
    "print \"Rows:\", len(budgetsdf)\n",
    "budgetsdf.head()"
   ]
  },
  {
   "cell_type": "code",
   "execution_count": null,
   "metadata": {
    "collapsed": false,
    "scrolled": true
   },
   "outputs": [],
   "source": [
    "budgetsdf.describe(include=['number'])"
   ]
  },
  {
   "cell_type": "code",
   "execution_count": null,
   "metadata": {
    "collapsed": false,
    "scrolled": false
   },
   "outputs": [],
   "source": [
    "budgetsdf.describe(include=['category'])"
   ]
  },
  {
   "cell_type": "markdown",
   "metadata": {},
   "source": [
    "### Institutional Units"
   ]
  },
  {
   "cell_type": "code",
   "execution_count": null,
   "metadata": {
    "code_folding": [
     0
    ],
    "collapsed": false,
    "scrolled": true
   },
   "outputs": [],
   "source": [
    "# see which institutional units are included\n",
    "np.array(budgetsdf.mun.unique())"
   ]
  },
  {
   "cell_type": "markdown",
   "metadata": {},
   "source": [
    "We remove any entities that are not municipalities."
   ]
  },
  {
   "cell_type": "code",
   "execution_count": null,
   "metadata": {
    "collapsed": false,
    "scrolled": true
   },
   "outputs": [],
   "source": [
    "# find non-municipalities\n",
    "list(budgetsdf[budgetsdf.nivo_drzave == \"Centralni nivo\"].mun.unique())"
   ]
  },
  {
   "cell_type": "code",
   "execution_count": null,
   "metadata": {
    "collapsed": false,
    "scrolled": true
   },
   "outputs": [],
   "source": [
    "# remove non-municipalities\n",
    "budgetsdf.drop(budgetsdf[budgetsdf.nivo_drzave == \"Centralni nivo\"].index, inplace=1)\n",
    "budgetsdf.drop(budgetsdf[budgetsdf.mun.apply(lambda x: x in ['NSZ', 'RFPIO', 'RFZO', \n",
    "                                                                    'JP \"Putevi Srbije\" i JP \"Koridori\"', \"Budzet republike\"\n",
    "])].index, inplace=1)"
   ]
  },
  {
   "cell_type": "markdown",
   "metadata": {},
   "source": [
    "The district vracar gets reported with mb 70144 in this dataset. However, elsewhere, vracar gets coded with 70114, hence I convert here to avoid further confusion. "
   ]
  },
  {
   "cell_type": "code",
   "execution_count": null,
   "metadata": {
    "collapsed": false
   },
   "outputs": [],
   "source": [
    "budgetsdf.replace(70144, 70114, inplace=1)"
   ]
  },
  {
   "cell_type": "markdown",
   "metadata": {
    "collapsed": true
   },
   "source": [
    "### Reporting"
   ]
  },
  {
   "cell_type": "code",
   "execution_count": null,
   "metadata": {
    "code_folding": [
     0
    ],
    "collapsed": false,
    "scrolled": true
   },
   "outputs": [],
   "source": [
    "# how many municipalities reported each year\n",
    "grpd_year = budgetsdf.groupby('year')\n",
    "grpd_year.mun.nunique()"
   ]
  },
  {
   "cell_type": "code",
   "execution_count": null,
   "metadata": {
    "code_folding": [],
    "collapsed": false,
    "scrolled": true
   },
   "outputs": [],
   "source": [
    "# number of munipalities per total number of years reported (don't get why removed institutional units appear to have remained...)\n",
    "grpd_mun = budgetsdf.groupby('mun')\n",
    "mun_years_submitted = grpd_mun.year.nunique()\n",
    "mun_years_submitted.value_counts()"
   ]
  },
  {
   "cell_type": "code",
   "execution_count": null,
   "metadata": {
    "code_folding": [
     0
    ],
    "collapsed": false,
    "scrolled": false
   },
   "outputs": [],
   "source": [
    "# Check which mun has 4 and 0 submissions\n",
    "print mun_years_submitted[mun_years_submitted == 4]\n",
    "print mun_years_submitted[mun_years_submitted == 0]"
   ]
  },
  {
   "cell_type": "markdown",
   "metadata": {},
   "source": [
    "**prep data for economics and functional breakdown reporting**"
   ]
  },
  {
   "cell_type": "code",
   "execution_count": null,
   "metadata": {
    "code_folding": [],
    "collapsed": false,
    "scrolled": true
   },
   "outputs": [],
   "source": [
    "# prepare data for reporting\n",
    "grpd_year_mun = budgetsdf.groupby(['year', 'mun'])\n",
    "\n",
    "# get number of different economic class plan lines submitted\n",
    "grpd_year_mun_reported_econ_class = grpd_year_mun.ec_class_name_english.agg(pd.Series.nunique)\n",
    "\n",
    "# get number of different functional class plan lines submitted\n",
    "grpd_year_mun_reported_func_class = grpd_year_mun.func_class_name_english.agg(pd.Series.nunique)\n"
   ]
  },
  {
   "cell_type": "code",
   "execution_count": null,
   "metadata": {
    "code_folding": [],
    "collapsed": false,
    "scrolled": true
   },
   "outputs": [],
   "source": [
    "#count unique municipality/year entries\n",
    "budgetsdf['godina_instit'] = budgetsdf.year.apply(str) + budgetsdf.year.apply(str)\n",
    "\n",
    "#groupby economic/functional class\n",
    "frequency_of_reporting_economic_class = budgetsdf.groupby('ec_class_name_english').godina_instit.nunique()\n",
    "frequency_of_reporting_func_class = budgetsdf.groupby('ec_class_name_english').godina_instit.nunique()\n",
    "\n",
    "municipalities_reported_economic_class = budgetsdf.groupby('ec_class_name_english').mun.nunique()\n",
    "municipalities_reported_func_class = budgetsdf.groupby('ec_class_name_english').mun.nunique()"
   ]
  },
  {
   "cell_type": "markdown",
   "metadata": {},
   "source": [
    "**Economic Class Reporting Charts**"
   ]
  },
  {
   "cell_type": "code",
   "execution_count": null,
   "metadata": {
    "code_folding": [
     0
    ],
    "collapsed": false,
    "scrolled": false
   },
   "outputs": [],
   "source": [
    "# distribution of economic class reporting per municipality\n",
    "plt.figure(figsize=(10,30))\n",
    "\n",
    "# get and sort appropriate data\n",
    "data = grpd_year_mun_reported_econ_class.mean(level=1)\n",
    "data.sort_values(inplace=1, ascending=0)\n",
    "y = np.array(data.index)\n",
    "x = np.array(data.values)\n",
    "\n",
    "\n",
    "sns.barplot(x,y, color='blue', alpha=.3)\n",
    "\n",
    "locs, labels = plt.xticks()\n",
    "plt.setp(labels, rotation=90);\n",
    "\n",
    "plt.title(\"Average Number of Economic Classes Reported Each Year\")\n",
    "plt.xlabel(\"Average # of Economic Classes Reported\");"
   ]
  },
  {
   "cell_type": "code",
   "execution_count": null,
   "metadata": {
    "code_folding": [
     0
    ],
    "collapsed": false,
    "scrolled": false
   },
   "outputs": [],
   "source": [
    "# ubiquity of reporting of economic class\n",
    "fig, ax = plt.subplots(figsize=(10,14))\n",
    "fig.tight_layout()\n",
    "\n",
    "data = municipalities_reported_economic_class\n",
    "data.sort_values(inplace=1, ascending=0)\n",
    "x = np.array(data.index)\n",
    "y = np.array(data.values)\n",
    "\n",
    "sns.barplot(y,x, color='blue', alpha=.4)\n",
    "\n",
    "# rotate x labels\n",
    "locs, labels = plt.xticks()\n",
    "plt.setp(labels, rotation=90);\n",
    "\n",
    "# set label and title values\n",
    "plt.xlabel(\"Number of municipalities that reported at least once between 2011-2015\")\n",
    "plt.title(\"Ubiquity of Economic Class Reporting Across Municipalities\");\n"
   ]
  },
  {
   "cell_type": "markdown",
   "metadata": {},
   "source": [
    "**Functional Class Reporting**"
   ]
  },
  {
   "cell_type": "code",
   "execution_count": null,
   "metadata": {
    "code_folding": [
     0
    ],
    "collapsed": false,
    "scrolled": false
   },
   "outputs": [],
   "source": [
    "# distribution of functional class reporting per municipality\n",
    "\n",
    "plt.figure(figsize=(10,25))\n",
    "\n",
    "# get and sort appropriate data\n",
    "data = grpd_year_mun_reported_func_class.mean(level=1)\n",
    "data.sort_values(inplace=1, ascending=0)\n",
    "y = np.array(data.index)\n",
    "x = np.array(data.values)\n",
    "\n",
    "\n",
    "sns.barplot(x,y, color='blue', alpha=.4)\n",
    "\n",
    "locs, labels = plt.xticks()\n",
    "plt.setp(labels, rotation=90);\n",
    "\n",
    "plt.title(\"Average Number of Functional Classes Reported Each Year\")\n",
    "plt.xlabel(\"# of Functional Classes Reported\");"
   ]
  },
  {
   "cell_type": "code",
   "execution_count": null,
   "metadata": {
    "code_folding": [
     0
    ],
    "collapsed": false,
    "scrolled": false
   },
   "outputs": [],
   "source": [
    "# ubiquity of functional class reporting\n",
    "plt.figure(figsize=(10,15))\n",
    "data = municipalities_reported_func_class\n",
    "data.sort_values(inplace=1, ascending=0)\n",
    "x = np.array(data.index)\n",
    "y = np.array(data.values)\n",
    "\n",
    "sns.barplot(y,x, color='blue', alpha=.4)\n",
    "\n",
    "# rotate x labels\n",
    "locs, labels = plt.xticks()\n",
    "plt.setp(labels, rotation=90);\n",
    "\n",
    "# set label and title values\n",
    "plt.ylabel('Functional Class')\n",
    "plt.xlabel(\"Number of municipalities that reported at least once between 2011-2015\")\n",
    "plt.title(\"Ubiquity of Functional Class Reporting Across Municipalities\");\n"
   ]
  },
  {
   "cell_type": "markdown",
   "metadata": {},
   "source": [
    "### Distribution of Totals"
   ]
  },
  {
   "cell_type": "code",
   "execution_count": null,
   "metadata": {
    "code_folding": [
     0
    ],
    "collapsed": false,
    "scrolled": true
   },
   "outputs": [],
   "source": [
    "# aggregate totals\n",
    "year_mun_sum_df = grpd_year_mun[['actual','plan']].agg(np.sum)\n",
    "\n",
    "average_annual_totals_mun = budgetsdf.groupby([\"mun\",\"year\"]).agg(sum).mean(axis=0,level=0)\n"
   ]
  },
  {
   "cell_type": "markdown",
   "metadata": {},
   "source": [
    "**Annual Totals**"
   ]
  },
  {
   "cell_type": "code",
   "execution_count": null,
   "metadata": {
    "code_folding": [
     0
    ],
    "collapsed": false,
    "scrolled": true
   },
   "outputs": [],
   "source": [
    "# budget totals\n",
    "budgetsdf.groupby(\"year\").plan.sum()"
   ]
  },
  {
   "cell_type": "markdown",
   "metadata": {},
   "source": [
    "*note the 30 times larger value for 2015, something is off\n",
    "\n",
    "*also note that the budgets are larger for 2012 and there is an even greater difference for expenditure"
   ]
  },
  {
   "cell_type": "code",
   "execution_count": null,
   "metadata": {
    "collapsed": false,
    "scrolled": true
   },
   "outputs": [],
   "source": [
    "# expenditure totals\n",
    "budgetsdf.groupby(\"year\").actual.sum()"
   ]
  },
  {
   "cell_type": "markdown",
   "metadata": {},
   "source": [
    " **Budget Totals Over Years**"
   ]
  },
  {
   "cell_type": "code",
   "execution_count": null,
   "metadata": {
    "code_folding": [
     0
    ],
    "collapsed": false,
    "scrolled": true
   },
   "outputs": [],
   "source": [
    "#average budgets 2011-2015 per muncipality\n",
    "\n",
    "# change number formatting\n",
    "fig, ax = plt.subplots(figsize=(10,3))\n",
    "ax.xaxis.set_major_formatter(ticker.FuncFormatter(millify))\n",
    "\n",
    "data = average_annual_totals_mun.plan.copy()\n",
    "data.sort_values(inplace=1, ascending=0)\n",
    "x = np.array(data.index)[:10]\n",
    "y = np.array(data.values)[:10]\n",
    "\n",
    "sns.barplot(y,x, color='blue', alpha=.4)\n",
    "\n",
    "# rotate x labels\n",
    "locs, labels = plt.xticks()\n",
    "plt.setp(labels, rotation=40);\n",
    "\n",
    "\n",
    "# set label and title values\n",
    "plt.title(\"Average Total Budget Through 2011-2015\");"
   ]
  },
  {
   "cell_type": "markdown",
   "metadata": {},
   "source": [
    "Clearly, there is something wrong with the data for subotica... \n",
    "\n",
    "Turns out 2015 was multiplied by 1,000 throughout, we adjust and keep going. "
   ]
  },
  {
   "cell_type": "code",
   "execution_count": null,
   "metadata": {
    "collapsed": false,
    "scrolled": true
   },
   "outputs": [],
   "source": [
    "budgetsdf.loc[(budgetsdf.mun == \"Subotica-grad\") & (budgetsdf.year == 2015.0), \"plan\"] = budgetsdf[(budgetsdf.mun == \"Subotica-grad\") & (budgetsdf.year == 2015.0)][\"plan\"] / 1000"
   ]
  },
  {
   "cell_type": "markdown",
   "metadata": {},
   "source": [
    "Back to what we were doing!"
   ]
  },
  {
   "cell_type": "code",
   "execution_count": null,
   "metadata": {
    "code_folding": [
     0
    ],
    "collapsed": false,
    "scrolled": false
   },
   "outputs": [],
   "source": [
    "# average total budgets per mun\n",
    "fig, ax = plt.subplots(figsize=(10,24))\n",
    "ax.xaxis.set_major_formatter(ticker.FuncFormatter(millify))\n",
    "\n",
    "average_annual_totals_mun = budgetsdf.groupby([\"mun\",\"year\"]).agg(sum).mean(axis=0,level=0)\n",
    "data = average_annual_totals_mun.plan.copy()\n",
    "data.sort_values(inplace=1, ascending=0)\n",
    "x = np.array(data.index)\n",
    "y = np.array(data.values)\n",
    "\n",
    "sns.barplot(y,x, color='blue', alpha=.4)\n",
    "\n",
    "# rotate x labels\n",
    "locs, labels = plt.xticks()\n",
    "plt.setp(labels, rotation=45);\n",
    "\n",
    "# set label and title values\n",
    "plt.ylabel('Municipality')\n",
    "plt.xlabel(\"Total Budget\")\n",
    "plt.title(\"Average Total Budget Through 2011-2015\");"
   ]
  },
  {
   "cell_type": "code",
   "execution_count": null,
   "metadata": {
    "code_folding": [],
    "collapsed": false,
    "scrolled": true
   },
   "outputs": [],
   "source": [
    "# sanity check belgrade\n",
    "budgetsdf[budgetsdf.mun == \"Beograd-Grad\"].groupby(\"year\").sum()"
   ]
  },
  {
   "cell_type": "code",
   "execution_count": null,
   "metadata": {
    "code_folding": [],
    "collapsed": false,
    "scrolled": true
   },
   "outputs": [],
   "source": [
    "# check out one of the lowest municipalities\n",
    "budgetsdf[budgetsdf.mun == \"Niska Banja\"].groupby(\"year\").sum()"
   ]
  },
  {
   "cell_type": "markdown",
   "metadata": {},
   "source": [
    "**Expenditure Totals Over Years**"
   ]
  },
  {
   "cell_type": "code",
   "execution_count": null,
   "metadata": {
    "code_folding": [],
    "collapsed": false,
    "scrolled": false
   },
   "outputs": [],
   "source": [
    "# chart code\n",
    "fig, ax = plt.subplots(figsize=(10,24))\n",
    "ax.xaxis.set_major_formatter(ticker.FuncFormatter(millify))\n",
    "\n",
    "# rotate x labels\n",
    "locs, labels = plt.xticks()\n",
    "plt.setp(labels, rotation=45);\n",
    "\n",
    "data = average_annual_totals_mun.actual.copy()\n",
    "data.sort_values(inplace=1, ascending=0)\n",
    "x = np.array(data.index)\n",
    "y = np.array(data.values)\n",
    "\n",
    "sns.barplot(y,x, color='blue', alpha=.4)\n",
    "\n",
    "# set label and title values\n",
    "plt.ylabel('Municipality')\n",
    "plt.xlabel(\"Total Expenditure\")\n",
    "plt.title(\"Average Annual Expenditure 2011-2014\");"
   ]
  },
  {
   "cell_type": "markdown",
   "metadata": {},
   "source": [
    "**Over/Under Shooting Budgets**"
   ]
  },
  {
   "cell_type": "markdown",
   "metadata": {},
   "source": [
    "Next, we examine the difference between planned budgets and total spending reported. Below you can see the 20 biggest differences between planned and actual spending. It seems unbelievably low, but perhaps there really is such discipline. Perhaps there is less discipline when it comes to the public companies."
   ]
  },
  {
   "cell_type": "code",
   "execution_count": null,
   "metadata": {
    "code_folding": [],
    "collapsed": false,
    "scrolled": true
   },
   "outputs": [],
   "source": [
    "# prepare data\n",
    "mun_year_sums = budgetsdf.groupby([\"mun\",\"year\"]).agg(sum)\n",
    "\n",
    "mun_year_sums[\"razlika\"] =  mun_year_sums[\"plan\"] - mun_year_sums[\"actual\"]\n",
    "\n",
    "mun_year_sums.razlika.sort_values(ascending=0) "
   ]
  },
  {
   "cell_type": "code",
   "execution_count": null,
   "metadata": {
    "code_folding": [
     2
    ],
    "collapsed": true,
    "scrolled": true
   },
   "outputs": [],
   "source": [
    "# measure relative change in budget line\n",
    "# this would be better adapted so that it normalizes relative to total budget for the district for the year, more meaningful measure\n",
    "def relative_change(df):\n",
    "    if df.plan == 0:\n",
    "        if df.actual == 0:\n",
    "            return 0\n",
    "        else: \n",
    "            return -1\n",
    "        \n",
    "    if df.actual == 0:\n",
    "        return 1\n",
    "    \n",
    "    if df.actual > df.plan:\n",
    "        return 1 - df.actual/df.plan\n",
    "    \n",
    "    if df.plan > df.actual:\n",
    "        return df.actual/df.plan\n"
   ]
  },
  {
   "cell_type": "markdown",
   "metadata": {},
   "source": [
    "Values:\n",
    " - 0: budget and eactual expenditure equal to one another\n",
    " - 1: budgeted, but no spending at all\n",
    " - -1: not budgeted, but there is spending"
   ]
  },
  {
   "cell_type": "code",
   "execution_count": null,
   "metadata": {
    "code_folding": [],
    "collapsed": false,
    "scrolled": true
   },
   "outputs": [],
   "source": [
    "# get sum of budgets and spending within institutional units, years and economic class, exclude 2015)\n",
    "mun_year_ec_class_sums = budgetsdf[budgetsdf.year != 2015.0].groupby([\"mun\",\"year\",\"ec_class_name_english\"]).agg(sum)\n",
    "\n",
    "# create new column for the difference in spending \n",
    "mun_year_ec_class_sums[\"budget_min_spending\"] =  mun_year_ec_class_sums[\"plan\"] - mun_year_ec_class_sums[\"actual\"]\n",
    "mun_year_ec_class_sums[\"budget_min_spending_rel\"] = mun_year_ec_class_sums.apply(relative_change, axis=1)\n"
   ]
  },
  {
   "cell_type": "code",
   "execution_count": null,
   "metadata": {
    "code_folding": [
     0
    ],
    "collapsed": false,
    "scrolled": true
   },
   "outputs": [],
   "source": [
    "# planned - actual spending by mun by year\n",
    "mun_year_ec_class_sums.budget_min_spending.sort_values(ascending=1).dropna()"
   ]
  },
  {
   "cell_type": "code",
   "execution_count": null,
   "metadata": {
    "code_folding": [],
    "collapsed": false,
    "scrolled": true
   },
   "outputs": [],
   "source": [
    "# planned / actual spending by mun by year\n",
    "mun_year_ec_class_sums.budget_min_spending_rel.sort_values(ascending=-1).dropna()"
   ]
  },
  {
   "cell_type": "code",
   "execution_count": null,
   "metadata": {
    "code_folding": [
     0
    ],
    "collapsed": false,
    "scrolled": true
   },
   "outputs": [],
   "source": [
    "# average abs over/under spending by economic class\n",
    "mun_year_ec_class_sums.budget_min_spending.dropna().mean(axis=0, level=2).sort_values(ascending=1)"
   ]
  },
  {
   "cell_type": "markdown",
   "metadata": {},
   "source": [
    "## Export to budget_detail.csv"
   ]
  },
  {
   "cell_type": "code",
   "execution_count": null,
   "metadata": {
    "collapsed": false,
    "scrolled": true
   },
   "outputs": [],
   "source": [
    "budgetsdf.info()"
   ]
  },
  {
   "cell_type": "code",
   "execution_count": null,
   "metadata": {
    "collapsed": true
   },
   "outputs": [],
   "source": [
    "export_budgets_detail = budgetsdf.drop(\"nivo_drzave\", axis=1)"
   ]
  },
  {
   "cell_type": "markdown",
   "metadata": {},
   "source": [
    "** add the shares **"
   ]
  },
  {
   "cell_type": "code",
   "execution_count": null,
   "metadata": {
    "collapsed": false,
    "scrolled": true
   },
   "outputs": [],
   "source": [
    "# get share of each expenditure line in total spending for that mun and year\n",
    "export_budgets_detail[[\"plan_share\",\"actual_share\"]] = budgetsdf.groupby([\"mun\", \"year\"])[[\"plan\",\"actual\"]].transform(lambda x: x / x.sum())"
   ]
  },
  {
   "cell_type": "code",
   "execution_count": null,
   "metadata": {
    "collapsed": true
   },
   "outputs": [],
   "source": [
    "export_budgets_detail.to_csv(\"./exports/budgets_detail.csv\")"
   ]
  },
  {
   "cell_type": "markdown",
   "metadata": {},
   "source": [
    "# INCOMES"
   ]
  },
  {
   "cell_type": "markdown",
   "metadata": {},
   "source": [
    "## Pre-Processing'"
   ]
  },
  {
   "cell_type": "markdown",
   "metadata": {},
   "source": [
    "**Overlapping Categories**\n",
    "\n",
    "A significant amount of pre-procesessing was required here. The sums of four different levels of aggregation were included in the same table. As such, all revenues were counted at least four times. I disentangled the different categories, separated them into respective levels of aggregation, checked that the total sums matched at all levels of aggregation, and then reformatted the table so there would be no double counting. \n",
    "\n",
    "**Translation to English**\n",
    "\n",
    "I translate to english first using google translate and then by cross-referencing IMF-s guide to public accounting statistics. I could not find exact matches for all categories, but I do my best. \n",
    "\n"
   ]
  },
  {
   "cell_type": "markdown",
   "metadata": {},
   "source": [
    "## Load and Set-up'"
   ]
  },
  {
   "cell_type": "code",
   "execution_count": null,
   "metadata": {
    "collapsed": false
   },
   "outputs": [],
   "source": [
    "incomesdf = pd.read_csv(\"./Budgets/preprocessed_income.csv\",dtype={\"year\": pd.datetime}, parse_dates=True)"
   ]
  },
  {
   "cell_type": "markdown",
   "metadata": {},
   "source": [
    "**Sort Data Types**"
   ]
  },
  {
   "cell_type": "code",
   "execution_count": null,
   "metadata": {
    "collapsed": false
   },
   "outputs": [],
   "source": [
    "print incomesdf.dtypes\n",
    "print incomesdf.columns"
   ]
  },
  {
   "cell_type": "code",
   "execution_count": null,
   "metadata": {
    "code_folding": [
     0
    ],
    "collapsed": true
   },
   "outputs": [],
   "source": [
    "# rename columns and change data types\n",
    "for column in  [u'mun_name', \"l6\", u'l6_name', \"l2\", u'l2_name', \"l3\", u'l3_name', \"l4\", u'l4_name']:\n",
    "    incomesdf[column] = incomesdf[column].astype('category')\n",
    "    \n",
    "incomesdf.columns = [u'mb', u'mun', u'year', u'income_value', u'l6', u'l6_name', u'l2', u'l2_name', u'l3', u'l3_name', u'l4', u'l4_name']"
   ]
  },
  {
   "cell_type": "code",
   "execution_count": null,
   "metadata": {
    "collapsed": false
   },
   "outputs": [],
   "source": [
    "print incomesdf.dtypes\n",
    "print incomesdf.columns"
   ]
  },
  {
   "cell_type": "code",
   "execution_count": null,
   "metadata": {
    "collapsed": true,
    "scrolled": true
   },
   "outputs": [],
   "source": [
    "incomesdf.year = incomesdf.year.str.replace(\"1/1/\",\"\")\n",
    "incomesdf.year = incomesdf.year.astype(np.int32)"
   ]
  },
  {
   "cell_type": "code",
   "execution_count": null,
   "metadata": {
    "collapsed": true
   },
   "outputs": [],
   "source": [
    "incomesdf.mb = incomesdf.mb.astype(np.int32)\n",
    "incomesdf.income_value = incomesdf.income_value.str.replace(\",\",\"\").astype(np.float64)"
   ]
  },
  {
   "cell_type": "code",
   "execution_count": null,
   "metadata": {
    "collapsed": false,
    "scrolled": true
   },
   "outputs": [],
   "source": [
    "incomesdf.head(7)"
   ]
  },
  {
   "cell_type": "markdown",
   "metadata": {},
   "source": [
    "**Summarize and Check for Odd/Missing Values**"
   ]
  },
  {
   "cell_type": "code",
   "execution_count": null,
   "metadata": {
    "collapsed": false,
    "scrolled": false
   },
   "outputs": [],
   "source": [
    "incomesdf.info()"
   ]
  },
  {
   "cell_type": "code",
   "execution_count": null,
   "metadata": {
    "collapsed": false,
    "scrolled": true
   },
   "outputs": [],
   "source": [
    "incomesdf.describe(include=[\"number\"])"
   ]
  },
  {
   "cell_type": "code",
   "execution_count": null,
   "metadata": {
    "collapsed": false,
    "scrolled": false
   },
   "outputs": [],
   "source": [
    "incomesdf.describe(include=[\"category\"])"
   ]
  },
  {
   "cell_type": "markdown",
   "metadata": {},
   "source": [
    "**Add English Classification Names**"
   ]
  },
  {
   "cell_type": "code",
   "execution_count": null,
   "metadata": {
    "collapsed": false,
    "scrolled": true
   },
   "outputs": [],
   "source": [
    "#incomesdf.head()"
   ]
  },
  {
   "cell_type": "code",
   "execution_count": null,
   "metadata": {
    "collapsed": true
   },
   "outputs": [],
   "source": [
    "#income_breakdown.dtypes"
   ]
  },
  {
   "cell_type": "code",
   "execution_count": null,
   "metadata": {
    "code_folding": [],
    "collapsed": false
   },
   "outputs": [],
   "source": [
    "# append english income classification names\n",
    "for key, english_name in zip(codes_income, names_english_income):\n",
    "    incomesdf = incomesdf.merge(income_breakdown[[key, english_name]] , how=\"left\", on=key) "
   ]
  },
  {
   "cell_type": "code",
   "execution_count": null,
   "metadata": {
    "collapsed": false
   },
   "outputs": [],
   "source": [
    "incomesdf.info()"
   ]
  },
  {
   "cell_type": "code",
   "execution_count": null,
   "metadata": {
    "collapsed": false
   },
   "outputs": [],
   "source": [
    "# change categorical data\n",
    "for column in (names_english_income + names_income + [\"mun\", \"year\"]):\n",
    "    incomesdf[column] = incomesdf[column].astype('category')"
   ]
  },
  {
   "cell_type": "code",
   "execution_count": null,
   "metadata": {
    "collapsed": false
   },
   "outputs": [],
   "source": [
    "incomesdf.info()"
   ]
  },
  {
   "cell_type": "markdown",
   "metadata": {},
   "source": [
    "** Remove Serbian Names** "
   ]
  },
  {
   "cell_type": "code",
   "execution_count": null,
   "metadata": {
    "collapsed": false
   },
   "outputs": [],
   "source": [
    "incomesdf.drop(['l6_name', u'l2_name', u'l3_name', u'l4_name'], axis=1, inplace=1)\n",
    "incomesdf.columns = [u'mun_id', u'mun', u'year', u'income_value', u'l6', u'l2', u'l3', u'l4', u'l2_name_english', u'l3_name_english', u'l4_name_english', u'l6_name_english']"
   ]
  },
  {
   "cell_type": "markdown",
   "metadata": {},
   "source": [
    "**Multiply Values by 10 so values are now in 100s of Serbian Dinars**"
   ]
  },
  {
   "cell_type": "code",
   "execution_count": null,
   "metadata": {
    "collapsed": true
   },
   "outputs": [],
   "source": [
    "incomesdf.income_value = incomesdf.income_value * 10"
   ]
  },
  {
   "cell_type": "markdown",
   "metadata": {},
   "source": [
    "## Basic EDA'"
   ]
  },
  {
   "cell_type": "markdown",
   "metadata": {},
   "source": [
    "**Average Income From 2011-2013**"
   ]
  },
  {
   "cell_type": "code",
   "execution_count": null,
   "metadata": {
    "code_folding": [
     0
    ],
    "collapsed": false,
    "scrolled": true
   },
   "outputs": [],
   "source": [
    "# chart \n",
    "fig, ax = plt.subplots(figsize=(10,28))\n",
    "ax.xaxis.set_major_formatter(ticker.FuncFormatter(millify))\n",
    "\n",
    "# rotate x labels\n",
    "locs, labels = plt.xticks()\n",
    "plt.setp(labels, rotation=45);\n",
    "  \n",
    "\n",
    "data = incomesdf.groupby([\"mun\",\"year\"]).income_value.sum().mean(level=0)\n",
    "data.sort_values(inplace=1, ascending=0)\n",
    "x = np.array(data.index)\n",
    "y = np.array(data.values)\n",
    "\n",
    "sns.barplot(y,x, color='blue', alpha=.4)\n",
    "\n",
    "plt.xlim((0,1* math.pow(10,9)))\n",
    "plt.title(\"Average Income From 2011-2013\");"
   ]
  },
  {
   "cell_type": "markdown",
   "metadata": {},
   "source": [
    "**Breakdown of Total Income** - skewed by bigger municipalities"
   ]
  },
  {
   "cell_type": "code",
   "execution_count": null,
   "metadata": {
    "code_folding": [
     0
    ],
    "collapsed": false
   },
   "outputs": [],
   "source": [
    "# multiple plots\n",
    "fig, axes = plt.subplots(nrows=2, ncols=1, figsize=(10,4))\n",
    "fig.tight_layout(h_pad=6.0)\n",
    "\n",
    "# rotate x labels\n",
    "locs, labels = plt.xticks()\n",
    "plt.setp(labels, rotation=0);   \n",
    "\n",
    "#list of classes over which to iterate graphs\n",
    "classes = [\"l2_name_english\", \"l3_name_english\"]\n",
    "\n",
    "# make subplots\n",
    "for ax, income_class in zip(axes.ravel(), classes): \n",
    "    \n",
    "    # manipulate data in proper format\n",
    "    data = incomesdf.groupby(income_class).income_value.agg(sum) / incomesdf.groupby(income_class).income_value.agg(sum).sum()\n",
    "    data.sort_values(inplace=1, ascending=0)\n",
    "    x = np.array(data.index)\n",
    "    y = np.array(data.values)\n",
    "\n",
    "    sns.barplot(y,x, color='blue', ax=ax, alpha=.4)\n",
    "    \n",
    "\n",
    "    ax.set_xlabel(\"Share of Total Income\")\n",
    "    ax.set_title(\"Share of \" + income_class.replace(\"_name\",\"\") +\" Income Class in Total Sum\");"
   ]
  },
  {
   "cell_type": "code",
   "execution_count": null,
   "metadata": {
    "code_folding": [
     0
    ],
    "collapsed": false
   },
   "outputs": [],
   "source": [
    "# chart\n",
    "plt.figure(figsize=(15,5))\n",
    "\n",
    "# rotate x labels\n",
    "locs, labels = plt.xticks()\n",
    "plt.setp(labels, rotation=0);   \n",
    "\n",
    "data = incomesdf.groupby(\"l4_name_english\").income_value.agg(sum) / incomesdf.groupby(\"l4_name_english\").income_value.agg(sum).sum()\n",
    "data.sort_values(inplace=1, ascending=0)\n",
    "x = np.array(data.index)\n",
    "y = np.array(data.values)\n",
    "\n",
    "sns.barplot(y,x, color='blue', alpha=.4)\n",
    "\n",
    "plt.xlim((0,1))\n",
    "plt.xlabel(\"Share of Total Income\")\n",
    "plt.title(\"Share of l4 Income Class in Total Sum\");"
   ]
  },
  {
   "cell_type": "code",
   "execution_count": null,
   "metadata": {
    "code_folding": [
     0
    ],
    "collapsed": false,
    "scrolled": true
   },
   "outputs": [],
   "source": [
    "# chart\n",
    "plt.figure(figsize=(20,13))\n",
    "\n",
    "# rotate x labels\n",
    "locs, labels = plt.xticks()\n",
    "plt.setp(labels, rotation=0);   \n",
    "\n",
    "data = incomesdf.groupby(\"l6_name_english\").income_value.agg(sum) / incomesdf.groupby(\"l6_name_english\").income_value.agg(sum).sum()\n",
    "data.sort_values(inplace=1, ascending=0)\n",
    "x = np.array(data.index)\n",
    "y = np.array(data.values)\n",
    "\n",
    "sns.barplot(y,x, color='blue', alpha=.4)\n",
    "\n",
    "plt.xlim((0,1))\n",
    "plt.xlabel(\"Share of Total Income\")\n",
    "plt.title(\"Share of l6 Income Class in Total Sum\");"
   ]
  },
  {
   "cell_type": "markdown",
   "metadata": {},
   "source": [
    "Comments:\n",
    "- as one might expect, taxes on income and capgains provide the largest source of income for municipalities in Serbia\n",
    "- transfers from other levels of government come in second place, with less than half overall contribution "
   ]
  },
  {
   "cell_type": "markdown",
   "metadata": {},
   "source": [
    "** Average Income Breakdown of Municipality ** - i.e. skewed by municipalities with extreme distributions of income sources"
   ]
  },
  {
   "cell_type": "code",
   "execution_count": null,
   "metadata": {
    "code_folding": [
     0
    ],
    "collapsed": false,
    "scrolled": true
   },
   "outputs": [],
   "source": [
    "# chart\n",
    "plt.figure(figsize=(15,12))\n",
    "\n",
    "# rotate x labels\n",
    "locs, labels = plt.xticks()\n",
    "plt.setp(labels, rotation=0);   \n",
    "\n",
    "data = (incomesdf.groupby([\"mun\", \"l6_name_english\"]).income_value.sum() / incomesdf.groupby([\"mun\", \"l6_name_english\"]).income_value.sum().sum(axis=0, level=0)).mean(axis=0, level=1)\n",
    "data.sort_values(inplace=1, ascending=0)\n",
    "x = np.array(data.index)\n",
    "y = np.array(data.values)\n",
    "\n",
    "sns.barplot(y,x, color='blue', alpha=.4)\n",
    "\n",
    "plt.xlim((0,1))\n",
    "plt.xlabel(\"Share of Total Income\")\n",
    "plt.title(\"Average Share of l6 Income Among Different Municipalities\");"
   ]
  },
  {
   "cell_type": "markdown",
   "metadata": {},
   "source": [
    "Comments:\n",
    "- note, when the average of the shares across different municipalities is taken, there is a ***reversal between the top two spots*** and trasnfers become more important that taxes and direct sources of income! This indicates that it is the larger municipalities, or municipalities with more income overall which have a greater share of their revenue derived from their taxes. "
   ]
  },
  {
   "cell_type": "code",
   "execution_count": null,
   "metadata": {
    "code_folding": [
     0
    ],
    "collapsed": false,
    "scrolled": true
   },
   "outputs": [],
   "source": [
    "# chart\n",
    "plt.figure(figsize=(15,5))\n",
    "\n",
    "# rotate x labels\n",
    "locs, labels = plt.xticks()\n",
    "plt.setp(labels, rotation=0);   \n",
    "\n",
    "data = (incomesdf.groupby([\"mun\", \"l4_name_english\"]).income_value.sum() / incomesdf.groupby([\"mun\", \"l4_name_english\"]).income_value.sum().sum(axis=0, level=0)).mean(axis=0, level=1)\n",
    "data.sort_values(inplace=1, ascending=0)\n",
    "x = np.array(data.index)\n",
    "y = np.array(data.values)\n",
    "\n",
    "sns.barplot(y,x, color='blue', alpha=.4)\n",
    "\n",
    "plt.xlim((0,1))\n",
    "plt.xlabel(\"Share of Total Income\")\n",
    "plt.title(\"Average Share of l4 Income Among Different Municipalities\");"
   ]
  },
  {
   "cell_type": "markdown",
   "metadata": {},
   "source": [
    "Comments:\n",
    "- while there is no reversal here, the difference between the overall tax category and overall donatios and transfers category is much less drastic, they are close to equal!"
   ]
  },
  {
   "cell_type": "markdown",
   "metadata": {},
   "source": [
    "**Which Municipalities Have Largest Share of Income from Transfers and Donations?**"
   ]
  },
  {
   "cell_type": "code",
   "execution_count": null,
   "metadata": {
    "code_folding": [
     0
    ],
    "collapsed": false,
    "scrolled": false
   },
   "outputs": [],
   "source": [
    "# chart\n",
    "plt.figure(figsize=(15,30))\n",
    "   \n",
    "\n",
    "data = incomesdf[incomesdf[\"l6\"] == 5064].groupby(\"mun\").income_value.sum() / incomesdf.groupby(\"mun\").income_value.sum()\n",
    "data.sort_values(inplace=1, ascending=0)\n",
    "x = np.array(data.index)\n",
    "y = np.array(data.values)\n",
    "\n",
    "sns.barplot(y,x, color='blue', alpha=.4)\n",
    "\n",
    "plt.xlim((0,1))\n",
    "plt.title(\"Share of Trasnfers in Total Income\");"
   ]
  },
  {
   "cell_type": "code",
   "execution_count": null,
   "metadata": {
    "code_folding": [],
    "collapsed": false
   },
   "outputs": [],
   "source": [
    "# describe distribution of above\n",
    "(incomesdf[incomesdf[\"l6\"] == 5064].groupby(\"mun\").income_value.sum() / incomesdf.groupby(\"mun\").income_value.sum()).describe()"
   ]
  },
  {
   "cell_type": "markdown",
   "metadata": {},
   "source": [
    "Comments:\n",
    "- it makes sense that for more wealthy municipalities such as belgrade, the share which transfers from the national government play in their total income is much smaller\n",
    "- it is a bit surprising that Ivanjica is in the smaller end of the transfer share, almost to the extent where it might be an anomaly..."
   ]
  },
  {
   "cell_type": "markdown",
   "metadata": {},
   "source": [
    "Below, we examine average absolute levels of trasnfers to municipalities."
   ]
  },
  {
   "cell_type": "code",
   "execution_count": null,
   "metadata": {
    "code_folding": [
     0
    ],
    "collapsed": false,
    "scrolled": false
   },
   "outputs": [],
   "source": [
    "# chart \n",
    "fig, ax = plt.subplots(figsize=(14,28))\n",
    "ax.xaxis.set_major_formatter(ticker.FuncFormatter(millify))\n",
    "\n",
    "# rotate x labels\n",
    "locs, labels = plt.xticks()\n",
    "plt.setp(labels, rotation=45);\n",
    "\n",
    "# rotate x labels\n",
    "locs, labels = plt.xticks()\n",
    "plt.setp(labels, rotation=80);   \n",
    "\n",
    "data = incomesdf[incomesdf[\"l6\"] == 5064].copy().groupby([\"mun\",\"year\"]).income_value.sum().mean(level=\"mun\")\n",
    "data.sort_values(inplace=1, ascending=0)\n",
    "x = np.array(data.index)\n",
    "y = np.array(data.values)\n",
    "\n",
    "sns.barplot(y,x, color='blue', alpha=.4)\n",
    "\n",
    "plt.title(\"Average Transfers 2011-2013\");"
   ]
  },
  {
   "cell_type": "code",
   "execution_count": null,
   "metadata": {
    "collapsed": false
   },
   "outputs": [],
   "source": [
    "incomesdf[incomesdf[\"l6\"] == 5064].copy().groupby([\"mun\",\"year\"]).income_value.sum()[\"Grad Beograd\"]"
   ]
  },
  {
   "cell_type": "markdown",
   "metadata": {
    "collapsed": false,
    "scrolled": true
   },
   "source": [
    "* Well, that doesn't seem right... "
   ]
  },
  {
   "cell_type": "markdown",
   "metadata": {},
   "source": [
    "# MAINDFs"
   ]
  },
  {
   "cell_type": "markdown",
   "metadata": {},
   "source": [
    "## Compile munyeardf"
   ]
  },
  {
   "cell_type": "markdown",
   "metadata": {},
   "source": [
    "** Totals By Year**"
   ]
  },
  {
   "cell_type": "code",
   "execution_count": null,
   "metadata": {
    "collapsed": false,
    "scrolled": true
   },
   "outputs": [],
   "source": [
    "# get annual income sums\n",
    "right_merge = incomesdf.groupby([\"mun_id\",\"year\"]).income_value.agg(sum).reset_index()"
   ]
  },
  {
   "cell_type": "code",
   "execution_count": null,
   "metadata": {
    "collapsed": false,
    "scrolled": false
   },
   "outputs": [],
   "source": [
    "# get annual spending sums\n",
    "left_merge = budgetsdf.groupby([\"mun_id\", \"year\"]).agg(sum).reset_index()"
   ]
  },
  {
   "cell_type": "code",
   "execution_count": null,
   "metadata": {
    "collapsed": false
   },
   "outputs": [],
   "source": [
    "# merge into totals_by_year\n",
    "munyeardf = right_merge.merge(left_merge, how=\"outer\", on=[\"mun_id\",\"year\"])"
   ]
  },
  {
   "cell_type": "code",
   "execution_count": null,
   "metadata": {
    "collapsed": false
   },
   "outputs": [],
   "source": [
    "munyeardf = munyeardf.merge(municipal_codes_df, how=\"left\", right_on=\"mb\", left_on=\"mun_id\")\n",
    "munyeardf.drop(\"mb\", axis=1, inplace=1)"
   ]
  },
  {
   "cell_type": "code",
   "execution_count": null,
   "metadata": {
    "collapsed": false
   },
   "outputs": [],
   "source": [
    "munyeardf.mun_id = munyeardf.mun_id.astype(int)\n",
    "munyeardf.year = munyeardf.year.astype(int).astype(\"category\")\n",
    "munyeardf[\"mun\"] = munyeardf[\"mun\"].astype(\"category\")"
   ]
  },
  {
   "cell_type": "code",
   "execution_count": null,
   "metadata": {
    "collapsed": false
   },
   "outputs": [],
   "source": [
    "munyeardf.head()"
   ]
  },
  {
   "cell_type": "code",
   "execution_count": null,
   "metadata": {
    "collapsed": false
   },
   "outputs": [],
   "source": [
    "munyeardf.info()"
   ]
  },
  {
   "cell_type": "markdown",
   "metadata": {},
   "source": [
    "**Shares by Year**"
   ]
  },
  {
   "cell_type": "code",
   "execution_count": null,
   "metadata": {
    "collapsed": false
   },
   "outputs": [],
   "source": [
    "#ec_group_spending_mun_year_df = budgetsdf.groupby([\"mun_id\", \"year\", \"ec_group_name_english\"]).sum().unstack().reset_index()"
   ]
  },
  {
   "cell_type": "code",
   "execution_count": null,
   "metadata": {
    "collapsed": true
   },
   "outputs": [],
   "source": [
    "#shares_munyeardf"
   ]
  },
  {
   "cell_type": "markdown",
   "metadata": {},
   "source": [
    "## Compile mundf "
   ]
  },
  {
   "cell_type": "code",
   "execution_count": null,
   "metadata": {
    "collapsed": false,
    "scrolled": true
   },
   "outputs": [],
   "source": [
    "maindf = totals_by_yeardf.groupby('mun_id').mean().reset_index()"
   ]
  },
  {
   "cell_type": "code",
   "execution_count": null,
   "metadata": {
    "collapsed": false
   },
   "outputs": [],
   "source": [
    "maindf = maindf.merge(municipal_codes_df, how=\"left\", right_on=\"mb\", left_on=\"mun_id\")\n",
    "maindf.drop(\"mb\", axis=1, inplace=1)"
   ]
  },
  {
   "cell_type": "code",
   "execution_count": null,
   "metadata": {
    "collapsed": false
   },
   "outputs": [],
   "source": [
    "maindf[[u'mun_id', u'income_value', u'plan', u'actual', u'mun']] = maindf[[u'mun_id', u'mun', u'income_value', u'plan', u'actual']]\n",
    "maindf.columns = [u'mun_id', u'mun', u'mean_income_value', u'mean_plan', u'mean_actual']"
   ]
  },
  {
   "cell_type": "code",
   "execution_count": null,
   "metadata": {
    "collapsed": false,
    "scrolled": false
   },
   "outputs": [],
   "source": [
    "maindf.info()"
   ]
  },
  {
   "cell_type": "markdown",
   "metadata": {},
   "source": [
    "### Add Classification Shares"
   ]
  },
  {
   "cell_type": "code",
   "execution_count": null,
   "metadata": {
    "collapsed": false
   },
   "outputs": [],
   "source": [
    "# function that cleans column names\n",
    "def clean_column_names(x):\n",
    "        if isinstance(x,tuple):\n",
    "            pre, name = x\n",
    "            return re.sub(r\"(mean_)|(_share)\",\"\", pre) + \"_\" + name\n",
    "        return x\n",
    "    \n",
    "clean_column_names = np.vectorize(clean_column_names)"
   ]
  },
  {
   "cell_type": "markdown",
   "metadata": {},
   "source": [
    "** add economic group shares **"
   ]
  },
  {
   "cell_type": "code",
   "execution_count": null,
   "metadata": {
    "collapsed": false,
    "scrolled": true
   },
   "outputs": [],
   "source": [
    "temp = budgetsdf.groupby([\"mun_id\",\"year\",\"ec_group_name_english\"]).sum().reset_index()\n",
    "temp[[\"mean_plan_share\", \"mean_actual_share\"]] = temp.groupby([\"mun_id\", \"year\"]).transform(lambda x: x / x.sum())\n",
    "temp = temp.groupby([\"mun_id\", \"ec_group_name_english\"])[[\"mean_plan_share\", \"mean_actual_share\"]].mean()\n",
    "maindf = maindf.merge(temp.unstack().reset_index(), how=\"outer\", on=\"mun_id\")\n",
    "share_economic_group_columns = temp.unstack().reset_index().columns"
   ]
  },
  {
   "cell_type": "markdown",
   "metadata": {},
   "source": [
    "** add functional division shares **"
   ]
  },
  {
   "cell_type": "code",
   "execution_count": null,
   "metadata": {
    "collapsed": false
   },
   "outputs": [],
   "source": [
    "temp = budgetsdf.groupby([\"mun_id\",\"year\",\"func_div_name_english\"]).sum().reset_index()\n",
    "temp[[\"mean_plan_share\", \"mean_actual_share\"]] = temp.groupby([\"mun_id\", \"year\"]).transform(lambda x: x / x.sum())\n",
    "temp = temp.groupby([\"mun_id\", \"func_div_name_english\"])[[\"mean_plan_share\", \"mean_actual_share\"]].mean()\n",
    "maindf = maindf.merge(temp.unstack().reset_index(), how=\"outer\", on=\"mun_id\")\n",
    "share_func_div_columns = temp.unstack().reset_index().columns"
   ]
  },
  {
   "cell_type": "markdown",
   "metadata": {
    "collapsed": false
   },
   "source": [
    "**add l4 income classification shares**"
   ]
  },
  {
   "cell_type": "code",
   "execution_count": null,
   "metadata": {
    "collapsed": false
   },
   "outputs": [],
   "source": [
    "temp = incomesdf.groupby([\"mun_id\",\"year\",\"l4_name_english\"]).sum().reset_index()\n",
    "temp[\"mean_income_share\"] = temp.groupby([\"mun_id\", \"year\"]).transform(lambda x: x / x.sum()).income_value\n",
    "temp = temp.groupby([\"mun_id\", \"l4_name_english\"])[\"mean_income_share\"].mean()\n",
    "maindf = maindf.merge(temp.unstack(), how=\"outer\", left_on=\"mun_id\", right_index=1)\n",
    "share_l4_income_columns = temp.unstack().columns"
   ]
  },
  {
   "cell_type": "code",
   "execution_count": null,
   "metadata": {
    "collapsed": false
   },
   "outputs": [],
   "source": [
    "share_l4_income_columns"
   ]
  },
  {
   "cell_type": "code",
   "execution_count": null,
   "metadata": {
    "collapsed": false
   },
   "outputs": [],
   "source": [
    "ec_group_plan_shares = []\n",
    "ec_group_actual_shares = []\n",
    "for col in clean_column_names(share_economic_group_columns):\n",
    "    if re.search(\"plan\", col):\n",
    "        ec_group_plan_shares.append(col)\n",
    "    if re.search(\"actual\", col):\n",
    "        ec_group_actual_shares.append(col)\n",
    "\n",
    "ec_group_actual_shares"
   ]
  },
  {
   "cell_type": "code",
   "execution_count": null,
   "metadata": {
    "code_folding": [
     0
    ],
    "collapsed": false
   },
   "outputs": [],
   "source": [
    "# crazy thing\n",
    "= [('mean_plan_share', 'Administrative transfers from the budget from direct budget users to indirect budget users or between users of the budget at the same level and reserve funds'),\n",
    "       ('mean_plan_share', 'Compensation of employees'),\n",
    "       ('mean_plan_share', 'Donations, grants and transfers'),\n",
    "       ('mean_plan_share', 'Fixed assets'),\n",
    "       ('mean_plan_share', 'Interest paid and the accompanying costs of borrowing'),\n",
    "       ('mean_plan_share', 'Inventories'),\n",
    "       ('mean_plan_share', 'Non-financial assets that are financed from the funds for the realization of the National Investment Plan'),\n",
    "       ('mean_plan_share', 'Nonproduced Assets'),\n",
    "       ('mean_plan_share', 'Other expenses'),\n",
    "       ('mean_plan_share', 'Purchase of financial assets'),\n",
    "       ('mean_plan_share', 'Repayment of principal'),\n",
    "       ('mean_plan_share', 'Social security and social protection'),\n",
    "       ('mean_plan_share', 'Use of goods and services'),\n",
    "       ('mean_plan_share', 'Valuables'),\n",
    "       ('mean_plan_share', 'depreciation and use of the funds for work'),\n",
    "       ('mean_plan_share', 'subsidies'),\n",
    "       ('mean_plan_share', 'unclassified')]\n",
    "\n",
    " = [('mean_actual_share', 'Administrative transfers from the budget from direct budget users to indirect budget users or between users of the budget at the same level and reserve funds'),\n",
    "       ('mean_actual_share', 'Compensation of employees'),\n",
    "       ('mean_actual_share', 'Donations, grants and transfers'),\n",
    "       ('mean_actual_share', 'Fixed assets'),\n",
    "       ('mean_actual_share', 'Interest paid and the accompanying costs of borrowing'),\n",
    "       ('mean_actual_share', 'Inventories'),\n",
    "       ('mean_actual_share', 'Non-financial assets that are financed from the funds for the realization of the National Investment Plan'),\n",
    "       ('mean_actual_share', 'Nonproduced Assets'),\n",
    "       ('mean_actual_share', 'Other expenses'),\n",
    "       ('mean_actual_share', 'Purchase of financial assets'),\n",
    "       ('mean_actual_share', 'Repayment of principal'),\n",
    "       ('mean_actual_share', 'Social security and social protection'),\n",
    "       ('mean_actual_share', 'Use of goods and services'),\n",
    "       ('mean_actual_share', 'Valuables'),\n",
    "       ('mean_actual_share', 'depreciation and use of the funds for work'),\n",
    "       ('mean_actual_share', 'subsidies'),\n",
    "       ('mean_actual_share', 'unclassified')]"
   ]
  },
  {
   "cell_type": "code",
   "execution_count": null,
   "metadata": {
    "collapsed": false
   },
   "outputs": [],
   "source": [
    "func_div_mean_plan_shares = [('mean_plan_share', 'Defence'),\n",
    "       ('mean_plan_share', 'Economic Affairs'),\n",
    "       ('mean_plan_share', 'Education'),\n",
    "       ('mean_plan_share', 'Environmental Protection'),\n",
    "       ('mean_plan_share', 'General Public Services'),\n",
    "       ('mean_plan_share', 'Health'),\n",
    "       ('mean_plan_share', 'Housing and Community Amenities'),\n",
    "       ('mean_plan_share', 'Public Order and Safety'),\n",
    "       ('mean_plan_share', 'Recreation, Culture and Religion'),\n",
    "       ('mean_plan_share', 'Social Protection')]\n",
    "\n",
    "func_div_mean_actual_shares = [('mean_actual_share', 'Defence'),\n",
    "       ('mean_actual_share', 'Economic Affairs'),\n",
    "       ('mean_actual_share', 'Education'),\n",
    "       ('mean_actual_share', 'Environmental Protection'),\n",
    "       ('mean_actual_share', 'General Public Services'),\n",
    "       ('mean_actual_share', 'Health'),\n",
    "       ('mean_actual_share', 'Housing and Community Amenities'),\n",
    "       ('mean_actual_share', 'Public Order and Safety'),\n",
    "       ('mean_actual_share', 'Recreation, Culture and Religion'),\n",
    "       ('mean_actual_share', 'Social Protection')]\n"
   ]
  },
  {
   "cell_type": "code",
   "execution_count": null,
   "metadata": {
    "collapsed": false
   },
   "outputs": [],
   "source": [
    "l4_mean_income_shares = ['Donations and transfers', 'Income from domestic borrowing',\n",
    "                       'Income from foreign borrowing', 'Income from the budget',\n",
    "                       'Income from the sale of domestic financial assets',\n",
    "                       'Income from the sale of fixed assets',\n",
    "                       'Income from the sale of foreign financial assets',\n",
    "                       'Income from the sale of inventory',\n",
    "                       'Income from the sale of nonproduced assets',\n",
    "                       'Income from the sale of valuables',\n",
    "                       'Memorandum items for the refunding of expenditures',\n",
    "                       'Other income', 'Social contributions', 'Taxes',\n",
    "                       'Transfers between budget users of the same level']"
   ]
  },
  {
   "cell_type": "markdown",
   "metadata": {},
   "source": []
  },
  {
   "cell_type": "code",
   "execution_count": null,
   "metadata": {
    "collapsed": false
   },
   "outputs": [],
   "source": [
    "maindf.columns = clean_column_names(maindf.columns)"
   ]
  },
  {
   "cell_type": "code",
   "execution_count": null,
   "metadata": {
    "collapsed": false
   },
   "outputs": [],
   "source": [
    "things_to_pairplot = np.array(maindf[ec_group_mean_plan_shares + ['Donations and transfers']].fillna(0).sum().sort_values()[-5:].index)"
   ]
  },
  {
   "cell_type": "code",
   "execution_count": null,
   "metadata": {
    "collapsed": false,
    "scrolled": false
   },
   "outputs": [],
   "source": [
    "sns.set()\n",
    "sns.set_context()\n",
    "sns.pairplot(maindf[things_to_pairplot].fillna(0), kind='reg', size=4)"
   ]
  },
  {
   "cell_type": "code",
   "execution_count": null,
   "metadata": {
    "collapsed": false
   },
   "outputs": [],
   "source": [
    "budgetsdf.head()"
   ]
  },
  {
   "cell_type": "markdown",
   "metadata": {},
   "source": [
    "## Mun Type Bins"
   ]
  },
  {
   "cell_type": "markdown",
   "metadata": {},
   "source": [
    "### Explore Income vs Budget/Expend"
   ]
  },
  {
   "cell_type": "markdown",
   "metadata": {},
   "source": [
    "# DEMOGRAPHICS"
   ]
  },
  {
   "cell_type": "markdown",
   "metadata": {},
   "source": [
    "## Pre-processing"
   ]
  },
  {
   "cell_type": "markdown",
   "metadata": {},
   "source": [
    "## Population Data"
   ]
  },
  {
   "cell_type": "markdown",
   "metadata": {},
   "source": [
    "### Load and set-up"
   ]
  },
  {
   "cell_type": "code",
   "execution_count": null,
   "metadata": {
    "collapsed": true
   },
   "outputs": [],
   "source": []
  },
  {
   "cell_type": "code",
   "execution_count": null,
   "metadata": {
    "collapsed": false,
    "scrolled": true
   },
   "outputs": [],
   "source": [
    "# load the dataset\n",
    "basic_populationdf = pd.read_excel(\"./Demographics/Opstine I Regioni 2015/Povezani Podaci/basic_population_area.xlsx\")"
   ]
  },
  {
   "cell_type": "code",
   "execution_count": null,
   "metadata": {
    "collapsed": false,
    "scrolled": true
   },
   "outputs": [],
   "source": [
    "# get rid of rows with null district (region totals, etc)\n",
    "basic_populationdf.drop(basic_populationdf[basic_populationdf.mb.isnull()].index,inplace=1)"
   ]
  },
  {
   "cell_type": "code",
   "execution_count": null,
   "metadata": {
    "collapsed": false,
    "scrolled": true
   },
   "outputs": [],
   "source": [
    "# explore dtpyptes and column names\n",
    "print basic_populationdf.dtypes\n",
    "print basic_populationdf.columns"
   ]
  },
  {
   "cell_type": "code",
   "execution_count": null,
   "metadata": {
    "collapsed": false,
    "scrolled": true
   },
   "outputs": [],
   "source": [
    "# change variable types to int and float\n",
    "basic_populationdf.mb = basic_populationdf.mb.astype(np.int32)\n",
    "for var in [u'broj_naselja', u'stanovnistvo_ukupno', u'stanovnistvo_km2', u'registrovane_mesne_zajednice', u'mesne_kancelarije']:\n",
    "    basic_populationdf[var] = basic_populationdf[var].astype(float, raise_on_error=False)\n"
   ]
  },
  {
   "cell_type": "code",
   "execution_count": null,
   "metadata": {
    "collapsed": false,
    "scrolled": true
   },
   "outputs": [],
   "source": [
    "basic_populationdf.info()"
   ]
  },
  {
   "cell_type": "markdown",
   "metadata": {},
   "source": [
    "*Note from above, there are only 173 districts with complete population data. That is odd? It could be because of the \"-\" values that had to be removed. It also could be due to Kosovo. Let's see which ones they are."
   ]
  },
  {
   "cell_type": "code",
   "execution_count": null,
   "metadata": {
    "collapsed": false,
    "scrolled": true
   },
   "outputs": [],
   "source": [
    "basic_populationdf[basic_populationdf.stanovnistvo_ukupno.isnull()]"
   ]
  },
  {
   "cell_type": "markdown",
   "metadata": {},
   "source": [
    "*it seems that the missing data is mostly due to kosovo entries which shouldn't be an issue"
   ]
  },
  {
   "cell_type": "markdown",
   "metadata": {},
   "source": [
    "### Merging Population to mundf"
   ]
  },
  {
   "cell_type": "markdown",
   "metadata": {},
   "source": [
    "First, we perform the merge. "
   ]
  },
  {
   "cell_type": "code",
   "execution_count": null,
   "metadata": {
    "collapsed": false,
    "scrolled": true
   },
   "outputs": [],
   "source": [
    "inc_budg_pop_df = incomes_budgets_df.merge(basic_populationdf[[u'mb', u'povrsina_km2', u'stanovnistvo_ukupno']], how=\"left\",on=\"mb\").copy()"
   ]
  },
  {
   "cell_type": "markdown",
   "metadata": {},
   "source": [
    "### Examine types, missing vals, etc."
   ]
  },
  {
   "cell_type": "code",
   "execution_count": null,
   "metadata": {
    "collapsed": false
   },
   "outputs": [],
   "source": [
    "inc_budg_pop_df.info()"
   ]
  },
  {
   "cell_type": "markdown",
   "metadata": {},
   "source": [
    "Comments:\n",
    "- We see that population is missing for 5 entries. We exame that below."
   ]
  },
  {
   "cell_type": "code",
   "execution_count": null,
   "metadata": {
    "collapsed": false
   },
   "outputs": [],
   "source": [
    "inc_budg_pop_df[inc_budg_pop_df.stanovnistvo_ukupno.isnull()]"
   ]
  },
  {
   "cell_type": "markdown",
   "metadata": {},
   "source": [
    "- it turns out that uzice is the problem. Apparently the statistics office lists \"Uzice City\" and \"Uzice\" separately, which no one else does, and hence their is missing data on the subfield \"Uzice\". I replace the ID of Uzice City with that of Uzice and resolve the problem in this. The missing values should not occur the next time the dataset is loaded. \n",
    "- yup, worked out!"
   ]
  },
  {
   "cell_type": "code",
   "execution_count": null,
   "metadata": {
    "collapsed": false
   },
   "outputs": [],
   "source": [
    "inc_budg_pop_df.describe(include=[\"number\"])"
   ]
  },
  {
   "cell_type": "markdown",
   "metadata": {},
   "source": [
    "The max value for budget plan listed above is totally absurd, we check that below:"
   ]
  },
  {
   "cell_type": "code",
   "execution_count": null,
   "metadata": {
    "collapsed": false,
    "scrolled": true
   },
   "outputs": [],
   "source": [
    "inc_budg_pop_df.sort_values(\"plan\", ascending=0).head()"
   ]
  },
  {
   "cell_type": "markdown",
   "metadata": {},
   "source": [
    "No idea how that is still there... We get rid of it and continue..."
   ]
  },
  {
   "cell_type": "code",
   "execution_count": null,
   "metadata": {
    "collapsed": false
   },
   "outputs": [],
   "source": [
    "inc_budg_pop_df.drop(706, inplace=1)"
   ]
  },
  {
   "cell_type": "code",
   "execution_count": null,
   "metadata": {
    "collapsed": false
   },
   "outputs": [],
   "source": [
    "inc_budg_pop_df.sort_values(\"plan\", ascending=0).head()"
   ]
  },
  {
   "cell_type": "markdown",
   "metadata": {},
   "source": [
    "We now rename and resort the columns. "
   ]
  },
  {
   "cell_type": "code",
   "execution_count": null,
   "metadata": {
    "collapsed": false
   },
   "outputs": [],
   "source": [
    "inc_budg_pop_df.columns"
   ]
  },
  {
   "cell_type": "code",
   "execution_count": null,
   "metadata": {
    "collapsed": true
   },
   "outputs": [],
   "source": [
    "inc_budg_pop_df.columns = [u'mb', u'year', u'income', u'transfers', u'budget', u'expenditure', u'mun', u'area', u'population']"
   ]
  },
  {
   "cell_type": "code",
   "execution_count": null,
   "metadata": {
    "collapsed": true
   },
   "outputs": [],
   "source": [
    "inc_budg_pop_df = inc_budg_pop_df[[u'mb', u'mun', u'year', u'budget', u'expenditure', u'income', u'transfers', u'area', u'population']]"
   ]
  },
  {
   "cell_type": "code",
   "execution_count": null,
   "metadata": {
    "collapsed": false,
    "scrolled": true
   },
   "outputs": [],
   "source": [
    "inc_budg_pop_df.head()"
   ]
  },
  {
   "cell_type": "code",
   "execution_count": null,
   "metadata": {
    "collapsed": false,
    "scrolled": false
   },
   "outputs": [],
   "source": [
    "inc_budg_pop_df[inc_budg_pop_df.mb == 79014]"
   ]
  },
  {
   "cell_type": "markdown",
   "metadata": {},
   "source": [
    "### Create Per Capita Variables and Explore Trends"
   ]
  },
  {
   "cell_type": "code",
   "execution_count": null,
   "metadata": {
    "collapsed": false,
    "scrolled": true
   },
   "outputs": [],
   "source": [
    "for var in [\"income\", \"budget\", \"expenditure\", \"transfers\"]:\n",
    "    inc_budg_pop_df[var +\"_percap\"] = inc_budg_pop_df[var] / inc_budg_pop_df.population"
   ]
  },
  {
   "cell_type": "code",
   "execution_count": null,
   "metadata": {
    "collapsed": false,
    "scrolled": true
   },
   "outputs": [],
   "source": [
    "inc_budg_pop_df.groupby(\"mun\").budget_percap.mean().sort_values(ascending=0)"
   ]
  },
  {
   "cell_type": "markdown",
   "metadata": {},
   "source": [
    "Notes on budgets per capita:\n",
    "   - Bosilegrad is supposed to be one of the poorest districts, how is it's budget per capita so high? (MDULS says: \"High transfers for development, makes sense\")"
   ]
  },
  {
   "cell_type": "code",
   "execution_count": null,
   "metadata": {
    "collapsed": false,
    "scrolled": true
   },
   "outputs": [],
   "source": [
    "plt.figure(figsize=(10,40))\n",
    "data = inc_budg_pop_df.groupby(\"mun\").budget_percap.mean().copy()\n",
    "data.sort_values(inplace=1, ascending=0)\n",
    "x = np.array(data.index)\n",
    "y = np.array(data.values)\n",
    "\n",
    "sns.barplot(y,x, color='blue', alpha=.4)\n",
    "\n",
    "# rotate x labels\n",
    "locs, labels = plt.xticks()\n",
    "plt.setp(labels, rotation=90);\n",
    "\n",
    "# set label and title values\n",
    "plt.ylabel('Municipality')\n",
    "plt.xlabel(\"Per Capita Budget\")\n",
    "plt.title(\"Average Per Capita Budget Through 2011-2015\");"
   ]
  },
  {
   "cell_type": "code",
   "execution_count": null,
   "metadata": {
    "collapsed": false
   },
   "outputs": [],
   "source": [
    "plt.figure(figsize=(10,40))\n",
    "data = inc_budg_pop_df.groupby(\"mun\").transfers_percap.mean().copy()\n",
    "data.sort_values(inplace=1, ascending=0)\n",
    "x = np.array(data.index)\n",
    "y = np.array(data.values)\n",
    "\n",
    "sns.barplot(y,x, color='blue', alpha=.4)\n",
    "\n",
    "# rotate x labels\n",
    "locs, labels = plt.xticks()\n",
    "plt.setp(labels, rotation=90);\n",
    "\n",
    "# set label and title values\n",
    "plt.ylabel('Municipality')\n",
    "plt.xlabel(\"Per Capita Budget\")\n",
    "plt.title(\"Average Per Capita Transfers Through 2011-2015\");"
   ]
  },
  {
   "cell_type": "markdown",
   "metadata": {},
   "source": [
    "# POLITICAL"
   ]
  },
  {
   "cell_type": "markdown",
   "metadata": {},
   "source": [
    "## Load and sort out data"
   ]
  },
  {
   "cell_type": "code",
   "execution_count": null,
   "metadata": {
    "collapsed": true
   },
   "outputs": [],
   "source": [
    "inpower_2012_df = pd.read_csv(\"./Political Party Switches/inpower_preelec_2012.csv\")"
   ]
  },
  {
   "cell_type": "code",
   "execution_count": null,
   "metadata": {
    "collapsed": false
   },
   "outputs": [],
   "source": [
    "inpower_2012_df.head()"
   ]
  },
  {
   "cell_type": "code",
   "execution_count": null,
   "metadata": {
    "collapsed": false
   },
   "outputs": [],
   "source": [
    "# get rid of random column\n",
    "inpower_2012_df.drop(\"Unnamed: 0\", axis=1,inplace=1)"
   ]
  },
  {
   "cell_type": "code",
   "execution_count": null,
   "metadata": {
    "collapsed": false
   },
   "outputs": [],
   "source": [
    "inpower_2012_df.info()"
   ]
  },
  {
   "cell_type": "code",
   "execution_count": null,
   "metadata": {
    "collapsed": false
   },
   "outputs": [],
   "source": [
    "inpower_2012_df.columns = [u'mb', u'pe_party_id', u'pe_party_abr', u'pe_party_full']"
   ]
  },
  {
   "cell_type": "code",
   "execution_count": null,
   "metadata": {
    "collapsed": false
   },
   "outputs": [],
   "source": [
    "inpower_2013_df = pd.read_csv(\"./Political Party Switches/inpower_2013.csv\")"
   ]
  },
  {
   "cell_type": "code",
   "execution_count": null,
   "metadata": {
    "collapsed": false
   },
   "outputs": [],
   "source": [
    "inpower_2013_df.drop(\"Unnamed: 0\", axis=1,inplace=1)\n",
    "inpower_2013_df.head()"
   ]
  },
  {
   "cell_type": "code",
   "execution_count": null,
   "metadata": {
    "collapsed": true
   },
   "outputs": [],
   "source": [
    "inpower_2013_df.columns = [u'mb', u'party13_id', u'party13_abr', u'party13_full']"
   ]
  },
  {
   "cell_type": "markdown",
   "metadata": {},
   "source": [
    "## Annual Data"
   ]
  },
  {
   "cell_type": "code",
   "execution_count": null,
   "metadata": {
    "collapsed": false
   },
   "outputs": [],
   "source": [
    "apaneldf = pd.read_csv(\"./exports/annual_political_full_detail.csv\")"
   ]
  },
  {
   "cell_type": "code",
   "execution_count": null,
   "metadata": {
    "code_folding": [],
    "collapsed": false,
    "scrolled": true
   },
   "outputs": [],
   "source": [
    "# convert date to years in int\n",
    "apaneldf.date = apaneldf.date.str.replace(\"-\\d\\d-\\d\\d\",\"\").astype(int)"
   ]
  },
  {
   "cell_type": "code",
   "execution_count": null,
   "metadata": {
    "collapsed": false
   },
   "outputs": [],
   "source": [
    "print apaneldf.info()\n",
    "apaneldf.head()"
   ]
  },
  {
   "cell_type": "code",
   "execution_count": null,
   "metadata": {
    "collapsed": true
   },
   "outputs": [],
   "source": []
  },
  {
   "cell_type": "markdown",
   "metadata": {},
   "source": [
    "## Mege Political Data to Maindf"
   ]
  },
  {
   "cell_type": "code",
   "execution_count": null,
   "metadata": {
    "collapsed": false
   },
   "outputs": [],
   "source": [
    "maindf = inc_budg_pop_df.merge(inpower_2012_df, how=\"left\", on=\"mb\").copy()\n",
    "maindf = maindf.merge(inpower_2013_df, how=\"left\", on=\"mb\").copy()\n"
   ]
  },
  {
   "cell_type": "code",
   "execution_count": null,
   "metadata": {
    "collapsed": false
   },
   "outputs": [],
   "source": [
    "maindf.head()"
   ]
  },
  {
   "cell_type": "code",
   "execution_count": null,
   "metadata": {
    "collapsed": false
   },
   "outputs": [],
   "source": [
    "maindf.info()"
   ]
  },
  {
   "cell_type": "markdown",
   "metadata": {},
   "source": [
    "####  Output Maindf to csv"
   ]
  },
  {
   "cell_type": "code",
   "execution_count": null,
   "metadata": {
    "collapsed": true
   },
   "outputs": [],
   "source": [
    "maindf.to_csv(\"maindf.csv\")"
   ]
  },
  {
   "cell_type": "markdown",
   "metadata": {},
   "source": [
    "# HYPOTHESES"
   ]
  },
  {
   "cell_type": "markdown",
   "metadata": {},
   "source": [
    "## Relative change controlling for overall change"
   ]
  },
  {
   "cell_type": "markdown",
   "metadata": {},
   "source": [
    "** Calculate Share Changes **"
   ]
  },
  {
   "cell_type": "code",
   "execution_count": null,
   "metadata": {
    "collapsed": false
   },
   "outputs": [],
   "source": [
    "# get total transfers by year\n",
    "transfers = incomesdf[incomesdf.l6_name_english == 'Transfers from other level of government'].copy()\n",
    "transfers_munyeardf = transfers.groupby([\"mun_id\",\"year\"]).sum().drop([\"l2\",\"l4\",\"l3\",\"l6\"], axis=1).unstack(level=1)\n",
    "\n",
    "\n",
    "#normalize\n",
    "norm_transfers_munyeardf = pd.DataFrame()\n",
    "\n",
    "for col in transfers_munyeardf.columns:\n",
    "    norm_transfers_munyeardf[col] = (transfers_munyeardf[col] / transfers_munyeardf[col].sum()).copy()\n",
    "\n",
    "def change(df):\n",
    "    x11 = df[('income_value',2011)] == 0\n",
    "    x13 = df[('income_value',2013)] == 0\n",
    "    if x11 & x13:\n",
    "        return 0    \n",
    "    if  ~x11 & x13:\n",
    "        return -1\n",
    "    if x11 &  ~x13:\n",
    "        return 2\n",
    "    else:\n",
    "        return ((df[('income_value',2013)] - df[('income_value',2011)])/df[('income_value',2011)]).copy()\n",
    "\n",
    "#find 2011, 2013 difference\n",
    "share_change = pd.DataFrame()\n",
    "share_change[\"norm_percent_change\"] = norm_transfers_munyeardf.apply(change, axis=1) * 100"
   ]
  },
  {
   "cell_type": "markdown",
   "metadata": {},
   "source": [
    "** Alignment Changes **"
   ]
  },
  {
   "cell_type": "code",
   "execution_count": null,
   "metadata": {
    "code_folding": [],
    "collapsed": false
   },
   "outputs": [],
   "source": [
    "def gov_change(df):\n",
    "    if np.isnan(df[\"ingov11\"])  | np.isnan(df[\"ingov13\"]):\n",
    "        return np.nan\n",
    "    \n",
    "    if (df[\"ingov11\"] != 1) & (df[\"ingov13\"] != 1):\n",
    "        return \"3unaligned both years\"\n",
    "    \n",
    "    if (df[\"ingov11\"] == 1) & (df[\"ingov13\"] == 1):\n",
    "        return \"2aligned both years\"\n",
    "    \n",
    "    if (df[\"ingov11\"] != 1) & (df[\"ingov13\"] == 1):\n",
    "        return \"1became aligned\"\n",
    "    \n",
    "    if (df[\"ingov11\"] == 1) & (df[\"ingov13\"] != 1):\n",
    "        return \"4stopped being aligned\"\n",
    "    \n",
    "share_change[\"ingov11\"] = apaneldf[apaneldf.date == 2011].set_index(\"mb\").in_gov11\n",
    "share_change[\"ingov13\"] = apaneldf[apaneldf.date == 2013].set_index(\"mb\").ingov12\n",
    "\n",
    "share_change[\"gov_change\"] = share_change.apply(gov_change, axis=1)\n",
    "\n",
    "share_change[\"mun\"] = municipal_codes_df.set_index(\"mb\")\n",
    "share_change.sort_values(\"norm_percent_change\", ascending=0, inplace=1)\n"
   ]
  },
  {
   "cell_type": "code",
   "execution_count": null,
   "metadata": {
    "collapsed": false
   },
   "outputs": [],
   "source": [
    "share_change.gov_change = share_change.gov_change.astype(\"category\")\n",
    "share_change.gov_change.unique().reorder_categories([\"1became aligned\",\"2aligned both years\",\n",
    "                                                     \"3unaligned both years\",\"4stopped being aligned\"], ordered=True)"
   ]
  },
  {
   "cell_type": "code",
   "execution_count": null,
   "metadata": {
    "collapsed": false
   },
   "outputs": [],
   "source": [
    "fig, ax = plt.subplots(figsize=(15,10))\n",
    "ax.xaxis.set_major_formatter(ticker.FuncFormatter(millify))\n",
    "\n",
    "# rotate x labels\n",
    "locs, labels = plt.yticks()\n",
    "plt.setp(labels, rotation=45);\n",
    "plt.grid()\n",
    "\n",
    "plt.axvline(0,color='black',alpha=.6,ls='dashed',lw=2)\n",
    "sns.swarmplot(\"norm_percent_change\", \"gov_change\" ,data=share_change.dropna(), color='black', size=7)\n",
    "sns.boxplot(\"norm_percent_change\", \"gov_change\" ,data=share_change.dropna(),\n",
    "            meanprops={'linewidth':2, 'color':'red'}, meanline=1, showmeans=1)\n",
    "\n",
    "title = \"Changes in Transfers from 2011 to 2013 by Municipality Alignment\"\n",
    "subtitle = \"Depending on alignment with national coalition pre and after 2012 election\"\n",
    "plt.title(title)\n",
    "\n",
    "# axes options\n",
    "ax.spines['left'].set_visible(False)\n",
    "ax.spines['right'].set_visible(False)\n",
    "ax.spines['top'].set_visible(False)\n",
    "ax.tick_params(axis='x',which='major', direction='out', width=1,length=5,bottom='on',top=\"off\",color='grey')\n",
    "\n",
    "ax.set_ylabel(\"\")\n",
    "\n",
    "ax.set_xlabel(\"Normalized Percent Change\")\n",
    "\n",
    "plt.savefig(\"./exports/\" + title, bbox_inches='tight')"
   ]
  },
  {
   "cell_type": "code",
   "execution_count": null,
   "metadata": {
    "collapsed": false
   },
   "outputs": [],
   "source": [
    "share_change.dropna().head()"
   ]
  },
  {
   "cell_type": "code",
   "execution_count": null,
   "metadata": {
    "collapsed": false
   },
   "outputs": [],
   "source": [
    "maindf_12pol = maindf[(maindf[\"pe_party_id\"].notnull()) & (maindf.year == 2012)].copy()\n",
    "maindf_12pol.pe_party_abr.value_counts()[:10]"
   ]
  },
  {
   "cell_type": "code",
   "execution_count": null,
   "metadata": {
    "collapsed": false
   },
   "outputs": [],
   "source": [
    "maindf_13pol = maindf[(maindf[\"party13_id\"].notnull()) & (maindf.year == 2013)].copy()\n",
    "maindf_13pol.party13_abr.value_counts()[:10]"
   ]
  },
  {
   "cell_type": "code",
   "execution_count": null,
   "metadata": {
    "collapsed": false
   },
   "outputs": [],
   "source": [
    "maindf_12pol.head()"
   ]
  },
  {
   "cell_type": "markdown",
   "metadata": {},
   "source": [
    "### Comparing Means in 2012"
   ]
  },
  {
   "cell_type": "markdown",
   "metadata": {},
   "source": [
    "#### Transfers"
   ]
  },
  {
   "cell_type": "code",
   "execution_count": null,
   "metadata": {
    "collapsed": false
   },
   "outputs": [],
   "source": [
    "maindf_12pol.transfers_percap.mean()"
   ]
  },
  {
   "cell_type": "code",
   "execution_count": null,
   "metadata": {
    "collapsed": false
   },
   "outputs": [],
   "source": [
    "maindf_12pol[maindf_12pol.pe_party_abr == \"DS\"].transfers_percap.mean()"
   ]
  },
  {
   "cell_type": "code",
   "execution_count": null,
   "metadata": {
    "collapsed": false
   },
   "outputs": [],
   "source": [
    "maindf_12pol[maindf_12pol.pe_party_abr == \"SPS\"].transfers_percap.mean()"
   ]
  },
  {
   "cell_type": "code",
   "execution_count": null,
   "metadata": {
    "collapsed": false
   },
   "outputs": [],
   "source": [
    "maindf_12pol[maindf_12pol.pe_party_abr.apply(lambda x: x not in [\"DS\",\"SPS\"])].transfers_percap.mean()"
   ]
  },
  {
   "cell_type": "code",
   "execution_count": null,
   "metadata": {
    "collapsed": false
   },
   "outputs": [],
   "source": [
    "maindf_12pol[maindf_12pol.pe_party_abr != \"DS\"].transfers_percap.mean()"
   ]
  },
  {
   "cell_type": "code",
   "execution_count": null,
   "metadata": {
    "collapsed": false
   },
   "outputs": [],
   "source": [
    "maindf_12pol[maindf_12pol.pe_party_abr.apply(lambda x: x in [\"URS\",\"G17+\"])].transfers_percap.mean()"
   ]
  },
  {
   "cell_type": "code",
   "execution_count": null,
   "metadata": {
    "collapsed": false
   },
   "outputs": [],
   "source": [
    "maindf_12pol[maindf_12pol.pe_party_abr.apply(lambda x: x not in [\"DS\",\"SPS\",\"URS\"])].transfers_percap.mean()"
   ]
  },
  {
   "cell_type": "code",
   "execution_count": null,
   "metadata": {
    "collapsed": false
   },
   "outputs": [],
   "source": [
    "maindf_12pol[maindf_12pol.pe_party_abr.apply(lambda x: x in [\"URS\",\"G17+\"])][[\"mb\",\"mun\",\"pe_party_abr\",\"transfers_percap\"]]"
   ]
  },
  {
   "cell_type": "markdown",
   "metadata": {},
   "source": [
    "#### Expenditure"
   ]
  },
  {
   "cell_type": "code",
   "execution_count": null,
   "metadata": {
    "collapsed": false
   },
   "outputs": [],
   "source": [
    "maindf_12pol[maindf_12pol.pe_party_abr == \"DS\"].expenditure_percap.mean()"
   ]
  },
  {
   "cell_type": "code",
   "execution_count": null,
   "metadata": {
    "collapsed": false
   },
   "outputs": [],
   "source": [
    "maindf_12pol[maindf_12pol.pe_party_abr != \"DS\"].expenditure_percap.mean()"
   ]
  },
  {
   "cell_type": "code",
   "execution_count": null,
   "metadata": {
    "collapsed": false
   },
   "outputs": [],
   "source": [
    "maindf_12pol[maindf_12pol.pe_party_abr.apply(lambda x: x in [\"URS\",\"G17+\"])].expenditure_percap.mean()"
   ]
  },
  {
   "cell_type": "markdown",
   "metadata": {},
   "source": [
    "### Comparing Means in 2013"
   ]
  },
  {
   "cell_type": "markdown",
   "metadata": {},
   "source": [
    "#### Transfers"
   ]
  },
  {
   "cell_type": "code",
   "execution_count": null,
   "metadata": {
    "collapsed": false
   },
   "outputs": [],
   "source": [
    "maindf_13pol.transfers_percap.mean()"
   ]
  },
  {
   "cell_type": "code",
   "execution_count": null,
   "metadata": {
    "collapsed": false
   },
   "outputs": [],
   "source": [
    "maindf_13pol[maindf_13pol.party13_abr == \"DS\"].transfers_percap.mean()"
   ]
  },
  {
   "cell_type": "code",
   "execution_count": null,
   "metadata": {
    "collapsed": false
   },
   "outputs": [],
   "source": [
    "maindf_13pol[maindf_13pol.party13_abr != \"DS\"].transfers_percap.mean()"
   ]
  },
  {
   "cell_type": "code",
   "execution_count": null,
   "metadata": {
    "collapsed": false
   },
   "outputs": [],
   "source": [
    "maindf_13pol[maindf_13pol.party13_abr == \"SNS\"].transfers_percap.mean()"
   ]
  },
  {
   "cell_type": "code",
   "execution_count": null,
   "metadata": {
    "collapsed": false
   },
   "outputs": [],
   "source": [
    "maindf_13pol[maindf_13pol.party13_abr == \"URS\"].transfers_percap.mean()"
   ]
  },
  {
   "cell_type": "markdown",
   "metadata": {},
   "source": [
    "### Regression on in DS or not"
   ]
  },
  {
   "cell_type": "code",
   "execution_count": null,
   "metadata": {
    "collapsed": false
   },
   "outputs": [],
   "source": [
    "maindf_12pol.info()"
   ]
  },
  {
   "cell_type": "markdown",
   "metadata": {},
   "source": [
    "#### 2012 Regressions"
   ]
  },
  {
   "cell_type": "code",
   "execution_count": null,
   "metadata": {
    "collapsed": false
   },
   "outputs": [],
   "source": [
    "maindf_12pol[\"in_DS\"] = maindf_12pol.pe_party_id.apply(lambda x: (x != 2)*1)"
   ]
  },
  {
   "cell_type": "code",
   "execution_count": null,
   "metadata": {
    "collapsed": false
   },
   "outputs": [],
   "source": [
    "from statsmodels.discrete import discrete_model as dm\n",
    "\n",
    "model = dm.Logit(maindf_12pol.in_DS, maindf_12pol.budget_percap, missing=\"drop\")\n",
    "results = model.fit()\n",
    "print(results.summary())"
   ]
  },
  {
   "cell_type": "code",
   "execution_count": null,
   "metadata": {
    "collapsed": false
   },
   "outputs": [],
   "source": [
    "model = dm.Logit(maindf_12pol.in_DS, maindf_12pol.transfers_percap, missing=\"drop\")\n",
    "results = model.fit()\n",
    "print(results.summary())"
   ]
  },
  {
   "cell_type": "code",
   "execution_count": null,
   "metadata": {
    "collapsed": false
   },
   "outputs": [],
   "source": [
    "model = dm.Logit(maindf_12pol.in_DS, maindf_12pol.expenditure_percap, missing=\"drop\")\n",
    "results = model.fit()\n",
    "print(results.summary())"
   ]
  },
  {
   "cell_type": "markdown",
   "metadata": {},
   "source": [
    "#### 2013 Regressions"
   ]
  },
  {
   "cell_type": "code",
   "execution_count": null,
   "metadata": {
    "collapsed": true
   },
   "outputs": [],
   "source": [
    "maindf_13pol[\"in_SNS\"] = maindf_13pol.pe_party_abr.apply(lambda x: (x == \"SNS\")*1)"
   ]
  },
  {
   "cell_type": "code",
   "execution_count": null,
   "metadata": {
    "collapsed": true
   },
   "outputs": [],
   "source": [
    "maindf_13pol[\"in_SNS_SPS_URS\"] = maindf_13pol.pe_party_abr.apply(lambda x: (x in [\"SNS\",\"SPS\",\"URS\"])*1)"
   ]
  },
  {
   "cell_type": "code",
   "execution_count": null,
   "metadata": {
    "collapsed": false
   },
   "outputs": [],
   "source": [
    "maindf_13pol[maindf_13pol.budget.isnull()]"
   ]
  },
  {
   "cell_type": "code",
   "execution_count": null,
   "metadata": {
    "collapsed": false
   },
   "outputs": [],
   "source": [
    "model = dm.Logit(maindf_13pol.in_SNS, maindf_13pol.budget_percap, missing=\"drop\")\n",
    "results = model.fit()\n",
    "print(results.summary())"
   ]
  },
  {
   "cell_type": "code",
   "execution_count": null,
   "metadata": {
    "collapsed": false
   },
   "outputs": [],
   "source": [
    "model = dm.Logit(maindf_13pol.in_SNS_SPS_URS, maindf_13pol.budget_percap, missing=\"drop\")\n",
    "results = model.fit()\n",
    "print(results.summary())"
   ]
  },
  {
   "cell_type": "code",
   "execution_count": null,
   "metadata": {
    "collapsed": false
   },
   "outputs": [],
   "source": [
    "model = dm.Logit(maindf_13pol.in_SNS, maindf_13pol.transfers_percap, missing=\"drop\")\n",
    "results = model.fit()\n",
    "print(results.summary())"
   ]
  },
  {
   "cell_type": "code",
   "execution_count": null,
   "metadata": {
    "collapsed": false
   },
   "outputs": [],
   "source": [
    "model = dm.Logit(maindf_13pol.in_SNS_SPS_URS, maindf_13pol.transfers_percap, missing=\"drop\")\n",
    "results = model.fit()\n",
    "print(results.summary())"
   ]
  },
  {
   "cell_type": "code",
   "execution_count": null,
   "metadata": {
    "collapsed": true
   },
   "outputs": [],
   "source": []
  }
 ],
 "metadata": {
  "kernelspec": {
   "display_name": "Python 2",
   "language": "python",
   "name": "python2"
  },
  "language_info": {
   "codemirror_mode": {
    "name": "ipython",
    "version": 2
   },
   "file_extension": ".py",
   "mimetype": "text/x-python",
   "name": "python",
   "nbconvert_exporter": "python",
   "pygments_lexer": "ipython2",
   "version": "2.7.11"
  }
 },
 "nbformat": 4,
 "nbformat_minor": 0
}
