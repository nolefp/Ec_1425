{
 "cells": [
  {
   "cell_type": "code",
   "execution_count": 1,
   "metadata": {
    "collapsed": false
   },
   "outputs": [
    {
     "name": "stderr",
     "output_type": "stream",
     "text": [
      "C:\\Users\\nolefp\\Anaconda\\lib\\site-packages\\matplotlib\\__init__.py:872: UserWarning: axes.color_cycle is deprecated and replaced with axes.prop_cycle; please use the latter.\n",
      "  warnings.warn(self.msg_depr % (key, alt_key))\n"
     ]
    }
   ],
   "source": [
    "%matplotlib inline\n",
    "import numpy as np\n",
    "import scipy as sp\n",
    "import matplotlib as mpl\n",
    "import matplotlib.cm as cm\n",
    "import matplotlib.pyplot as plt\n",
    "import re\n",
    "import pandas as pd\n",
    "import math \n",
    "import csv\n",
    "import time\n",
    "import dateutil\n",
    "from datetime import datetime\n",
    "import seaborn as sns\n",
    "\n",
    "          \n",
    "pd.set_option('display.width', 900)\n",
    "pd.set_option('display.max_columns', 100)\n",
    "pd.set_option('display.notebook_repr_html', True)\n",
    "sns.set_style(\"whitegrid\")\n",
    "sns.set_context(\"poster\")\n",
    "        \n"
   ]
  },
  {
   "cell_type": "markdown",
   "metadata": {},
   "source": [
    "# Load Original Dataset"
   ]
  },
  {
   "cell_type": "code",
   "execution_count": 2,
   "metadata": {
    "collapsed": false
   },
   "outputs": [],
   "source": [
    "switchesdf = pd.read_csv(\"./Political Party Switches/nova_tabela.csv\", dtype={\"mb\": np.int32}, parse_dates=True)\n",
    "classificationsdf = pd.read_csv(\"./Political Party Switches/party_classifications.csv\", dtype={\"party_id\": np.int32}, parse_dates=True)"
   ]
  },
  {
   "cell_type": "code",
   "execution_count": 3,
   "metadata": {
    "collapsed": false
   },
   "outputs": [],
   "source": [
    "switchesdf.drop([\"prior_party_id\",\"prior_party_name\",\n",
    "                 \"appointment\",\"same_person\",\"party_change\"], axis=1, inplace=1, errors=\"ignore\")\n",
    "\n",
    "switchesdf.drop(switchesdf[switchesdf.pres_name.isnull() & switchesdf.party_id.isnull()].index, axis=0, inplace=1)"
   ]
  },
  {
   "cell_type": "code",
   "execution_count": 4,
   "metadata": {
    "collapsed": false
   },
   "outputs": [],
   "source": [
    "switchesdf.date = pd.to_datetime(switchesdf.date, format=\"%Y-%m-%d\")"
   ]
  },
  {
   "cell_type": "code",
   "execution_count": 5,
   "metadata": {
    "collapsed": false
   },
   "outputs": [
    {
     "data": {
      "text/html": [
       "<div>\n",
       "<table border=\"1\" class=\"dataframe\">\n",
       "  <thead>\n",
       "    <tr style=\"text-align: right;\">\n",
       "      <th></th>\n",
       "      <th>mun_id</th>\n",
       "      <th>mun</th>\n",
       "      <th>pres_name</th>\n",
       "      <th>party_id</th>\n",
       "      <th>party_abr</th>\n",
       "      <th>date</th>\n",
       "    </tr>\n",
       "  </thead>\n",
       "  <tbody>\n",
       "    <tr>\n",
       "      <th>2</th>\n",
       "      <td>70033.0</td>\n",
       "      <td>Arandjelovac</td>\n",
       "      <td>Bojan Radovic</td>\n",
       "      <td>1.0</td>\n",
       "      <td>SNS</td>\n",
       "      <td>2012-08-29</td>\n",
       "    </tr>\n",
       "    <tr>\n",
       "      <th>3</th>\n",
       "      <td>70033.0</td>\n",
       "      <td>Arandjelovac</td>\n",
       "      <td>Vlada Gajic</td>\n",
       "      <td>2.0</td>\n",
       "      <td>DS</td>\n",
       "      <td>2008-05-23</td>\n",
       "    </tr>\n",
       "    <tr>\n",
       "      <th>5</th>\n",
       "      <td>70050.0</td>\n",
       "      <td>Babusnica</td>\n",
       "      <td>Sasa Stamenkovic</td>\n",
       "      <td>1.0</td>\n",
       "      <td>SNS</td>\n",
       "      <td>2012-08-06</td>\n",
       "    </tr>\n",
       "    <tr>\n",
       "      <th>6</th>\n",
       "      <td>70050.0</td>\n",
       "      <td>Babusnica</td>\n",
       "      <td>Zlatko Arsic</td>\n",
       "      <td>3.0</td>\n",
       "      <td>SPS</td>\n",
       "      <td>2008-05-20</td>\n",
       "    </tr>\n",
       "    <tr>\n",
       "      <th>7</th>\n",
       "      <td>70068.0</td>\n",
       "      <td>Bajina Basta</td>\n",
       "      <td>Radomir Filipovic</td>\n",
       "      <td>1.0</td>\n",
       "      <td>SNS</td>\n",
       "      <td>2014-03-25</td>\n",
       "    </tr>\n",
       "    <tr>\n",
       "      <th>8</th>\n",
       "      <td>70068.0</td>\n",
       "      <td>Bajina Basta</td>\n",
       "      <td>Zlatan Jovanovic</td>\n",
       "      <td>17.0</td>\n",
       "      <td>SRS</td>\n",
       "      <td>2011-06-06</td>\n",
       "    </tr>\n",
       "    <tr>\n",
       "      <th>15</th>\n",
       "      <td>70149.0</td>\n",
       "      <td>Beograd-Zvezdara</td>\n",
       "      <td>Edip Serifov</td>\n",
       "      <td>2.0</td>\n",
       "      <td>DS</td>\n",
       "      <td>2014-06-11</td>\n",
       "    </tr>\n",
       "    <tr>\n",
       "      <th>16</th>\n",
       "      <td>70149.0</td>\n",
       "      <td>Beograd-Zvezdara</td>\n",
       "      <td>Edip Serifov</td>\n",
       "      <td>2.0</td>\n",
       "      <td>DS</td>\n",
       "      <td>2012-05-15</td>\n",
       "    </tr>\n",
       "    <tr>\n",
       "      <th>17</th>\n",
       "      <td>70149.0</td>\n",
       "      <td>Beograd-Zvezdara</td>\n",
       "      <td>Milan Popovic</td>\n",
       "      <td>2.0</td>\n",
       "      <td>DS</td>\n",
       "      <td>2008-07-09</td>\n",
       "    </tr>\n",
       "    <tr>\n",
       "      <th>18</th>\n",
       "      <td>70157.0</td>\n",
       "      <td>Beograd-Zemun</td>\n",
       "      <td>Dejan Matic</td>\n",
       "      <td>1.0</td>\n",
       "      <td>SNS</td>\n",
       "      <td>2013-07-04</td>\n",
       "    </tr>\n",
       "  </tbody>\n",
       "</table>\n",
       "</div>"
      ],
      "text/plain": [
       "     mun_id               mun          pres_name  party_id party_abr       date\n",
       "2   70033.0      Arandjelovac      Bojan Radovic       1.0       SNS 2012-08-29\n",
       "3   70033.0      Arandjelovac        Vlada Gajic       2.0        DS 2008-05-23\n",
       "5   70050.0         Babusnica   Sasa Stamenkovic       1.0       SNS 2012-08-06\n",
       "6   70050.0         Babusnica       Zlatko Arsic       3.0       SPS 2008-05-20\n",
       "7   70068.0      Bajina Basta  Radomir Filipovic       1.0       SNS 2014-03-25\n",
       "8   70068.0      Bajina Basta   Zlatan Jovanovic      17.0       SRS 2011-06-06\n",
       "15  70149.0  Beograd-Zvezdara       Edip Serifov       2.0        DS 2014-06-11\n",
       "16  70149.0  Beograd-Zvezdara       Edip Serifov       2.0        DS 2012-05-15\n",
       "17  70149.0  Beograd-Zvezdara      Milan Popovic       2.0        DS 2008-07-09\n",
       "18  70157.0     Beograd-Zemun        Dejan Matic       1.0       SNS 2013-07-04"
      ]
     },
     "execution_count": 5,
     "metadata": {},
     "output_type": "execute_result"
    }
   ],
   "source": [
    "switchesdf.head(10)"
   ]
  },
  {
   "cell_type": "code",
   "execution_count": 6,
   "metadata": {
    "collapsed": false
   },
   "outputs": [],
   "source": [
    "switchesdf.mun_id = switchesdf.mun_id.astype(int)\n",
    "switchesdf.party_id = switchesdf.party_id.astype(int) \n",
    "#switchesdf.info()"
   ]
  },
  {
   "cell_type": "code",
   "execution_count": 7,
   "metadata": {
    "collapsed": false
   },
   "outputs": [],
   "source": [
    "#classificationsdf.info()"
   ]
  },
  {
   "cell_type": "markdown",
   "metadata": {},
   "source": [
    "# Expand to panel dataframes"
   ]
  },
  {
   "cell_type": "markdown",
   "metadata": {},
   "source": [
    "### Daily Panel Data"
   ]
  },
  {
   "cell_type": "code",
   "execution_count": 8,
   "metadata": {
    "code_folding": [
     0
    ],
    "collapsed": false
   },
   "outputs": [],
   "source": [
    "# daily panel\n",
    "# initialize panel dataframe \n",
    "dpaneldf = pd.DataFrame()\n",
    "\n",
    "# get all municipalities\n",
    "mbs = switchesdf.mun_id.unique()\n",
    "\n",
    "# add panel data from each municipality to main paneldf \n",
    "for mb in mbs:\n",
    "    \n",
    "    #append a 2016 date\n",
    "    df = switchesdf[switchesdf.mun_id == mb].append({\"mun_id\":mb,\"mun\": \"\",\"party_id\":-2,\n",
    "                                           \"date\":pd.to_datetime(\"2016-04-03\")}, ignore_index=True)\n",
    "    \n",
    "    df = df.sort_values(\"date\").set_index(\"date\")\n",
    "    df = df.asfreq(pd.DateOffset(days=1), method='pad')\n",
    "    df = df.reset_index()\n",
    "    dpaneldf = dpaneldf.append(df, ignore_index=True)"
   ]
  },
  {
   "cell_type": "code",
   "execution_count": 9,
   "metadata": {
    "collapsed": false,
    "scrolled": false
   },
   "outputs": [
    {
     "name": "stdout",
     "output_type": "stream",
     "text": [
      "(277553, 6)\n"
     ]
    }
   ],
   "source": [
    "print dpaneldf.shape\n",
    "#dpaneldf.head()"
   ]
  },
  {
   "cell_type": "code",
   "execution_count": 10,
   "metadata": {
    "collapsed": false
   },
   "outputs": [],
   "source": [
    "dpaneldf = dpaneldf.merge(classificationsdf, on=\"party_id\")"
   ]
  },
  {
   "cell_type": "code",
   "execution_count": 11,
   "metadata": {
    "collapsed": false,
    "scrolled": true
   },
   "outputs": [
    {
     "name": "stdout",
     "output_type": "stream",
     "text": [
      "(277450, 18)\n"
     ]
    },
    {
     "data": {
      "text/html": [
       "<div>\n",
       "<table border=\"1\" class=\"dataframe\">\n",
       "  <thead>\n",
       "    <tr style=\"text-align: right;\">\n",
       "      <th></th>\n",
       "      <th>date</th>\n",
       "      <th>mun_id</th>\n",
       "      <th>mun</th>\n",
       "      <th>pres_name</th>\n",
       "      <th>party_id</th>\n",
       "      <th>party_abr</th>\n",
       "      <th>name_abr</th>\n",
       "      <th>name_full</th>\n",
       "      <th>in_gov11</th>\n",
       "      <th>ingov12</th>\n",
       "      <th>ingov14</th>\n",
       "      <th>ag1_name_abr</th>\n",
       "      <th>ag1_party_id</th>\n",
       "      <th>ag1_name_full</th>\n",
       "      <th>ag2_name_abr</th>\n",
       "      <th>ag2_party_id</th>\n",
       "      <th>ag2_name_full</th>\n",
       "      <th>nat_party</th>\n",
       "    </tr>\n",
       "  </thead>\n",
       "  <tbody>\n",
       "    <tr>\n",
       "      <th>0</th>\n",
       "      <td>2008-05-23</td>\n",
       "      <td>70033</td>\n",
       "      <td>Arandjelovac</td>\n",
       "      <td>Vlada Gajic</td>\n",
       "      <td>2</td>\n",
       "      <td>DS</td>\n",
       "      <td>DS</td>\n",
       "      <td>Demokratska Stranka</td>\n",
       "      <td>1</td>\n",
       "      <td>0</td>\n",
       "      <td>0</td>\n",
       "      <td>DS</td>\n",
       "      <td>2</td>\n",
       "      <td>Demokratska Stranka</td>\n",
       "      <td>DS</td>\n",
       "      <td>2</td>\n",
       "      <td>Demokratska Stranka</td>\n",
       "      <td>1</td>\n",
       "    </tr>\n",
       "    <tr>\n",
       "      <th>1</th>\n",
       "      <td>2008-05-24</td>\n",
       "      <td>70033</td>\n",
       "      <td>Arandjelovac</td>\n",
       "      <td>Vlada Gajic</td>\n",
       "      <td>2</td>\n",
       "      <td>DS</td>\n",
       "      <td>DS</td>\n",
       "      <td>Demokratska Stranka</td>\n",
       "      <td>1</td>\n",
       "      <td>0</td>\n",
       "      <td>0</td>\n",
       "      <td>DS</td>\n",
       "      <td>2</td>\n",
       "      <td>Demokratska Stranka</td>\n",
       "      <td>DS</td>\n",
       "      <td>2</td>\n",
       "      <td>Demokratska Stranka</td>\n",
       "      <td>1</td>\n",
       "    </tr>\n",
       "    <tr>\n",
       "      <th>2</th>\n",
       "      <td>2008-05-25</td>\n",
       "      <td>70033</td>\n",
       "      <td>Arandjelovac</td>\n",
       "      <td>Vlada Gajic</td>\n",
       "      <td>2</td>\n",
       "      <td>DS</td>\n",
       "      <td>DS</td>\n",
       "      <td>Demokratska Stranka</td>\n",
       "      <td>1</td>\n",
       "      <td>0</td>\n",
       "      <td>0</td>\n",
       "      <td>DS</td>\n",
       "      <td>2</td>\n",
       "      <td>Demokratska Stranka</td>\n",
       "      <td>DS</td>\n",
       "      <td>2</td>\n",
       "      <td>Demokratska Stranka</td>\n",
       "      <td>1</td>\n",
       "    </tr>\n",
       "    <tr>\n",
       "      <th>3</th>\n",
       "      <td>2008-05-26</td>\n",
       "      <td>70033</td>\n",
       "      <td>Arandjelovac</td>\n",
       "      <td>Vlada Gajic</td>\n",
       "      <td>2</td>\n",
       "      <td>DS</td>\n",
       "      <td>DS</td>\n",
       "      <td>Demokratska Stranka</td>\n",
       "      <td>1</td>\n",
       "      <td>0</td>\n",
       "      <td>0</td>\n",
       "      <td>DS</td>\n",
       "      <td>2</td>\n",
       "      <td>Demokratska Stranka</td>\n",
       "      <td>DS</td>\n",
       "      <td>2</td>\n",
       "      <td>Demokratska Stranka</td>\n",
       "      <td>1</td>\n",
       "    </tr>\n",
       "    <tr>\n",
       "      <th>4</th>\n",
       "      <td>2008-05-27</td>\n",
       "      <td>70033</td>\n",
       "      <td>Arandjelovac</td>\n",
       "      <td>Vlada Gajic</td>\n",
       "      <td>2</td>\n",
       "      <td>DS</td>\n",
       "      <td>DS</td>\n",
       "      <td>Demokratska Stranka</td>\n",
       "      <td>1</td>\n",
       "      <td>0</td>\n",
       "      <td>0</td>\n",
       "      <td>DS</td>\n",
       "      <td>2</td>\n",
       "      <td>Demokratska Stranka</td>\n",
       "      <td>DS</td>\n",
       "      <td>2</td>\n",
       "      <td>Demokratska Stranka</td>\n",
       "      <td>1</td>\n",
       "    </tr>\n",
       "  </tbody>\n",
       "</table>\n",
       "</div>"
      ],
      "text/plain": [
       "        date  mun_id           mun    pres_name  party_id party_abr name_abr            name_full  in_gov11  ingov12  ingov14 ag1_name_abr  ag1_party_id        ag1_name_full ag2_name_abr  ag2_party_id        ag2_name_full  nat_party\n",
       "0 2008-05-23   70033  Arandjelovac  Vlada Gajic         2        DS       DS  Demokratska Stranka         1        0        0           DS             2  Demokratska Stranka           DS             2  Demokratska Stranka          1\n",
       "1 2008-05-24   70033  Arandjelovac  Vlada Gajic         2        DS       DS  Demokratska Stranka         1        0        0           DS             2  Demokratska Stranka           DS             2  Demokratska Stranka          1\n",
       "2 2008-05-25   70033  Arandjelovac  Vlada Gajic         2        DS       DS  Demokratska Stranka         1        0        0           DS             2  Demokratska Stranka           DS             2  Demokratska Stranka          1\n",
       "3 2008-05-26   70033  Arandjelovac  Vlada Gajic         2        DS       DS  Demokratska Stranka         1        0        0           DS             2  Demokratska Stranka           DS             2  Demokratska Stranka          1\n",
       "4 2008-05-27   70033  Arandjelovac  Vlada Gajic         2        DS       DS  Demokratska Stranka         1        0        0           DS             2  Demokratska Stranka           DS             2  Demokratska Stranka          1"
      ]
     },
     "execution_count": 11,
     "metadata": {},
     "output_type": "execute_result"
    }
   ],
   "source": [
    "print dpaneldf.shape\n",
    "dpaneldf.head()"
   ]
  },
  {
   "cell_type": "code",
   "execution_count": 12,
   "metadata": {
    "collapsed": false
   },
   "outputs": [],
   "source": [
    "#dpaneldf.ag2_name_full.unique()"
   ]
  },
  {
   "cell_type": "code",
   "execution_count": 13,
   "metadata": {
    "collapsed": false
   },
   "outputs": [],
   "source": [
    "#dpaneldf.info()"
   ]
  },
  {
   "cell_type": "code",
   "execution_count": 14,
   "metadata": {
    "collapsed": true
   },
   "outputs": [],
   "source": [
    "# drop empty column\n",
    "dpaneldf.drop(\"party_abr\", axis=1,inplace=1, errors='ignore')\n",
    "\n",
    "# save to csv\n",
    "dpaneldf.to_csv(\"./exports/dpaneldf.csv\")"
   ]
  },
  {
   "cell_type": "markdown",
   "metadata": {},
   "source": [
    "### Make Monthly Panel Data"
   ]
  },
  {
   "cell_type": "code",
   "execution_count": 15,
   "metadata": {
    "code_folding": [
     0
    ],
    "collapsed": false
   },
   "outputs": [
    {
     "name": "stdout",
     "output_type": "stream",
     "text": [
      "Wall time: 0 ns\n"
     ]
    },
    {
     "name": "stderr",
     "output_type": "stream",
     "text": [
      "C:\\Users\\nolefp\\Anaconda\\lib\\site-packages\\ipykernel\\__main__.py:33: FutureWarning: how in .resample() is deprecated\n",
      "the new syntax is .resample(...)..apply(<func>)\n"
     ]
    }
   ],
   "source": [
    "#monthly panel\n",
    "%time\n",
    "# define mode function for below\n",
    "def mode_(s):\n",
    "    try:\n",
    "        return s.mode()[0]\n",
    "    except IndexError:\n",
    "        return np.nan\n",
    "\n",
    "# initialize panel dataframe \n",
    "mpaneldf = pd.DataFrame()\n",
    "\n",
    "# get all municipalities\n",
    "mbs = switchesdf.mun_id.unique()\n",
    "\n",
    "# add panel data from each municipality to main paneldf \n",
    "for mat in mbs:\n",
    "    \n",
    "    #append a 2016 date\n",
    "    df = switchesdf[switchesdf.mun_id == mat].append({\"mun_id\":mat,\"mun\": \"\",\"party_id\":-2,\"party_abr\":\"\",\n",
    "                                           \"prior_party_id\":-2,\"prior_party_name\":\"\",\n",
    "                                           \"date\":pd.to_datetime(\"2016-04-03\")}, ignore_index=True)\n",
    "\n",
    "    # expand to daily values\n",
    "    df = df.sort_values(\"date\").set_index(\"date\")\n",
    "    df = df.asfreq(pd.DateOffset(days=1), method='pad')\n",
    "    \n",
    "    # collaps to monthly values\n",
    "    df = df.resample(\"M\", how={\"party_id\": mode_, \n",
    "                               \"party_abr\": mode_,\n",
    "                               \"mun\": mode_, \n",
    "                               \"mun_id\": mode_,\n",
    "                               \"pres_name\": mode_})\n",
    "    df = df.reset_index()\n",
    "    mpaneldf = mpaneldf.append(df, ignore_index=True)"
   ]
  },
  {
   "cell_type": "code",
   "execution_count": 16,
   "metadata": {
    "collapsed": false,
    "scrolled": true
   },
   "outputs": [
    {
     "name": "stdout",
     "output_type": "stream",
     "text": [
      "(9247, 6)\n"
     ]
    }
   ],
   "source": [
    "print mpaneldf.shape\n",
    "#mpaneldf.head()"
   ]
  },
  {
   "cell_type": "code",
   "execution_count": 17,
   "metadata": {
    "collapsed": true
   },
   "outputs": [],
   "source": [
    "mpaneldf = mpaneldf.merge(classificationsdf, on=\"party_id\")"
   ]
  },
  {
   "cell_type": "code",
   "execution_count": 18,
   "metadata": {
    "collapsed": false,
    "scrolled": true
   },
   "outputs": [
    {
     "data": {
      "text/html": [
       "<div>\n",
       "<table border=\"1\" class=\"dataframe\">\n",
       "  <thead>\n",
       "    <tr style=\"text-align: right;\">\n",
       "      <th></th>\n",
       "      <th>date</th>\n",
       "      <th>pres_name</th>\n",
       "      <th>mun</th>\n",
       "      <th>party_id</th>\n",
       "      <th>party_abr</th>\n",
       "      <th>mun_id</th>\n",
       "      <th>name_abr</th>\n",
       "      <th>name_full</th>\n",
       "      <th>in_gov11</th>\n",
       "      <th>ingov12</th>\n",
       "      <th>ingov14</th>\n",
       "      <th>ag1_name_abr</th>\n",
       "      <th>ag1_party_id</th>\n",
       "      <th>ag1_name_full</th>\n",
       "      <th>ag2_name_abr</th>\n",
       "      <th>ag2_party_id</th>\n",
       "      <th>ag2_name_full</th>\n",
       "      <th>nat_party</th>\n",
       "    </tr>\n",
       "  </thead>\n",
       "  <tbody>\n",
       "    <tr>\n",
       "      <th>0</th>\n",
       "      <td>2008-05-31</td>\n",
       "      <td>Vlada Gajic</td>\n",
       "      <td>Arandjelovac</td>\n",
       "      <td>2.0</td>\n",
       "      <td>DS</td>\n",
       "      <td>70033.0</td>\n",
       "      <td>DS</td>\n",
       "      <td>Demokratska Stranka</td>\n",
       "      <td>1</td>\n",
       "      <td>0</td>\n",
       "      <td>0</td>\n",
       "      <td>DS</td>\n",
       "      <td>2</td>\n",
       "      <td>Demokratska Stranka</td>\n",
       "      <td>DS</td>\n",
       "      <td>2</td>\n",
       "      <td>Demokratska Stranka</td>\n",
       "      <td>1</td>\n",
       "    </tr>\n",
       "    <tr>\n",
       "      <th>1</th>\n",
       "      <td>2008-06-30</td>\n",
       "      <td>Vlada Gajic</td>\n",
       "      <td>Arandjelovac</td>\n",
       "      <td>2.0</td>\n",
       "      <td>DS</td>\n",
       "      <td>70033.0</td>\n",
       "      <td>DS</td>\n",
       "      <td>Demokratska Stranka</td>\n",
       "      <td>1</td>\n",
       "      <td>0</td>\n",
       "      <td>0</td>\n",
       "      <td>DS</td>\n",
       "      <td>2</td>\n",
       "      <td>Demokratska Stranka</td>\n",
       "      <td>DS</td>\n",
       "      <td>2</td>\n",
       "      <td>Demokratska Stranka</td>\n",
       "      <td>1</td>\n",
       "    </tr>\n",
       "    <tr>\n",
       "      <th>2</th>\n",
       "      <td>2008-07-31</td>\n",
       "      <td>Vlada Gajic</td>\n",
       "      <td>Arandjelovac</td>\n",
       "      <td>2.0</td>\n",
       "      <td>DS</td>\n",
       "      <td>70033.0</td>\n",
       "      <td>DS</td>\n",
       "      <td>Demokratska Stranka</td>\n",
       "      <td>1</td>\n",
       "      <td>0</td>\n",
       "      <td>0</td>\n",
       "      <td>DS</td>\n",
       "      <td>2</td>\n",
       "      <td>Demokratska Stranka</td>\n",
       "      <td>DS</td>\n",
       "      <td>2</td>\n",
       "      <td>Demokratska Stranka</td>\n",
       "      <td>1</td>\n",
       "    </tr>\n",
       "    <tr>\n",
       "      <th>3</th>\n",
       "      <td>2008-08-31</td>\n",
       "      <td>Vlada Gajic</td>\n",
       "      <td>Arandjelovac</td>\n",
       "      <td>2.0</td>\n",
       "      <td>DS</td>\n",
       "      <td>70033.0</td>\n",
       "      <td>DS</td>\n",
       "      <td>Demokratska Stranka</td>\n",
       "      <td>1</td>\n",
       "      <td>0</td>\n",
       "      <td>0</td>\n",
       "      <td>DS</td>\n",
       "      <td>2</td>\n",
       "      <td>Demokratska Stranka</td>\n",
       "      <td>DS</td>\n",
       "      <td>2</td>\n",
       "      <td>Demokratska Stranka</td>\n",
       "      <td>1</td>\n",
       "    </tr>\n",
       "    <tr>\n",
       "      <th>4</th>\n",
       "      <td>2008-09-30</td>\n",
       "      <td>Vlada Gajic</td>\n",
       "      <td>Arandjelovac</td>\n",
       "      <td>2.0</td>\n",
       "      <td>DS</td>\n",
       "      <td>70033.0</td>\n",
       "      <td>DS</td>\n",
       "      <td>Demokratska Stranka</td>\n",
       "      <td>1</td>\n",
       "      <td>0</td>\n",
       "      <td>0</td>\n",
       "      <td>DS</td>\n",
       "      <td>2</td>\n",
       "      <td>Demokratska Stranka</td>\n",
       "      <td>DS</td>\n",
       "      <td>2</td>\n",
       "      <td>Demokratska Stranka</td>\n",
       "      <td>1</td>\n",
       "    </tr>\n",
       "  </tbody>\n",
       "</table>\n",
       "</div>"
      ],
      "text/plain": [
       "        date    pres_name           mun  party_id party_abr   mun_id name_abr            name_full  in_gov11  ingov12  ingov14 ag1_name_abr  ag1_party_id        ag1_name_full ag2_name_abr  ag2_party_id        ag2_name_full  nat_party\n",
       "0 2008-05-31  Vlada Gajic  Arandjelovac       2.0        DS  70033.0       DS  Demokratska Stranka         1        0        0           DS             2  Demokratska Stranka           DS             2  Demokratska Stranka          1\n",
       "1 2008-06-30  Vlada Gajic  Arandjelovac       2.0        DS  70033.0       DS  Demokratska Stranka         1        0        0           DS             2  Demokratska Stranka           DS             2  Demokratska Stranka          1\n",
       "2 2008-07-31  Vlada Gajic  Arandjelovac       2.0        DS  70033.0       DS  Demokratska Stranka         1        0        0           DS             2  Demokratska Stranka           DS             2  Demokratska Stranka          1\n",
       "3 2008-08-31  Vlada Gajic  Arandjelovac       2.0        DS  70033.0       DS  Demokratska Stranka         1        0        0           DS             2  Demokratska Stranka           DS             2  Demokratska Stranka          1\n",
       "4 2008-09-30  Vlada Gajic  Arandjelovac       2.0        DS  70033.0       DS  Demokratska Stranka         1        0        0           DS             2  Demokratska Stranka           DS             2  Demokratska Stranka          1"
      ]
     },
     "execution_count": 18,
     "metadata": {},
     "output_type": "execute_result"
    }
   ],
   "source": [
    "mpaneldf.head()"
   ]
  },
  {
   "cell_type": "code",
   "execution_count": 19,
   "metadata": {
    "collapsed": false
   },
   "outputs": [],
   "source": [
    "for col in mpaneldf.columns:\n",
    "    if re.search(\"_id\", col):\n",
    "        mpaneldf[col] = mpaneldf[col].astype(int)\n",
    "#mpaneldf.info()"
   ]
  },
  {
   "cell_type": "code",
   "execution_count": 20,
   "metadata": {
    "collapsed": false
   },
   "outputs": [],
   "source": [
    "# drop empty column\n",
    "mpaneldf.drop(\"party_abr\", axis=1,inplace=1, errors='ignore')\n",
    "\n",
    "# save to csv\n",
    "mpaneldf.to_csv(\"./exports/mpaneldf.csv\")"
   ]
  },
  {
   "cell_type": "markdown",
   "metadata": {},
   "source": [
    "### Annual Panel Data"
   ]
  },
  {
   "cell_type": "code",
   "execution_count": 21,
   "metadata": {
    "code_folding": [
     0
    ],
    "collapsed": false
   },
   "outputs": [
    {
     "name": "stderr",
     "output_type": "stream",
     "text": [
      "C:\\Users\\nolefp\\Anaconda\\lib\\site-packages\\ipykernel\\__main__.py:33: FutureWarning: how in .resample() is deprecated\n",
      "the new syntax is .resample(...)..apply(<func>)\n"
     ]
    }
   ],
   "source": [
    "# annual panel\n",
    "# define mode function for below\n",
    "\n",
    "def mode_(s):\n",
    "    try:\n",
    "        return s.mode()[0]\n",
    "    except IndexError:\n",
    "        return np.nan\n",
    "\n",
    "# initialize panel dataframe \n",
    "apaneldf = pd.DataFrame()\n",
    "\n",
    "# get all municipalities\n",
    "mbs = switchesdf.mun_id.unique()\n",
    "\n",
    "# add panel data from each municipality to main paneldf \n",
    "for mat in mbs:\n",
    "    \n",
    "    #append a 2016 date\n",
    "    df = switchesdf[switchesdf.mun_id == mat].append({\"mun_id\":mat,\"mun\": \"\",\"party_id\":-2,\"party_abr\":\"\",\n",
    "                                           \"prior_party_id\":-2,\"prior_party_name\":\"\",\n",
    "                                           \"date\":pd.to_datetime(\"2016-04-03\")}, ignore_index=True)\n",
    "\n",
    "    # expand to daily values\n",
    "    df = df.sort_values(\"date\").set_index(\"date\")\n",
    "    df = df.asfreq(pd.DateOffset(days=1), method='pad')\n",
    "    \n",
    "    # collaps to monthly values\n",
    "    df = df.resample(\"AS\", how={\"party_id\": mode_, \n",
    "                               \"party_abr\": mode_,\n",
    "                               \"mun\": mode_, \n",
    "                               \"mun_id\": mode_,\n",
    "                               \"pres_name\": mode_})\n",
    "    df = df.reset_index()\n",
    "    apaneldf = apaneldf.append(df, ignore_index=True)\n"
   ]
  },
  {
   "cell_type": "code",
   "execution_count": 22,
   "metadata": {
    "collapsed": false
   },
   "outputs": [],
   "source": [
    "apaneldf = apaneldf.merge(classificationsdf, on=\"party_id\")"
   ]
  },
  {
   "cell_type": "code",
   "execution_count": 23,
   "metadata": {
    "collapsed": false,
    "scrolled": true
   },
   "outputs": [],
   "source": [
    "#print apaneldf.info()\n",
    "#apaneldf.head()"
   ]
  },
  {
   "cell_type": "code",
   "execution_count": 24,
   "metadata": {
    "collapsed": true
   },
   "outputs": [],
   "source": [
    "# drop empty column\n",
    "apaneldf.drop(\"party_abr\", axis=1,inplace=1, errors='ignore')\n",
    "\n",
    "# save to csv\n",
    "apaneldf.to_csv(\"./exports/apaneldf.csv\")"
   ]
  },
  {
   "cell_type": "markdown",
   "metadata": {},
   "source": [
    "# Visualizations"
   ]
  },
  {
   "cell_type": "markdown",
   "metadata": {},
   "source": [
    "## Party Totals over Time"
   ]
  },
  {
   "cell_type": "markdown",
   "metadata": {},
   "source": [
    "### Party Changes"
   ]
  },
  {
   "cell_type": "code",
   "execution_count": null,
   "metadata": {
    "code_folding": [
     0
    ],
    "collapsed": false,
    "scrolled": false
   },
   "outputs": [],
   "source": [
    "#graph code\n",
    "totals_by_party = mpaneldf.groupby([\"ag2_name_abr\",\"date\"]).mun_id.count().reset_index()\n",
    "\n",
    "fig, ax = plt.subplots(figsize=(18,11))\n",
    "#colormap = plt.cm.gist_ncar\n",
    "#plt.gca().set_color_cycle([colormap(i) for i in np.linspace(0, 0.9, 15)])\n",
    "\n",
    "parties_main = [\"SNS\",\"DS\",\"SPS\",\"URS\",\"LP\"]\n",
    "\n",
    "# start date from which to plot\n",
    "start_date = pd.to_datetime(\"2011-06-01\")\n",
    "\n",
    "for party in parties_main:\n",
    "    x= totals_by_party[(totals_by_party.date > start_date) & (totals_by_party.ag2_name_abr == party)].date\n",
    "    y= totals_by_party[(totals_by_party.date > start_date) & (totals_by_party.ag2_name_abr == party)].mun_id\n",
    "   \n",
    "    plt.plot_date(x,y, 'o-', markersize=5, label=party)\n",
    "\n",
    "# election 2012\n",
    "plt.axvline(pd.to_datetime(\"2012-05-06\"),ymax=53./60, ls='dashed', lw=1, color='black', alpha=.5)\n",
    "plt.text(pd.to_datetime(\"2012-05-10\"),55,'Local & National Elections 2012'.upper(), alpha=.8, fontsize=14, color='black')\n",
    "plt.text(pd.to_datetime(\"2012-05-10\"),53.5,'SNS-SPS-URS form national coalition', alpha=.8, fontsize=13, color='black')\n",
    "plt.text(pd.to_datetime(\"2012-05-10\"),52,'DS losses national coalition membership', alpha=.8, fontsize=13, color='black')\n",
    "\n",
    "# election 2014\n",
    "plt.axvline(pd.to_datetime(\"2014-03-16\"),ymax=51.5/60, ls='dashed', lw=.7, color='black', alpha=.5)\n",
    "plt.text(pd.to_datetime(\"2014-03-17\"),55,'National Elections 2014'.upper(), fontsize=14, alpha=.8, color='black')\n",
    "plt.text(pd.to_datetime(\"2014-03-17\"),53.5,'SNS increases national majority', fontsize=13, alpha=.8, color='black')\n",
    "plt.text(pd.to_datetime(\"2014-03-17\"),52,'URS leaves national coalition', fontsize=13, alpha=.8, color='black')\n",
    "\n",
    "# plot options\n",
    "title = \"Political Affiliation of Municipality Presidents in Serbia 2012-2016\"\n",
    "plt.title(title)\n",
    "plt.ylabel(\"Municipal presidents affiliated with party\", fontsize=15)\n",
    "plt.grid()\n",
    "plt.legend(labels=[\"SNS\",\"DS\",\"SPS\",\"URS\",\"Local Parties\"],loc=7)\n",
    "\n",
    "\n",
    "# axes options\n",
    "ax.spines['right'].set_visible(False)\n",
    "ax.spines['top'].set_visible(False)\n",
    "ax.tick_params(axis='x',which='major', direction='out', width=1,length=5,bottom='on',top=\"off\",color='grey')\n",
    "ax.tick_params(axis='y',which='major', direction='out', width=1,length=5,left='on',right=\"off\",color='grey')\n",
    "ax.tick_params(axis='y',which='minor', direction='out', width=1,length=3,left='on',right=\"off\",color='grey')\n",
    "\n",
    "# save\n",
    "plt.savefig(\"./exports/\" + title)"
   ]
  },
  {
   "cell_type": "markdown",
   "metadata": {},
   "source": [
    "### Other Vis"
   ]
  },
  {
   "cell_type": "code",
   "execution_count": null,
   "metadata": {
    "collapsed": false,
    "scrolled": true
   },
   "outputs": [],
   "source": [
    "mpaneldf.info()"
   ]
  },
  {
   "cell_type": "code",
   "execution_count": null,
   "metadata": {
    "collapsed": false
   },
   "outputs": [],
   "source": [
    "mpaneldf.ingov12.unique()"
   ]
  },
  {
   "cell_type": "code",
   "execution_count": null,
   "metadata": {
    "code_folding": [
     0
    ],
    "collapsed": true
   },
   "outputs": [],
   "source": [
    "# graph code\n",
    "totals_by_party = mpaneldf.groupby([\"ingov12\",\"date\"]).mun_id.count().reset_index()\n",
    "\n",
    "fig, ax = plt.subplots(figsize=(18,11))\n",
    "#colormap = plt.cm.gist_ncar\n",
    "#plt.gca().set_color_cycle([colormap(i) for i in np.linspace(0, 0.9, 15)])\n",
    "\n",
    "# start date from which to plot\n",
    "start_date = pd.to_datetime(\"2011-06-01\")\n",
    "\n",
    "party = mpaneldf.ingov12.unique()[1]\n",
    "x= totals_by_party[(totals_by_party.date > start_date) & (totals_by_party.ingov12 == party)].date\n",
    "y= totals_by_party[(totals_by_party.date > start_date) & (totals_by_party.ingov12 == party)].mun_id\n",
    "\n",
    "plt.plot_date(x,y, 'o-', markersize=5, label=party)\n",
    "\n",
    "# election 2012\n",
    "height = 65.\n",
    "plt.axvline(pd.to_datetime(\"2012-05-06\"),ymax=height/80, ls='dashed', lw=1, color='black', alpha=.5)\n",
    "plt.text(pd.to_datetime(\"2012-06-15\"),height+2,'Local & National Elections 2012'.upper(), alpha=.8, fontsize=14, color='black')\n",
    "\n",
    "\n",
    "# election 2014\n",
    "plt.axvline(pd.to_datetime(\"2014-03-16\"),ymax=height/80, ls='dashed', lw=.7, color='black', alpha=.5)\n",
    "plt.text(pd.to_datetime(\"2014-04-17\"),height+2,'National Elections 2014'.upper(), fontsize=14, alpha=.8, color='black')\n",
    "\n",
    "\n",
    "# plot options\n",
    "title = \"2012 National Coalition Affiliation of Municipal Presidents in Serbia 2012-2014\"\n",
    "plt.title(title)\n",
    "plt.ylabel(\"# of Municipal presidents affiliated with Coalition\", fontsize=15)\n",
    "plt.grid()\n",
    "plt.legend([\"2012 National Coalition Parties\"], loc=7)\n",
    "plt.ylim(ymin=0)\n",
    "\n",
    "# axes options\n",
    "ax.spines['right'].set_visible(False)\n",
    "ax.spines['top'].set_visible(False)\n",
    "ax.tick_params(axis='x',which='major', direction='out', width=1,length=5,bottom='on',top=\"off\",color='grey')\n",
    "ax.tick_params(axis='y',which='major', direction='out', width=1,length=5,left='on',right=\"off\",color='grey')\n",
    "ax.tick_params(axis='y',which='minor', direction='out', width=1,length=3,left='on',right=\"off\",color='grey')\n",
    "\n",
    "# save\n",
    "plt.savefig(\"./exports/\" + title)"
   ]
  },
  {
   "cell_type": "code",
   "execution_count": null,
   "metadata": {
    "code_folding": [
     0
    ],
    "collapsed": true
   },
   "outputs": [],
   "source": [
    "# graph code\n",
    "totals_by_party = mpaneldf.groupby([\"in_gov11\",\"date\"]).mun_id.count().reset_index()\n",
    "\n",
    "fig, ax = plt.subplots(figsize=(18,11))\n",
    "#colormap = plt.cm.gist_ncar\n",
    "#plt.gca().set_color_cycle([colormap(i) for i in np.linspace(0, 0.9, 15)])\n",
    "\n",
    "# start date from which to plot\n",
    "start_date = pd.to_datetime(\"2011-06-01\")\n",
    "\n",
    "party = mpaneldf.in_gov11.unique()[0]\n",
    "x= totals_by_party[(totals_by_party.date > start_date) & (totals_by_party.in_gov11 == party)].date\n",
    "y= totals_by_party[(totals_by_party.date > start_date) & (totals_by_party.in_gov11 == party)].mun_id\n",
    "\n",
    "plt.plot_date(x,y, 'o-', markersize=5, label=party)\n",
    "\n",
    "\n",
    "lineh = 40.\n",
    "height = 70\n",
    "# election 2012\n",
    "plt.axvline(pd.to_datetime(\"2012-05-06\"),ymax=(lineh+10)/height, ls='dashed', lw=1, color='black', alpha=.5)\n",
    "plt.text(pd.to_datetime(\"2012-05-30\"),lineh+5,'Local & National Elections 2012'.upper(), alpha=.8, fontsize=14, color='black')\n",
    "\n",
    "# election 2014\n",
    "plt.axvline(pd.to_datetime(\"2014-03-16\"),ymax=(lineh+10)/height, ls='dashed', lw=.7, color='black', alpha=.5)\n",
    "plt.text(pd.to_datetime(\"2014-04-17\"),lineh+10,'National Elections 2014'.upper(), fontsize=14, alpha=.8, color='black')\n",
    "\n",
    "\n",
    "# plot options\n",
    "title = \"2011 National Coalition Affiliation of Municipal Presidents in Serbia 2012-2014\"\n",
    "plt.title(title)\n",
    "plt.ylabel(\"# of Municipal presidents affiliated with Coalition\", fontsize=15)\n",
    "plt.grid()\n",
    "plt.legend([\"2011 National Coalition Parties\"], loc=1)\n",
    "plt.ylim(ymin=0)\n",
    "\n",
    "\n",
    "# axes options\n",
    "ax.spines['right'].set_visible(False)\n",
    "ax.spines['top'].set_visible(False)\n",
    "ax.tick_params(axis='x',which='major', direction='out', width=1,length=5,bottom='on',top=\"off\",color='grey')\n",
    "ax.tick_params(axis='y',which='major', direction='out', width=1,length=5,left='on',right=\"off\",color='grey')\n",
    "ax.tick_params(axis='y',which='minor', direction='out', width=1,length=3,left='on',right=\"off\",color='grey')\n",
    "\n",
    "# save\n",
    "plt.savefig(\"./exports/\" + title)"
   ]
  },
  {
   "cell_type": "markdown",
   "metadata": {},
   "source": [
    "# Special Measures"
   ]
  },
  {
   "cell_type": "markdown",
   "metadata": {},
   "source": [
    "## Pre-Election 2012"
   ]
  },
  {
   "cell_type": "code",
   "execution_count": null,
   "metadata": {
    "collapsed": false
   },
   "outputs": [],
   "source": [
    "# get who was in power 6 months prior to election in 2012\n",
    "paneldf_pre2012 = paneldf[(pd.to_datetime(\"2012-01-01\") < paneldf.date ) & (paneldf.date < pd.to_datetime(\"2012-05-01\"))]\n",
    "\n",
    "# get parties who were longest in power during this period\n",
    "inpower_2012_df = paneldf_pre2012.groupby('mb').party_id.agg(lambda x:x.value_counts().index[0])\n",
    "inpower_2012_df = pd.DataFrame(inpower_2012_df).reset_index()\n",
    "inpower_2012_df.head()"
   ]
  },
  {
   "cell_type": "code",
   "execution_count": null,
   "metadata": {
    "collapsed": true
   },
   "outputs": [],
   "source": [
    "# re-apply names \n",
    "inpower_2012_df = inpower_2012_df.merge(classificationsdf, on=\"party_id\")"
   ]
  },
  {
   "cell_type": "markdown",
   "metadata": {},
   "source": [
    "### sanity check"
   ]
  },
  {
   "cell_type": "code",
   "execution_count": null,
   "metadata": {
    "collapsed": false
   },
   "outputs": [],
   "source": [
    "inpower_2012_df.head()"
   ]
  },
  {
   "cell_type": "code",
   "execution_count": null,
   "metadata": {
    "collapsed": false
   },
   "outputs": [],
   "source": [
    "inpower_2012_df.name_abr.value_counts()"
   ]
  },
  {
   "cell_type": "code",
   "execution_count": null,
   "metadata": {
    "collapsed": true
   },
   "outputs": [],
   "source": [
    "# export the dataframe\n",
    "inpower_2012_df.to_csv(\"./Political Party Switches/inpower_preelec_2012.csv\")"
   ]
  }
 ],
 "metadata": {
  "kernelspec": {
   "display_name": "Python 2",
   "language": "python",
   "name": "python2"
  },
  "language_info": {
   "codemirror_mode": {
    "name": "ipython",
    "version": 2
   },
   "file_extension": ".py",
   "mimetype": "text/x-python",
   "name": "python",
   "nbconvert_exporter": "python",
   "pygments_lexer": "ipython2",
   "version": "2.7.11"
  }
 },
 "nbformat": 4,
 "nbformat_minor": 0
}
