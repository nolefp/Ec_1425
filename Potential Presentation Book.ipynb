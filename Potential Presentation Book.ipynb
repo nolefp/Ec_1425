{
 "cells": [
  {
   "cell_type": "markdown",
   "metadata": {
    "heading_collapsed": true
   },
   "source": [
    "## Header Code"
   ]
  },
  {
   "cell_type": "code",
   "execution_count": 4,
   "metadata": {
    "collapsed": false,
    "hidden": true,
    "scrolled": false
   },
   "outputs": [],
   "source": [
    "%matplotlib inline\n",
    "import numpy as np\n",
    "import scipy as sp\n",
    "import statsmodels.api as sm\n",
    "import statsmodels.formula.api as smf\n",
    "from statsmodels import discrete\n",
    "\n",
    "import re\n",
    "import pandas as pd\n",
    "import math \n",
    "import csv\n",
    "import time\n",
    "import dateutil\n",
    "from datetime import datetime\n",
    "import seaborn as sns\n",
    "\n",
    "from IPython.core.display import HTML\n",
    "HTML(\"<style>.container {width:50% !important; }</style>\");"
   ]
  },
  {
   "cell_type": "code",
   "execution_count": 5,
   "metadata": {
    "code_folding": [],
    "collapsed": false,
    "hidden": true,
    "scrolled": true
   },
   "outputs": [],
   "source": [
    "# pandas options plus some more\n",
    "pd.set_option('display.width', 1000)\n",
    "pd.set_option('display.max_columns', 100)\n",
    "pd.set_option('display.notebook_repr_html', True)\n",
    "pd.options.display.float_format = '{:,.2f}'.format\n",
    "sns.set_style(\"whitegrid\")\n",
    "sns.set_context(\"poster\")"
   ]
  },
  {
   "cell_type": "code",
   "execution_count": 6,
   "metadata": {
    "code_folding": [
     9
    ],
    "collapsed": false,
    "hidden": true
   },
   "outputs": [],
   "source": [
    "# Matplotlib Formatting\n",
    "import matplotlib as mpl\n",
    "import matplotlib.cm as cm\n",
    "import matplotlib.pyplot as plt\n",
    "from matplotlib import gridspec\n",
    "from matplotlib import ticker\n",
    "\n",
    "\n",
    "millnames = ['',' Thousand',' Million',' Billion',' Trillion']\n",
    "def millify(n, pos):\n",
    "    n = float(n)\n",
    "    millidx = max(0,min(len(millnames)-1,\n",
    "                        int(math.floor(0 if n == 0 else math.log10(abs(n))/3))))\n",
    "    thingtoreturn = n / 10**(3 * millidx)\n",
    "    if thingtoreturn % 1 == 0:\n",
    "        return '{:.0f}{}'.format(thingtoreturn, millnames[millidx])\n",
    "    elif thingtoreturn % 0.1 == 0:\n",
    "        return '{:.1f}{}'.format(thingtoreturn, millnames[millidx])\n",
    "    else:\n",
    "        return '{:.2f}{}'.format(thingtoreturn, millnames[millidx])"
   ]
  },
  {
   "cell_type": "markdown",
   "metadata": {},
   "source": [
    "# What is Below?"
   ]
  },
  {
   "cell_type": "markdown",
   "metadata": {},
   "source": [
    "\n",
    "| Data | Source |\n",
    "|:----------|:----------|\n",
    "|*budget / expenditure* breadown by economic and functional classifications | Serbian Ministry of State Administration and Local Self Government\\* |\n",
    "|*income* breakdown by economic classifications | Serbian Secretariat for Regulatory Impact Assessment\\* | \n",
    "|*political affiliation* data | collected and compiled by the author |\n",
    "|*demographic* data | Serbian National Statistics Office| \n",
    "\n",
    "\n",
    "><sub>\\*As of 2011, legal obligation to annually submit municipal accounting records to the Serbian Ministry of Finance was abandoned. To the best of the author's knowledge, no central repository of this information currently exists. The data I analyze was individually requested and compiled by different government bodies. As such, some data integrity issues arise which are noted and dealth with below.</sub>\n",
    "\n",
    "\n",
    "* First, we briefly explore and clean the *spending*, *income* and *political affiliation* datasets. We save these as the <code>budgetsdf</code>, <code>incomesdf</code>, and <code>paneldf</code> dataframes.  \n",
    "\n",
    "\n",
    "* Second, we create a new dataframe, <code>maindf</code>, indexed over municipalities: \n",
    "    * We merge *aggregate measures* from the first three information sources.\n",
    "    * We merge demographic data.\n",
    "    \n",
    "* Finally, we have a couple important dataframes:\n",
    "    - budgetsdf (fully broken down budget lines)\n",
    "    - incomesdf (\n",
    "    - maindf (\n",
    "    - \n",
    "    - \n",
    "\n",
    "\n",
    "### To do:\n",
    "- ~~clean use of latin, probably convert everything to english characters~~\n",
    "- ~~clean data types~~\n",
    "- get all the municipality names, see who is missing from the dataset\n",
    "- reporting trends:\n",
    "    - histograms, by year: x - number of book lines reported (i.e. numeric entries), y - number of municipalities (separate colored bars for planned lines and actual lines)   \n",
    "    - ~~histogram: x - number of years anything was reported, y - number of municipalities~~\n",
    "    - ~~bar chart: x - year, y - number of municipalities who reported anything at all in that year~~\n",
    "- find out which economic classifications get reported the most/least (i.e. what actually gets reported, what rarely):\n",
    "    - ~~make a bar chart with all economic classifications as x axis, categorical, and then y axis be the number of districts who reported them at least once~~\n",
    "    - ~~another chart, same as above, except y axis the total number of districts that report them~~\n",
    "- total budget and spending trends:\n",
    "    - ~~get, by year: median, mean expenditure/income reported~~ (not that helpful)\n",
    "    - ~~histograms, by year: y - number of municipalities (separate plots or even graphs altogether for income and expenditure level), x - total expenditure/income by municipality~~\n",
    "    - ~~top and bottom 10% of spending and income across year, as well as within years~~\n",
    "    - look for biggest relative year to year differences in budgeting/spending (last_year/this_year-1) \n",
    "    - \n",
    "- trends related to planned vs actual spending:\n",
    "    - get absolute differences in total planned vs total actuals by year (take a look at distribution)\n",
    "    - get relative differences in total planned vs total actuals (take a look at distribution)\n",
    "    - see which districts are best/worst on average in abs/relative terms\n",
    "    - look at absolute and relative overspending by year, municipality, economic class\n",
    "    - see which economic classes have the most overspending on average\n",
    "    - see which economic classes have the largest incidence of overspending\n",
    " \n",
    "- explore budget/expenditure breakdowns by economic/functional classification:\n",
    "    - share of each economic/functional category and group in munality and year-wide totals\n",
    "    - get average share of economic/functional categories and groups in municipality total spending across years (so one large municipality spending a lot more on something doesnt skew its general representation)\n",
    "    - look for economic/functional groups/categories with largest variance across municipalities, but also largest average variance across years within municipalities\n",
    "    - \n",
    "    - share of economic/functional classes within groups of particular interest\n",
    "- Income Data:\n",
    "    - analyze general breakdown\n",
    "    - \n",
    "- Connect with demographic data from RZS:\n",
    "    - population and age, sex breakdowns\n",
    "    - income distributions? unemployment, etc\n",
    "    - \n",
    "\n",
    "- Connect with political data:\n",
    "\n",
    "\n",
    "- Start Running Regressions:\n",
    "\n",
    "\n",
    "- Random things to check:\n",
    "    - da li broj zena uu odboru ili prosecan uzrast odbornika nekako utice na stabilnost \n",
    "    \n",
    "- analyze voting patterns, where do people vote the most, etc\n",
    "\n",
    "    \n"
   ]
  },
  {
   "cell_type": "code",
   "execution_count": null,
   "metadata": {
    "collapsed": true
   },
   "outputs": [],
   "source": []
  }
 ],
 "metadata": {
  "kernelspec": {
   "display_name": "Python 2",
   "language": "python",
   "name": "python2"
  },
  "language_info": {
   "codemirror_mode": {
    "name": "ipython",
    "version": 2
   },
   "file_extension": ".py",
   "mimetype": "text/x-python",
   "name": "python",
   "nbconvert_exporter": "python",
   "pygments_lexer": "ipython2",
   "version": "2.7.11"
  }
 },
 "nbformat": 4,
 "nbformat_minor": 0
}
