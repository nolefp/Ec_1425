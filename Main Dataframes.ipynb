{
 "cells": [
  {
   "cell_type": "markdown",
   "metadata": {},
   "source": [
    "## Header Code"
   ]
  },
  {
   "cell_type": "code",
   "execution_count": 2,
   "metadata": {
    "collapsed": false,
    "scrolled": false
   },
   "outputs": [
    {
     "name": "stderr",
     "output_type": "stream",
     "text": [
      "C:\\Users\\nolefp\\Anaconda\\lib\\site-packages\\matplotlib\\__init__.py:872: UserWarning: axes.color_cycle is deprecated and replaced with axes.prop_cycle; please use the latter.\n",
      "  warnings.warn(self.msg_depr % (key, alt_key))\n"
     ]
    },
    {
     "data": {
      "text/html": [
       "<style>.container {width:80% !important; }</style>"
      ],
      "text/plain": [
       "<IPython.core.display.HTML object>"
      ]
     },
     "execution_count": 2,
     "metadata": {},
     "output_type": "execute_result"
    }
   ],
   "source": [
    "%matplotlib inline\n",
    "import numpy as np\n",
    "import scipy as sp\n",
    "import statsmodels.api as sm\n",
    "import statsmodels.formula.api as smf\n",
    "from statsmodels import discrete\n",
    "\n",
    "import re\n",
    "import pandas as pd\n",
    "import math \n",
    "import csv\n",
    "import time\n",
    "import dateutil\n",
    "from datetime import datetime\n",
    "import seaborn as sns\n",
    "from IPython.core.display import HTML\n",
    "HTML(\"<style>.container {width:80% !important; }</style>\")"
   ]
  },
  {
   "cell_type": "code",
   "execution_count": 3,
   "metadata": {
    "code_folding": [],
    "collapsed": false,
    "scrolled": true
   },
   "outputs": [],
   "source": [
    "# pandas options plus some more\n",
    "pd.set_option('display.width', 1000)\n",
    "pd.set_option('display.max_columns', 100)\n",
    "pd.set_option('display.notebook_repr_html', True)\n",
    "pd.options.display.float_format = '{:,.3f}'.format\n",
    "sns.set_style(\"whitegrid\")\n",
    "sns.set_context(\"poster\")"
   ]
  },
  {
   "cell_type": "code",
   "execution_count": 4,
   "metadata": {
    "code_folding": [
     9
    ],
    "collapsed": false
   },
   "outputs": [],
   "source": [
    "# Matplotlib Formatting\n",
    "import matplotlib as mpl\n",
    "import matplotlib.cm as cm\n",
    "import matplotlib.pyplot as plt\n",
    "from matplotlib import gridspec\n",
    "from matplotlib import ticker\n",
    "\n",
    "\n",
    "millnames = ['',' Thousand',' Million',' Billion',' Trillion']\n",
    "def millify(n, pos):\n",
    "    n = float(n)\n",
    "    millidx = max(0,min(len(millnames)-1,\n",
    "                        int(math.floor(0 if n == 0 else math.log10(abs(n))/3))))\n",
    "    thingtoreturn = n / 10**(3 * millidx)\n",
    "    if thingtoreturn % 1 == 0:\n",
    "        return '{:.0f}{}'.format(thingtoreturn, millnames[millidx])\n",
    "    elif thingtoreturn % 0.1 == 0:\n",
    "        return '{:.1f}{}'.format(thingtoreturn, millnames[millidx])\n",
    "    else:\n",
    "        return '{:.2f}{}'.format(thingtoreturn, millnames[millidx])"
   ]
  },
  {
   "cell_type": "markdown",
   "metadata": {},
   "source": [
    "** load all necessary datasets **"
   ]
  },
  {
   "cell_type": "code",
   "execution_count": 5,
   "metadata": {
    "collapsed": false
   },
   "outputs": [],
   "source": [
    "budgetsdf = pd.read_csv('./exports/budgetsdf.csv')\n",
    "incomesdf = pd.read_csv('./exports/incomesdf.csv')\n",
    "wagesdf = pd.read_csv('./exports/ave_wage_per_year.csv')\n",
    "demdf = pd.read_csv('./exports/demdf.csv')\n",
    "apaneldf = pd.read_csv('./exports/apaneldf.csv')"
   ]
  },
  {
   "cell_type": "markdown",
   "metadata": {},
   "source": [
    "# Compile munyeardf"
   ]
  },
  {
   "cell_type": "markdown",
   "metadata": {},
   "source": [
    "## Incomes by year"
   ]
  },
  {
   "cell_type": "code",
   "execution_count": 6,
   "metadata": {
    "collapsed": false
   },
   "outputs": [],
   "source": [
    "# get annual totals with categories as columns\n",
    "l6_income_year = incomesdf.groupby([\"mun_id\", \"year\",\"l6_name_english\"]).income_value.sum().unstack().reset_index()\n",
    "\n",
    "# get same thing except with shares by year\n",
    "l6_income_shares_by_yeardf = l6_income_year.drop([\"mun_id\", \"year\"], axis=1).fillna(0).apply(lambda x: x /x.sum(), axis=0)\n",
    "\n",
    "# combine both\n",
    "for col in l6_income_shares_by_yeardf.columns:\n",
    "    l6_income_year[\"share_\" +  col.lstrip(\" \")] = l6_income_shares_by_yeardf[col]\n",
    "\n",
    "# fillna-s with 0\n",
    "l6_income_year.fillna(0, inplace=1)\n",
    "\n",
    "# apennd 'income_' to all column titles for later identification\n",
    "newcols = []\n",
    "for col in l6_income_year.columns:\n",
    "    if not re.search(\"(mun_id)|(year)\", col):\n",
    "        newcols.append(\"income_\" + col.lstrip(\" \"))\n",
    "    elif re.search(\"previous year\", col):\n",
    "        newcols.append(\"income_\" + col.lstrip(\" \"))\n",
    "    else:\n",
    "        newcols.append(col)  \n",
    "l6_income_year.columns = newcols"
   ]
  },
  {
   "cell_type": "markdown",
   "metadata": {},
   "source": [
    "## Budgets by year\n"
   ]
  },
  {
   "cell_type": "code",
   "execution_count": 7,
   "metadata": {
    "collapsed": false
   },
   "outputs": [],
   "source": [
    "# get annual totals of actuals with categories as columns\n",
    "budgetsdf.drop(\"Unnamed: 0\", axis=1, inplace=1, errors='ignore')\n",
    "ec_group_year = budgetsdf.groupby([\"mun_id\", \"year\",\"ec_group_name_english\"]).actual.sum().unstack().reset_index()\n",
    "\n",
    "# drop 2015 values\n",
    "ec_group_year = ec_group_year.drop(ec_group_year[ec_group_year.year == 2015].index, axis=0).fillna(0)\n",
    "\n",
    "# get \n",
    "share_ec_group_year = ec_group_year.drop([\"mun_id\", \"year\"], axis=1).apply(lambda x: x /x.sum(), axis=0)\n",
    "\n",
    "for col in share_ec_group_year.columns:\n",
    "    ec_group_year[\"share_\" +  col.lstrip(\" \")] = share_ec_group_year[col]\n",
    "\n",
    "newcols = []\n",
    "for col in ec_group_year.columns:\n",
    "    if not re.search(\"(mun_id)|(year)\", col):\n",
    "        newcols.append(\"actual_\" + col.lstrip(\" \"))\n",
    "    elif re.search(\"previous year\", col):\n",
    "        newcols.append(\"actual_\" + col.lstrip(\" \"))\n",
    "    else:\n",
    "        newcols.append(col)  \n",
    "ec_group_year.columns = newcols"
   ]
  },
  {
   "cell_type": "markdown",
   "metadata": {},
   "source": [
    "# Compile mundf "
   ]
  },
  {
   "cell_type": "code",
   "execution_count": 8,
   "metadata": {
    "collapsed": false,
    "scrolled": true
   },
   "outputs": [
    {
     "ename": "NameError",
     "evalue": "name 'totals_by_yeardf' is not defined",
     "output_type": "error",
     "traceback": [
      "\u001b[1;31m---------------------------------------------------------------------------\u001b[0m",
      "\u001b[1;31mNameError\u001b[0m                                 Traceback (most recent call last)",
      "\u001b[1;32m<ipython-input-8-97f3771a71a5>\u001b[0m in \u001b[0;36m<module>\u001b[1;34m()\u001b[0m\n\u001b[1;32m----> 1\u001b[1;33m \u001b[0mmaindf\u001b[0m \u001b[1;33m=\u001b[0m \u001b[0mtotals_by_yeardf\u001b[0m\u001b[1;33m.\u001b[0m\u001b[0mgroupby\u001b[0m\u001b[1;33m(\u001b[0m\u001b[1;34m'mun_id'\u001b[0m\u001b[1;33m)\u001b[0m\u001b[1;33m.\u001b[0m\u001b[0mmean\u001b[0m\u001b[1;33m(\u001b[0m\u001b[1;33m)\u001b[0m\u001b[1;33m.\u001b[0m\u001b[0mreset_index\u001b[0m\u001b[1;33m(\u001b[0m\u001b[1;33m)\u001b[0m\u001b[1;33m\u001b[0m\u001b[0m\n\u001b[0m",
      "\u001b[1;31mNameError\u001b[0m: name 'totals_by_yeardf' is not defined"
     ]
    }
   ],
   "source": [
    "maindf = totals_by_yeardf.groupby('mun_id').mean().reset_index()"
   ]
  },
  {
   "cell_type": "code",
   "execution_count": null,
   "metadata": {
    "collapsed": false
   },
   "outputs": [],
   "source": [
    "maindf = maindf.merge(municipal_codes_df, how=\"left\", right_on=\"mb\", left_on=\"mun_id\")\n",
    "maindf.drop(\"mb\", axis=1, inplace=1)"
   ]
  },
  {
   "cell_type": "code",
   "execution_count": null,
   "metadata": {
    "collapsed": false
   },
   "outputs": [],
   "source": [
    "maindf[[u'mun_id', u'income_value', u'plan', u'actual', u'mun']] = maindf[[u'mun_id', u'mun', u'income_value', u'plan', u'actual']]\n",
    "maindf.columns = [u'mun_id', u'mun', u'mean_income_value', u'mean_plan', u'mean_actual']"
   ]
  },
  {
   "cell_type": "code",
   "execution_count": null,
   "metadata": {
    "collapsed": false,
    "scrolled": false
   },
   "outputs": [],
   "source": [
    "maindf.info()"
   ]
  },
  {
   "cell_type": "markdown",
   "metadata": {},
   "source": [
    "### Add Classification Shares"
   ]
  },
  {
   "cell_type": "code",
   "execution_count": 9,
   "metadata": {
    "collapsed": false
   },
   "outputs": [],
   "source": [
    "# function that cleans column names\n",
    "def clean_column_names(x):\n",
    "        if isinstance(x,tuple):\n",
    "            pre, name = x\n",
    "            return re.sub(r\"(mean_)|(_share)\",\"\", pre) + \"_\" + name\n",
    "        return x\n",
    "    \n",
    "clean_column_names = np.vectorize(clean_column_names)"
   ]
  },
  {
   "cell_type": "markdown",
   "metadata": {},
   "source": [
    "** add economic group shares **"
   ]
  },
  {
   "cell_type": "code",
   "execution_count": 10,
   "metadata": {
    "collapsed": false,
    "scrolled": true
   },
   "outputs": [
    {
     "ename": "ValueError",
     "evalue": "Columns must be same length as key",
     "output_type": "error",
     "traceback": [
      "\u001b[1;31m---------------------------------------------------------------------------\u001b[0m",
      "\u001b[1;31mValueError\u001b[0m                                Traceback (most recent call last)",
      "\u001b[1;32m<ipython-input-10-d0cd95463128>\u001b[0m in \u001b[0;36m<module>\u001b[1;34m()\u001b[0m\n\u001b[0;32m      1\u001b[0m \u001b[0mtemp\u001b[0m \u001b[1;33m=\u001b[0m \u001b[0mbudgetsdf\u001b[0m\u001b[1;33m.\u001b[0m\u001b[0mgroupby\u001b[0m\u001b[1;33m(\u001b[0m\u001b[1;33m[\u001b[0m\u001b[1;34m\"mun_id\"\u001b[0m\u001b[1;33m,\u001b[0m\u001b[1;34m\"year\"\u001b[0m\u001b[1;33m,\u001b[0m\u001b[1;34m\"ec_group_name_english\"\u001b[0m\u001b[1;33m]\u001b[0m\u001b[1;33m)\u001b[0m\u001b[1;33m.\u001b[0m\u001b[0msum\u001b[0m\u001b[1;33m(\u001b[0m\u001b[1;33m)\u001b[0m\u001b[1;33m.\u001b[0m\u001b[0mreset_index\u001b[0m\u001b[1;33m(\u001b[0m\u001b[1;33m)\u001b[0m\u001b[1;33m\u001b[0m\u001b[0m\n\u001b[1;32m----> 2\u001b[1;33m \u001b[0mtemp\u001b[0m\u001b[1;33m[\u001b[0m\u001b[1;33m[\u001b[0m\u001b[1;34m\"mean_plan_share\"\u001b[0m\u001b[1;33m,\u001b[0m \u001b[1;34m\"mean_actual_share\"\u001b[0m\u001b[1;33m]\u001b[0m\u001b[1;33m]\u001b[0m \u001b[1;33m=\u001b[0m \u001b[0mtemp\u001b[0m\u001b[1;33m.\u001b[0m\u001b[0mgroupby\u001b[0m\u001b[1;33m(\u001b[0m\u001b[1;33m[\u001b[0m\u001b[1;34m\"mun_id\"\u001b[0m\u001b[1;33m,\u001b[0m \u001b[1;34m\"year\"\u001b[0m\u001b[1;33m]\u001b[0m\u001b[1;33m)\u001b[0m\u001b[1;33m.\u001b[0m\u001b[0mtransform\u001b[0m\u001b[1;33m(\u001b[0m\u001b[1;32mlambda\u001b[0m \u001b[0mx\u001b[0m\u001b[1;33m:\u001b[0m \u001b[0mx\u001b[0m \u001b[1;33m/\u001b[0m \u001b[0mx\u001b[0m\u001b[1;33m.\u001b[0m\u001b[0msum\u001b[0m\u001b[1;33m(\u001b[0m\u001b[1;33m)\u001b[0m\u001b[1;33m)\u001b[0m\u001b[1;33m\u001b[0m\u001b[0m\n\u001b[0m\u001b[0;32m      3\u001b[0m \u001b[0mtemp\u001b[0m \u001b[1;33m=\u001b[0m \u001b[0mtemp\u001b[0m\u001b[1;33m.\u001b[0m\u001b[0mgroupby\u001b[0m\u001b[1;33m(\u001b[0m\u001b[1;33m[\u001b[0m\u001b[1;34m\"mun_id\"\u001b[0m\u001b[1;33m,\u001b[0m \u001b[1;34m\"ec_group_name_english\"\u001b[0m\u001b[1;33m]\u001b[0m\u001b[1;33m)\u001b[0m\u001b[1;33m[\u001b[0m\u001b[1;33m[\u001b[0m\u001b[1;34m\"mean_plan_share\"\u001b[0m\u001b[1;33m,\u001b[0m \u001b[1;34m\"mean_actual_share\"\u001b[0m\u001b[1;33m]\u001b[0m\u001b[1;33m]\u001b[0m\u001b[1;33m.\u001b[0m\u001b[0mmean\u001b[0m\u001b[1;33m(\u001b[0m\u001b[1;33m)\u001b[0m\u001b[1;33m\u001b[0m\u001b[0m\n\u001b[0;32m      4\u001b[0m \u001b[0mmaindf\u001b[0m \u001b[1;33m=\u001b[0m \u001b[0mmaindf\u001b[0m\u001b[1;33m.\u001b[0m\u001b[0mmerge\u001b[0m\u001b[1;33m(\u001b[0m\u001b[0mtemp\u001b[0m\u001b[1;33m.\u001b[0m\u001b[0munstack\u001b[0m\u001b[1;33m(\u001b[0m\u001b[1;33m)\u001b[0m\u001b[1;33m.\u001b[0m\u001b[0mreset_index\u001b[0m\u001b[1;33m(\u001b[0m\u001b[1;33m)\u001b[0m\u001b[1;33m,\u001b[0m \u001b[0mhow\u001b[0m\u001b[1;33m=\u001b[0m\u001b[1;34m\"outer\"\u001b[0m\u001b[1;33m,\u001b[0m \u001b[0mon\u001b[0m\u001b[1;33m=\u001b[0m\u001b[1;34m\"mun_id\"\u001b[0m\u001b[1;33m)\u001b[0m\u001b[1;33m\u001b[0m\u001b[0m\n\u001b[0;32m      5\u001b[0m \u001b[0mshare_economic_group_columns\u001b[0m \u001b[1;33m=\u001b[0m \u001b[0mtemp\u001b[0m\u001b[1;33m.\u001b[0m\u001b[0munstack\u001b[0m\u001b[1;33m(\u001b[0m\u001b[1;33m)\u001b[0m\u001b[1;33m.\u001b[0m\u001b[0mreset_index\u001b[0m\u001b[1;33m(\u001b[0m\u001b[1;33m)\u001b[0m\u001b[1;33m.\u001b[0m\u001b[0mcolumns\u001b[0m\u001b[1;33m\u001b[0m\u001b[0m\n",
      "\u001b[1;32mC:\\Users\\nolefp\\Anaconda\\lib\\site-packages\\pandas\\core\\frame.pyc\u001b[0m in \u001b[0;36m__setitem__\u001b[1;34m(self, key, value)\u001b[0m\n\u001b[0;32m   2341\u001b[0m \u001b[1;33m\u001b[0m\u001b[0m\n\u001b[0;32m   2342\u001b[0m         \u001b[1;32mif\u001b[0m \u001b[0misinstance\u001b[0m\u001b[1;33m(\u001b[0m\u001b[0mkey\u001b[0m\u001b[1;33m,\u001b[0m \u001b[1;33m(\u001b[0m\u001b[0mSeries\u001b[0m\u001b[1;33m,\u001b[0m \u001b[0mnp\u001b[0m\u001b[1;33m.\u001b[0m\u001b[0mndarray\u001b[0m\u001b[1;33m,\u001b[0m \u001b[0mlist\u001b[0m\u001b[1;33m,\u001b[0m \u001b[0mIndex\u001b[0m\u001b[1;33m)\u001b[0m\u001b[1;33m)\u001b[0m\u001b[1;33m:\u001b[0m\u001b[1;33m\u001b[0m\u001b[0m\n\u001b[1;32m-> 2343\u001b[1;33m             \u001b[0mself\u001b[0m\u001b[1;33m.\u001b[0m\u001b[0m_setitem_array\u001b[0m\u001b[1;33m(\u001b[0m\u001b[0mkey\u001b[0m\u001b[1;33m,\u001b[0m \u001b[0mvalue\u001b[0m\u001b[1;33m)\u001b[0m\u001b[1;33m\u001b[0m\u001b[0m\n\u001b[0m\u001b[0;32m   2344\u001b[0m         \u001b[1;32melif\u001b[0m \u001b[0misinstance\u001b[0m\u001b[1;33m(\u001b[0m\u001b[0mkey\u001b[0m\u001b[1;33m,\u001b[0m \u001b[0mDataFrame\u001b[0m\u001b[1;33m)\u001b[0m\u001b[1;33m:\u001b[0m\u001b[1;33m\u001b[0m\u001b[0m\n\u001b[0;32m   2345\u001b[0m             \u001b[0mself\u001b[0m\u001b[1;33m.\u001b[0m\u001b[0m_setitem_frame\u001b[0m\u001b[1;33m(\u001b[0m\u001b[0mkey\u001b[0m\u001b[1;33m,\u001b[0m \u001b[0mvalue\u001b[0m\u001b[1;33m)\u001b[0m\u001b[1;33m\u001b[0m\u001b[0m\n",
      "\u001b[1;32mC:\\Users\\nolefp\\Anaconda\\lib\\site-packages\\pandas\\core\\frame.pyc\u001b[0m in \u001b[0;36m_setitem_array\u001b[1;34m(self, key, value)\u001b[0m\n\u001b[0;32m   2365\u001b[0m             \u001b[1;32mif\u001b[0m \u001b[0misinstance\u001b[0m\u001b[1;33m(\u001b[0m\u001b[0mvalue\u001b[0m\u001b[1;33m,\u001b[0m \u001b[0mDataFrame\u001b[0m\u001b[1;33m)\u001b[0m\u001b[1;33m:\u001b[0m\u001b[1;33m\u001b[0m\u001b[0m\n\u001b[0;32m   2366\u001b[0m                 \u001b[1;32mif\u001b[0m \u001b[0mlen\u001b[0m\u001b[1;33m(\u001b[0m\u001b[0mvalue\u001b[0m\u001b[1;33m.\u001b[0m\u001b[0mcolumns\u001b[0m\u001b[1;33m)\u001b[0m \u001b[1;33m!=\u001b[0m \u001b[0mlen\u001b[0m\u001b[1;33m(\u001b[0m\u001b[0mkey\u001b[0m\u001b[1;33m)\u001b[0m\u001b[1;33m:\u001b[0m\u001b[1;33m\u001b[0m\u001b[0m\n\u001b[1;32m-> 2367\u001b[1;33m                     \u001b[1;32mraise\u001b[0m \u001b[0mValueError\u001b[0m\u001b[1;33m(\u001b[0m\u001b[1;34m'Columns must be same length as key'\u001b[0m\u001b[1;33m)\u001b[0m\u001b[1;33m\u001b[0m\u001b[0m\n\u001b[0m\u001b[0;32m   2368\u001b[0m                 \u001b[1;32mfor\u001b[0m \u001b[0mk1\u001b[0m\u001b[1;33m,\u001b[0m \u001b[0mk2\u001b[0m \u001b[1;32min\u001b[0m \u001b[0mzip\u001b[0m\u001b[1;33m(\u001b[0m\u001b[0mkey\u001b[0m\u001b[1;33m,\u001b[0m \u001b[0mvalue\u001b[0m\u001b[1;33m.\u001b[0m\u001b[0mcolumns\u001b[0m\u001b[1;33m)\u001b[0m\u001b[1;33m:\u001b[0m\u001b[1;33m\u001b[0m\u001b[0m\n\u001b[0;32m   2369\u001b[0m                     \u001b[0mself\u001b[0m\u001b[1;33m[\u001b[0m\u001b[0mk1\u001b[0m\u001b[1;33m]\u001b[0m \u001b[1;33m=\u001b[0m \u001b[0mvalue\u001b[0m\u001b[1;33m[\u001b[0m\u001b[0mk2\u001b[0m\u001b[1;33m]\u001b[0m\u001b[1;33m\u001b[0m\u001b[0m\n",
      "\u001b[1;31mValueError\u001b[0m: Columns must be same length as key"
     ]
    }
   ],
   "source": [
    "temp = budgetsdf.groupby([\"mun_id\",\"year\",\"ec_group_name_english\"]).sum().reset_index()\n",
    "temp[[\"mean_plan_share\", \"mean_actual_share\"]] = temp.groupby([\"mun_id\", \"year\"]).transform(lambda x: x / x.sum())\n",
    "temp = temp.groupby([\"mun_id\", \"ec_group_name_english\"])[[\"mean_plan_share\", \"mean_actual_share\"]].mean()\n",
    "maindf = maindf.merge(temp.unstack().reset_index(), how=\"outer\", on=\"mun_id\")\n",
    "share_economic_group_columns = temp.unstack().reset_index().columns"
   ]
  },
  {
   "cell_type": "markdown",
   "metadata": {},
   "source": [
    "** add functional division shares **"
   ]
  },
  {
   "cell_type": "code",
   "execution_count": null,
   "metadata": {
    "collapsed": false
   },
   "outputs": [],
   "source": [
    "temp = budgetsdf.groupby([\"mun_id\",\"year\",\"func_div_name_english\"]).sum().reset_index()\n",
    "temp[[\"mean_plan_share\", \"mean_actual_share\"]] = temp.groupby([\"mun_id\", \"year\"]).transform(lambda x: x / x.sum())\n",
    "temp = temp.groupby([\"mun_id\", \"func_div_name_english\"])[[\"mean_plan_share\", \"mean_actual_share\"]].mean()\n",
    "maindf = maindf.merge(temp.unstack().reset_index(), how=\"outer\", on=\"mun_id\")\n",
    "share_func_div_columns = temp.unstack().reset_index().columns"
   ]
  },
  {
   "cell_type": "markdown",
   "metadata": {
    "collapsed": false
   },
   "source": [
    "**add l4 income classification shares**"
   ]
  },
  {
   "cell_type": "code",
   "execution_count": null,
   "metadata": {
    "collapsed": false
   },
   "outputs": [],
   "source": [
    "temp = incomesdf.groupby([\"mun_id\",\"year\",\"l4_name_english\"]).sum().reset_index()\n",
    "temp[\"mean_income_share\"] = temp.groupby([\"mun_id\", \"year\"]).transform(lambda x: x / x.sum()).income_value\n",
    "temp = temp.groupby([\"mun_id\", \"l4_name_english\"])[\"mean_income_share\"].mean()\n",
    "maindf = maindf.merge(temp.unstack(), how=\"outer\", left_on=\"mun_id\", right_index=1)\n",
    "share_l4_income_columns = temp.unstack().columns"
   ]
  },
  {
   "cell_type": "code",
   "execution_count": 11,
   "metadata": {
    "collapsed": false
   },
   "outputs": [
    {
     "ename": "NameError",
     "evalue": "name 'share_l4_income_columns' is not defined",
     "output_type": "error",
     "traceback": [
      "\u001b[1;31m---------------------------------------------------------------------------\u001b[0m",
      "\u001b[1;31mNameError\u001b[0m                                 Traceback (most recent call last)",
      "\u001b[1;32m<ipython-input-11-baa082dba23d>\u001b[0m in \u001b[0;36m<module>\u001b[1;34m()\u001b[0m\n\u001b[1;32m----> 1\u001b[1;33m \u001b[0mshare_l4_income_columns\u001b[0m\u001b[1;33m\u001b[0m\u001b[0m\n\u001b[0m",
      "\u001b[1;31mNameError\u001b[0m: name 'share_l4_income_columns' is not defined"
     ]
    }
   ],
   "source": [
    "share_l4_income_columns"
   ]
  },
  {
   "cell_type": "code",
   "execution_count": 12,
   "metadata": {
    "collapsed": false
   },
   "outputs": [
    {
     "ename": "NameError",
     "evalue": "name 'share_economic_group_columns' is not defined",
     "output_type": "error",
     "traceback": [
      "\u001b[1;31m---------------------------------------------------------------------------\u001b[0m",
      "\u001b[1;31mNameError\u001b[0m                                 Traceback (most recent call last)",
      "\u001b[1;32m<ipython-input-12-b137460164cd>\u001b[0m in \u001b[0;36m<module>\u001b[1;34m()\u001b[0m\n\u001b[0;32m      1\u001b[0m \u001b[0mec_group_plan_shares\u001b[0m \u001b[1;33m=\u001b[0m \u001b[1;33m[\u001b[0m\u001b[1;33m]\u001b[0m\u001b[1;33m\u001b[0m\u001b[0m\n\u001b[0;32m      2\u001b[0m \u001b[0mec_group_actual_shares\u001b[0m \u001b[1;33m=\u001b[0m \u001b[1;33m[\u001b[0m\u001b[1;33m]\u001b[0m\u001b[1;33m\u001b[0m\u001b[0m\n\u001b[1;32m----> 3\u001b[1;33m \u001b[1;32mfor\u001b[0m \u001b[0mcol\u001b[0m \u001b[1;32min\u001b[0m \u001b[0mclean_column_names\u001b[0m\u001b[1;33m(\u001b[0m\u001b[0mshare_economic_group_columns\u001b[0m\u001b[1;33m)\u001b[0m\u001b[1;33m:\u001b[0m\u001b[1;33m\u001b[0m\u001b[0m\n\u001b[0m\u001b[0;32m      4\u001b[0m     \u001b[1;32mif\u001b[0m \u001b[0mre\u001b[0m\u001b[1;33m.\u001b[0m\u001b[0msearch\u001b[0m\u001b[1;33m(\u001b[0m\u001b[1;34m\"plan\"\u001b[0m\u001b[1;33m,\u001b[0m \u001b[0mcol\u001b[0m\u001b[1;33m)\u001b[0m\u001b[1;33m:\u001b[0m\u001b[1;33m\u001b[0m\u001b[0m\n\u001b[0;32m      5\u001b[0m         \u001b[0mec_group_plan_shares\u001b[0m\u001b[1;33m.\u001b[0m\u001b[0mappend\u001b[0m\u001b[1;33m(\u001b[0m\u001b[0mcol\u001b[0m\u001b[1;33m)\u001b[0m\u001b[1;33m\u001b[0m\u001b[0m\n",
      "\u001b[1;31mNameError\u001b[0m: name 'share_economic_group_columns' is not defined"
     ]
    }
   ],
   "source": [
    "ec_group_plan_shares = []\n",
    "ec_group_actual_shares = []\n",
    "for col in clean_column_names(share_economic_group_columns):\n",
    "    if re.search(\"plan\", col):\n",
    "        ec_group_plan_shares.append(col)\n",
    "    if re.search(\"actual\", col):\n",
    "        ec_group_actual_shares.append(col)\n",
    "\n",
    "ec_group_actual_shares"
   ]
  },
  {
   "cell_type": "code",
   "execution_count": 13,
   "metadata": {
    "collapsed": false
   },
   "outputs": [
    {
     "ename": "NameError",
     "evalue": "name 'maindf' is not defined",
     "output_type": "error",
     "traceback": [
      "\u001b[1;31m---------------------------------------------------------------------------\u001b[0m",
      "\u001b[1;31mNameError\u001b[0m                                 Traceback (most recent call last)",
      "\u001b[1;32m<ipython-input-13-7bb880d8d72b>\u001b[0m in \u001b[0;36m<module>\u001b[1;34m()\u001b[0m\n\u001b[1;32m----> 1\u001b[1;33m \u001b[0mmaindf\u001b[0m\u001b[1;33m.\u001b[0m\u001b[0mcolumns\u001b[0m \u001b[1;33m=\u001b[0m \u001b[0mclean_column_names\u001b[0m\u001b[1;33m(\u001b[0m\u001b[0mmaindf\u001b[0m\u001b[1;33m.\u001b[0m\u001b[0mcolumns\u001b[0m\u001b[1;33m)\u001b[0m\u001b[1;33m\u001b[0m\u001b[0m\n\u001b[0m",
      "\u001b[1;31mNameError\u001b[0m: name 'maindf' is not defined"
     ]
    }
   ],
   "source": [
    "maindf.columns = clean_column_names(maindf.columns)"
   ]
  },
  {
   "cell_type": "code",
   "execution_count": 14,
   "metadata": {
    "collapsed": false
   },
   "outputs": [
    {
     "ename": "NameError",
     "evalue": "name 'maindf' is not defined",
     "output_type": "error",
     "traceback": [
      "\u001b[1;31m---------------------------------------------------------------------------\u001b[0m",
      "\u001b[1;31mNameError\u001b[0m                                 Traceback (most recent call last)",
      "\u001b[1;32m<ipython-input-14-7dba2bad5d56>\u001b[0m in \u001b[0;36m<module>\u001b[1;34m()\u001b[0m\n\u001b[1;32m----> 1\u001b[1;33m \u001b[0mthings_to_pairplot\u001b[0m \u001b[1;33m=\u001b[0m \u001b[0mnp\u001b[0m\u001b[1;33m.\u001b[0m\u001b[0marray\u001b[0m\u001b[1;33m(\u001b[0m\u001b[0mmaindf\u001b[0m\u001b[1;33m[\u001b[0m\u001b[0mec_group_mean_plan_shares\u001b[0m \u001b[1;33m+\u001b[0m \u001b[1;33m[\u001b[0m\u001b[1;34m'Donations and transfers'\u001b[0m\u001b[1;33m]\u001b[0m\u001b[1;33m]\u001b[0m\u001b[1;33m.\u001b[0m\u001b[0mfillna\u001b[0m\u001b[1;33m(\u001b[0m\u001b[1;36m0\u001b[0m\u001b[1;33m)\u001b[0m\u001b[1;33m.\u001b[0m\u001b[0msum\u001b[0m\u001b[1;33m(\u001b[0m\u001b[1;33m)\u001b[0m\u001b[1;33m.\u001b[0m\u001b[0msort_values\u001b[0m\u001b[1;33m(\u001b[0m\u001b[1;33m)\u001b[0m\u001b[1;33m[\u001b[0m\u001b[1;33m-\u001b[0m\u001b[1;36m5\u001b[0m\u001b[1;33m:\u001b[0m\u001b[1;33m]\u001b[0m\u001b[1;33m.\u001b[0m\u001b[0mindex\u001b[0m\u001b[1;33m)\u001b[0m\u001b[1;33m\u001b[0m\u001b[0m\n\u001b[0m",
      "\u001b[1;31mNameError\u001b[0m: name 'maindf' is not defined"
     ]
    }
   ],
   "source": [
    "things_to_pairplot = np.array(maindf[ec_group_mean_plan_shares + ['Donations and transfers']].fillna(0).sum().sort_values()[-5:].index)"
   ]
  },
  {
   "cell_type": "code",
   "execution_count": 15,
   "metadata": {
    "collapsed": false,
    "scrolled": false
   },
   "outputs": [
    {
     "ename": "NameError",
     "evalue": "name 'maindf' is not defined",
     "output_type": "error",
     "traceback": [
      "\u001b[1;31m---------------------------------------------------------------------------\u001b[0m",
      "\u001b[1;31mNameError\u001b[0m                                 Traceback (most recent call last)",
      "\u001b[1;32m<ipython-input-15-03ebd95fee97>\u001b[0m in \u001b[0;36m<module>\u001b[1;34m()\u001b[0m\n\u001b[0;32m      1\u001b[0m \u001b[0msns\u001b[0m\u001b[1;33m.\u001b[0m\u001b[0mset\u001b[0m\u001b[1;33m(\u001b[0m\u001b[1;33m)\u001b[0m\u001b[1;33m\u001b[0m\u001b[0m\n\u001b[0;32m      2\u001b[0m \u001b[0msns\u001b[0m\u001b[1;33m.\u001b[0m\u001b[0mset_context\u001b[0m\u001b[1;33m(\u001b[0m\u001b[1;33m)\u001b[0m\u001b[1;33m\u001b[0m\u001b[0m\n\u001b[1;32m----> 3\u001b[1;33m \u001b[0msns\u001b[0m\u001b[1;33m.\u001b[0m\u001b[0mpairplot\u001b[0m\u001b[1;33m(\u001b[0m\u001b[0mmaindf\u001b[0m\u001b[1;33m[\u001b[0m\u001b[0mthings_to_pairplot\u001b[0m\u001b[1;33m]\u001b[0m\u001b[1;33m.\u001b[0m\u001b[0mfillna\u001b[0m\u001b[1;33m(\u001b[0m\u001b[1;36m0\u001b[0m\u001b[1;33m)\u001b[0m\u001b[1;33m,\u001b[0m \u001b[0mkind\u001b[0m\u001b[1;33m=\u001b[0m\u001b[1;34m'reg'\u001b[0m\u001b[1;33m,\u001b[0m \u001b[0msize\u001b[0m\u001b[1;33m=\u001b[0m\u001b[1;36m4\u001b[0m\u001b[1;33m)\u001b[0m\u001b[1;33m\u001b[0m\u001b[0m\n\u001b[0m",
      "\u001b[1;31mNameError\u001b[0m: name 'maindf' is not defined"
     ]
    }
   ],
   "source": [
    "sns.set()\n",
    "sns.set_context()\n",
    "sns.pairplot(maindf[things_to_pairplot].fillna(0), kind='reg', size=4)"
   ]
  },
  {
   "cell_type": "code",
   "execution_count": null,
   "metadata": {
    "collapsed": false
   },
   "outputs": [],
   "source": [
    "budgetsdf.head()"
   ]
  },
  {
   "cell_type": "markdown",
   "metadata": {},
   "source": [
    "# Compile changedf"
   ]
  },
  {
   "cell_type": "markdown",
   "metadata": {},
   "source": [
    "## Wage changes"
   ]
  },
  {
   "cell_type": "code",
   "execution_count": 16,
   "metadata": {
    "collapsed": false
   },
   "outputs": [],
   "source": [
    "tuples = zip(['wage_2011', 'wage_2012', 'wage_2013', 'wage_2014'], ['wage_2010', 'wage_2011', 'wage_2012', 'wage_2013'])"
   ]
  },
  {
   "cell_type": "code",
   "execution_count": 17,
   "metadata": {
    "code_folding": [],
    "collapsed": false
   },
   "outputs": [],
   "source": [
    "def rel_wage_change(df, cols = \"\"):\n",
    "    x11 = (df[diff[0]] == 0 | np.isnan(df[diff[0]])) \n",
    "    x13 = (df[diff[1]] == 0 | np.isnan(df[diff[1]]))\n",
    "    if x11 & x13:\n",
    "        return 0    \n",
    "    if  ~x11 & x13:\n",
    "        return -1\n",
    "    if x11 &  ~x13:\n",
    "        return 2\n",
    "    else:\n",
    "        return (df[diff[0]] - df[diff[1]])  /   df[diff[1]]"
   ]
  },
  {
   "cell_type": "code",
   "execution_count": 18,
   "metadata": {
    "collapsed": false
   },
   "outputs": [
    {
     "ename": "NameError",
     "evalue": "name 'wagedf' is not defined",
     "output_type": "error",
     "traceback": [
      "\u001b[1;31m---------------------------------------------------------------------------\u001b[0m",
      "\u001b[1;31mNameError\u001b[0m                                 Traceback (most recent call last)",
      "\u001b[1;32m<ipython-input-18-bb83ae01326c>\u001b[0m in \u001b[0;36m<module>\u001b[1;34m()\u001b[0m\n\u001b[1;32m----> 1\u001b[1;33m \u001b[0mwagedf\u001b[0m\u001b[1;33m.\u001b[0m\u001b[0mset_index\u001b[0m\u001b[1;33m(\u001b[0m\u001b[1;34m\"mun_id\"\u001b[0m\u001b[1;33m,\u001b[0m \u001b[0minplace\u001b[0m\u001b[1;33m=\u001b[0m\u001b[1;36m1\u001b[0m\u001b[1;33m)\u001b[0m\u001b[1;33m\u001b[0m\u001b[0m\n\u001b[0m\u001b[0;32m      2\u001b[0m \u001b[0mwage_changes_abs\u001b[0m \u001b[1;33m=\u001b[0m \u001b[0mpd\u001b[0m\u001b[1;33m.\u001b[0m\u001b[0mDataFrame\u001b[0m\u001b[1;33m(\u001b[0m\u001b[1;33m)\u001b[0m\u001b[1;33m\u001b[0m\u001b[0m\n\u001b[0;32m      3\u001b[0m \u001b[0mwage_changes_rel\u001b[0m \u001b[1;33m=\u001b[0m \u001b[0mpd\u001b[0m\u001b[1;33m.\u001b[0m\u001b[0mDataFrame\u001b[0m\u001b[1;33m(\u001b[0m\u001b[1;33m)\u001b[0m\u001b[1;33m\u001b[0m\u001b[0m\n\u001b[0;32m      4\u001b[0m \u001b[1;32mfor\u001b[0m \u001b[0mdiff\u001b[0m \u001b[1;32min\u001b[0m \u001b[0mtuples\u001b[0m\u001b[1;33m:\u001b[0m\u001b[1;33m\u001b[0m\u001b[0m\n\u001b[0;32m      5\u001b[0m     \u001b[0mwage_changes_abs\u001b[0m\u001b[1;33m[\u001b[0m\u001b[0mdiff\u001b[0m\u001b[1;33m[\u001b[0m\u001b[1;36m0\u001b[0m\u001b[1;33m]\u001b[0m \u001b[1;33m+\u001b[0m \u001b[1;34m\" - \"\u001b[0m \u001b[1;33m+\u001b[0m \u001b[0mdiff\u001b[0m\u001b[1;33m[\u001b[0m\u001b[1;36m1\u001b[0m\u001b[1;33m]\u001b[0m\u001b[1;33m]\u001b[0m \u001b[1;33m=\u001b[0m \u001b[0mwagedf\u001b[0m\u001b[1;33m[\u001b[0m\u001b[0mdiff\u001b[0m\u001b[1;33m[\u001b[0m\u001b[1;36m0\u001b[0m\u001b[1;33m]\u001b[0m\u001b[1;33m]\u001b[0m \u001b[1;33m-\u001b[0m \u001b[0mwagedf\u001b[0m\u001b[1;33m[\u001b[0m\u001b[0mdiff\u001b[0m\u001b[1;33m[\u001b[0m\u001b[1;36m1\u001b[0m\u001b[1;33m]\u001b[0m\u001b[1;33m]\u001b[0m\u001b[1;33m\u001b[0m\u001b[0m\n",
      "\u001b[1;31mNameError\u001b[0m: name 'wagedf' is not defined"
     ]
    }
   ],
   "source": [
    "wagedf.set_index(\"mun_id\", inplace=1)\n",
    "wage_changes_abs = pd.DataFrame()\n",
    "wage_changes_rel = pd.DataFrame()\n",
    "for diff in tuples:\n",
    "    wage_changes_abs[diff[0] + \" - \" + diff[1]] = wagedf[diff[0]] - wagedf[diff[1]]\n",
    "\n",
    "for diff in tuples:\n",
    "    wage_changes_rel[diff[0] + \" - \" + diff[1]] = wagedf.apply(rel_wage_change, cols=diff, axis=1)"
   ]
  },
  {
   "cell_type": "code",
   "execution_count": 19,
   "metadata": {
    "collapsed": false
   },
   "outputs": [
    {
     "ename": "NameError",
     "evalue": "name 'wage_changes_abs' is not defined",
     "output_type": "error",
     "traceback": [
      "\u001b[1;31m---------------------------------------------------------------------------\u001b[0m",
      "\u001b[1;31mNameError\u001b[0m                                 Traceback (most recent call last)",
      "\u001b[1;32m<ipython-input-19-637aded98d62>\u001b[0m in \u001b[0;36m<module>\u001b[1;34m()\u001b[0m\n\u001b[1;32m----> 1\u001b[1;33m \u001b[0mwage_changes\u001b[0m \u001b[1;33m=\u001b[0m \u001b[0mpd\u001b[0m\u001b[1;33m.\u001b[0m\u001b[0mconcat\u001b[0m\u001b[1;33m(\u001b[0m\u001b[1;33m[\u001b[0m\u001b[0mwage_changes_abs\u001b[0m\u001b[1;33m.\u001b[0m\u001b[0mstack\u001b[0m\u001b[1;33m(\u001b[0m\u001b[1;33m)\u001b[0m\u001b[1;33m,\u001b[0m \u001b[0mwage_changes_rel\u001b[0m\u001b[1;33m.\u001b[0m\u001b[0mstack\u001b[0m\u001b[1;33m(\u001b[0m\u001b[1;33m)\u001b[0m\u001b[1;33m]\u001b[0m\u001b[1;33m,\u001b[0m\u001b[0maxis\u001b[0m\u001b[1;33m=\u001b[0m\u001b[1;36m1\u001b[0m\u001b[1;33m)\u001b[0m\u001b[1;33m\u001b[0m\u001b[0m\n\u001b[0m\u001b[0;32m      2\u001b[0m \u001b[0mwage_changes\u001b[0m\u001b[1;33m.\u001b[0m\u001b[0mreset_index\u001b[0m\u001b[1;33m(\u001b[0m\u001b[0minplace\u001b[0m\u001b[1;33m=\u001b[0m\u001b[1;36m1\u001b[0m\u001b[1;33m)\u001b[0m\u001b[1;33m\u001b[0m\u001b[0m\n\u001b[0;32m      3\u001b[0m \u001b[0mwage_changes\u001b[0m\u001b[1;33m.\u001b[0m\u001b[0mcolumns\u001b[0m \u001b[1;33m=\u001b[0m \u001b[1;33m[\u001b[0m\u001b[1;34m\"mun_id\"\u001b[0m\u001b[1;33m,\u001b[0m \u001b[1;34m\"years_change\"\u001b[0m\u001b[1;33m,\u001b[0m \u001b[1;34m\"wage_change_abs\"\u001b[0m\u001b[1;33m,\u001b[0m \u001b[1;34m\"wage_change_rel\"\u001b[0m\u001b[1;33m]\u001b[0m\u001b[1;33m\u001b[0m\u001b[0m\n\u001b[0;32m      4\u001b[0m \u001b[0mwage_changes\u001b[0m\u001b[1;33m.\u001b[0m\u001b[0mto_csv\u001b[0m\u001b[1;33m(\u001b[0m\u001b[1;34m\"./exports/changes_in_wages.csv\"\u001b[0m\u001b[1;33m)\u001b[0m\u001b[1;33m\u001b[0m\u001b[0m\n",
      "\u001b[1;31mNameError\u001b[0m: name 'wage_changes_abs' is not defined"
     ]
    }
   ],
   "source": [
    "wage_changes = pd.concat([wage_changes_abs.stack(), wage_changes_rel.stack()],axis=1)\n",
    "wage_changes.reset_index(inplace=1)\n",
    "wage_changes.columns = [\"mun_id\", \"years_change\", \"wage_change_abs\", \"wage_change_rel\"]\n",
    "wage_changes.to_csv(\"./exports/changes_in_wages.csv\")"
   ]
  },
  {
   "cell_type": "markdown",
   "metadata": {},
   "source": [
    "## Budget changes"
   ]
  },
  {
   "cell_type": "markdown",
   "metadata": {},
   "source": [
    "## munyear and changesdf with categories in one row"
   ]
  },
  {
   "cell_type": "code",
   "execution_count": 20,
   "metadata": {
    "collapsed": false
   },
   "outputs": [],
   "source": [
    "test1 = budgetsdf.groupby([\"mun_id\",\"ec_group_name_english\",\"year\"])[[\"plan\",\"actual\"]].sum()\n",
    "\n",
    "test=test1\n",
    "\n",
    "changes = test.reset_index().groupby([\"mun_id\",\"ec_group_name_english\"]).diff()\n",
    "changes_rel = test.reset_index().groupby([\"mun_id\",\"ec_group_name_english\"]).pct_change()\n",
    "\n",
    "\n",
    "test = test.reset_index()\n",
    "\n",
    "test[\"plan_share\"] = test1.reset_index().groupby([\"mun_id\",\"year\"]).transform(lambda x: x / x.sum()).plan\n",
    "test[\"actual_share\"] = test1.reset_index().groupby([\"mun_id\",\"year\"]).transform(lambda x: x / x.sum()).actual\n",
    "\n",
    "test[\"change_plan_abs\"] = changes.plan\n",
    "test[\"change_actual_abs\"] = changes.actual\n",
    "\n",
    "\n",
    "test[\"change_plan_rel\"] = changes_rel.plan\n",
    "test[\"change_actual_rel\"] = changes_rel.actual\n",
    "\n",
    "\n",
    "econ_groups_changes_shares = test\n",
    "#econ_groups_changes_shares = econ_groups_changes_shares.merge(demdf,how=\"left\", on = \"mun_id\")\n",
    "econ_groups_changes_shares.to_csv(\"./exports/econ_groups_changes_shares.csv\")"
   ]
  },
  {
   "cell_type": "code",
   "execution_count": 21,
   "metadata": {
    "collapsed": true
   },
   "outputs": [],
   "source": [
    "test1 = budgetsdf.groupby([\"mun_id\",\"func_div_name_english\",\"year\"])[[\"plan\",\"actual\"]].sum()\n",
    "\n",
    "test=test1\n",
    "\n",
    "changes = test.reset_index().groupby([\"mun_id\",\"func_div_name_english\"]).diff()\n",
    "changes_rel = test.reset_index().groupby([\"mun_id\",\"func_div_name_english\"]).pct_change()\n",
    "\n",
    "\n",
    "test = test.reset_index()\n",
    "\n",
    "test[\"plan_share\"] = test1.reset_index().groupby([\"mun_id\",\"year\"]).transform(lambda x: x / x.sum()).plan\n",
    "test[\"actual_share\"] = test1.reset_index().groupby([\"mun_id\",\"year\"]).transform(lambda x: x / x.sum()).actual\n",
    "\n",
    "test[\"change_plan_abs\"] = changes.plan\n",
    "test[\"change_actual_abs\"] = changes.actual\n",
    "\n",
    "\n",
    "test[\"change_plan_rel\"] = changes_rel.plan\n",
    "test[\"change_actual_rel\"] = changes_rel.actual\n",
    "\n",
    "func_divs_changes_shares = test\n",
    "#func_divs_changes_shares = func_divs_changes_shares.merge(demdf,how=\"left\", on = \"mun_id\")\n",
    "func_divs_changes_shares.to_csv(\"./exports/func_groups_changes_shares.csv\")"
   ]
  },
  {
   "cell_type": "code",
   "execution_count": 22,
   "metadata": {
    "collapsed": false
   },
   "outputs": [],
   "source": [
    "test1 = incomesdf.groupby([\"mun_id\",\"l6_name_english\",\"year\"]).income_value.sum()\n",
    "\n",
    "test=test1\n",
    "\n",
    "changes = test.reset_index().groupby([\"mun_id\",\"l6_name_english\"]).diff()\n",
    "changes_rel = test.reset_index().groupby([\"mun_id\",\"l6_name_english\"]).pct_change()\n",
    "\n",
    "\n",
    "test = test.reset_index()\n",
    "\n",
    "test[\"income_share\"] = test1.reset_index().groupby([\"mun_id\",\"year\"]).transform(lambda x: x / x.sum())\n",
    "\n",
    "test[\"change_income_abs\"] = changes.income_value\n",
    "\n",
    "test[\"change_income_rel\"] = changes_rel.income_value\n",
    "\n",
    "\n",
    "income_changes_shares = test\n",
    "#income_changes_shares = income_changes_shares.merge(demdf,how=\"left\", on = \"mun_id\")\n",
    "income_changes_shares.to_csv(\"./exports/income_changes_shares.csv\")"
   ]
  },
  {
   "cell_type": "markdown",
   "metadata": {},
   "source": [
    "## munyeardf and changesdf with categories as columns"
   ]
  },
  {
   "cell_type": "code",
   "execution_count": 23,
   "metadata": {
    "collapsed": false
   },
   "outputs": [],
   "source": [
    "budget_shares_ec_group_as_columns = econ_groups_changes_shares.groupby([\"mun_id\",\"year\", \"ec_group_name_english\"]).sum().unstack(level=2)\n",
    "budget_shares_ec_group_as_columns.columns = ['_'.join(col).strip() for col in budget_shares_ec_group_as_columns.columns.values]\n",
    "budget_shares_ec_group_as_columns.to_csv(\"./exports/budget_shares_ec_group_as_columns.csv\")"
   ]
  },
  {
   "cell_type": "code",
   "execution_count": 24,
   "metadata": {
    "collapsed": false
   },
   "outputs": [],
   "source": [
    "budget_shares_func_div_as_columns = func_divs_changes_shares.groupby([\"mun_id\",\"year\", \"func_div_name_english\"]).sum().unstack(level=2)\n",
    "budget_shares_func_div_as_columns.columns = ['_'.join(col).strip() for col in budget_shares_func_div_as_columns.columns.values]\n",
    "budget_shares_func_div_as_columns.to_csv(\"./exports/budget_shares_func_div_as_columns.csv\")"
   ]
  },
  {
   "cell_type": "code",
   "execution_count": 30,
   "metadata": {
    "collapsed": false
   },
   "outputs": [],
   "source": [
    "income_share_l6_as_columns = income_changes_shares.groupby([\"mun_id\",\"year\", \"l6_name_english\"]).sum().unstack(level=2)\n",
    "income_share_l6_as_columns.columns = ['_'.join(col).strip() for col in income_share_l6_as_columns.columns.values]\n",
    "\n",
    "income_share_l6_as_columns.to_csv(\"./exports/income_share_l6_as_columns.csv\")\n"
   ]
  },
  {
   "cell_type": "code",
   "execution_count": 36,
   "metadata": {
    "collapsed": false
   },
   "outputs": [
    {
     "name": "stdout",
     "output_type": "stream",
     "text": [
      "<class 'pandas.core.frame.DataFrame'>\n",
      "RangeIndex: 4913 entries, 0 to 4912\n",
      "Data columns (total 11 columns):\n",
      "mun_id                   4913 non-null int64\n",
      "func_div_name_english    4913 non-null object\n",
      "year                     4913 non-null int64\n",
      "plan                     4913 non-null float64\n",
      "actual                   3902 non-null float64\n",
      "plan_share               4913 non-null float64\n",
      "actual_share             3902 non-null float64\n",
      "change_plan_abs          3860 non-null float64\n",
      "change_actual_abs        2875 non-null float64\n",
      "change_plan_rel          3857 non-null float64\n",
      "change_actual_rel        2850 non-null float64\n",
      "dtypes: float64(8), int64(2), object(1)\n",
      "memory usage: 422.3+ KB\n"
     ]
    }
   ],
   "source": [
    "func_divs_changes_shares.info()"
   ]
  },
  {
   "cell_type": "code",
   "execution_count": null,
   "metadata": {
    "collapsed": true
   },
   "outputs": [],
   "source": [
    "incomesdf.l6"
   ]
  }
 ],
 "metadata": {
  "kernelspec": {
   "display_name": "Python 2",
   "language": "python",
   "name": "python2"
  },
  "language_info": {
   "codemirror_mode": {
    "name": "ipython",
    "version": 2
   },
   "file_extension": ".py",
   "mimetype": "text/x-python",
   "name": "python",
   "nbconvert_exporter": "python",
   "pygments_lexer": "ipython2",
   "version": "2.7.11"
  }
 },
 "nbformat": 4,
 "nbformat_minor": 0
}
